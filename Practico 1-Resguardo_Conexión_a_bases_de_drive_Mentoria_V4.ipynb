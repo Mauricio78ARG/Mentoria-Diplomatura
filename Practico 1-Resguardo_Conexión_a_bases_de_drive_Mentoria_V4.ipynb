{
  "cells": [
    {
      "cell_type": "code",
      "execution_count": null,
      "metadata": {
        "colab": {
          "base_uri": "https://localhost:8080/",
          "height": 224
        },
        "id": "Z3IsoE-7RJBu",
        "outputId": "7850231a-9e80-4e5b-c09f-160e1ff1ec4a"
      },
      "outputs": [
        {
          "name": "stdout",
          "output_type": "stream",
          "text": [
            "Mounted at /content/drive/\n"
          ]
        },
        {
          "data": {
            "text/html": [
              "\n",
              "  <div id=\"df-6f97f652-9d2c-4c4e-bfbd-044630f4d986\">\n",
              "    <div class=\"colab-df-container\">\n",
              "      <div>\n",
              "<style scoped>\n",
              "    .dataframe tbody tr th:only-of-type {\n",
              "        vertical-align: middle;\n",
              "    }\n",
              "\n",
              "    .dataframe tbody tr th {\n",
              "        vertical-align: top;\n",
              "    }\n",
              "\n",
              "    .dataframe thead th {\n",
              "        text-align: right;\n",
              "    }\n",
              "</style>\n",
              "<table border=\"1\" class=\"dataframe\">\n",
              "  <thead>\n",
              "    <tr style=\"text-align: right;\">\n",
              "      <th></th>\n",
              "      <th>FECHA</th>\n",
              "      <th>FECHAAPERTURA</th>\n",
              "      <th>TARJETA</th>\n",
              "      <th>CORREDOR</th>\n",
              "      <th>LINEA</th>\n",
              "      <th>SENTIDO</th>\n",
              "    </tr>\n",
              "  </thead>\n",
              "  <tbody>\n",
              "    <tr>\n",
              "      <th>0</th>\n",
              "      <td>01/01/2019 01:32:43 AM</td>\n",
              "      <td>01/01/2019 01:00:11 AM</td>\n",
              "      <td>4992639</td>\n",
              "      <td>Cor 3 Rojo</td>\n",
              "      <td>L35</td>\n",
              "      <td>Ida</td>\n",
              "    </tr>\n",
              "    <tr>\n",
              "      <th>1</th>\n",
              "      <td>01/01/2019 02:26:11 AM</td>\n",
              "      <td>01/01/2019 01:00:11 AM</td>\n",
              "      <td>5489022</td>\n",
              "      <td>Cor 3 Rojo</td>\n",
              "      <td>L35</td>\n",
              "      <td>Vuelta</td>\n",
              "    </tr>\n",
              "    <tr>\n",
              "      <th>2</th>\n",
              "      <td>01/01/2019 02:26:14 AM</td>\n",
              "      <td>01/01/2019 01:00:11 AM</td>\n",
              "      <td>5489022</td>\n",
              "      <td>Cor 3 Rojo</td>\n",
              "      <td>L35</td>\n",
              "      <td>Vuelta</td>\n",
              "    </tr>\n",
              "    <tr>\n",
              "      <th>3</th>\n",
              "      <td>01/01/2019 02:32:27 AM</td>\n",
              "      <td>01/01/2019 01:59:31 AM</td>\n",
              "      <td>5317539</td>\n",
              "      <td>Cor 1 Naranja</td>\n",
              "      <td>L12</td>\n",
              "      <td>Vuelta</td>\n",
              "    </tr>\n",
              "    <tr>\n",
              "      <th>4</th>\n",
              "      <td>01/01/2019 02:57:48 AM</td>\n",
              "      <td>01/01/2019 01:59:31 AM</td>\n",
              "      <td>4451141</td>\n",
              "      <td>Cor 1 Naranja</td>\n",
              "      <td>L12</td>\n",
              "      <td>Vuelta</td>\n",
              "    </tr>\n",
              "  </tbody>\n",
              "</table>\n",
              "</div>\n",
              "      <button class=\"colab-df-convert\" onclick=\"convertToInteractive('df-6f97f652-9d2c-4c4e-bfbd-044630f4d986')\"\n",
              "              title=\"Convert this dataframe to an interactive table.\"\n",
              "              style=\"display:none;\">\n",
              "        \n",
              "  <svg xmlns=\"http://www.w3.org/2000/svg\" height=\"24px\"viewBox=\"0 0 24 24\"\n",
              "       width=\"24px\">\n",
              "    <path d=\"M0 0h24v24H0V0z\" fill=\"none\"/>\n",
              "    <path d=\"M18.56 5.44l.94 2.06.94-2.06 2.06-.94-2.06-.94-.94-2.06-.94 2.06-2.06.94zm-11 1L8.5 8.5l.94-2.06 2.06-.94-2.06-.94L8.5 2.5l-.94 2.06-2.06.94zm10 10l.94 2.06.94-2.06 2.06-.94-2.06-.94-.94-2.06-.94 2.06-2.06.94z\"/><path d=\"M17.41 7.96l-1.37-1.37c-.4-.4-.92-.59-1.43-.59-.52 0-1.04.2-1.43.59L10.3 9.45l-7.72 7.72c-.78.78-.78 2.05 0 2.83L4 21.41c.39.39.9.59 1.41.59.51 0 1.02-.2 1.41-.59l7.78-7.78 2.81-2.81c.8-.78.8-2.07 0-2.86zM5.41 20L4 18.59l7.72-7.72 1.47 1.35L5.41 20z\"/>\n",
              "  </svg>\n",
              "      </button>\n",
              "      \n",
              "  <style>\n",
              "    .colab-df-container {\n",
              "      display:flex;\n",
              "      flex-wrap:wrap;\n",
              "      gap: 12px;\n",
              "    }\n",
              "\n",
              "    .colab-df-convert {\n",
              "      background-color: #E8F0FE;\n",
              "      border: none;\n",
              "      border-radius: 50%;\n",
              "      cursor: pointer;\n",
              "      display: none;\n",
              "      fill: #1967D2;\n",
              "      height: 32px;\n",
              "      padding: 0 0 0 0;\n",
              "      width: 32px;\n",
              "    }\n",
              "\n",
              "    .colab-df-convert:hover {\n",
              "      background-color: #E2EBFA;\n",
              "      box-shadow: 0px 1px 2px rgba(60, 64, 67, 0.3), 0px 1px 3px 1px rgba(60, 64, 67, 0.15);\n",
              "      fill: #174EA6;\n",
              "    }\n",
              "\n",
              "    [theme=dark] .colab-df-convert {\n",
              "      background-color: #3B4455;\n",
              "      fill: #D2E3FC;\n",
              "    }\n",
              "\n",
              "    [theme=dark] .colab-df-convert:hover {\n",
              "      background-color: #434B5C;\n",
              "      box-shadow: 0px 1px 3px 1px rgba(0, 0, 0, 0.15);\n",
              "      filter: drop-shadow(0px 1px 2px rgba(0, 0, 0, 0.3));\n",
              "      fill: #FFFFFF;\n",
              "    }\n",
              "  </style>\n",
              "\n",
              "      <script>\n",
              "        const buttonEl =\n",
              "          document.querySelector('#df-6f97f652-9d2c-4c4e-bfbd-044630f4d986 button.colab-df-convert');\n",
              "        buttonEl.style.display =\n",
              "          google.colab.kernel.accessAllowed ? 'block' : 'none';\n",
              "\n",
              "        async function convertToInteractive(key) {\n",
              "          const element = document.querySelector('#df-6f97f652-9d2c-4c4e-bfbd-044630f4d986');\n",
              "          const dataTable =\n",
              "            await google.colab.kernel.invokeFunction('convertToInteractive',\n",
              "                                                     [key], {});\n",
              "          if (!dataTable) return;\n",
              "\n",
              "          const docLinkHtml = 'Like what you see? Visit the ' +\n",
              "            '<a target=\"_blank\" href=https://colab.research.google.com/notebooks/data_table.ipynb>data table notebook</a>'\n",
              "            + ' to learn more about interactive tables.';\n",
              "          element.innerHTML = '';\n",
              "          dataTable['output_type'] = 'display_data';\n",
              "          await google.colab.output.renderOutput(dataTable, element);\n",
              "          const docLink = document.createElement('div');\n",
              "          docLink.innerHTML = docLinkHtml;\n",
              "          element.appendChild(docLink);\n",
              "        }\n",
              "      </script>\n",
              "    </div>\n",
              "  </div>\n",
              "  "
            ],
            "text/plain": [
              "                    FECHA           FECHAAPERTURA  TARJETA       CORREDOR  \\\n",
              "0  01/01/2019 01:32:43 AM  01/01/2019 01:00:11 AM  4992639     Cor 3 Rojo   \n",
              "1  01/01/2019 02:26:11 AM  01/01/2019 01:00:11 AM  5489022     Cor 3 Rojo   \n",
              "2  01/01/2019 02:26:14 AM  01/01/2019 01:00:11 AM  5489022     Cor 3 Rojo   \n",
              "3  01/01/2019 02:32:27 AM  01/01/2019 01:59:31 AM  5317539  Cor 1 Naranja   \n",
              "4  01/01/2019 02:57:48 AM  01/01/2019 01:59:31 AM  4451141  Cor 1 Naranja   \n",
              "\n",
              "  LINEA SENTIDO  \n",
              "0   L35     Ida  \n",
              "1   L35  Vuelta  \n",
              "2   L35  Vuelta  \n",
              "3   L12  Vuelta  \n",
              "4   L12  Vuelta  "
            ]
          },
          "execution_count": 1,
          "metadata": {},
          "output_type": "execute_result"
        }
      ],
      "source": [
        "from google.colab import drive\n",
        "drive.mount('/content/drive/', force_remount=True )\n",
        "import pandas as pd\n",
        "#%cd /content/drive/My Drive/bases_mentoria/\n",
        "#path= '/content/drive/My Drive/bases_mentoria/primer trimestre 2019'\n",
        "path= '/content/drive/My Drive/Mentoria/primer trimestre 2019'\n",
        "import glob\n",
        "filenames = glob.glob(path + \"/*.csv\")\n",
        "\n",
        "dfs = []\n",
        "for filename in filenames:\n",
        "    dfs.append(pd.read_csv(filename, encoding='latin-1', sep=\";\"))\n",
        "\n",
        "# Concatenate all data into one DataFrame\n",
        "big_frame = pd.concat(dfs, ignore_index=True)\n",
        "\n",
        "big_frame.head()\n"
      ]
    },
    {
      "cell_type": "code",
      "execution_count": null,
      "metadata": {
        "id": "wT29QwK5LxLK"
      },
      "outputs": [],
      "source": [
        "big_frame['m'] = big_frame.FECHA.astype(str).str[:10].astype(str)"
      ]
    },
    {
      "cell_type": "code",
      "execution_count": null,
      "metadata": {
        "id": "wYJ44v93IcJj"
      },
      "outputs": [],
      "source": [
        "big_frame['hora'] = big_frame.FECHA.astype(str).str[11:].astype(str)"
      ]
    },
    {
      "cell_type": "code",
      "execution_count": null,
      "metadata": {
        "id": "KDUY_s8gJ9-d"
      },
      "outputs": [],
      "source": [
        "big_frame['aux']=big_frame.FECHA.astype(str).str[19:].astype(str) \n"
      ]
    },
    {
      "cell_type": "code",
      "execution_count": null,
      "metadata": {
        "id": "9muwzCLIbMdt"
      },
      "outputs": [],
      "source": [
        "big_frame['aux2']=big_frame.hora.astype(str).str[:2].astype(str) "
      ]
    },
    {
      "cell_type": "code",
      "execution_count": null,
      "metadata": {
        "id": "NLnLd-BHbi2v"
      },
      "outputs": [],
      "source": [
        "big_frame['hh']=big_frame.aux2 + big_frame.aux"
      ]
    },
    {
      "cell_type": "code",
      "execution_count": null,
      "metadata": {
        "id": "9_qeT08Gcmip"
      },
      "outputs": [],
      "source": [
        "big_frame.sort_values(by=['hh'], inplace=True)"
      ]
    },
    {
      "cell_type": "code",
      "execution_count": null,
      "metadata": {
        "colab": {
          "base_uri": "https://localhost:8080/"
        },
        "id": "AL5sgBWx-I86",
        "outputId": "e69c135e-7d73-4ed2-d57f-a3b461faa36e"
      },
      "outputs": [
        {
          "data": {
            "text/plain": [
              "28/03/2019    176887\n",
              "29/03/2019    176481\n",
              "13/03/2019    174942\n",
              "12/03/2019    173855\n",
              "11/03/2019    173682\n",
              "               ...  \n",
              "20/01/2019     34871\n",
              "27/01/2019     34737\n",
              "13/01/2019     29166\n",
              "06/01/2019     22635\n",
              "01/01/2019     13487\n",
              "Name: m, Length: 90, dtype: int64"
            ]
          },
          "execution_count": 8,
          "metadata": {},
          "output_type": "execute_result"
        }
      ],
      "source": [
        "big_frame.m.value_counts()"
      ]
    },
    {
      "cell_type": "code",
      "execution_count": null,
      "metadata": {
        "colab": {
          "background_save": true
        },
        "id": "XkRp8J6ArlsB"
      },
      "outputs": [],
      "source": [
        "big_frame['dia'] = pd.to_datetime(big_frame['m'])\n",
        "big_frame['dia'] = big_frame['dia'].dt.strftime('%d.%m.%Y')"
      ]
    },
    {
      "cell_type": "code",
      "execution_count": null,
      "metadata": {
        "colab": {
          "base_uri": "https://localhost:8080/"
        },
        "id": "yXZ26w50ruLA",
        "outputId": "16ddb83e-d49c-47aa-82c3-4221d34d439b"
      },
      "outputs": [
        {
          "data": {
            "text/plain": [
              "28.03.2019    176887\n",
              "29.03.2019    176481\n",
              "13.03.2019    174942\n",
              "03.12.2019    173855\n",
              "03.11.2019    173682\n",
              "               ...  \n",
              "20.01.2019     34871\n",
              "27.01.2019     34737\n",
              "13.01.2019     29166\n",
              "01.06.2019     22635\n",
              "01.01.2019     13487\n",
              "Name: dia, Length: 90, dtype: int64"
            ]
          },
          "execution_count": 10,
          "metadata": {},
          "output_type": "execute_result"
        }
      ],
      "source": [
        "big_frame.dia.value_counts()"
      ]
    },
    {
      "cell_type": "code",
      "execution_count": null,
      "metadata": {
        "colab": {
          "background_save": true
        },
        "id": "ggXqxtqhOtXB"
      },
      "outputs": [],
      "source": [
        "big_frame['dia2'] = pd.to_datetime(big_frame['dia'])"
      ]
    },
    {
      "cell_type": "code",
      "execution_count": null,
      "metadata": {
        "id": "W_Cqq0bDfzn4"
      },
      "outputs": [],
      "source": [
        "\n",
        "### EJERCICIO 1: INTERACTUAR CON BASES, CONVERTIR FORMATOS FECHAS, GENERAR VARIABLES NUEVAS (MES DIA )###\n",
        "big_frame['day_of_week'] = big_frame['dia2'].dt.day_name()\n"
      ]
    },
    {
      "cell_type": "code",
      "execution_count": null,
      "metadata": {
        "colab": {
          "base_uri": "https://localhost:8080/"
        },
        "id": "w9TXULYaPAPN",
        "outputId": "b76aa056-65c5-4187-d38e-873857131654"
      },
      "outputs": [
        {
          "data": {
            "text/plain": [
              "2019-03-28    176887\n",
              "2019-03-29    176481\n",
              "2019-03-13    174942\n",
              "2019-03-12    173855\n",
              "2019-03-11    173682\n",
              "               ...  \n",
              "2019-01-20     34871\n",
              "2019-01-27     34737\n",
              "2019-01-13     29166\n",
              "2019-01-06     22635\n",
              "2019-01-01     13487\n",
              "Name: dia2, Length: 90, dtype: int64"
            ]
          },
          "execution_count": 13,
          "metadata": {},
          "output_type": "execute_result"
        }
      ],
      "source": [
        "big_frame.dia2.value_counts()"
      ]
    },
    {
      "cell_type": "code",
      "execution_count": null,
      "metadata": {
        "colab": {
          "base_uri": "https://localhost:8080/"
        },
        "id": "peesTm-qojCj",
        "outputId": "7054ce57-c9a0-4187-d37b-0ac3142a6cc3"
      },
      "outputs": [
        {
          "data": {
            "text/plain": [
              "(10290050, 14)"
            ]
          },
          "execution_count": 14,
          "metadata": {},
          "output_type": "execute_result"
        }
      ],
      "source": [
        "big_frame.shape"
      ]
    },
    {
      "cell_type": "code",
      "execution_count": null,
      "metadata": {
        "colab": {
          "background_save": true
        },
        "id": "3anTv68wySKE",
        "outputId": "19fa8906-a5dd-4f5b-c9db-2b072fdf71fc"
      },
      "outputs": [
        {
          "ename": "KeyError",
          "evalue": "ignored",
          "output_type": "error",
          "traceback": [
            "\u001b[0;31m---------------------------------------------------------------------------\u001b[0m",
            "\u001b[0;31mKeyError\u001b[0m                                  Traceback (most recent call last)",
            "\u001b[0;32m<ipython-input-10-a53e277d0c4b>\u001b[0m in \u001b[0;36m<module>\u001b[0;34m()\u001b[0m\n\u001b[1;32m     19\u001b[0m \u001b[0mbig_frame\u001b[0m\u001b[0;34m=\u001b[0m \u001b[0mbig_frame\u001b[0m\u001b[0;34m.\u001b[0m\u001b[0mdrop_duplicates\u001b[0m\u001b[0;34m(\u001b[0m\u001b[0;34m[\u001b[0m\u001b[0;34m'CORREDOR'\u001b[0m\u001b[0;34m,\u001b[0m \u001b[0;34m'LINEA'\u001b[0m\u001b[0;34m,\u001b[0m \u001b[0;34m'dia2'\u001b[0m\u001b[0;34m,\u001b[0m \u001b[0;34m'VIAJES_DIA_CORREDOR'\u001b[0m\u001b[0;34m,\u001b[0m       \u001b[0;34m'VIAJES_DIA_LINEA'\u001b[0m \u001b[0;34m,\u001b[0m \u001b[0;34m'VIAJES_DIA_LINEA_SENT_IDA'\u001b[0m\u001b[0;34m,\u001b[0m       \u001b[0;34m'VIAJES_DIA_LINEA_SENT_VUELTA'\u001b[0m \u001b[0;34m]\u001b[0m\u001b[0;34m)\u001b[0m\u001b[0;34m\u001b[0m\u001b[0;34m\u001b[0m\u001b[0m\n\u001b[1;32m     20\u001b[0m \u001b[0mbig_frame\u001b[0m\u001b[0;34m.\u001b[0m\u001b[0mhead\u001b[0m\u001b[0;34m(\u001b[0m\u001b[0;34m)\u001b[0m\u001b[0;34m\u001b[0m\u001b[0;34m\u001b[0m\u001b[0m\n\u001b[0;32m---> 21\u001b[0;31m \u001b[0mbig_frame\u001b[0m\u001b[0;34m=\u001b[0m\u001b[0mbig_frame\u001b[0m\u001b[0;34m.\u001b[0m\u001b[0mloc\u001b[0m\u001b[0;34m[\u001b[0m\u001b[0;34m:\u001b[0m\u001b[0;34m,\u001b[0m\u001b[0;34m[\u001b[0m\u001b[0;34m'CORREDOR'\u001b[0m\u001b[0;34m,\u001b[0m \u001b[0;34m'LINEA'\u001b[0m\u001b[0;34m,\u001b[0m \u001b[0;34m'dia2'\u001b[0m\u001b[0;34m,\u001b[0m  \u001b[0;34m'VIAJES_DIA_CORREDOR'\u001b[0m\u001b[0;34m,\u001b[0m         \u001b[0;34m'VIAJES_DIA_LINEA'\u001b[0m \u001b[0;34m,\u001b[0m \u001b[0;34m'VIAJES_DIA_LINEA_SENT_IDA'\u001b[0m\u001b[0;34m,\u001b[0m       \u001b[0;34m'VIAJES_DIA_LINEA_SENT_VUELTA'\u001b[0m\u001b[0;34m,\u001b[0m \u001b[0;34m'day_of_week'\u001b[0m\u001b[0;34m]\u001b[0m\u001b[0;34m]\u001b[0m\u001b[0;34m\u001b[0m\u001b[0;34m\u001b[0m\u001b[0m\n\u001b[0m\u001b[1;32m     22\u001b[0m \u001b[0;31m#df1.to_csv(\"df1.csv\", index=None)\u001b[0m\u001b[0;34m\u001b[0m\u001b[0;34m\u001b[0m\u001b[0;34m\u001b[0m\u001b[0m\n\u001b[1;32m     23\u001b[0m \u001b[0;31m#from google.colab import files\u001b[0m\u001b[0;34m\u001b[0m\u001b[0;34m\u001b[0m\u001b[0;34m\u001b[0m\u001b[0m\n",
            "\u001b[0;32m/usr/local/lib/python3.7/dist-packages/pandas/core/indexing.py\u001b[0m in \u001b[0;36m__getitem__\u001b[0;34m(self, key)\u001b[0m\n\u001b[1;32m    923\u001b[0m                 \u001b[0;32mwith\u001b[0m \u001b[0msuppress\u001b[0m\u001b[0;34m(\u001b[0m\u001b[0mKeyError\u001b[0m\u001b[0;34m,\u001b[0m \u001b[0mIndexError\u001b[0m\u001b[0;34m)\u001b[0m\u001b[0;34m:\u001b[0m\u001b[0;34m\u001b[0m\u001b[0;34m\u001b[0m\u001b[0m\n\u001b[1;32m    924\u001b[0m                     \u001b[0;32mreturn\u001b[0m \u001b[0mself\u001b[0m\u001b[0;34m.\u001b[0m\u001b[0mobj\u001b[0m\u001b[0;34m.\u001b[0m\u001b[0m_get_value\u001b[0m\u001b[0;34m(\u001b[0m\u001b[0;34m*\u001b[0m\u001b[0mkey\u001b[0m\u001b[0;34m,\u001b[0m \u001b[0mtakeable\u001b[0m\u001b[0;34m=\u001b[0m\u001b[0mself\u001b[0m\u001b[0;34m.\u001b[0m\u001b[0m_takeable\u001b[0m\u001b[0;34m)\u001b[0m\u001b[0;34m\u001b[0m\u001b[0;34m\u001b[0m\u001b[0m\n\u001b[0;32m--> 925\u001b[0;31m             \u001b[0;32mreturn\u001b[0m \u001b[0mself\u001b[0m\u001b[0;34m.\u001b[0m\u001b[0m_getitem_tuple\u001b[0m\u001b[0;34m(\u001b[0m\u001b[0mkey\u001b[0m\u001b[0;34m)\u001b[0m\u001b[0;34m\u001b[0m\u001b[0;34m\u001b[0m\u001b[0m\n\u001b[0m\u001b[1;32m    926\u001b[0m         \u001b[0;32melse\u001b[0m\u001b[0;34m:\u001b[0m\u001b[0;34m\u001b[0m\u001b[0;34m\u001b[0m\u001b[0m\n\u001b[1;32m    927\u001b[0m             \u001b[0;31m# we by definition only have the 0th axis\u001b[0m\u001b[0;34m\u001b[0m\u001b[0;34m\u001b[0m\u001b[0;34m\u001b[0m\u001b[0m\n",
            "\u001b[0;32m/usr/local/lib/python3.7/dist-packages/pandas/core/indexing.py\u001b[0m in \u001b[0;36m_getitem_tuple\u001b[0;34m(self, tup)\u001b[0m\n\u001b[1;32m   1107\u001b[0m             \u001b[0;32mreturn\u001b[0m \u001b[0mself\u001b[0m\u001b[0;34m.\u001b[0m\u001b[0m_multi_take\u001b[0m\u001b[0;34m(\u001b[0m\u001b[0mtup\u001b[0m\u001b[0;34m)\u001b[0m\u001b[0;34m\u001b[0m\u001b[0;34m\u001b[0m\u001b[0m\n\u001b[1;32m   1108\u001b[0m \u001b[0;34m\u001b[0m\u001b[0m\n\u001b[0;32m-> 1109\u001b[0;31m         \u001b[0;32mreturn\u001b[0m \u001b[0mself\u001b[0m\u001b[0;34m.\u001b[0m\u001b[0m_getitem_tuple_same_dim\u001b[0m\u001b[0;34m(\u001b[0m\u001b[0mtup\u001b[0m\u001b[0;34m)\u001b[0m\u001b[0;34m\u001b[0m\u001b[0;34m\u001b[0m\u001b[0m\n\u001b[0m\u001b[1;32m   1110\u001b[0m \u001b[0;34m\u001b[0m\u001b[0m\n\u001b[1;32m   1111\u001b[0m     \u001b[0;32mdef\u001b[0m \u001b[0m_get_label\u001b[0m\u001b[0;34m(\u001b[0m\u001b[0mself\u001b[0m\u001b[0;34m,\u001b[0m \u001b[0mlabel\u001b[0m\u001b[0;34m,\u001b[0m \u001b[0maxis\u001b[0m\u001b[0;34m:\u001b[0m \u001b[0mint\u001b[0m\u001b[0;34m)\u001b[0m\u001b[0;34m:\u001b[0m\u001b[0;34m\u001b[0m\u001b[0;34m\u001b[0m\u001b[0m\n",
            "\u001b[0;32m/usr/local/lib/python3.7/dist-packages/pandas/core/indexing.py\u001b[0m in \u001b[0;36m_getitem_tuple_same_dim\u001b[0;34m(self, tup)\u001b[0m\n\u001b[1;32m    804\u001b[0m                 \u001b[0;32mcontinue\u001b[0m\u001b[0;34m\u001b[0m\u001b[0;34m\u001b[0m\u001b[0m\n\u001b[1;32m    805\u001b[0m \u001b[0;34m\u001b[0m\u001b[0m\n\u001b[0;32m--> 806\u001b[0;31m             \u001b[0mretval\u001b[0m \u001b[0;34m=\u001b[0m \u001b[0mgetattr\u001b[0m\u001b[0;34m(\u001b[0m\u001b[0mretval\u001b[0m\u001b[0;34m,\u001b[0m \u001b[0mself\u001b[0m\u001b[0;34m.\u001b[0m\u001b[0mname\u001b[0m\u001b[0;34m)\u001b[0m\u001b[0;34m.\u001b[0m\u001b[0m_getitem_axis\u001b[0m\u001b[0;34m(\u001b[0m\u001b[0mkey\u001b[0m\u001b[0;34m,\u001b[0m \u001b[0maxis\u001b[0m\u001b[0;34m=\u001b[0m\u001b[0mi\u001b[0m\u001b[0;34m)\u001b[0m\u001b[0;34m\u001b[0m\u001b[0;34m\u001b[0m\u001b[0m\n\u001b[0m\u001b[1;32m    807\u001b[0m             \u001b[0;31m# We should never have retval.ndim < self.ndim, as that should\u001b[0m\u001b[0;34m\u001b[0m\u001b[0;34m\u001b[0m\u001b[0;34m\u001b[0m\u001b[0m\n\u001b[1;32m    808\u001b[0m             \u001b[0;31m#  be handled by the _getitem_lowerdim call above.\u001b[0m\u001b[0;34m\u001b[0m\u001b[0;34m\u001b[0m\u001b[0;34m\u001b[0m\u001b[0m\n",
            "\u001b[0;32m/usr/local/lib/python3.7/dist-packages/pandas/core/indexing.py\u001b[0m in \u001b[0;36m_getitem_axis\u001b[0;34m(self, key, axis)\u001b[0m\n\u001b[1;32m   1151\u001b[0m                     \u001b[0;32mraise\u001b[0m \u001b[0mValueError\u001b[0m\u001b[0;34m(\u001b[0m\u001b[0;34m\"Cannot index with multidimensional key\"\u001b[0m\u001b[0;34m)\u001b[0m\u001b[0;34m\u001b[0m\u001b[0;34m\u001b[0m\u001b[0m\n\u001b[1;32m   1152\u001b[0m \u001b[0;34m\u001b[0m\u001b[0m\n\u001b[0;32m-> 1153\u001b[0;31m                 \u001b[0;32mreturn\u001b[0m \u001b[0mself\u001b[0m\u001b[0;34m.\u001b[0m\u001b[0m_getitem_iterable\u001b[0m\u001b[0;34m(\u001b[0m\u001b[0mkey\u001b[0m\u001b[0;34m,\u001b[0m \u001b[0maxis\u001b[0m\u001b[0;34m=\u001b[0m\u001b[0maxis\u001b[0m\u001b[0;34m)\u001b[0m\u001b[0;34m\u001b[0m\u001b[0;34m\u001b[0m\u001b[0m\n\u001b[0m\u001b[1;32m   1154\u001b[0m \u001b[0;34m\u001b[0m\u001b[0m\n\u001b[1;32m   1155\u001b[0m             \u001b[0;31m# nested tuple slicing\u001b[0m\u001b[0;34m\u001b[0m\u001b[0;34m\u001b[0m\u001b[0;34m\u001b[0m\u001b[0m\n",
            "\u001b[0;32m/usr/local/lib/python3.7/dist-packages/pandas/core/indexing.py\u001b[0m in \u001b[0;36m_getitem_iterable\u001b[0;34m(self, key, axis)\u001b[0m\n\u001b[1;32m   1091\u001b[0m \u001b[0;34m\u001b[0m\u001b[0m\n\u001b[1;32m   1092\u001b[0m         \u001b[0;31m# A collection of keys\u001b[0m\u001b[0;34m\u001b[0m\u001b[0;34m\u001b[0m\u001b[0;34m\u001b[0m\u001b[0m\n\u001b[0;32m-> 1093\u001b[0;31m         \u001b[0mkeyarr\u001b[0m\u001b[0;34m,\u001b[0m \u001b[0mindexer\u001b[0m \u001b[0;34m=\u001b[0m \u001b[0mself\u001b[0m\u001b[0;34m.\u001b[0m\u001b[0m_get_listlike_indexer\u001b[0m\u001b[0;34m(\u001b[0m\u001b[0mkey\u001b[0m\u001b[0;34m,\u001b[0m \u001b[0maxis\u001b[0m\u001b[0;34m)\u001b[0m\u001b[0;34m\u001b[0m\u001b[0;34m\u001b[0m\u001b[0m\n\u001b[0m\u001b[1;32m   1094\u001b[0m         return self.obj._reindex_with_indexers(\n\u001b[1;32m   1095\u001b[0m             \u001b[0;34m{\u001b[0m\u001b[0maxis\u001b[0m\u001b[0;34m:\u001b[0m \u001b[0;34m[\u001b[0m\u001b[0mkeyarr\u001b[0m\u001b[0;34m,\u001b[0m \u001b[0mindexer\u001b[0m\u001b[0;34m]\u001b[0m\u001b[0;34m}\u001b[0m\u001b[0;34m,\u001b[0m \u001b[0mcopy\u001b[0m\u001b[0;34m=\u001b[0m\u001b[0;32mTrue\u001b[0m\u001b[0;34m,\u001b[0m \u001b[0mallow_dups\u001b[0m\u001b[0;34m=\u001b[0m\u001b[0;32mTrue\u001b[0m\u001b[0;34m\u001b[0m\u001b[0;34m\u001b[0m\u001b[0m\n",
            "\u001b[0;32m/usr/local/lib/python3.7/dist-packages/pandas/core/indexing.py\u001b[0m in \u001b[0;36m_get_listlike_indexer\u001b[0;34m(self, key, axis)\u001b[0m\n\u001b[1;32m   1312\u001b[0m             \u001b[0mkeyarr\u001b[0m\u001b[0;34m,\u001b[0m \u001b[0mindexer\u001b[0m\u001b[0;34m,\u001b[0m \u001b[0mnew_indexer\u001b[0m \u001b[0;34m=\u001b[0m \u001b[0max\u001b[0m\u001b[0;34m.\u001b[0m\u001b[0m_reindex_non_unique\u001b[0m\u001b[0;34m(\u001b[0m\u001b[0mkeyarr\u001b[0m\u001b[0;34m)\u001b[0m\u001b[0;34m\u001b[0m\u001b[0;34m\u001b[0m\u001b[0m\n\u001b[1;32m   1313\u001b[0m \u001b[0;34m\u001b[0m\u001b[0m\n\u001b[0;32m-> 1314\u001b[0;31m         \u001b[0mself\u001b[0m\u001b[0;34m.\u001b[0m\u001b[0m_validate_read_indexer\u001b[0m\u001b[0;34m(\u001b[0m\u001b[0mkeyarr\u001b[0m\u001b[0;34m,\u001b[0m \u001b[0mindexer\u001b[0m\u001b[0;34m,\u001b[0m \u001b[0maxis\u001b[0m\u001b[0;34m)\u001b[0m\u001b[0;34m\u001b[0m\u001b[0;34m\u001b[0m\u001b[0m\n\u001b[0m\u001b[1;32m   1315\u001b[0m \u001b[0;34m\u001b[0m\u001b[0m\n\u001b[1;32m   1316\u001b[0m         if needs_i8_conversion(ax.dtype) or isinstance(\n",
            "\u001b[0;32m/usr/local/lib/python3.7/dist-packages/pandas/core/indexing.py\u001b[0m in \u001b[0;36m_validate_read_indexer\u001b[0;34m(self, key, indexer, axis)\u001b[0m\n\u001b[1;32m   1375\u001b[0m \u001b[0;34m\u001b[0m\u001b[0m\n\u001b[1;32m   1376\u001b[0m             \u001b[0mnot_found\u001b[0m \u001b[0;34m=\u001b[0m \u001b[0mlist\u001b[0m\u001b[0;34m(\u001b[0m\u001b[0mensure_index\u001b[0m\u001b[0;34m(\u001b[0m\u001b[0mkey\u001b[0m\u001b[0;34m)\u001b[0m\u001b[0;34m[\u001b[0m\u001b[0mmissing_mask\u001b[0m\u001b[0;34m.\u001b[0m\u001b[0mnonzero\u001b[0m\u001b[0;34m(\u001b[0m\u001b[0;34m)\u001b[0m\u001b[0;34m[\u001b[0m\u001b[0;36m0\u001b[0m\u001b[0;34m]\u001b[0m\u001b[0;34m]\u001b[0m\u001b[0;34m.\u001b[0m\u001b[0munique\u001b[0m\u001b[0;34m(\u001b[0m\u001b[0;34m)\u001b[0m\u001b[0;34m)\u001b[0m\u001b[0;34m\u001b[0m\u001b[0;34m\u001b[0m\u001b[0m\n\u001b[0;32m-> 1377\u001b[0;31m             \u001b[0;32mraise\u001b[0m \u001b[0mKeyError\u001b[0m\u001b[0;34m(\u001b[0m\u001b[0;34mf\"{not_found} not in index\"\u001b[0m\u001b[0;34m)\u001b[0m\u001b[0;34m\u001b[0m\u001b[0;34m\u001b[0m\u001b[0m\n\u001b[0m\u001b[1;32m   1378\u001b[0m \u001b[0;34m\u001b[0m\u001b[0m\n\u001b[1;32m   1379\u001b[0m \u001b[0;34m\u001b[0m\u001b[0m\n",
            "\u001b[0;31mKeyError\u001b[0m: \"['day_of_week'] not in index\""
          ]
        }
      ],
      "source": [
        "###EJERCICIO 2: \n",
        "##APLICAR ESTADÍSTICOS DESCRIPTIVOS SOBRE CORTES DE BOLETOS: \n",
        "## 1) VARIABLES ESPACIALES: CORREDOR, LINEA Y SENTIDO\n",
        "  ## CONTAMOS VIAJES POR  POR CORREDOR, LINEA Y SENTIDO , POR DIA###\n",
        "big_frame['AUX']=1\n",
        "big_frame['VIAJES_DIA_CORREDOR']=big_frame.groupby(['CORREDOR', 'dia2'])['AUX'].transform('sum')\n",
        "big_frame['VIAJES_DIA_LINEA']=big_frame.groupby(['LINEA', 'dia2'])['AUX'].transform('sum')\n",
        "big_frame['SENTIDO_IDA']=0\n",
        "mask=big_frame.SENTIDO==\"Ida\"\n",
        "big_frame.loc[mask,'SENTIDO_IDA']=1\n",
        "big_frame['SENTIDO_VUELTA']=0\n",
        "mask=big_frame.SENTIDO==\"Vuelta\"\n",
        "big_frame.loc[mask,'SENTIDO_VUELTA']=1\n",
        "\n",
        "big_frame['VIAJES_DIA_LINEA_SENT_IDA']=big_frame.groupby(['LINEA', 'dia2'])['SENTIDO_IDA'].transform('sum')\n",
        "big_frame['VIAJES_DIA_LINEA_SENT_VUELTA']=big_frame.groupby(['LINEA', 'dia2'])['SENTIDO_VUELTA'].transform('sum')\n",
        "big_frame.head(10)\n",
        "\n",
        "big_frame= big_frame.drop_duplicates(['CORREDOR', 'LINEA', 'dia2', 'VIAJES_DIA_CORREDOR', \t'VIAJES_DIA_LINEA' , 'VIAJES_DIA_LINEA_SENT_IDA', \t'VIAJES_DIA_LINEA_SENT_VUELTA' ])\n",
        "big_frame.head()\n",
        "big_frame=big_frame.loc[:,['CORREDOR', 'LINEA', 'dia2',  'VIAJES_DIA_CORREDOR', \t'VIAJES_DIA_LINEA' , 'VIAJES_DIA_LINEA_SENT_IDA', \t'VIAJES_DIA_LINEA_SENT_VUELTA', 'day_of_week']]\n",
        "#df1.to_csv(\"df1.csv\", index=None)\n",
        "#from google.colab import files\n",
        "#files.download('df1.csv') \n",
        "\n",
        "## 2) VARIABLES TEMPORALES: MES DIA DE LA SEMANA Y HORA##\n",
        "## 3) ANALIZAR ESTACIONALIDAD\n",
        "## IDEM SOBRE TARJETAS MESES USADAS VS DIAS PROMEDIO USADAS (¿OUTLIERS?, CANTIDAD DE USOS DIA)\n",
        "\n",
        "###LUEGO GUARDAMOS UN DF PARA PODER LUEGO HACER LOOP, DIGAMOS, DEBERIA HABER 2 LOOP, EL QUE LEVANTA Y PROCESA Y LUEGO EL QEU UNE TODO##"
      ]
    },
    {
      "cell_type": "code",
      "execution_count": null,
      "metadata": {
        "colab": {
          "base_uri": "https://localhost:8080/"
        },
        "id": "9WV3h78Vipyw",
        "outputId": "dcc3b260-b51e-456d-814b-f9e0f9341d81"
      },
      "outputs": [
        {
          "data": {
            "text/plain": [
              "(6210, 9)"
            ]
          },
          "execution_count": 16,
          "metadata": {},
          "output_type": "execute_result"
        }
      ],
      "source": [
        "big_frame.shape"
      ]
    },
    {
      "cell_type": "code",
      "execution_count": null,
      "metadata": {
        "colab": {
          "base_uri": "https://localhost:8080/"
        },
        "id": "xmDKRdRcjL-v",
        "outputId": "ac1c9a03-443b-4aa4-a7b8-4aeb5a97abe0"
      },
      "outputs": [
        {
          "data": {
            "text/plain": [
              "2019-02-06    72\n",
              "2019-01-21    72\n",
              "2019-01-22    72\n",
              "2019-01-23    72\n",
              "2019-03-18    72\n",
              "              ..\n",
              "2019-01-06    66\n",
              "2019-02-16    66\n",
              "2019-03-10    66\n",
              "2019-03-24    66\n",
              "2019-01-01    66\n",
              "Name: dia2, Length: 90, dtype: int64"
            ]
          },
          "execution_count": 17,
          "metadata": {},
          "output_type": "execute_result"
        }
      ],
      "source": [
        "big_frame.dia2.value_counts()"
      ]
    },
    {
      "cell_type": "code",
      "execution_count": null,
      "metadata": {
        "id": "F7TYNlQEknlV"
      },
      "outputs": [],
      "source": [
        "viajes_1t19= big_frame\n",
        "viajes_1t19.to_csv(\"viajes_1t19.csv\", index=None)\n",
        "from google.colab import files\n",
        "files.download('viajes_1t19.csv') \n",
        "\n"
      ]
    },
    {
      "cell_type": "code",
      "execution_count": null,
      "metadata": {
        "id": "Bj0X5ZjvSTXH"
      },
      "outputs": [],
      "source": [
        "##LO MISMO PARA EL SEGUNDO TRIMESTRE DE 2019#\n",
        "from google.colab import drive\n",
        "drive.mount('/content/drive/', force_remount=True )\n",
        "import pandas as pd\n",
        "#%cd /content/drive/My Drive/bases_mentoria/\n",
        "path= '/content/drive/My Drive/Mentoria/segundo trimestre 2019'\n",
        "import glob\n",
        "filenames = glob.glob(path + \"/*.csv\")\n",
        "\n",
        "dfs = []\n",
        "for filename in filenames:\n",
        "    dfs.append(pd.read_csv(filename, encoding='latin-1', sep=\";\"))\n",
        "\n",
        "# Concatenate all data into one DataFrame\n",
        "big_frame = pd.concat(dfs, ignore_index=True)\n",
        "\n",
        "big_frame.head()\n",
        "\n",
        "\n"
      ]
    },
    {
      "cell_type": "code",
      "execution_count": null,
      "metadata": {
        "id": "YNWaEM-Dk0H3"
      },
      "outputs": [],
      "source": [
        "big_frame['m'] = big_frame.FECHA.astype(str).str[:10].astype(str)"
      ]
    },
    {
      "cell_type": "code",
      "execution_count": null,
      "metadata": {
        "id": "I3INqLT3k4T_"
      },
      "outputs": [],
      "source": [
        "big_frame.m.value_counts()"
      ]
    },
    {
      "cell_type": "code",
      "execution_count": null,
      "metadata": {
        "id": "dWoasI5kk4kx"
      },
      "outputs": [],
      "source": [
        "big_frame['dia'] = pd.to_datetime(big_frame['m'])\n",
        "big_frame['dia'] = big_frame['dia'].dt.strftime('%d.%m.%Y')"
      ]
    },
    {
      "cell_type": "code",
      "execution_count": null,
      "metadata": {
        "id": "0RImabQhk4pR"
      },
      "outputs": [],
      "source": [
        "big_frame.dia.value_counts()"
      ]
    },
    {
      "cell_type": "code",
      "execution_count": null,
      "metadata": {
        "id": "kCV5Qod3k4s4"
      },
      "outputs": [],
      "source": [
        "big_frame['dia2'] = pd.to_datetime(big_frame['dia'])"
      ]
    },
    {
      "cell_type": "code",
      "execution_count": null,
      "metadata": {
        "id": "PoeAp23Ak4wR"
      },
      "outputs": [],
      "source": [
        "### EJERCICIO 1: INTERACTUAR CON BASES, CONVERTIR FORMATOS FECHAS, GENERAR VARIABLES NUEVAS (MES DIA )###\n",
        "big_frame['day_of_week'] = big_frame['dia2'].dt.day_name()\n",
        "big_frame['FECHA2'] = pd.to_datetime(big_frame['FECHA'])\n",
        "big_frame['hora'] = big_frame['FECHA2'].dt.hour\n",
        "big_frame.head()"
      ]
    },
    {
      "cell_type": "code",
      "execution_count": null,
      "metadata": {
        "id": "-Ojw62i9lDrS"
      },
      "outputs": [],
      "source": [
        "big_frame.dia2.value_counts()"
      ]
    },
    {
      "cell_type": "code",
      "execution_count": null,
      "metadata": {
        "id": "LEFX_dkaooeR"
      },
      "outputs": [],
      "source": [
        "big_frame.shape"
      ]
    },
    {
      "cell_type": "code",
      "execution_count": null,
      "metadata": {
        "id": "GtEStRtHlDvI"
      },
      "outputs": [],
      "source": [
        "###EJERCICIO 2: \n",
        "##APLICAR ESTADÍSTICOS DESCRIPTIVOS SOBRE CORTES DE BOLETOS: \n",
        "## 1) VARIABLES ESPACIALES: CORREDOR, LINEA Y SENTIDO\n",
        "  ## CONTAMOS VIAJES POR  POR CORREDOR, LINEA Y SENTIDO , POR DIA###\n",
        "big_frame['AUX']=1\n",
        "big_frame['VIAJES_DIA_CORREDOR']=big_frame.groupby(['CORREDOR', 'dia2'])['AUX'].transform('sum')\n",
        "big_frame['VIAJES_DIA_LINEA']=big_frame.groupby(['LINEA', 'dia2'])['AUX'].transform('sum')\n",
        "big_frame['SENTIDO_IDA']=0\n",
        "mask=big_frame.SENTIDO==\"Ida\"\n",
        "big_frame.loc[mask,'SENTIDO_IDA']=1\n",
        "big_frame['SENTIDO_VUELTA']=0\n",
        "mask=big_frame.SENTIDO==\"Vuelta\"\n",
        "big_frame.loc[mask,'SENTIDO_VUELTA']=1\n",
        "\n",
        "big_frame['VIAJES_DIA_LINEA_SENT_IDA']=big_frame.groupby(['LINEA', 'dia2'])['SENTIDO_IDA'].transform('sum')\n",
        "big_frame['VIAJES_DIA_LINEA_SENT_VUELTA']=big_frame.groupby(['LINEA', 'dia2'])['SENTIDO_VUELTA'].transform('sum')\n",
        "big_frame.head(10)\n",
        "\n",
        "big_frame= big_frame.drop_duplicates(['CORREDOR', 'LINEA', 'dia2', 'VIAJES_DIA_CORREDOR', \t'VIAJES_DIA_LINEA' , 'VIAJES_DIA_LINEA_SENT_IDA', \t'VIAJES_DIA_LINEA_SENT_VUELTA' ])\n",
        "big_frame.head()\n",
        "big_frame=big_frame.loc[:,['CORREDOR', 'LINEA', 'dia2',  'VIAJES_DIA_CORREDOR', \t'VIAJES_DIA_LINEA' , 'VIAJES_DIA_LINEA_SENT_IDA', \t'VIAJES_DIA_LINEA_SENT_VUELTA', 'hora', 'day_of_week']]\n",
        "#df1.to_csv(\"df1.csv\", index=None)\n",
        "#from google.colab import files\n",
        "#files.download('df1.csv') \n",
        "\n",
        "## 2) VARIABLES TEMPORALES: MES DIA DE LA SEMANA Y HORA##\n",
        "## 3) ANALIZAR ESTACIONALIDAD\n",
        "## IDEM SOBRE TARJETAS MESES USADAS VS DIAS PROMEDIO USADAS (¿OUTLIERS?, CANTIDAD DE USOS DIA)\n",
        "\n",
        "###LUEGO GUARDAMOS UN DF PARA PODER LUEGO HACER LOOP, DIGAMOS, DEBERIA HABER 2 LOOP, EL QUE LEVANTA Y PROCESA Y LUEGO EL QEU UNE TODO##"
      ]
    },
    {
      "cell_type": "code",
      "execution_count": null,
      "metadata": {
        "id": "u0YRxU-UlDyh"
      },
      "outputs": [],
      "source": [
        "big_frame.shape"
      ]
    },
    {
      "cell_type": "code",
      "execution_count": null,
      "metadata": {
        "id": "ucBUI5CrlZMM"
      },
      "outputs": [],
      "source": [
        "big_frame.dia2.value_counts()"
      ]
    },
    {
      "cell_type": "code",
      "execution_count": null,
      "metadata": {
        "id": "1xTCrSeJlZS7"
      },
      "outputs": [],
      "source": [
        "viajes_2t19= big_frame\n",
        "viajes_2t19.to_csv(\"viajes_2t19.csv\", index=None)\n",
        "from google.colab import files\n",
        "files.download('viajes_2t19.csv') \n"
      ]
    },
    {
      "cell_type": "code",
      "execution_count": null,
      "metadata": {
        "id": "BRJNzgtPlZZv"
      },
      "outputs": [],
      "source": [
        ""
      ]
    },
    {
      "cell_type": "code",
      "execution_count": null,
      "metadata": {
        "id": "QzozAc5PiSl2"
      },
      "outputs": [],
      "source": [
        "##LO MISMO PARA EL TERCER TRIMESTRE DE 2019#\n",
        "from google.colab import drive\n",
        "drive.mount('/content/drive/', force_remount=True )\n",
        "import pandas as pd\n",
        "#%cd /content/drive/My Drive/bases_mentoria/\n",
        "path= '/content/drive/My Drive/Mentoria/tercer trimestre 2019'\n",
        "import glob\n",
        "filenames = glob.glob(path + \"/*.csv\")\n",
        "\n",
        "dfs = []\n",
        "for filename in filenames:\n",
        "    dfs.append(pd.read_csv(filename, encoding='latin-1', sep=\";\"))\n",
        "\n",
        "# Concatenate all data into one DataFrame\n",
        "big_frame = pd.concat(dfs, ignore_index=True)\n",
        "\n",
        "big_frame.head()\n",
        "\n",
        "\n"
      ]
    },
    {
      "cell_type": "code",
      "execution_count": null,
      "metadata": {
        "id": "E3u3kFezidJ0"
      },
      "outputs": [],
      "source": [
        "big_frame['m'] = big_frame.FECHA.astype(str).str[:10].astype(str)"
      ]
    },
    {
      "cell_type": "code",
      "execution_count": null,
      "metadata": {
        "id": "6kV43od0idUd"
      },
      "outputs": [],
      "source": [
        "big_frame.m.value_counts()"
      ]
    },
    {
      "cell_type": "code",
      "execution_count": null,
      "metadata": {
        "id": "CukJZeKTidZx"
      },
      "outputs": [],
      "source": [
        "big_frame['dia'] = pd.to_datetime(big_frame['m'])\n",
        "big_frame['dia'] = big_frame['dia'].dt.strftime('%d.%m.%Y')"
      ]
    },
    {
      "cell_type": "code",
      "execution_count": null,
      "metadata": {
        "id": "atj1bJZ1iddS"
      },
      "outputs": [],
      "source": [
        "big_frame.dia.value_counts()"
      ]
    },
    {
      "cell_type": "code",
      "execution_count": null,
      "metadata": {
        "id": "H_qb-NcKidgU"
      },
      "outputs": [],
      "source": [
        "big_frame['dia2'] = pd.to_datetime(big_frame['dia'])"
      ]
    },
    {
      "cell_type": "code",
      "execution_count": null,
      "metadata": {
        "id": "dPVQBBBbidjT"
      },
      "outputs": [],
      "source": [
        "### EJERCICIO 1: INTERACTUAR CON BASES, CONVERTIR FORMATOS FECHAS, GENERAR VARIABLES NUEVAS (MES DIA )###\n",
        "big_frame['day_of_week'] = big_frame['dia2'].dt.day_name()\n",
        "big_frame['FECHA2'] = pd.to_datetime(big_frame['FECHA'])\n",
        "big_frame['hora'] = big_frame['FECHA2'].dt.hour\n",
        "big_frame.head()"
      ]
    },
    {
      "cell_type": "code",
      "execution_count": null,
      "metadata": {
        "id": "8ZQ2ZYPEidmO"
      },
      "outputs": [],
      "source": [
        "big_frame.dia2.value_counts()"
      ]
    },
    {
      "cell_type": "code",
      "execution_count": null,
      "metadata": {
        "id": "4PGOGdTRido9"
      },
      "outputs": [],
      "source": [
        "big_frame.shape"
      ]
    },
    {
      "cell_type": "code",
      "execution_count": null,
      "metadata": {
        "id": "t63LUiAeidrt"
      },
      "outputs": [],
      "source": [
        "###EJERCICIO 2: \n",
        "##APLICAR ESTADÍSTICOS DESCRIPTIVOS SOBRE CORTES DE BOLETOS: \n",
        "## 1) VARIABLES ESPACIALES: CORREDOR, LINEA Y SENTIDO\n",
        "  ## CONTAMOS VIAJES POR  POR CORREDOR, LINEA Y SENTIDO , POR DIA###\n",
        "big_frame['AUX']=1\n",
        "big_frame['VIAJES_DIA_CORREDOR']=big_frame.groupby(['CORREDOR', 'dia2'])['AUX'].transform('sum')\n",
        "big_frame['VIAJES_DIA_LINEA']=big_frame.groupby(['LINEA', 'dia2'])['AUX'].transform('sum')\n",
        "big_frame['SENTIDO_IDA']=0\n",
        "mask=big_frame.SENTIDO==\"Ida\"\n",
        "big_frame.loc[mask,'SENTIDO_IDA']=1\n",
        "big_frame['SENTIDO_VUELTA']=0\n",
        "mask=big_frame.SENTIDO==\"Vuelta\"\n",
        "big_frame.loc[mask,'SENTIDO_VUELTA']=1\n",
        "\n",
        "big_frame['VIAJES_DIA_LINEA_SENT_IDA']=big_frame.groupby(['LINEA', 'dia2'])['SENTIDO_IDA'].transform('sum')\n",
        "big_frame['VIAJES_DIA_LINEA_SENT_VUELTA']=big_frame.groupby(['LINEA', 'dia2'])['SENTIDO_VUELTA'].transform('sum')\n",
        "big_frame.head(10)\n",
        "\n",
        "big_frame= big_frame.drop_duplicates(['CORREDOR', 'LINEA', 'dia2', 'VIAJES_DIA_CORREDOR', \t'VIAJES_DIA_LINEA' , 'VIAJES_DIA_LINEA_SENT_IDA', \t'VIAJES_DIA_LINEA_SENT_VUELTA' ])\n",
        "big_frame.head()\n",
        "big_frame=big_frame.loc[:,['CORREDOR', 'LINEA', 'dia2',  'VIAJES_DIA_CORREDOR', \t'VIAJES_DIA_LINEA' , 'VIAJES_DIA_LINEA_SENT_IDA', \t'VIAJES_DIA_LINEA_SENT_VUELTA', 'hora', 'day_of_week']]\n",
        "#df1.to_csv(\"df1.csv\", index=None)\n",
        "#from google.colab import files\n",
        "#files.download('df1.csv') \n",
        "\n",
        "## 2) VARIABLES TEMPORALES: MES DIA DE LA SEMANA Y HORA##\n",
        "## 3) ANALIZAR ESTACIONALIDAD\n",
        "## IDEM SOBRE TARJETAS MESES USADAS VS DIAS PROMEDIO USADAS (¿OUTLIERS?, CANTIDAD DE USOS DIA)\n",
        "\n",
        "###LUEGO GUARDAMOS UN DF PARA PODER LUEGO HACER LOOP, DIGAMOS, DEBERIA HABER 2 LOOP, EL QUE LEVANTA Y PROCESA Y LUEGO EL QEU UNE TODO##"
      ]
    },
    {
      "cell_type": "code",
      "execution_count": null,
      "metadata": {
        "id": "Le-wmYUwiduW"
      },
      "outputs": [],
      "source": [
        "big_frame.shape"
      ]
    },
    {
      "cell_type": "code",
      "execution_count": null,
      "metadata": {
        "id": "Ru4iOSAIidwz"
      },
      "outputs": [],
      "source": [
        "big_frame.dia2.value_counts()"
      ]
    },
    {
      "cell_type": "code",
      "execution_count": null,
      "metadata": {
        "id": "GXPAODPFjDOw"
      },
      "outputs": [],
      "source": [
        "viajes_3t19= big_frame\n",
        "viajes_3t19.to_csv(\"viajes_3t19.csv\", index=None)\n",
        "from google.colab import files\n",
        "files.download('viajes_3t19.csv') "
      ]
    },
    {
      "cell_type": "code",
      "execution_count": null,
      "metadata": {
        "id": "AaKurBrMjDTz"
      },
      "outputs": [],
      "source": [
        "##LO MISMO PARA EL CUARTO TRIMESTRE DE 2019#\n",
        "from google.colab import drive\n",
        "drive.mount('/content/drive/', force_remount=True )\n",
        "import pandas as pd\n",
        "#%cd /content/drive/My Drive/bases_mentoria/\n",
        "path= '/content/drive/My Drive/Mentoria/cuarto trimestre 2019'\n",
        "import glob\n",
        "filenames = glob.glob(path + \"/*.csv\")\n",
        "\n",
        "dfs = []\n",
        "for filename in filenames:\n",
        "    dfs.append(pd.read_csv(filename, encoding='latin-1', sep=\";\"))\n",
        "\n",
        "# Concatenate all data into one DataFrame\n",
        "big_frame = pd.concat(dfs, ignore_index=True)\n",
        "\n",
        "big_frame.head()"
      ]
    },
    {
      "cell_type": "code",
      "execution_count": null,
      "metadata": {
        "id": "JMsC6kWYjDW_"
      },
      "outputs": [],
      "source": [
        "big_frame['m'] = big_frame.FECHA.astype(str).str[:10].astype(str)"
      ]
    },
    {
      "cell_type": "code",
      "execution_count": null,
      "metadata": {
        "id": "cof_jDWDjDZ8"
      },
      "outputs": [],
      "source": [
        "big_frame.m.value_counts()"
      ]
    },
    {
      "cell_type": "code",
      "execution_count": null,
      "metadata": {
        "id": "E7kFDPKOjDe8"
      },
      "outputs": [],
      "source": [
        "big_frame['dia'] = pd.to_datetime(big_frame['m'])\n",
        "big_frame['dia'] = big_frame['dia'].dt.strftime('%d.%m.%Y')"
      ]
    },
    {
      "cell_type": "code",
      "execution_count": null,
      "metadata": {
        "id": "bIizwJxPGKkd"
      },
      "outputs": [],
      "source": [
        "big_frame.info()"
      ]
    },
    {
      "cell_type": "code",
      "execution_count": null,
      "metadata": {
        "id": "nfq11TGJjDid"
      },
      "outputs": [],
      "source": [
        "big_frame.dia.value_counts()"
      ]
    },
    {
      "cell_type": "code",
      "execution_count": null,
      "metadata": {
        "id": "8R0NFfmMjDke"
      },
      "outputs": [],
      "source": [
        "big_frame['dia2'] = pd.to_datetime(big_frame['dia'])"
      ]
    },
    {
      "cell_type": "code",
      "execution_count": null,
      "metadata": {
        "id": "3ie_gIeRjDnE"
      },
      "outputs": [],
      "source": [
        "### EJERCICIO 1: INTERACTUAR CON BASES, CONVERTIR FORMATOS FECHAS, GENERAR VARIABLES NUEVAS (MES DIA )###\n",
        "big_frame['day_of_week'] = big_frame['dia2'].dt.day_name()\n",
        "big_frame['FECHA2'] = pd.to_datetime(big_frame['FECHA'])\n",
        "big_frame['hora'] = big_frame['FECHA2'].dt.hour\n",
        "big_frame.head()"
      ]
    },
    {
      "cell_type": "code",
      "execution_count": null,
      "metadata": {
        "id": "sLGAysBrjDqS"
      },
      "outputs": [],
      "source": [
        "big_frame.dia2.value_counts()"
      ]
    },
    {
      "cell_type": "code",
      "execution_count": null,
      "metadata": {
        "id": "qjd49F9OjDtD"
      },
      "outputs": [],
      "source": [
        "big_frame.shape"
      ]
    },
    {
      "cell_type": "code",
      "execution_count": null,
      "metadata": {
        "id": "lZn12R8ejDwd"
      },
      "outputs": [],
      "source": [
        ""
      ]
    },
    {
      "cell_type": "code",
      "execution_count": null,
      "metadata": {
        "id": "9e97ra5Yj9hh"
      },
      "outputs": [],
      "source": [
        "###EJERCICIO 2: \n",
        "##APLICAR ESTADÍSTICOS DESCRIPTIVOS SOBRE CORTES DE BOLETOS: \n",
        "## 1) VARIABLES ESPACIALES: CORREDOR, LINEA Y SENTIDO\n",
        "  ## CONTAMOS VIAJES POR  POR CORREDOR, LINEA Y SENTIDO , POR DIA###\n",
        "big_frame['AUX']=1\n",
        "big_frame['VIAJES_DIA_CORREDOR']=big_frame.groupby(['CORREDOR', 'dia2'])['AUX'].transform('sum')\n",
        "big_frame['VIAJES_DIA_LINEA']=big_frame.groupby(['LINEA', 'dia2'])['AUX'].transform('sum')\n",
        "big_frame['SENTIDO_IDA']=0\n",
        "mask=big_frame.SENTIDO==\"Ida\"\n",
        "big_frame.loc[mask,'SENTIDO_IDA']=1\n",
        "big_frame['SENTIDO_VUELTA']=0\n",
        "mask=big_frame.SENTIDO==\"Vuelta\"\n",
        "big_frame.loc[mask,'SENTIDO_VUELTA']=1\n",
        "\n",
        "big_frame['VIAJES_DIA_LINEA_SENT_IDA']=big_frame.groupby(['LINEA', 'dia2'])['SENTIDO_IDA'].transform('sum')\n",
        "big_frame['VIAJES_DIA_LINEA_SENT_VUELTA']=big_frame.groupby(['LINEA', 'dia2'])['SENTIDO_VUELTA'].transform('sum')\n",
        "big_frame.head(10)\n",
        "\n",
        "big_frame= big_frame.drop_duplicates(['CORREDOR', 'LINEA', 'dia2', 'VIAJES_DIA_CORREDOR', \t'VIAJES_DIA_LINEA' , 'VIAJES_DIA_LINEA_SENT_IDA', \t'VIAJES_DIA_LINEA_SENT_VUELTA' ])\n",
        "big_frame.head()\n",
        "big_frame=big_frame.loc[:,['CORREDOR', 'LINEA', 'dia2',  'VIAJES_DIA_CORREDOR', \t'VIAJES_DIA_LINEA' , 'VIAJES_DIA_LINEA_SENT_IDA', \t'VIAJES_DIA_LINEA_SENT_VUELTA', 'hora', 'day_of_week']]\n",
        "#df1.to_csv(\"df1.csv\", index=None)\n",
        "#from google.colab import files\n",
        "#files.download('df1.csv') \n",
        "\n",
        "## 2) VARIABLES TEMPORALES: MES DIA DE LA SEMANA Y HORA##\n",
        "## 3) ANALIZAR ESTACIONALIDAD\n",
        "## IDEM SOBRE TARJETAS MESES USADAS VS DIAS PROMEDIO USADAS (¿OUTLIERS?, CANTIDAD DE USOS DIA)\n",
        "\n",
        "###LUEGO GUARDAMOS UN DF PARA PODER LUEGO HACER LOOP, DIGAMOS, DEBERIA HABER 2 LOOP, EL QUE LEVANTA Y PROCESA Y LUEGO EL QEU UNE TODO##"
      ]
    },
    {
      "cell_type": "code",
      "execution_count": null,
      "metadata": {
        "id": "X9ThES-6jDzM"
      },
      "outputs": [],
      "source": [
        "big_frame.shape"
      ]
    },
    {
      "cell_type": "code",
      "execution_count": null,
      "metadata": {
        "id": "4iv_0H3MjD4v"
      },
      "outputs": [],
      "source": [
        "big_frame.dia2.value_counts()"
      ]
    },
    {
      "cell_type": "code",
      "execution_count": null,
      "metadata": {
        "id": "3RxMpceHjD70"
      },
      "outputs": [],
      "source": [
        "viajes_4t19= big_frame\n",
        "viajes_4t19.to_csv(\"viajes_4t19.csv\", index=None)\n",
        "from google.colab import files\n",
        "files.download('viajes_4t19.csv') "
      ]
    },
    {
      "cell_type": "code",
      "execution_count": null,
      "metadata": {
        "id": "hjubTBqejECi"
      },
      "outputs": [],
      "source": [
        ""
      ]
    },
    {
      "cell_type": "code",
      "execution_count": null,
      "metadata": {
        "id": "iNexbG7HjEFt"
      },
      "outputs": [],
      "source": [
        ""
      ]
    },
    {
      "cell_type": "code",
      "execution_count": null,
      "metadata": {
        "id": "tMh7fl-CjSaW"
      },
      "outputs": [],
      "source": [
        ""
      ]
    },
    {
      "cell_type": "code",
      "execution_count": null,
      "metadata": {
        "id": "daHZxTg7jSiG"
      },
      "outputs": [],
      "source": [
        ""
      ]
    },
    {
      "cell_type": "code",
      "execution_count": null,
      "metadata": {
        "id": "dVJAElfkjSov"
      },
      "outputs": [],
      "source": [
        ""
      ]
    },
    {
      "cell_type": "code",
      "execution_count": null,
      "metadata": {
        "id": "4Qr-Ze2yjSwE"
      },
      "outputs": [],
      "source": [
        ""
      ]
    },
    {
      "cell_type": "code",
      "execution_count": null,
      "metadata": {
        "id": "gaO_OdIdjS3g"
      },
      "outputs": [],
      "source": [
        ""
      ]
    },
    {
      "cell_type": "code",
      "execution_count": null,
      "metadata": {
        "id": "Lx15rYdujS-t"
      },
      "outputs": [],
      "source": [
        ""
      ]
    }
  ],
  "metadata": {
    "colab": {
      "collapsed_sections": [],
      "name": "Resguardo Conexión a bases de drive_Mentoria_V4.ipynb",
      "provenance": []
    },
    "kernelspec": {
      "display_name": "Python 3",
      "name": "python3"
    },
    "language_info": {
      "name": "python"
    }
  },
  "nbformat": 4,
  "nbformat_minor": 0
}