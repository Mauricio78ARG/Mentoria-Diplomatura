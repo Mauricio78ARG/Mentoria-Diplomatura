{
  "cells": [
    {
      "cell_type": "code",
      "execution_count": 1,
      "metadata": {
        "colab": {
          "base_uri": "https://localhost:8080/",
          "height": 224
        },
        "id": "Z3IsoE-7RJBu",
        "outputId": "a55881f3-e658-4f8d-be4f-529f32826f60"
      },
      "outputs": [
        {
          "output_type": "stream",
          "name": "stdout",
          "text": [
            "Mounted at /content/drive/\n"
          ]
        },
        {
          "output_type": "execute_result",
          "data": {
            "text/plain": [
              "                    FECHA           FECHAAPERTURA  TARJETA       CORREDOR  \\\n",
              "0  01/01/2019 01:32:43 AM  01/01/2019 01:00:11 AM  4992639     Cor 3 Rojo   \n",
              "1  01/01/2019 02:26:11 AM  01/01/2019 01:00:11 AM  5489022     Cor 3 Rojo   \n",
              "2  01/01/2019 02:26:14 AM  01/01/2019 01:00:11 AM  5489022     Cor 3 Rojo   \n",
              "3  01/01/2019 02:32:27 AM  01/01/2019 01:59:31 AM  5317539  Cor 1 Naranja   \n",
              "4  01/01/2019 02:57:48 AM  01/01/2019 01:59:31 AM  4451141  Cor 1 Naranja   \n",
              "\n",
              "  LINEA SENTIDO  \n",
              "0   L35     Ida  \n",
              "1   L35  Vuelta  \n",
              "2   L35  Vuelta  \n",
              "3   L12  Vuelta  \n",
              "4   L12  Vuelta  "
            ],
            "text/html": [
              "\n",
              "  <div id=\"df-6889e599-1b4c-4b97-ad62-6e2f1e2a38a2\">\n",
              "    <div class=\"colab-df-container\">\n",
              "      <div>\n",
              "<style scoped>\n",
              "    .dataframe tbody tr th:only-of-type {\n",
              "        vertical-align: middle;\n",
              "    }\n",
              "\n",
              "    .dataframe tbody tr th {\n",
              "        vertical-align: top;\n",
              "    }\n",
              "\n",
              "    .dataframe thead th {\n",
              "        text-align: right;\n",
              "    }\n",
              "</style>\n",
              "<table border=\"1\" class=\"dataframe\">\n",
              "  <thead>\n",
              "    <tr style=\"text-align: right;\">\n",
              "      <th></th>\n",
              "      <th>FECHA</th>\n",
              "      <th>FECHAAPERTURA</th>\n",
              "      <th>TARJETA</th>\n",
              "      <th>CORREDOR</th>\n",
              "      <th>LINEA</th>\n",
              "      <th>SENTIDO</th>\n",
              "    </tr>\n",
              "  </thead>\n",
              "  <tbody>\n",
              "    <tr>\n",
              "      <th>0</th>\n",
              "      <td>01/01/2019 01:32:43 AM</td>\n",
              "      <td>01/01/2019 01:00:11 AM</td>\n",
              "      <td>4992639</td>\n",
              "      <td>Cor 3 Rojo</td>\n",
              "      <td>L35</td>\n",
              "      <td>Ida</td>\n",
              "    </tr>\n",
              "    <tr>\n",
              "      <th>1</th>\n",
              "      <td>01/01/2019 02:26:11 AM</td>\n",
              "      <td>01/01/2019 01:00:11 AM</td>\n",
              "      <td>5489022</td>\n",
              "      <td>Cor 3 Rojo</td>\n",
              "      <td>L35</td>\n",
              "      <td>Vuelta</td>\n",
              "    </tr>\n",
              "    <tr>\n",
              "      <th>2</th>\n",
              "      <td>01/01/2019 02:26:14 AM</td>\n",
              "      <td>01/01/2019 01:00:11 AM</td>\n",
              "      <td>5489022</td>\n",
              "      <td>Cor 3 Rojo</td>\n",
              "      <td>L35</td>\n",
              "      <td>Vuelta</td>\n",
              "    </tr>\n",
              "    <tr>\n",
              "      <th>3</th>\n",
              "      <td>01/01/2019 02:32:27 AM</td>\n",
              "      <td>01/01/2019 01:59:31 AM</td>\n",
              "      <td>5317539</td>\n",
              "      <td>Cor 1 Naranja</td>\n",
              "      <td>L12</td>\n",
              "      <td>Vuelta</td>\n",
              "    </tr>\n",
              "    <tr>\n",
              "      <th>4</th>\n",
              "      <td>01/01/2019 02:57:48 AM</td>\n",
              "      <td>01/01/2019 01:59:31 AM</td>\n",
              "      <td>4451141</td>\n",
              "      <td>Cor 1 Naranja</td>\n",
              "      <td>L12</td>\n",
              "      <td>Vuelta</td>\n",
              "    </tr>\n",
              "  </tbody>\n",
              "</table>\n",
              "</div>\n",
              "      <button class=\"colab-df-convert\" onclick=\"convertToInteractive('df-6889e599-1b4c-4b97-ad62-6e2f1e2a38a2')\"\n",
              "              title=\"Convert this dataframe to an interactive table.\"\n",
              "              style=\"display:none;\">\n",
              "        \n",
              "  <svg xmlns=\"http://www.w3.org/2000/svg\" height=\"24px\"viewBox=\"0 0 24 24\"\n",
              "       width=\"24px\">\n",
              "    <path d=\"M0 0h24v24H0V0z\" fill=\"none\"/>\n",
              "    <path d=\"M18.56 5.44l.94 2.06.94-2.06 2.06-.94-2.06-.94-.94-2.06-.94 2.06-2.06.94zm-11 1L8.5 8.5l.94-2.06 2.06-.94-2.06-.94L8.5 2.5l-.94 2.06-2.06.94zm10 10l.94 2.06.94-2.06 2.06-.94-2.06-.94-.94-2.06-.94 2.06-2.06.94z\"/><path d=\"M17.41 7.96l-1.37-1.37c-.4-.4-.92-.59-1.43-.59-.52 0-1.04.2-1.43.59L10.3 9.45l-7.72 7.72c-.78.78-.78 2.05 0 2.83L4 21.41c.39.39.9.59 1.41.59.51 0 1.02-.2 1.41-.59l7.78-7.78 2.81-2.81c.8-.78.8-2.07 0-2.86zM5.41 20L4 18.59l7.72-7.72 1.47 1.35L5.41 20z\"/>\n",
              "  </svg>\n",
              "      </button>\n",
              "      \n",
              "  <style>\n",
              "    .colab-df-container {\n",
              "      display:flex;\n",
              "      flex-wrap:wrap;\n",
              "      gap: 12px;\n",
              "    }\n",
              "\n",
              "    .colab-df-convert {\n",
              "      background-color: #E8F0FE;\n",
              "      border: none;\n",
              "      border-radius: 50%;\n",
              "      cursor: pointer;\n",
              "      display: none;\n",
              "      fill: #1967D2;\n",
              "      height: 32px;\n",
              "      padding: 0 0 0 0;\n",
              "      width: 32px;\n",
              "    }\n",
              "\n",
              "    .colab-df-convert:hover {\n",
              "      background-color: #E2EBFA;\n",
              "      box-shadow: 0px 1px 2px rgba(60, 64, 67, 0.3), 0px 1px 3px 1px rgba(60, 64, 67, 0.15);\n",
              "      fill: #174EA6;\n",
              "    }\n",
              "\n",
              "    [theme=dark] .colab-df-convert {\n",
              "      background-color: #3B4455;\n",
              "      fill: #D2E3FC;\n",
              "    }\n",
              "\n",
              "    [theme=dark] .colab-df-convert:hover {\n",
              "      background-color: #434B5C;\n",
              "      box-shadow: 0px 1px 3px 1px rgba(0, 0, 0, 0.15);\n",
              "      filter: drop-shadow(0px 1px 2px rgba(0, 0, 0, 0.3));\n",
              "      fill: #FFFFFF;\n",
              "    }\n",
              "  </style>\n",
              "\n",
              "      <script>\n",
              "        const buttonEl =\n",
              "          document.querySelector('#df-6889e599-1b4c-4b97-ad62-6e2f1e2a38a2 button.colab-df-convert');\n",
              "        buttonEl.style.display =\n",
              "          google.colab.kernel.accessAllowed ? 'block' : 'none';\n",
              "\n",
              "        async function convertToInteractive(key) {\n",
              "          const element = document.querySelector('#df-6889e599-1b4c-4b97-ad62-6e2f1e2a38a2');\n",
              "          const dataTable =\n",
              "            await google.colab.kernel.invokeFunction('convertToInteractive',\n",
              "                                                     [key], {});\n",
              "          if (!dataTable) return;\n",
              "\n",
              "          const docLinkHtml = 'Like what you see? Visit the ' +\n",
              "            '<a target=\"_blank\" href=https://colab.research.google.com/notebooks/data_table.ipynb>data table notebook</a>'\n",
              "            + ' to learn more about interactive tables.';\n",
              "          element.innerHTML = '';\n",
              "          dataTable['output_type'] = 'display_data';\n",
              "          await google.colab.output.renderOutput(dataTable, element);\n",
              "          const docLink = document.createElement('div');\n",
              "          docLink.innerHTML = docLinkHtml;\n",
              "          element.appendChild(docLink);\n",
              "        }\n",
              "      </script>\n",
              "    </div>\n",
              "  </div>\n",
              "  "
            ]
          },
          "metadata": {},
          "execution_count": 1
        }
      ],
      "source": [
        "from google.colab import drive\n",
        "drive.mount('/content/drive/', force_remount=True )\n",
        "import pandas as pd\n",
        "#%cd /content/drive/My Drive/bases_mentoria/\n",
        "#path= '/content/drive/My Drive/bases_mentoria/primer trimestre 2019'\n",
        "path= '/content/drive/My Drive/Mentoria/primer trimestre 2019'\n",
        "import glob\n",
        "filenames = glob.glob(path + \"/*.csv\")\n",
        "\n",
        "dfs = []\n",
        "for filename in filenames:\n",
        "    dfs.append(pd.read_csv(filename, encoding='latin-1', sep=\";\"))\n",
        "\n",
        "# Concatenate all data into one DataFrame\n",
        "big_frame = pd.concat(dfs, ignore_index=True)\n",
        "\n",
        "big_frame.head()\n"
      ]
    },
    {
      "cell_type": "code",
      "execution_count": 2,
      "metadata": {
        "id": "wT29QwK5LxLK"
      },
      "outputs": [],
      "source": [
        "import datetime as dt"
      ]
    },
    {
      "cell_type": "code",
      "source": [
        "# VARIABLE FECHA DE STRING A DATETIME##\n",
        "big_frame['Fecha2'] = pd.to_datetime(big_frame['FECHA'], format='%d/%m/%Y %I:%M:%S %p')"
      ],
      "metadata": {
        "id": "mIDxd-vqxkNx"
      },
      "execution_count": 3,
      "outputs": []
    },
    {
      "cell_type": "code",
      "source": [
        "##OBTENEMOS HORA DEL DÍA##\n",
        "big_frame['hora'] = big_frame['Fecha2'].dt.hour"
      ],
      "metadata": {
        "id": "zFFI88cPxkWU"
      },
      "execution_count": 4,
      "outputs": []
    },
    {
      "cell_type": "code",
      "source": [
        "## OBTENEMOS DIA DE LA SEMANA##\n",
        "big_frame['dia_semana']=big_frame['Fecha2'].dt.day_name()"
      ],
      "metadata": {
        "id": "RjanH82-yKcn"
      },
      "execution_count": 5,
      "outputs": []
    },
    {
      "cell_type": "code",
      "source": [
        "## OBTENEMOS MES DEL AÑO###\n",
        "big_frame['MES']=big_frame['Fecha2'].dt.month"
      ],
      "metadata": {
        "id": "Zip96xUQEChP"
      },
      "execution_count": 6,
      "outputs": []
    },
    {
      "cell_type": "code",
      "source": [
        "big_frame['cant_mes_t1'] = big_frame.groupby('TARJETA')['MES'].transform('nunique')"
      ],
      "metadata": {
        "id": "Fv5oOYLFVRN3"
      },
      "execution_count": 7,
      "outputs": []
    },
    {
      "cell_type": "code",
      "source": [
        "big_frame.cant_meses.value_counts()"
      ],
      "metadata": {
        "colab": {
          "base_uri": "https://localhost:8080/"
        },
        "id": "nrIngj4IyVuG",
        "outputId": "197ef9cd-35f3-4f34-ccd7-2f300e84658e"
      },
      "execution_count": null,
      "outputs": [
        {
          "output_type": "execute_result",
          "data": {
            "text/plain": [
              "3    9601507\n",
              "2     558665\n",
              "1     129878\n",
              "Name: cant_meses, dtype: int64"
            ]
          },
          "metadata": {},
          "execution_count": 8
        }
      ]
    },
    {
      "cell_type": "code",
      "source": [
        "##GENERAMOS UNA VARIABLE QUE INDIQUE: LUNES A VIERNES##\n",
        "mask=((big_frame.dia_semana==\"Monday\") | (big_frame.dia_semana==\"Tuesday\") | (big_frame.dia_semana==\"Wednesday\")  | (big_frame.dia_semana==\"Thursday\")   | (big_frame.dia_semana==\"Friday\") )  \n",
        "big_frame['LaV']=0\n",
        "big_frame.loc[mask, 'LaV']=1\n"
      ],
      "metadata": {
        "id": "ZdTyy4Ky8XFk"
      },
      "execution_count": 8,
      "outputs": []
    },
    {
      "cell_type": "code",
      "execution_count": null,
      "metadata": {
        "id": "wYJ44v93IcJj",
        "colab": {
          "base_uri": "https://localhost:8080/"
        },
        "outputId": "abbf082a-9b5d-41b3-d5d8-f0de1012ba67"
      },
      "outputs": [
        {
          "output_type": "execute_result",
          "data": {
            "text/plain": [
              "1    8847218\n",
              "0    1442832\n",
              "Name: LaV, dtype: int64"
            ]
          },
          "metadata": {},
          "execution_count": 10
        }
      ],
      "source": [
        "big_frame.LaV.value_counts()"
      ]
    },
    {
      "cell_type": "code",
      "execution_count": 9,
      "metadata": {
        "id": "KDUY_s8gJ9-d"
      },
      "outputs": [],
      "source": [
        "## GENERAMOS UNA VARIABLE QUE INDIQUE: SABADOS Y DOMINGOS##\n",
        "mask=((big_frame.dia_semana==\"Saturday\") | (big_frame.dia_semana==\"Sunday\"))\n",
        "big_frame['Sabados_Domingos']=0\n",
        "big_frame.loc[mask, 'Sabados_Domingos']=1"
      ]
    },
    {
      "cell_type": "code",
      "execution_count": null,
      "metadata": {
        "id": "9muwzCLIbMdt",
        "colab": {
          "base_uri": "https://localhost:8080/"
        },
        "outputId": "f5dda28e-03a5-4dbe-8fd0-02edf10ae46e"
      },
      "outputs": [
        {
          "output_type": "execute_result",
          "data": {
            "text/plain": [
              "0    8847218\n",
              "1    1442832\n",
              "Name: Sabados_Domingos, dtype: int64"
            ]
          },
          "metadata": {},
          "execution_count": 12
        }
      ],
      "source": [
        "big_frame.Sabados_Domingos.value_counts()"
      ]
    },
    {
      "cell_type": "code",
      "execution_count": 10,
      "metadata": {
        "id": "NLnLd-BHbi2v"
      },
      "outputs": [],
      "source": [
        "## GENERAMOS UN INDICADOR DE HORA DE USO##\n",
        "## PICO / NO PICO##\n",
        "## 7 ,8, 17, 18, 13, 14 HORAS DE MAYOR USO##\n",
        "mask=(((big_frame.hora==7)| (big_frame.hora==8) | (big_frame.hora==17) | (big_frame.hora==18) | (big_frame.hora==13) | (big_frame.hora==14)) & (big_frame.LaV==1))\n",
        "big_frame['PICO']=0\n",
        "big_frame.loc[mask, 'PICO']=1"
      ]
    },
    {
      "cell_type": "code",
      "execution_count": null,
      "metadata": {
        "id": "9_qeT08Gcmip",
        "colab": {
          "base_uri": "https://localhost:8080/"
        },
        "outputId": "6a048a87-2645-4ae2-829f-9080aeea75ae"
      },
      "outputs": [
        {
          "output_type": "execute_result",
          "data": {
            "text/plain": [
              "0    6257108\n",
              "1    4032942\n",
              "Name: PICO, dtype: int64"
            ]
          },
          "metadata": {},
          "execution_count": 14
        }
      ],
      "source": [
        "big_frame.PICO.value_counts()"
      ]
    },
    {
      "cell_type": "code",
      "execution_count": null,
      "metadata": {
        "id": "AL5sgBWx-I86",
        "colab": {
          "base_uri": "https://localhost:8080/",
          "height": 288
        },
        "outputId": "34dc1277-3b5c-454c-d6d0-20e8258f1329"
      },
      "outputs": [
        {
          "output_type": "execute_result",
          "data": {
            "text/plain": [
              "                    FECHA           FECHAAPERTURA  TARJETA       CORREDOR  \\\n",
              "0  01/01/2019 01:32:43 AM  01/01/2019 01:00:11 AM  4992639     Cor 3 Rojo   \n",
              "1  01/01/2019 02:26:11 AM  01/01/2019 01:00:11 AM  5489022     Cor 3 Rojo   \n",
              "2  01/01/2019 02:26:14 AM  01/01/2019 01:00:11 AM  5489022     Cor 3 Rojo   \n",
              "3  01/01/2019 02:32:27 AM  01/01/2019 01:59:31 AM  5317539  Cor 1 Naranja   \n",
              "\n",
              "  LINEA SENTIDO              Fecha2  hora dia_semana  MES  cant_meses  LaV  \\\n",
              "0   L35     Ida 2019-01-01 01:32:43     1    Tuesday    1           3    1   \n",
              "1   L35  Vuelta 2019-01-01 02:26:11     2    Tuesday    1           3    1   \n",
              "2   L35  Vuelta 2019-01-01 02:26:14     2    Tuesday    1           3    1   \n",
              "3   L12  Vuelta 2019-01-01 02:32:27     2    Tuesday    1           3    1   \n",
              "\n",
              "   Sabados_Domingos  PICO  \n",
              "0                 0     0  \n",
              "1                 0     0  \n",
              "2                 0     0  \n",
              "3                 0     0  "
            ],
            "text/html": [
              "\n",
              "  <div id=\"df-3b655eef-78c7-41be-b07a-b07140de47c0\">\n",
              "    <div class=\"colab-df-container\">\n",
              "      <div>\n",
              "<style scoped>\n",
              "    .dataframe tbody tr th:only-of-type {\n",
              "        vertical-align: middle;\n",
              "    }\n",
              "\n",
              "    .dataframe tbody tr th {\n",
              "        vertical-align: top;\n",
              "    }\n",
              "\n",
              "    .dataframe thead th {\n",
              "        text-align: right;\n",
              "    }\n",
              "</style>\n",
              "<table border=\"1\" class=\"dataframe\">\n",
              "  <thead>\n",
              "    <tr style=\"text-align: right;\">\n",
              "      <th></th>\n",
              "      <th>FECHA</th>\n",
              "      <th>FECHAAPERTURA</th>\n",
              "      <th>TARJETA</th>\n",
              "      <th>CORREDOR</th>\n",
              "      <th>LINEA</th>\n",
              "      <th>SENTIDO</th>\n",
              "      <th>Fecha2</th>\n",
              "      <th>hora</th>\n",
              "      <th>dia_semana</th>\n",
              "      <th>MES</th>\n",
              "      <th>cant_meses</th>\n",
              "      <th>LaV</th>\n",
              "      <th>Sabados_Domingos</th>\n",
              "      <th>PICO</th>\n",
              "    </tr>\n",
              "  </thead>\n",
              "  <tbody>\n",
              "    <tr>\n",
              "      <th>0</th>\n",
              "      <td>01/01/2019 01:32:43 AM</td>\n",
              "      <td>01/01/2019 01:00:11 AM</td>\n",
              "      <td>4992639</td>\n",
              "      <td>Cor 3 Rojo</td>\n",
              "      <td>L35</td>\n",
              "      <td>Ida</td>\n",
              "      <td>2019-01-01 01:32:43</td>\n",
              "      <td>1</td>\n",
              "      <td>Tuesday</td>\n",
              "      <td>1</td>\n",
              "      <td>3</td>\n",
              "      <td>1</td>\n",
              "      <td>0</td>\n",
              "      <td>0</td>\n",
              "    </tr>\n",
              "    <tr>\n",
              "      <th>1</th>\n",
              "      <td>01/01/2019 02:26:11 AM</td>\n",
              "      <td>01/01/2019 01:00:11 AM</td>\n",
              "      <td>5489022</td>\n",
              "      <td>Cor 3 Rojo</td>\n",
              "      <td>L35</td>\n",
              "      <td>Vuelta</td>\n",
              "      <td>2019-01-01 02:26:11</td>\n",
              "      <td>2</td>\n",
              "      <td>Tuesday</td>\n",
              "      <td>1</td>\n",
              "      <td>3</td>\n",
              "      <td>1</td>\n",
              "      <td>0</td>\n",
              "      <td>0</td>\n",
              "    </tr>\n",
              "    <tr>\n",
              "      <th>2</th>\n",
              "      <td>01/01/2019 02:26:14 AM</td>\n",
              "      <td>01/01/2019 01:00:11 AM</td>\n",
              "      <td>5489022</td>\n",
              "      <td>Cor 3 Rojo</td>\n",
              "      <td>L35</td>\n",
              "      <td>Vuelta</td>\n",
              "      <td>2019-01-01 02:26:14</td>\n",
              "      <td>2</td>\n",
              "      <td>Tuesday</td>\n",
              "      <td>1</td>\n",
              "      <td>3</td>\n",
              "      <td>1</td>\n",
              "      <td>0</td>\n",
              "      <td>0</td>\n",
              "    </tr>\n",
              "    <tr>\n",
              "      <th>3</th>\n",
              "      <td>01/01/2019 02:32:27 AM</td>\n",
              "      <td>01/01/2019 01:59:31 AM</td>\n",
              "      <td>5317539</td>\n",
              "      <td>Cor 1 Naranja</td>\n",
              "      <td>L12</td>\n",
              "      <td>Vuelta</td>\n",
              "      <td>2019-01-01 02:32:27</td>\n",
              "      <td>2</td>\n",
              "      <td>Tuesday</td>\n",
              "      <td>1</td>\n",
              "      <td>3</td>\n",
              "      <td>1</td>\n",
              "      <td>0</td>\n",
              "      <td>0</td>\n",
              "    </tr>\n",
              "  </tbody>\n",
              "</table>\n",
              "</div>\n",
              "      <button class=\"colab-df-convert\" onclick=\"convertToInteractive('df-3b655eef-78c7-41be-b07a-b07140de47c0')\"\n",
              "              title=\"Convert this dataframe to an interactive table.\"\n",
              "              style=\"display:none;\">\n",
              "        \n",
              "  <svg xmlns=\"http://www.w3.org/2000/svg\" height=\"24px\"viewBox=\"0 0 24 24\"\n",
              "       width=\"24px\">\n",
              "    <path d=\"M0 0h24v24H0V0z\" fill=\"none\"/>\n",
              "    <path d=\"M18.56 5.44l.94 2.06.94-2.06 2.06-.94-2.06-.94-.94-2.06-.94 2.06-2.06.94zm-11 1L8.5 8.5l.94-2.06 2.06-.94-2.06-.94L8.5 2.5l-.94 2.06-2.06.94zm10 10l.94 2.06.94-2.06 2.06-.94-2.06-.94-.94-2.06-.94 2.06-2.06.94z\"/><path d=\"M17.41 7.96l-1.37-1.37c-.4-.4-.92-.59-1.43-.59-.52 0-1.04.2-1.43.59L10.3 9.45l-7.72 7.72c-.78.78-.78 2.05 0 2.83L4 21.41c.39.39.9.59 1.41.59.51 0 1.02-.2 1.41-.59l7.78-7.78 2.81-2.81c.8-.78.8-2.07 0-2.86zM5.41 20L4 18.59l7.72-7.72 1.47 1.35L5.41 20z\"/>\n",
              "  </svg>\n",
              "      </button>\n",
              "      \n",
              "  <style>\n",
              "    .colab-df-container {\n",
              "      display:flex;\n",
              "      flex-wrap:wrap;\n",
              "      gap: 12px;\n",
              "    }\n",
              "\n",
              "    .colab-df-convert {\n",
              "      background-color: #E8F0FE;\n",
              "      border: none;\n",
              "      border-radius: 50%;\n",
              "      cursor: pointer;\n",
              "      display: none;\n",
              "      fill: #1967D2;\n",
              "      height: 32px;\n",
              "      padding: 0 0 0 0;\n",
              "      width: 32px;\n",
              "    }\n",
              "\n",
              "    .colab-df-convert:hover {\n",
              "      background-color: #E2EBFA;\n",
              "      box-shadow: 0px 1px 2px rgba(60, 64, 67, 0.3), 0px 1px 3px 1px rgba(60, 64, 67, 0.15);\n",
              "      fill: #174EA6;\n",
              "    }\n",
              "\n",
              "    [theme=dark] .colab-df-convert {\n",
              "      background-color: #3B4455;\n",
              "      fill: #D2E3FC;\n",
              "    }\n",
              "\n",
              "    [theme=dark] .colab-df-convert:hover {\n",
              "      background-color: #434B5C;\n",
              "      box-shadow: 0px 1px 3px 1px rgba(0, 0, 0, 0.15);\n",
              "      filter: drop-shadow(0px 1px 2px rgba(0, 0, 0, 0.3));\n",
              "      fill: #FFFFFF;\n",
              "    }\n",
              "  </style>\n",
              "\n",
              "      <script>\n",
              "        const buttonEl =\n",
              "          document.querySelector('#df-3b655eef-78c7-41be-b07a-b07140de47c0 button.colab-df-convert');\n",
              "        buttonEl.style.display =\n",
              "          google.colab.kernel.accessAllowed ? 'block' : 'none';\n",
              "\n",
              "        async function convertToInteractive(key) {\n",
              "          const element = document.querySelector('#df-3b655eef-78c7-41be-b07a-b07140de47c0');\n",
              "          const dataTable =\n",
              "            await google.colab.kernel.invokeFunction('convertToInteractive',\n",
              "                                                     [key], {});\n",
              "          if (!dataTable) return;\n",
              "\n",
              "          const docLinkHtml = 'Like what you see? Visit the ' +\n",
              "            '<a target=\"_blank\" href=https://colab.research.google.com/notebooks/data_table.ipynb>data table notebook</a>'\n",
              "            + ' to learn more about interactive tables.';\n",
              "          element.innerHTML = '';\n",
              "          dataTable['output_type'] = 'display_data';\n",
              "          await google.colab.output.renderOutput(dataTable, element);\n",
              "          const docLink = document.createElement('div');\n",
              "          docLink.innerHTML = docLinkHtml;\n",
              "          element.appendChild(docLink);\n",
              "        }\n",
              "      </script>\n",
              "    </div>\n",
              "  </div>\n",
              "  "
            ]
          },
          "metadata": {},
          "execution_count": 15
        }
      ],
      "source": [
        "big_frame.head(4)"
      ]
    },
    {
      "cell_type": "code",
      "execution_count": null,
      "metadata": {
        "colab": {
          "base_uri": "https://localhost:8080/"
        },
        "id": "XkRp8J6ArlsB",
        "outputId": "3daa9d95-9d55-4a47-d34f-7099f306e79f"
      },
      "outputs": [
        {
          "output_type": "execute_result",
          "data": {
            "text/plain": [
              "Cor 1 Naranja       1838082\n",
              "Cor 6 Naranja       1573429\n",
              "Cor 2 Azul          1418251\n",
              "Cor 3 Rojo          1198971\n",
              "Cor 7 Azul          1068827\n",
              "Cor 5 Amarillo       870022\n",
              "Cor 8 Rojo           835873\n",
              "Cor 4 Amarillo       830563\n",
              "TROLE                507721\n",
              "Lín Anu Amarillo     148311\n",
              "Name: CORREDOR, dtype: int64"
            ]
          },
          "metadata": {},
          "execution_count": 16
        }
      ],
      "source": [
        "big_frame.CORREDOR.value_counts()"
      ]
    },
    {
      "cell_type": "code",
      "source": [
        "## TOMARIA LAS SIGUIENTES VARIABLES PARA CONTAR POR TARJETA: %LaV %Sabados_Domingos %horaPICO %por CORREDOR\n",
        "## OJO, ELIMINAR TARJETAS PRESTADAS ANTES\n",
        "big_frame.shape\n"
      ],
      "metadata": {
        "colab": {
          "base_uri": "https://localhost:8080/"
        },
        "id": "GbUDfpXIfsCb",
        "outputId": "27523ee7-f133-4d10-e9d9-a6c9d0421fae"
      },
      "execution_count": null,
      "outputs": [
        {
          "output_type": "execute_result",
          "data": {
            "text/plain": [
              "(10290050, 14)"
            ]
          },
          "metadata": {},
          "execution_count": 17
        }
      ]
    },
    {
      "cell_type": "code",
      "execution_count": 11,
      "metadata": {
        "id": "yXZ26w50ruLA"
      },
      "outputs": [],
      "source": [
        "#Se depura la base, nos quedamos solo con el primer uso de la tarjeta en ese mismo viaje.\n",
        "df1 = big_frame.groupby(['TARJETA','LINEA','SENTIDO','FECHAAPERTURA']).first().reset_index()"
      ]
    },
    {
      "cell_type": "code",
      "execution_count": 12,
      "metadata": {
        "id": "ggXqxtqhOtXB"
      },
      "outputs": [],
      "source": [
        "##PORCENTAJE DE USO POR HORA PICO NO PICO POR TARJETA##\n",
        "df1['CUENTA']=1\n",
        "df1['VIAJES']=df1.groupby('TARJETA')['CUENTA'].transform('sum')\n",
        "\n"
      ]
    },
    {
      "cell_type": "code",
      "execution_count": 13,
      "metadata": {
        "id": "W_Cqq0bDfzn4",
        "colab": {
          "base_uri": "https://localhost:8080/",
          "height": 444
        },
        "outputId": "fbc3268f-e057-45f0-c62f-8f8bef684967"
      },
      "outputs": [
        {
          "output_type": "execute_result",
          "data": {
            "text/plain": [
              "   TARJETA LINEA SENTIDO           FECHAAPERTURA                   FECHA  \\\n",
              "0  2016806     A  Vuelta  18/03/2019 12:07:10 PM  18/03/2019 12:46:33 PM   \n",
              "1  2016806     A  Vuelta  30/01/2019 07:11:42 AM  30/01/2019 07:51:14 AM   \n",
              "2  2016806     C  Vuelta  28/03/2019 05:58:35 PM  28/03/2019 07:38:14 PM   \n",
              "3  2016806   L30     Ida  22/03/2019 08:42:18 AM  22/03/2019 08:59:17 AM   \n",
              "4  2016806   L30     Ida  25/03/2019 05:50:03 AM  25/03/2019 06:19:20 AM   \n",
              "\n",
              "     CORREDOR              Fecha2  hora dia_semana  MES  cant_mes_t1  LaV  \\\n",
              "0       TROLE 2019-03-18 12:46:33    12     Monday    3            3    1   \n",
              "1       TROLE 2019-01-30 07:51:14     7  Wednesday    1            3    1   \n",
              "2       TROLE 2019-03-28 19:38:14    19   Thursday    3            3    1   \n",
              "3  Cor 3 Rojo 2019-03-22 08:59:17     8     Friday    3            3    1   \n",
              "4  Cor 3 Rojo 2019-03-25 06:19:20     6     Monday    3            3    1   \n",
              "\n",
              "   Sabados_Domingos  PICO  CUENTA  VIAJES  AUX  porc_pico  \n",
              "0                 0     0       1      44   32   0.727273  \n",
              "1                 0     1       1      44   32   0.727273  \n",
              "2                 0     0       1      44   32   0.727273  \n",
              "3                 0     1       1      44   32   0.727273  \n",
              "4                 0     0       1      44   32   0.727273  "
            ],
            "text/html": [
              "\n",
              "  <div id=\"df-71424c7a-4d65-48fa-b6fa-b3e1c25c2a57\">\n",
              "    <div class=\"colab-df-container\">\n",
              "      <div>\n",
              "<style scoped>\n",
              "    .dataframe tbody tr th:only-of-type {\n",
              "        vertical-align: middle;\n",
              "    }\n",
              "\n",
              "    .dataframe tbody tr th {\n",
              "        vertical-align: top;\n",
              "    }\n",
              "\n",
              "    .dataframe thead th {\n",
              "        text-align: right;\n",
              "    }\n",
              "</style>\n",
              "<table border=\"1\" class=\"dataframe\">\n",
              "  <thead>\n",
              "    <tr style=\"text-align: right;\">\n",
              "      <th></th>\n",
              "      <th>TARJETA</th>\n",
              "      <th>LINEA</th>\n",
              "      <th>SENTIDO</th>\n",
              "      <th>FECHAAPERTURA</th>\n",
              "      <th>FECHA</th>\n",
              "      <th>CORREDOR</th>\n",
              "      <th>Fecha2</th>\n",
              "      <th>hora</th>\n",
              "      <th>dia_semana</th>\n",
              "      <th>MES</th>\n",
              "      <th>cant_mes_t1</th>\n",
              "      <th>LaV</th>\n",
              "      <th>Sabados_Domingos</th>\n",
              "      <th>PICO</th>\n",
              "      <th>CUENTA</th>\n",
              "      <th>VIAJES</th>\n",
              "      <th>AUX</th>\n",
              "      <th>porc_pico</th>\n",
              "    </tr>\n",
              "  </thead>\n",
              "  <tbody>\n",
              "    <tr>\n",
              "      <th>0</th>\n",
              "      <td>2016806</td>\n",
              "      <td>A</td>\n",
              "      <td>Vuelta</td>\n",
              "      <td>18/03/2019 12:07:10 PM</td>\n",
              "      <td>18/03/2019 12:46:33 PM</td>\n",
              "      <td>TROLE</td>\n",
              "      <td>2019-03-18 12:46:33</td>\n",
              "      <td>12</td>\n",
              "      <td>Monday</td>\n",
              "      <td>3</td>\n",
              "      <td>3</td>\n",
              "      <td>1</td>\n",
              "      <td>0</td>\n",
              "      <td>0</td>\n",
              "      <td>1</td>\n",
              "      <td>44</td>\n",
              "      <td>32</td>\n",
              "      <td>0.727273</td>\n",
              "    </tr>\n",
              "    <tr>\n",
              "      <th>1</th>\n",
              "      <td>2016806</td>\n",
              "      <td>A</td>\n",
              "      <td>Vuelta</td>\n",
              "      <td>30/01/2019 07:11:42 AM</td>\n",
              "      <td>30/01/2019 07:51:14 AM</td>\n",
              "      <td>TROLE</td>\n",
              "      <td>2019-01-30 07:51:14</td>\n",
              "      <td>7</td>\n",
              "      <td>Wednesday</td>\n",
              "      <td>1</td>\n",
              "      <td>3</td>\n",
              "      <td>1</td>\n",
              "      <td>0</td>\n",
              "      <td>1</td>\n",
              "      <td>1</td>\n",
              "      <td>44</td>\n",
              "      <td>32</td>\n",
              "      <td>0.727273</td>\n",
              "    </tr>\n",
              "    <tr>\n",
              "      <th>2</th>\n",
              "      <td>2016806</td>\n",
              "      <td>C</td>\n",
              "      <td>Vuelta</td>\n",
              "      <td>28/03/2019 05:58:35 PM</td>\n",
              "      <td>28/03/2019 07:38:14 PM</td>\n",
              "      <td>TROLE</td>\n",
              "      <td>2019-03-28 19:38:14</td>\n",
              "      <td>19</td>\n",
              "      <td>Thursday</td>\n",
              "      <td>3</td>\n",
              "      <td>3</td>\n",
              "      <td>1</td>\n",
              "      <td>0</td>\n",
              "      <td>0</td>\n",
              "      <td>1</td>\n",
              "      <td>44</td>\n",
              "      <td>32</td>\n",
              "      <td>0.727273</td>\n",
              "    </tr>\n",
              "    <tr>\n",
              "      <th>3</th>\n",
              "      <td>2016806</td>\n",
              "      <td>L30</td>\n",
              "      <td>Ida</td>\n",
              "      <td>22/03/2019 08:42:18 AM</td>\n",
              "      <td>22/03/2019 08:59:17 AM</td>\n",
              "      <td>Cor 3 Rojo</td>\n",
              "      <td>2019-03-22 08:59:17</td>\n",
              "      <td>8</td>\n",
              "      <td>Friday</td>\n",
              "      <td>3</td>\n",
              "      <td>3</td>\n",
              "      <td>1</td>\n",
              "      <td>0</td>\n",
              "      <td>1</td>\n",
              "      <td>1</td>\n",
              "      <td>44</td>\n",
              "      <td>32</td>\n",
              "      <td>0.727273</td>\n",
              "    </tr>\n",
              "    <tr>\n",
              "      <th>4</th>\n",
              "      <td>2016806</td>\n",
              "      <td>L30</td>\n",
              "      <td>Ida</td>\n",
              "      <td>25/03/2019 05:50:03 AM</td>\n",
              "      <td>25/03/2019 06:19:20 AM</td>\n",
              "      <td>Cor 3 Rojo</td>\n",
              "      <td>2019-03-25 06:19:20</td>\n",
              "      <td>6</td>\n",
              "      <td>Monday</td>\n",
              "      <td>3</td>\n",
              "      <td>3</td>\n",
              "      <td>1</td>\n",
              "      <td>0</td>\n",
              "      <td>0</td>\n",
              "      <td>1</td>\n",
              "      <td>44</td>\n",
              "      <td>32</td>\n",
              "      <td>0.727273</td>\n",
              "    </tr>\n",
              "  </tbody>\n",
              "</table>\n",
              "</div>\n",
              "      <button class=\"colab-df-convert\" onclick=\"convertToInteractive('df-71424c7a-4d65-48fa-b6fa-b3e1c25c2a57')\"\n",
              "              title=\"Convert this dataframe to an interactive table.\"\n",
              "              style=\"display:none;\">\n",
              "        \n",
              "  <svg xmlns=\"http://www.w3.org/2000/svg\" height=\"24px\"viewBox=\"0 0 24 24\"\n",
              "       width=\"24px\">\n",
              "    <path d=\"M0 0h24v24H0V0z\" fill=\"none\"/>\n",
              "    <path d=\"M18.56 5.44l.94 2.06.94-2.06 2.06-.94-2.06-.94-.94-2.06-.94 2.06-2.06.94zm-11 1L8.5 8.5l.94-2.06 2.06-.94-2.06-.94L8.5 2.5l-.94 2.06-2.06.94zm10 10l.94 2.06.94-2.06 2.06-.94-2.06-.94-.94-2.06-.94 2.06-2.06.94z\"/><path d=\"M17.41 7.96l-1.37-1.37c-.4-.4-.92-.59-1.43-.59-.52 0-1.04.2-1.43.59L10.3 9.45l-7.72 7.72c-.78.78-.78 2.05 0 2.83L4 21.41c.39.39.9.59 1.41.59.51 0 1.02-.2 1.41-.59l7.78-7.78 2.81-2.81c.8-.78.8-2.07 0-2.86zM5.41 20L4 18.59l7.72-7.72 1.47 1.35L5.41 20z\"/>\n",
              "  </svg>\n",
              "      </button>\n",
              "      \n",
              "  <style>\n",
              "    .colab-df-container {\n",
              "      display:flex;\n",
              "      flex-wrap:wrap;\n",
              "      gap: 12px;\n",
              "    }\n",
              "\n",
              "    .colab-df-convert {\n",
              "      background-color: #E8F0FE;\n",
              "      border: none;\n",
              "      border-radius: 50%;\n",
              "      cursor: pointer;\n",
              "      display: none;\n",
              "      fill: #1967D2;\n",
              "      height: 32px;\n",
              "      padding: 0 0 0 0;\n",
              "      width: 32px;\n",
              "    }\n",
              "\n",
              "    .colab-df-convert:hover {\n",
              "      background-color: #E2EBFA;\n",
              "      box-shadow: 0px 1px 2px rgba(60, 64, 67, 0.3), 0px 1px 3px 1px rgba(60, 64, 67, 0.15);\n",
              "      fill: #174EA6;\n",
              "    }\n",
              "\n",
              "    [theme=dark] .colab-df-convert {\n",
              "      background-color: #3B4455;\n",
              "      fill: #D2E3FC;\n",
              "    }\n",
              "\n",
              "    [theme=dark] .colab-df-convert:hover {\n",
              "      background-color: #434B5C;\n",
              "      box-shadow: 0px 1px 3px 1px rgba(0, 0, 0, 0.15);\n",
              "      filter: drop-shadow(0px 1px 2px rgba(0, 0, 0, 0.3));\n",
              "      fill: #FFFFFF;\n",
              "    }\n",
              "  </style>\n",
              "\n",
              "      <script>\n",
              "        const buttonEl =\n",
              "          document.querySelector('#df-71424c7a-4d65-48fa-b6fa-b3e1c25c2a57 button.colab-df-convert');\n",
              "        buttonEl.style.display =\n",
              "          google.colab.kernel.accessAllowed ? 'block' : 'none';\n",
              "\n",
              "        async function convertToInteractive(key) {\n",
              "          const element = document.querySelector('#df-71424c7a-4d65-48fa-b6fa-b3e1c25c2a57');\n",
              "          const dataTable =\n",
              "            await google.colab.kernel.invokeFunction('convertToInteractive',\n",
              "                                                     [key], {});\n",
              "          if (!dataTable) return;\n",
              "\n",
              "          const docLinkHtml = 'Like what you see? Visit the ' +\n",
              "            '<a target=\"_blank\" href=https://colab.research.google.com/notebooks/data_table.ipynb>data table notebook</a>'\n",
              "            + ' to learn more about interactive tables.';\n",
              "          element.innerHTML = '';\n",
              "          dataTable['output_type'] = 'display_data';\n",
              "          await google.colab.output.renderOutput(dataTable, element);\n",
              "          const docLink = document.createElement('div');\n",
              "          docLink.innerHTML = docLinkHtml;\n",
              "          element.appendChild(docLink);\n",
              "        }\n",
              "      </script>\n",
              "    </div>\n",
              "  </div>\n",
              "  "
            ]
          },
          "metadata": {},
          "execution_count": 13
        }
      ],
      "source": [
        "df1['AUX']=df1.groupby('TARJETA')['PICO'].transform('sum')\n",
        "df1['porc_pico']=df1.AUX/ df1.VIAJES\n",
        "df1.head(5)\n",
        "\n"
      ]
    },
    {
      "cell_type": "code",
      "execution_count": 14,
      "metadata": {
        "colab": {
          "base_uri": "https://localhost:8080/",
          "height": 444
        },
        "id": "w9TXULYaPAPN",
        "outputId": "7c54da8f-6eee-4453-a54a-80fd61d61d91"
      },
      "outputs": [
        {
          "output_type": "execute_result",
          "data": {
            "text/plain": [
              "   TARJETA LINEA SENTIDO           FECHAAPERTURA                   FECHA  \\\n",
              "0  2016806     A  Vuelta  18/03/2019 12:07:10 PM  18/03/2019 12:46:33 PM   \n",
              "1  2016806     A  Vuelta  30/01/2019 07:11:42 AM  30/01/2019 07:51:14 AM   \n",
              "2  2016806     C  Vuelta  28/03/2019 05:58:35 PM  28/03/2019 07:38:14 PM   \n",
              "3  2016806   L30     Ida  22/03/2019 08:42:18 AM  22/03/2019 08:59:17 AM   \n",
              "4  2016806   L30     Ida  25/03/2019 05:50:03 AM  25/03/2019 06:19:20 AM   \n",
              "\n",
              "     CORREDOR              Fecha2  hora dia_semana  MES  cant_mes_t1  LaV  \\\n",
              "0       TROLE 2019-03-18 12:46:33    12     Monday    3            3    1   \n",
              "1       TROLE 2019-01-30 07:51:14     7  Wednesday    1            3    1   \n",
              "2       TROLE 2019-03-28 19:38:14    19   Thursday    3            3    1   \n",
              "3  Cor 3 Rojo 2019-03-22 08:59:17     8     Friday    3            3    1   \n",
              "4  Cor 3 Rojo 2019-03-25 06:19:20     6     Monday    3            3    1   \n",
              "\n",
              "   Sabados_Domingos  PICO  CUENTA  VIAJES  AUX  porc_pico  porc_LaV  \n",
              "0                 0     0       1      44   43   0.727273  0.977273  \n",
              "1                 0     1       1      44   43   0.727273  0.977273  \n",
              "2                 0     0       1      44   43   0.727273  0.977273  \n",
              "3                 0     1       1      44   43   0.727273  0.977273  \n",
              "4                 0     0       1      44   43   0.727273  0.977273  "
            ],
            "text/html": [
              "\n",
              "  <div id=\"df-9d682f29-be20-42d0-b795-4c6377d1a2e8\">\n",
              "    <div class=\"colab-df-container\">\n",
              "      <div>\n",
              "<style scoped>\n",
              "    .dataframe tbody tr th:only-of-type {\n",
              "        vertical-align: middle;\n",
              "    }\n",
              "\n",
              "    .dataframe tbody tr th {\n",
              "        vertical-align: top;\n",
              "    }\n",
              "\n",
              "    .dataframe thead th {\n",
              "        text-align: right;\n",
              "    }\n",
              "</style>\n",
              "<table border=\"1\" class=\"dataframe\">\n",
              "  <thead>\n",
              "    <tr style=\"text-align: right;\">\n",
              "      <th></th>\n",
              "      <th>TARJETA</th>\n",
              "      <th>LINEA</th>\n",
              "      <th>SENTIDO</th>\n",
              "      <th>FECHAAPERTURA</th>\n",
              "      <th>FECHA</th>\n",
              "      <th>CORREDOR</th>\n",
              "      <th>Fecha2</th>\n",
              "      <th>hora</th>\n",
              "      <th>dia_semana</th>\n",
              "      <th>MES</th>\n",
              "      <th>cant_mes_t1</th>\n",
              "      <th>LaV</th>\n",
              "      <th>Sabados_Domingos</th>\n",
              "      <th>PICO</th>\n",
              "      <th>CUENTA</th>\n",
              "      <th>VIAJES</th>\n",
              "      <th>AUX</th>\n",
              "      <th>porc_pico</th>\n",
              "      <th>porc_LaV</th>\n",
              "    </tr>\n",
              "  </thead>\n",
              "  <tbody>\n",
              "    <tr>\n",
              "      <th>0</th>\n",
              "      <td>2016806</td>\n",
              "      <td>A</td>\n",
              "      <td>Vuelta</td>\n",
              "      <td>18/03/2019 12:07:10 PM</td>\n",
              "      <td>18/03/2019 12:46:33 PM</td>\n",
              "      <td>TROLE</td>\n",
              "      <td>2019-03-18 12:46:33</td>\n",
              "      <td>12</td>\n",
              "      <td>Monday</td>\n",
              "      <td>3</td>\n",
              "      <td>3</td>\n",
              "      <td>1</td>\n",
              "      <td>0</td>\n",
              "      <td>0</td>\n",
              "      <td>1</td>\n",
              "      <td>44</td>\n",
              "      <td>43</td>\n",
              "      <td>0.727273</td>\n",
              "      <td>0.977273</td>\n",
              "    </tr>\n",
              "    <tr>\n",
              "      <th>1</th>\n",
              "      <td>2016806</td>\n",
              "      <td>A</td>\n",
              "      <td>Vuelta</td>\n",
              "      <td>30/01/2019 07:11:42 AM</td>\n",
              "      <td>30/01/2019 07:51:14 AM</td>\n",
              "      <td>TROLE</td>\n",
              "      <td>2019-01-30 07:51:14</td>\n",
              "      <td>7</td>\n",
              "      <td>Wednesday</td>\n",
              "      <td>1</td>\n",
              "      <td>3</td>\n",
              "      <td>1</td>\n",
              "      <td>0</td>\n",
              "      <td>1</td>\n",
              "      <td>1</td>\n",
              "      <td>44</td>\n",
              "      <td>43</td>\n",
              "      <td>0.727273</td>\n",
              "      <td>0.977273</td>\n",
              "    </tr>\n",
              "    <tr>\n",
              "      <th>2</th>\n",
              "      <td>2016806</td>\n",
              "      <td>C</td>\n",
              "      <td>Vuelta</td>\n",
              "      <td>28/03/2019 05:58:35 PM</td>\n",
              "      <td>28/03/2019 07:38:14 PM</td>\n",
              "      <td>TROLE</td>\n",
              "      <td>2019-03-28 19:38:14</td>\n",
              "      <td>19</td>\n",
              "      <td>Thursday</td>\n",
              "      <td>3</td>\n",
              "      <td>3</td>\n",
              "      <td>1</td>\n",
              "      <td>0</td>\n",
              "      <td>0</td>\n",
              "      <td>1</td>\n",
              "      <td>44</td>\n",
              "      <td>43</td>\n",
              "      <td>0.727273</td>\n",
              "      <td>0.977273</td>\n",
              "    </tr>\n",
              "    <tr>\n",
              "      <th>3</th>\n",
              "      <td>2016806</td>\n",
              "      <td>L30</td>\n",
              "      <td>Ida</td>\n",
              "      <td>22/03/2019 08:42:18 AM</td>\n",
              "      <td>22/03/2019 08:59:17 AM</td>\n",
              "      <td>Cor 3 Rojo</td>\n",
              "      <td>2019-03-22 08:59:17</td>\n",
              "      <td>8</td>\n",
              "      <td>Friday</td>\n",
              "      <td>3</td>\n",
              "      <td>3</td>\n",
              "      <td>1</td>\n",
              "      <td>0</td>\n",
              "      <td>1</td>\n",
              "      <td>1</td>\n",
              "      <td>44</td>\n",
              "      <td>43</td>\n",
              "      <td>0.727273</td>\n",
              "      <td>0.977273</td>\n",
              "    </tr>\n",
              "    <tr>\n",
              "      <th>4</th>\n",
              "      <td>2016806</td>\n",
              "      <td>L30</td>\n",
              "      <td>Ida</td>\n",
              "      <td>25/03/2019 05:50:03 AM</td>\n",
              "      <td>25/03/2019 06:19:20 AM</td>\n",
              "      <td>Cor 3 Rojo</td>\n",
              "      <td>2019-03-25 06:19:20</td>\n",
              "      <td>6</td>\n",
              "      <td>Monday</td>\n",
              "      <td>3</td>\n",
              "      <td>3</td>\n",
              "      <td>1</td>\n",
              "      <td>0</td>\n",
              "      <td>0</td>\n",
              "      <td>1</td>\n",
              "      <td>44</td>\n",
              "      <td>43</td>\n",
              "      <td>0.727273</td>\n",
              "      <td>0.977273</td>\n",
              "    </tr>\n",
              "  </tbody>\n",
              "</table>\n",
              "</div>\n",
              "      <button class=\"colab-df-convert\" onclick=\"convertToInteractive('df-9d682f29-be20-42d0-b795-4c6377d1a2e8')\"\n",
              "              title=\"Convert this dataframe to an interactive table.\"\n",
              "              style=\"display:none;\">\n",
              "        \n",
              "  <svg xmlns=\"http://www.w3.org/2000/svg\" height=\"24px\"viewBox=\"0 0 24 24\"\n",
              "       width=\"24px\">\n",
              "    <path d=\"M0 0h24v24H0V0z\" fill=\"none\"/>\n",
              "    <path d=\"M18.56 5.44l.94 2.06.94-2.06 2.06-.94-2.06-.94-.94-2.06-.94 2.06-2.06.94zm-11 1L8.5 8.5l.94-2.06 2.06-.94-2.06-.94L8.5 2.5l-.94 2.06-2.06.94zm10 10l.94 2.06.94-2.06 2.06-.94-2.06-.94-.94-2.06-.94 2.06-2.06.94z\"/><path d=\"M17.41 7.96l-1.37-1.37c-.4-.4-.92-.59-1.43-.59-.52 0-1.04.2-1.43.59L10.3 9.45l-7.72 7.72c-.78.78-.78 2.05 0 2.83L4 21.41c.39.39.9.59 1.41.59.51 0 1.02-.2 1.41-.59l7.78-7.78 2.81-2.81c.8-.78.8-2.07 0-2.86zM5.41 20L4 18.59l7.72-7.72 1.47 1.35L5.41 20z\"/>\n",
              "  </svg>\n",
              "      </button>\n",
              "      \n",
              "  <style>\n",
              "    .colab-df-container {\n",
              "      display:flex;\n",
              "      flex-wrap:wrap;\n",
              "      gap: 12px;\n",
              "    }\n",
              "\n",
              "    .colab-df-convert {\n",
              "      background-color: #E8F0FE;\n",
              "      border: none;\n",
              "      border-radius: 50%;\n",
              "      cursor: pointer;\n",
              "      display: none;\n",
              "      fill: #1967D2;\n",
              "      height: 32px;\n",
              "      padding: 0 0 0 0;\n",
              "      width: 32px;\n",
              "    }\n",
              "\n",
              "    .colab-df-convert:hover {\n",
              "      background-color: #E2EBFA;\n",
              "      box-shadow: 0px 1px 2px rgba(60, 64, 67, 0.3), 0px 1px 3px 1px rgba(60, 64, 67, 0.15);\n",
              "      fill: #174EA6;\n",
              "    }\n",
              "\n",
              "    [theme=dark] .colab-df-convert {\n",
              "      background-color: #3B4455;\n",
              "      fill: #D2E3FC;\n",
              "    }\n",
              "\n",
              "    [theme=dark] .colab-df-convert:hover {\n",
              "      background-color: #434B5C;\n",
              "      box-shadow: 0px 1px 3px 1px rgba(0, 0, 0, 0.15);\n",
              "      filter: drop-shadow(0px 1px 2px rgba(0, 0, 0, 0.3));\n",
              "      fill: #FFFFFF;\n",
              "    }\n",
              "  </style>\n",
              "\n",
              "      <script>\n",
              "        const buttonEl =\n",
              "          document.querySelector('#df-9d682f29-be20-42d0-b795-4c6377d1a2e8 button.colab-df-convert');\n",
              "        buttonEl.style.display =\n",
              "          google.colab.kernel.accessAllowed ? 'block' : 'none';\n",
              "\n",
              "        async function convertToInteractive(key) {\n",
              "          const element = document.querySelector('#df-9d682f29-be20-42d0-b795-4c6377d1a2e8');\n",
              "          const dataTable =\n",
              "            await google.colab.kernel.invokeFunction('convertToInteractive',\n",
              "                                                     [key], {});\n",
              "          if (!dataTable) return;\n",
              "\n",
              "          const docLinkHtml = 'Like what you see? Visit the ' +\n",
              "            '<a target=\"_blank\" href=https://colab.research.google.com/notebooks/data_table.ipynb>data table notebook</a>'\n",
              "            + ' to learn more about interactive tables.';\n",
              "          element.innerHTML = '';\n",
              "          dataTable['output_type'] = 'display_data';\n",
              "          await google.colab.output.renderOutput(dataTable, element);\n",
              "          const docLink = document.createElement('div');\n",
              "          docLink.innerHTML = docLinkHtml;\n",
              "          element.appendChild(docLink);\n",
              "        }\n",
              "      </script>\n",
              "    </div>\n",
              "  </div>\n",
              "  "
            ]
          },
          "metadata": {},
          "execution_count": 14
        }
      ],
      "source": [
        "##PORCENTAJE DE USO DE LUNES A VIERNES##\n",
        "df1['AUX']=df1.groupby('TARJETA')['LaV'].transform('sum')\n",
        "df1['porc_LaV']=df1.AUX/ df1.VIAJES\n",
        "df1.head(5)"
      ]
    },
    {
      "cell_type": "code",
      "source": [
        "##PORCENTAJE DE USO EN SABADOS Y DOMINGOS##\n",
        "df1['AUX']=df1.groupby('TARJETA')['Sabados_Domingos'].transform('sum')\n",
        "df1['porc_Sab_Dom']=df1.AUX/ df1.VIAJES\n",
        "df1.head(5)"
      ],
      "metadata": {
        "colab": {
          "base_uri": "https://localhost:8080/",
          "height": 444
        },
        "id": "nPDQaCNblhCv",
        "outputId": "6d0ffeb9-5b63-4908-999c-3d319c46a40e"
      },
      "execution_count": 15,
      "outputs": [
        {
          "output_type": "execute_result",
          "data": {
            "text/plain": [
              "   TARJETA LINEA SENTIDO           FECHAAPERTURA                   FECHA  \\\n",
              "0  2016806     A  Vuelta  18/03/2019 12:07:10 PM  18/03/2019 12:46:33 PM   \n",
              "1  2016806     A  Vuelta  30/01/2019 07:11:42 AM  30/01/2019 07:51:14 AM   \n",
              "2  2016806     C  Vuelta  28/03/2019 05:58:35 PM  28/03/2019 07:38:14 PM   \n",
              "3  2016806   L30     Ida  22/03/2019 08:42:18 AM  22/03/2019 08:59:17 AM   \n",
              "4  2016806   L30     Ida  25/03/2019 05:50:03 AM  25/03/2019 06:19:20 AM   \n",
              "\n",
              "     CORREDOR              Fecha2  hora dia_semana  MES  cant_mes_t1  LaV  \\\n",
              "0       TROLE 2019-03-18 12:46:33    12     Monday    3            3    1   \n",
              "1       TROLE 2019-01-30 07:51:14     7  Wednesday    1            3    1   \n",
              "2       TROLE 2019-03-28 19:38:14    19   Thursday    3            3    1   \n",
              "3  Cor 3 Rojo 2019-03-22 08:59:17     8     Friday    3            3    1   \n",
              "4  Cor 3 Rojo 2019-03-25 06:19:20     6     Monday    3            3    1   \n",
              "\n",
              "   Sabados_Domingos  PICO  CUENTA  VIAJES  AUX  porc_pico  porc_LaV  \\\n",
              "0                 0     0       1      44    1   0.727273  0.977273   \n",
              "1                 0     1       1      44    1   0.727273  0.977273   \n",
              "2                 0     0       1      44    1   0.727273  0.977273   \n",
              "3                 0     1       1      44    1   0.727273  0.977273   \n",
              "4                 0     0       1      44    1   0.727273  0.977273   \n",
              "\n",
              "   porc_Sab_Dom  \n",
              "0      0.022727  \n",
              "1      0.022727  \n",
              "2      0.022727  \n",
              "3      0.022727  \n",
              "4      0.022727  "
            ],
            "text/html": [
              "\n",
              "  <div id=\"df-6e34a1a5-38f5-41bd-b2c8-805e401c6fd5\">\n",
              "    <div class=\"colab-df-container\">\n",
              "      <div>\n",
              "<style scoped>\n",
              "    .dataframe tbody tr th:only-of-type {\n",
              "        vertical-align: middle;\n",
              "    }\n",
              "\n",
              "    .dataframe tbody tr th {\n",
              "        vertical-align: top;\n",
              "    }\n",
              "\n",
              "    .dataframe thead th {\n",
              "        text-align: right;\n",
              "    }\n",
              "</style>\n",
              "<table border=\"1\" class=\"dataframe\">\n",
              "  <thead>\n",
              "    <tr style=\"text-align: right;\">\n",
              "      <th></th>\n",
              "      <th>TARJETA</th>\n",
              "      <th>LINEA</th>\n",
              "      <th>SENTIDO</th>\n",
              "      <th>FECHAAPERTURA</th>\n",
              "      <th>FECHA</th>\n",
              "      <th>CORREDOR</th>\n",
              "      <th>Fecha2</th>\n",
              "      <th>hora</th>\n",
              "      <th>dia_semana</th>\n",
              "      <th>MES</th>\n",
              "      <th>cant_mes_t1</th>\n",
              "      <th>LaV</th>\n",
              "      <th>Sabados_Domingos</th>\n",
              "      <th>PICO</th>\n",
              "      <th>CUENTA</th>\n",
              "      <th>VIAJES</th>\n",
              "      <th>AUX</th>\n",
              "      <th>porc_pico</th>\n",
              "      <th>porc_LaV</th>\n",
              "      <th>porc_Sab_Dom</th>\n",
              "    </tr>\n",
              "  </thead>\n",
              "  <tbody>\n",
              "    <tr>\n",
              "      <th>0</th>\n",
              "      <td>2016806</td>\n",
              "      <td>A</td>\n",
              "      <td>Vuelta</td>\n",
              "      <td>18/03/2019 12:07:10 PM</td>\n",
              "      <td>18/03/2019 12:46:33 PM</td>\n",
              "      <td>TROLE</td>\n",
              "      <td>2019-03-18 12:46:33</td>\n",
              "      <td>12</td>\n",
              "      <td>Monday</td>\n",
              "      <td>3</td>\n",
              "      <td>3</td>\n",
              "      <td>1</td>\n",
              "      <td>0</td>\n",
              "      <td>0</td>\n",
              "      <td>1</td>\n",
              "      <td>44</td>\n",
              "      <td>1</td>\n",
              "      <td>0.727273</td>\n",
              "      <td>0.977273</td>\n",
              "      <td>0.022727</td>\n",
              "    </tr>\n",
              "    <tr>\n",
              "      <th>1</th>\n",
              "      <td>2016806</td>\n",
              "      <td>A</td>\n",
              "      <td>Vuelta</td>\n",
              "      <td>30/01/2019 07:11:42 AM</td>\n",
              "      <td>30/01/2019 07:51:14 AM</td>\n",
              "      <td>TROLE</td>\n",
              "      <td>2019-01-30 07:51:14</td>\n",
              "      <td>7</td>\n",
              "      <td>Wednesday</td>\n",
              "      <td>1</td>\n",
              "      <td>3</td>\n",
              "      <td>1</td>\n",
              "      <td>0</td>\n",
              "      <td>1</td>\n",
              "      <td>1</td>\n",
              "      <td>44</td>\n",
              "      <td>1</td>\n",
              "      <td>0.727273</td>\n",
              "      <td>0.977273</td>\n",
              "      <td>0.022727</td>\n",
              "    </tr>\n",
              "    <tr>\n",
              "      <th>2</th>\n",
              "      <td>2016806</td>\n",
              "      <td>C</td>\n",
              "      <td>Vuelta</td>\n",
              "      <td>28/03/2019 05:58:35 PM</td>\n",
              "      <td>28/03/2019 07:38:14 PM</td>\n",
              "      <td>TROLE</td>\n",
              "      <td>2019-03-28 19:38:14</td>\n",
              "      <td>19</td>\n",
              "      <td>Thursday</td>\n",
              "      <td>3</td>\n",
              "      <td>3</td>\n",
              "      <td>1</td>\n",
              "      <td>0</td>\n",
              "      <td>0</td>\n",
              "      <td>1</td>\n",
              "      <td>44</td>\n",
              "      <td>1</td>\n",
              "      <td>0.727273</td>\n",
              "      <td>0.977273</td>\n",
              "      <td>0.022727</td>\n",
              "    </tr>\n",
              "    <tr>\n",
              "      <th>3</th>\n",
              "      <td>2016806</td>\n",
              "      <td>L30</td>\n",
              "      <td>Ida</td>\n",
              "      <td>22/03/2019 08:42:18 AM</td>\n",
              "      <td>22/03/2019 08:59:17 AM</td>\n",
              "      <td>Cor 3 Rojo</td>\n",
              "      <td>2019-03-22 08:59:17</td>\n",
              "      <td>8</td>\n",
              "      <td>Friday</td>\n",
              "      <td>3</td>\n",
              "      <td>3</td>\n",
              "      <td>1</td>\n",
              "      <td>0</td>\n",
              "      <td>1</td>\n",
              "      <td>1</td>\n",
              "      <td>44</td>\n",
              "      <td>1</td>\n",
              "      <td>0.727273</td>\n",
              "      <td>0.977273</td>\n",
              "      <td>0.022727</td>\n",
              "    </tr>\n",
              "    <tr>\n",
              "      <th>4</th>\n",
              "      <td>2016806</td>\n",
              "      <td>L30</td>\n",
              "      <td>Ida</td>\n",
              "      <td>25/03/2019 05:50:03 AM</td>\n",
              "      <td>25/03/2019 06:19:20 AM</td>\n",
              "      <td>Cor 3 Rojo</td>\n",
              "      <td>2019-03-25 06:19:20</td>\n",
              "      <td>6</td>\n",
              "      <td>Monday</td>\n",
              "      <td>3</td>\n",
              "      <td>3</td>\n",
              "      <td>1</td>\n",
              "      <td>0</td>\n",
              "      <td>0</td>\n",
              "      <td>1</td>\n",
              "      <td>44</td>\n",
              "      <td>1</td>\n",
              "      <td>0.727273</td>\n",
              "      <td>0.977273</td>\n",
              "      <td>0.022727</td>\n",
              "    </tr>\n",
              "  </tbody>\n",
              "</table>\n",
              "</div>\n",
              "      <button class=\"colab-df-convert\" onclick=\"convertToInteractive('df-6e34a1a5-38f5-41bd-b2c8-805e401c6fd5')\"\n",
              "              title=\"Convert this dataframe to an interactive table.\"\n",
              "              style=\"display:none;\">\n",
              "        \n",
              "  <svg xmlns=\"http://www.w3.org/2000/svg\" height=\"24px\"viewBox=\"0 0 24 24\"\n",
              "       width=\"24px\">\n",
              "    <path d=\"M0 0h24v24H0V0z\" fill=\"none\"/>\n",
              "    <path d=\"M18.56 5.44l.94 2.06.94-2.06 2.06-.94-2.06-.94-.94-2.06-.94 2.06-2.06.94zm-11 1L8.5 8.5l.94-2.06 2.06-.94-2.06-.94L8.5 2.5l-.94 2.06-2.06.94zm10 10l.94 2.06.94-2.06 2.06-.94-2.06-.94-.94-2.06-.94 2.06-2.06.94z\"/><path d=\"M17.41 7.96l-1.37-1.37c-.4-.4-.92-.59-1.43-.59-.52 0-1.04.2-1.43.59L10.3 9.45l-7.72 7.72c-.78.78-.78 2.05 0 2.83L4 21.41c.39.39.9.59 1.41.59.51 0 1.02-.2 1.41-.59l7.78-7.78 2.81-2.81c.8-.78.8-2.07 0-2.86zM5.41 20L4 18.59l7.72-7.72 1.47 1.35L5.41 20z\"/>\n",
              "  </svg>\n",
              "      </button>\n",
              "      \n",
              "  <style>\n",
              "    .colab-df-container {\n",
              "      display:flex;\n",
              "      flex-wrap:wrap;\n",
              "      gap: 12px;\n",
              "    }\n",
              "\n",
              "    .colab-df-convert {\n",
              "      background-color: #E8F0FE;\n",
              "      border: none;\n",
              "      border-radius: 50%;\n",
              "      cursor: pointer;\n",
              "      display: none;\n",
              "      fill: #1967D2;\n",
              "      height: 32px;\n",
              "      padding: 0 0 0 0;\n",
              "      width: 32px;\n",
              "    }\n",
              "\n",
              "    .colab-df-convert:hover {\n",
              "      background-color: #E2EBFA;\n",
              "      box-shadow: 0px 1px 2px rgba(60, 64, 67, 0.3), 0px 1px 3px 1px rgba(60, 64, 67, 0.15);\n",
              "      fill: #174EA6;\n",
              "    }\n",
              "\n",
              "    [theme=dark] .colab-df-convert {\n",
              "      background-color: #3B4455;\n",
              "      fill: #D2E3FC;\n",
              "    }\n",
              "\n",
              "    [theme=dark] .colab-df-convert:hover {\n",
              "      background-color: #434B5C;\n",
              "      box-shadow: 0px 1px 3px 1px rgba(0, 0, 0, 0.15);\n",
              "      filter: drop-shadow(0px 1px 2px rgba(0, 0, 0, 0.3));\n",
              "      fill: #FFFFFF;\n",
              "    }\n",
              "  </style>\n",
              "\n",
              "      <script>\n",
              "        const buttonEl =\n",
              "          document.querySelector('#df-6e34a1a5-38f5-41bd-b2c8-805e401c6fd5 button.colab-df-convert');\n",
              "        buttonEl.style.display =\n",
              "          google.colab.kernel.accessAllowed ? 'block' : 'none';\n",
              "\n",
              "        async function convertToInteractive(key) {\n",
              "          const element = document.querySelector('#df-6e34a1a5-38f5-41bd-b2c8-805e401c6fd5');\n",
              "          const dataTable =\n",
              "            await google.colab.kernel.invokeFunction('convertToInteractive',\n",
              "                                                     [key], {});\n",
              "          if (!dataTable) return;\n",
              "\n",
              "          const docLinkHtml = 'Like what you see? Visit the ' +\n",
              "            '<a target=\"_blank\" href=https://colab.research.google.com/notebooks/data_table.ipynb>data table notebook</a>'\n",
              "            + ' to learn more about interactive tables.';\n",
              "          element.innerHTML = '';\n",
              "          dataTable['output_type'] = 'display_data';\n",
              "          await google.colab.output.renderOutput(dataTable, element);\n",
              "          const docLink = document.createElement('div');\n",
              "          docLink.innerHTML = docLinkHtml;\n",
              "          element.appendChild(docLink);\n",
              "        }\n",
              "      </script>\n",
              "    </div>\n",
              "  </div>\n",
              "  "
            ]
          },
          "metadata": {},
          "execution_count": 15
        }
      ]
    },
    {
      "cell_type": "code",
      "source": [
        "##PORCENTAJE DE USO POR CORREDOR##\n",
        "df1 = pd.get_dummies(df1, columns=['CORREDOR'])"
      ],
      "metadata": {
        "id": "2zF1vzPBlhI8"
      },
      "execution_count": 16,
      "outputs": []
    },
    {
      "cell_type": "code",
      "source": [
        "## LOOP PARA QUE AGRUPE LOS VAIAJES POR CORREDOR Y POR TARJETA\n",
        "for column in df1.columns[-10:]:\n",
        "    df1[f'{column}_suma'] = df1.groupby('TARJETA')[f'{column}'].transform('sum')\n"
      ],
      "metadata": {
        "id": "cTIEf9B0lhPO"
      },
      "execution_count": 17,
      "outputs": []
    },
    {
      "cell_type": "code",
      "source": [
        "## AHORA DEBO CALCULAR LOS 8 PORCENTAJES\n",
        "df1['porc_CORREDOR_Cor_1_Naranja']=df1['CORREDOR_Cor 1 Naranja_suma']/ df1.VIAJES\n",
        "df1['porc_CORREDOR_Cor_2_Azul']=df1['CORREDOR_Cor 2 Azul_suma']/ df1.VIAJES\n",
        "df1['porc_CORREDOR_Cor_3_Rojo']=df1['CORREDOR_Cor 3 Rojo_suma']/ df1.VIAJES\n",
        "df1['porc_CORREDOR_Cor_4_Amarillo']=df1['CORREDOR_Cor 4 Amarillo_suma']/ df1.VIAJES\n",
        "df1['porc_CORREDOR_Cor_5_Amarillo']=df1['CORREDOR_Cor 5 Amarillo_suma']/ df1.VIAJES\n",
        "df1['porc_CORREDOR_Cor_6_Naranja']=df1['CORREDOR_Cor 6 Naranja_suma']/ df1.VIAJES\n",
        "df1['porc_CORREDOR_Cor_7_Azul']=df1['CORREDOR_Cor 7 Azul_suma']/ df1.VIAJES\n",
        "df1['porc_CORREDOR_Cor_8_Rojo']=df1['CORREDOR_Cor 8 Rojo_suma']/ df1.VIAJES\n",
        "df1['porc_CORREDOR_Lín_Anu_Amarillo']=df1['CORREDOR_Lín Anu Amarillo_suma']/ df1.VIAJES\n",
        "df1['porc_CORREDOR_TROLE']=df1['CORREDOR_TROLE_suma']/ df1.VIAJES\n"
      ],
      "metadata": {
        "id": "K35d-QqwqPhl"
      },
      "execution_count": 18,
      "outputs": []
    },
    {
      "cell_type": "code",
      "source": [
        "##DEJAMOS SOLO LAS VARIABLES RELEVANTES PARA HACER EL ANALISIS DE CLUSTERS##\n",
        "df2=df1.loc[:, ['TARJETA', 'VIAJES','porc_pico', 'porc_LaV', 'porc_Sab_Dom','porc_CORREDOR_Cor_1_Naranja', 'porc_CORREDOR_Cor_2_Azul','porc_CORREDOR_Cor_3_Rojo', 'porc_CORREDOR_Cor_4_Amarillo', 'porc_CORREDOR_Cor_5_Amarillo', 'porc_CORREDOR_Cor_6_Naranja','porc_CORREDOR_Cor_7_Azul', 'porc_CORREDOR_Cor_8_Rojo','porc_CORREDOR_Lín_Anu_Amarillo', 'porc_CORREDOR_TROLE', 'cant_mes_t1']]"
      ],
      "metadata": {
        "id": "x-bpUz6X2K-j"
      },
      "execution_count": 19,
      "outputs": []
    },
    {
      "cell_type": "code",
      "execution_count": null,
      "metadata": {
        "id": "peesTm-qojCj",
        "colab": {
          "base_uri": "https://localhost:8080/",
          "height": 741
        },
        "outputId": "745f3180-d1d8-4086-8660-eac3179c3292"
      },
      "outputs": [
        {
          "output_type": "execute_result",
          "data": {
            "text/plain": [
              "    TARJETA  VIAJES  porc_pico  porc_LaV  porc_Sab_Dom  \\\n",
              "0   2016806      44   0.727273  0.977273      0.022727   \n",
              "1   2016806      44   0.727273  0.977273      0.022727   \n",
              "2   2016806      44   0.727273  0.977273      0.022727   \n",
              "3   2016806      44   0.727273  0.977273      0.022727   \n",
              "4   2016806      44   0.727273  0.977273      0.022727   \n",
              "5   2016806      44   0.727273  0.977273      0.022727   \n",
              "6   2016806      44   0.727273  0.977273      0.022727   \n",
              "7   2016806      44   0.727273  0.977273      0.022727   \n",
              "8   2016806      44   0.727273  0.977273      0.022727   \n",
              "9   2016806      44   0.727273  0.977273      0.022727   \n",
              "10  2016806      44   0.727273  0.977273      0.022727   \n",
              "11  2016806      44   0.727273  0.977273      0.022727   \n",
              "12  2016806      44   0.727273  0.977273      0.022727   \n",
              "13  2016806      44   0.727273  0.977273      0.022727   \n",
              "14  2016806      44   0.727273  0.977273      0.022727   \n",
              "15  2016806      44   0.727273  0.977273      0.022727   \n",
              "16  2016806      44   0.727273  0.977273      0.022727   \n",
              "17  2016806      44   0.727273  0.977273      0.022727   \n",
              "18  2016806      44   0.727273  0.977273      0.022727   \n",
              "19  2016806      44   0.727273  0.977273      0.022727   \n",
              "\n",
              "    porc_CORREDOR_Cor_1_Naranja  porc_CORREDOR_Cor_2_Azul  \\\n",
              "0                           0.0                       0.0   \n",
              "1                           0.0                       0.0   \n",
              "2                           0.0                       0.0   \n",
              "3                           0.0                       0.0   \n",
              "4                           0.0                       0.0   \n",
              "5                           0.0                       0.0   \n",
              "6                           0.0                       0.0   \n",
              "7                           0.0                       0.0   \n",
              "8                           0.0                       0.0   \n",
              "9                           0.0                       0.0   \n",
              "10                          0.0                       0.0   \n",
              "11                          0.0                       0.0   \n",
              "12                          0.0                       0.0   \n",
              "13                          0.0                       0.0   \n",
              "14                          0.0                       0.0   \n",
              "15                          0.0                       0.0   \n",
              "16                          0.0                       0.0   \n",
              "17                          0.0                       0.0   \n",
              "18                          0.0                       0.0   \n",
              "19                          0.0                       0.0   \n",
              "\n",
              "    porc_CORREDOR_Cor_3_Rojo  porc_CORREDOR_Cor_4_Amarillo  \\\n",
              "0                   0.318182                           0.0   \n",
              "1                   0.318182                           0.0   \n",
              "2                   0.318182                           0.0   \n",
              "3                   0.318182                           0.0   \n",
              "4                   0.318182                           0.0   \n",
              "5                   0.318182                           0.0   \n",
              "6                   0.318182                           0.0   \n",
              "7                   0.318182                           0.0   \n",
              "8                   0.318182                           0.0   \n",
              "9                   0.318182                           0.0   \n",
              "10                  0.318182                           0.0   \n",
              "11                  0.318182                           0.0   \n",
              "12                  0.318182                           0.0   \n",
              "13                  0.318182                           0.0   \n",
              "14                  0.318182                           0.0   \n",
              "15                  0.318182                           0.0   \n",
              "16                  0.318182                           0.0   \n",
              "17                  0.318182                           0.0   \n",
              "18                  0.318182                           0.0   \n",
              "19                  0.318182                           0.0   \n",
              "\n",
              "    porc_CORREDOR_Cor_5_Amarillo  porc_CORREDOR_Cor_6_Naranja  \\\n",
              "0                       0.181818                     0.386364   \n",
              "1                       0.181818                     0.386364   \n",
              "2                       0.181818                     0.386364   \n",
              "3                       0.181818                     0.386364   \n",
              "4                       0.181818                     0.386364   \n",
              "5                       0.181818                     0.386364   \n",
              "6                       0.181818                     0.386364   \n",
              "7                       0.181818                     0.386364   \n",
              "8                       0.181818                     0.386364   \n",
              "9                       0.181818                     0.386364   \n",
              "10                      0.181818                     0.386364   \n",
              "11                      0.181818                     0.386364   \n",
              "12                      0.181818                     0.386364   \n",
              "13                      0.181818                     0.386364   \n",
              "14                      0.181818                     0.386364   \n",
              "15                      0.181818                     0.386364   \n",
              "16                      0.181818                     0.386364   \n",
              "17                      0.181818                     0.386364   \n",
              "18                      0.181818                     0.386364   \n",
              "19                      0.181818                     0.386364   \n",
              "\n",
              "    porc_CORREDOR_Cor_7_Azul  porc_CORREDOR_Cor_8_Rojo  \\\n",
              "0                   0.022727                  0.022727   \n",
              "1                   0.022727                  0.022727   \n",
              "2                   0.022727                  0.022727   \n",
              "3                   0.022727                  0.022727   \n",
              "4                   0.022727                  0.022727   \n",
              "5                   0.022727                  0.022727   \n",
              "6                   0.022727                  0.022727   \n",
              "7                   0.022727                  0.022727   \n",
              "8                   0.022727                  0.022727   \n",
              "9                   0.022727                  0.022727   \n",
              "10                  0.022727                  0.022727   \n",
              "11                  0.022727                  0.022727   \n",
              "12                  0.022727                  0.022727   \n",
              "13                  0.022727                  0.022727   \n",
              "14                  0.022727                  0.022727   \n",
              "15                  0.022727                  0.022727   \n",
              "16                  0.022727                  0.022727   \n",
              "17                  0.022727                  0.022727   \n",
              "18                  0.022727                  0.022727   \n",
              "19                  0.022727                  0.022727   \n",
              "\n",
              "    porc_CORREDOR_Lín_Anu_Amarillo  porc_CORREDOR_TROLE  MES  cant_meses  \n",
              "0                              0.0             0.068182    3           3  \n",
              "1                              0.0             0.068182    1           3  \n",
              "2                              0.0             0.068182    3           3  \n",
              "3                              0.0             0.068182    3           3  \n",
              "4                              0.0             0.068182    3           3  \n",
              "5                              0.0             0.068182    3           3  \n",
              "6                              0.0             0.068182    3           3  \n",
              "7                              0.0             0.068182    2           3  \n",
              "8                              0.0             0.068182    1           3  \n",
              "9                              0.0             0.068182    1           3  \n",
              "10                             0.0             0.068182    1           3  \n",
              "11                             0.0             0.068182    1           3  \n",
              "12                             0.0             0.068182    1           3  \n",
              "13                             0.0             0.068182    2           3  \n",
              "14                             0.0             0.068182    3           3  \n",
              "15                             0.0             0.068182    3           3  \n",
              "16                             0.0             0.068182    1           3  \n",
              "17                             0.0             0.068182    1           3  \n",
              "18                             0.0             0.068182    1           3  \n",
              "19                             0.0             0.068182    1           3  "
            ],
            "text/html": [
              "\n",
              "  <div id=\"df-0e77b7a6-520b-4961-8816-d2a0262ac3de\">\n",
              "    <div class=\"colab-df-container\">\n",
              "      <div>\n",
              "<style scoped>\n",
              "    .dataframe tbody tr th:only-of-type {\n",
              "        vertical-align: middle;\n",
              "    }\n",
              "\n",
              "    .dataframe tbody tr th {\n",
              "        vertical-align: top;\n",
              "    }\n",
              "\n",
              "    .dataframe thead th {\n",
              "        text-align: right;\n",
              "    }\n",
              "</style>\n",
              "<table border=\"1\" class=\"dataframe\">\n",
              "  <thead>\n",
              "    <tr style=\"text-align: right;\">\n",
              "      <th></th>\n",
              "      <th>TARJETA</th>\n",
              "      <th>VIAJES</th>\n",
              "      <th>porc_pico</th>\n",
              "      <th>porc_LaV</th>\n",
              "      <th>porc_Sab_Dom</th>\n",
              "      <th>porc_CORREDOR_Cor_1_Naranja</th>\n",
              "      <th>porc_CORREDOR_Cor_2_Azul</th>\n",
              "      <th>porc_CORREDOR_Cor_3_Rojo</th>\n",
              "      <th>porc_CORREDOR_Cor_4_Amarillo</th>\n",
              "      <th>porc_CORREDOR_Cor_5_Amarillo</th>\n",
              "      <th>porc_CORREDOR_Cor_6_Naranja</th>\n",
              "      <th>porc_CORREDOR_Cor_7_Azul</th>\n",
              "      <th>porc_CORREDOR_Cor_8_Rojo</th>\n",
              "      <th>porc_CORREDOR_Lín_Anu_Amarillo</th>\n",
              "      <th>porc_CORREDOR_TROLE</th>\n",
              "      <th>MES</th>\n",
              "      <th>cant_meses</th>\n",
              "    </tr>\n",
              "  </thead>\n",
              "  <tbody>\n",
              "    <tr>\n",
              "      <th>0</th>\n",
              "      <td>2016806</td>\n",
              "      <td>44</td>\n",
              "      <td>0.727273</td>\n",
              "      <td>0.977273</td>\n",
              "      <td>0.022727</td>\n",
              "      <td>0.0</td>\n",
              "      <td>0.0</td>\n",
              "      <td>0.318182</td>\n",
              "      <td>0.0</td>\n",
              "      <td>0.181818</td>\n",
              "      <td>0.386364</td>\n",
              "      <td>0.022727</td>\n",
              "      <td>0.022727</td>\n",
              "      <td>0.0</td>\n",
              "      <td>0.068182</td>\n",
              "      <td>3</td>\n",
              "      <td>3</td>\n",
              "    </tr>\n",
              "    <tr>\n",
              "      <th>1</th>\n",
              "      <td>2016806</td>\n",
              "      <td>44</td>\n",
              "      <td>0.727273</td>\n",
              "      <td>0.977273</td>\n",
              "      <td>0.022727</td>\n",
              "      <td>0.0</td>\n",
              "      <td>0.0</td>\n",
              "      <td>0.318182</td>\n",
              "      <td>0.0</td>\n",
              "      <td>0.181818</td>\n",
              "      <td>0.386364</td>\n",
              "      <td>0.022727</td>\n",
              "      <td>0.022727</td>\n",
              "      <td>0.0</td>\n",
              "      <td>0.068182</td>\n",
              "      <td>1</td>\n",
              "      <td>3</td>\n",
              "    </tr>\n",
              "    <tr>\n",
              "      <th>2</th>\n",
              "      <td>2016806</td>\n",
              "      <td>44</td>\n",
              "      <td>0.727273</td>\n",
              "      <td>0.977273</td>\n",
              "      <td>0.022727</td>\n",
              "      <td>0.0</td>\n",
              "      <td>0.0</td>\n",
              "      <td>0.318182</td>\n",
              "      <td>0.0</td>\n",
              "      <td>0.181818</td>\n",
              "      <td>0.386364</td>\n",
              "      <td>0.022727</td>\n",
              "      <td>0.022727</td>\n",
              "      <td>0.0</td>\n",
              "      <td>0.068182</td>\n",
              "      <td>3</td>\n",
              "      <td>3</td>\n",
              "    </tr>\n",
              "    <tr>\n",
              "      <th>3</th>\n",
              "      <td>2016806</td>\n",
              "      <td>44</td>\n",
              "      <td>0.727273</td>\n",
              "      <td>0.977273</td>\n",
              "      <td>0.022727</td>\n",
              "      <td>0.0</td>\n",
              "      <td>0.0</td>\n",
              "      <td>0.318182</td>\n",
              "      <td>0.0</td>\n",
              "      <td>0.181818</td>\n",
              "      <td>0.386364</td>\n",
              "      <td>0.022727</td>\n",
              "      <td>0.022727</td>\n",
              "      <td>0.0</td>\n",
              "      <td>0.068182</td>\n",
              "      <td>3</td>\n",
              "      <td>3</td>\n",
              "    </tr>\n",
              "    <tr>\n",
              "      <th>4</th>\n",
              "      <td>2016806</td>\n",
              "      <td>44</td>\n",
              "      <td>0.727273</td>\n",
              "      <td>0.977273</td>\n",
              "      <td>0.022727</td>\n",
              "      <td>0.0</td>\n",
              "      <td>0.0</td>\n",
              "      <td>0.318182</td>\n",
              "      <td>0.0</td>\n",
              "      <td>0.181818</td>\n",
              "      <td>0.386364</td>\n",
              "      <td>0.022727</td>\n",
              "      <td>0.022727</td>\n",
              "      <td>0.0</td>\n",
              "      <td>0.068182</td>\n",
              "      <td>3</td>\n",
              "      <td>3</td>\n",
              "    </tr>\n",
              "    <tr>\n",
              "      <th>5</th>\n",
              "      <td>2016806</td>\n",
              "      <td>44</td>\n",
              "      <td>0.727273</td>\n",
              "      <td>0.977273</td>\n",
              "      <td>0.022727</td>\n",
              "      <td>0.0</td>\n",
              "      <td>0.0</td>\n",
              "      <td>0.318182</td>\n",
              "      <td>0.0</td>\n",
              "      <td>0.181818</td>\n",
              "      <td>0.386364</td>\n",
              "      <td>0.022727</td>\n",
              "      <td>0.022727</td>\n",
              "      <td>0.0</td>\n",
              "      <td>0.068182</td>\n",
              "      <td>3</td>\n",
              "      <td>3</td>\n",
              "    </tr>\n",
              "    <tr>\n",
              "      <th>6</th>\n",
              "      <td>2016806</td>\n",
              "      <td>44</td>\n",
              "      <td>0.727273</td>\n",
              "      <td>0.977273</td>\n",
              "      <td>0.022727</td>\n",
              "      <td>0.0</td>\n",
              "      <td>0.0</td>\n",
              "      <td>0.318182</td>\n",
              "      <td>0.0</td>\n",
              "      <td>0.181818</td>\n",
              "      <td>0.386364</td>\n",
              "      <td>0.022727</td>\n",
              "      <td>0.022727</td>\n",
              "      <td>0.0</td>\n",
              "      <td>0.068182</td>\n",
              "      <td>3</td>\n",
              "      <td>3</td>\n",
              "    </tr>\n",
              "    <tr>\n",
              "      <th>7</th>\n",
              "      <td>2016806</td>\n",
              "      <td>44</td>\n",
              "      <td>0.727273</td>\n",
              "      <td>0.977273</td>\n",
              "      <td>0.022727</td>\n",
              "      <td>0.0</td>\n",
              "      <td>0.0</td>\n",
              "      <td>0.318182</td>\n",
              "      <td>0.0</td>\n",
              "      <td>0.181818</td>\n",
              "      <td>0.386364</td>\n",
              "      <td>0.022727</td>\n",
              "      <td>0.022727</td>\n",
              "      <td>0.0</td>\n",
              "      <td>0.068182</td>\n",
              "      <td>2</td>\n",
              "      <td>3</td>\n",
              "    </tr>\n",
              "    <tr>\n",
              "      <th>8</th>\n",
              "      <td>2016806</td>\n",
              "      <td>44</td>\n",
              "      <td>0.727273</td>\n",
              "      <td>0.977273</td>\n",
              "      <td>0.022727</td>\n",
              "      <td>0.0</td>\n",
              "      <td>0.0</td>\n",
              "      <td>0.318182</td>\n",
              "      <td>0.0</td>\n",
              "      <td>0.181818</td>\n",
              "      <td>0.386364</td>\n",
              "      <td>0.022727</td>\n",
              "      <td>0.022727</td>\n",
              "      <td>0.0</td>\n",
              "      <td>0.068182</td>\n",
              "      <td>1</td>\n",
              "      <td>3</td>\n",
              "    </tr>\n",
              "    <tr>\n",
              "      <th>9</th>\n",
              "      <td>2016806</td>\n",
              "      <td>44</td>\n",
              "      <td>0.727273</td>\n",
              "      <td>0.977273</td>\n",
              "      <td>0.022727</td>\n",
              "      <td>0.0</td>\n",
              "      <td>0.0</td>\n",
              "      <td>0.318182</td>\n",
              "      <td>0.0</td>\n",
              "      <td>0.181818</td>\n",
              "      <td>0.386364</td>\n",
              "      <td>0.022727</td>\n",
              "      <td>0.022727</td>\n",
              "      <td>0.0</td>\n",
              "      <td>0.068182</td>\n",
              "      <td>1</td>\n",
              "      <td>3</td>\n",
              "    </tr>\n",
              "    <tr>\n",
              "      <th>10</th>\n",
              "      <td>2016806</td>\n",
              "      <td>44</td>\n",
              "      <td>0.727273</td>\n",
              "      <td>0.977273</td>\n",
              "      <td>0.022727</td>\n",
              "      <td>0.0</td>\n",
              "      <td>0.0</td>\n",
              "      <td>0.318182</td>\n",
              "      <td>0.0</td>\n",
              "      <td>0.181818</td>\n",
              "      <td>0.386364</td>\n",
              "      <td>0.022727</td>\n",
              "      <td>0.022727</td>\n",
              "      <td>0.0</td>\n",
              "      <td>0.068182</td>\n",
              "      <td>1</td>\n",
              "      <td>3</td>\n",
              "    </tr>\n",
              "    <tr>\n",
              "      <th>11</th>\n",
              "      <td>2016806</td>\n",
              "      <td>44</td>\n",
              "      <td>0.727273</td>\n",
              "      <td>0.977273</td>\n",
              "      <td>0.022727</td>\n",
              "      <td>0.0</td>\n",
              "      <td>0.0</td>\n",
              "      <td>0.318182</td>\n",
              "      <td>0.0</td>\n",
              "      <td>0.181818</td>\n",
              "      <td>0.386364</td>\n",
              "      <td>0.022727</td>\n",
              "      <td>0.022727</td>\n",
              "      <td>0.0</td>\n",
              "      <td>0.068182</td>\n",
              "      <td>1</td>\n",
              "      <td>3</td>\n",
              "    </tr>\n",
              "    <tr>\n",
              "      <th>12</th>\n",
              "      <td>2016806</td>\n",
              "      <td>44</td>\n",
              "      <td>0.727273</td>\n",
              "      <td>0.977273</td>\n",
              "      <td>0.022727</td>\n",
              "      <td>0.0</td>\n",
              "      <td>0.0</td>\n",
              "      <td>0.318182</td>\n",
              "      <td>0.0</td>\n",
              "      <td>0.181818</td>\n",
              "      <td>0.386364</td>\n",
              "      <td>0.022727</td>\n",
              "      <td>0.022727</td>\n",
              "      <td>0.0</td>\n",
              "      <td>0.068182</td>\n",
              "      <td>1</td>\n",
              "      <td>3</td>\n",
              "    </tr>\n",
              "    <tr>\n",
              "      <th>13</th>\n",
              "      <td>2016806</td>\n",
              "      <td>44</td>\n",
              "      <td>0.727273</td>\n",
              "      <td>0.977273</td>\n",
              "      <td>0.022727</td>\n",
              "      <td>0.0</td>\n",
              "      <td>0.0</td>\n",
              "      <td>0.318182</td>\n",
              "      <td>0.0</td>\n",
              "      <td>0.181818</td>\n",
              "      <td>0.386364</td>\n",
              "      <td>0.022727</td>\n",
              "      <td>0.022727</td>\n",
              "      <td>0.0</td>\n",
              "      <td>0.068182</td>\n",
              "      <td>2</td>\n",
              "      <td>3</td>\n",
              "    </tr>\n",
              "    <tr>\n",
              "      <th>14</th>\n",
              "      <td>2016806</td>\n",
              "      <td>44</td>\n",
              "      <td>0.727273</td>\n",
              "      <td>0.977273</td>\n",
              "      <td>0.022727</td>\n",
              "      <td>0.0</td>\n",
              "      <td>0.0</td>\n",
              "      <td>0.318182</td>\n",
              "      <td>0.0</td>\n",
              "      <td>0.181818</td>\n",
              "      <td>0.386364</td>\n",
              "      <td>0.022727</td>\n",
              "      <td>0.022727</td>\n",
              "      <td>0.0</td>\n",
              "      <td>0.068182</td>\n",
              "      <td>3</td>\n",
              "      <td>3</td>\n",
              "    </tr>\n",
              "    <tr>\n",
              "      <th>15</th>\n",
              "      <td>2016806</td>\n",
              "      <td>44</td>\n",
              "      <td>0.727273</td>\n",
              "      <td>0.977273</td>\n",
              "      <td>0.022727</td>\n",
              "      <td>0.0</td>\n",
              "      <td>0.0</td>\n",
              "      <td>0.318182</td>\n",
              "      <td>0.0</td>\n",
              "      <td>0.181818</td>\n",
              "      <td>0.386364</td>\n",
              "      <td>0.022727</td>\n",
              "      <td>0.022727</td>\n",
              "      <td>0.0</td>\n",
              "      <td>0.068182</td>\n",
              "      <td>3</td>\n",
              "      <td>3</td>\n",
              "    </tr>\n",
              "    <tr>\n",
              "      <th>16</th>\n",
              "      <td>2016806</td>\n",
              "      <td>44</td>\n",
              "      <td>0.727273</td>\n",
              "      <td>0.977273</td>\n",
              "      <td>0.022727</td>\n",
              "      <td>0.0</td>\n",
              "      <td>0.0</td>\n",
              "      <td>0.318182</td>\n",
              "      <td>0.0</td>\n",
              "      <td>0.181818</td>\n",
              "      <td>0.386364</td>\n",
              "      <td>0.022727</td>\n",
              "      <td>0.022727</td>\n",
              "      <td>0.0</td>\n",
              "      <td>0.068182</td>\n",
              "      <td>1</td>\n",
              "      <td>3</td>\n",
              "    </tr>\n",
              "    <tr>\n",
              "      <th>17</th>\n",
              "      <td>2016806</td>\n",
              "      <td>44</td>\n",
              "      <td>0.727273</td>\n",
              "      <td>0.977273</td>\n",
              "      <td>0.022727</td>\n",
              "      <td>0.0</td>\n",
              "      <td>0.0</td>\n",
              "      <td>0.318182</td>\n",
              "      <td>0.0</td>\n",
              "      <td>0.181818</td>\n",
              "      <td>0.386364</td>\n",
              "      <td>0.022727</td>\n",
              "      <td>0.022727</td>\n",
              "      <td>0.0</td>\n",
              "      <td>0.068182</td>\n",
              "      <td>1</td>\n",
              "      <td>3</td>\n",
              "    </tr>\n",
              "    <tr>\n",
              "      <th>18</th>\n",
              "      <td>2016806</td>\n",
              "      <td>44</td>\n",
              "      <td>0.727273</td>\n",
              "      <td>0.977273</td>\n",
              "      <td>0.022727</td>\n",
              "      <td>0.0</td>\n",
              "      <td>0.0</td>\n",
              "      <td>0.318182</td>\n",
              "      <td>0.0</td>\n",
              "      <td>0.181818</td>\n",
              "      <td>0.386364</td>\n",
              "      <td>0.022727</td>\n",
              "      <td>0.022727</td>\n",
              "      <td>0.0</td>\n",
              "      <td>0.068182</td>\n",
              "      <td>1</td>\n",
              "      <td>3</td>\n",
              "    </tr>\n",
              "    <tr>\n",
              "      <th>19</th>\n",
              "      <td>2016806</td>\n",
              "      <td>44</td>\n",
              "      <td>0.727273</td>\n",
              "      <td>0.977273</td>\n",
              "      <td>0.022727</td>\n",
              "      <td>0.0</td>\n",
              "      <td>0.0</td>\n",
              "      <td>0.318182</td>\n",
              "      <td>0.0</td>\n",
              "      <td>0.181818</td>\n",
              "      <td>0.386364</td>\n",
              "      <td>0.022727</td>\n",
              "      <td>0.022727</td>\n",
              "      <td>0.0</td>\n",
              "      <td>0.068182</td>\n",
              "      <td>1</td>\n",
              "      <td>3</td>\n",
              "    </tr>\n",
              "  </tbody>\n",
              "</table>\n",
              "</div>\n",
              "      <button class=\"colab-df-convert\" onclick=\"convertToInteractive('df-0e77b7a6-520b-4961-8816-d2a0262ac3de')\"\n",
              "              title=\"Convert this dataframe to an interactive table.\"\n",
              "              style=\"display:none;\">\n",
              "        \n",
              "  <svg xmlns=\"http://www.w3.org/2000/svg\" height=\"24px\"viewBox=\"0 0 24 24\"\n",
              "       width=\"24px\">\n",
              "    <path d=\"M0 0h24v24H0V0z\" fill=\"none\"/>\n",
              "    <path d=\"M18.56 5.44l.94 2.06.94-2.06 2.06-.94-2.06-.94-.94-2.06-.94 2.06-2.06.94zm-11 1L8.5 8.5l.94-2.06 2.06-.94-2.06-.94L8.5 2.5l-.94 2.06-2.06.94zm10 10l.94 2.06.94-2.06 2.06-.94-2.06-.94-.94-2.06-.94 2.06-2.06.94z\"/><path d=\"M17.41 7.96l-1.37-1.37c-.4-.4-.92-.59-1.43-.59-.52 0-1.04.2-1.43.59L10.3 9.45l-7.72 7.72c-.78.78-.78 2.05 0 2.83L4 21.41c.39.39.9.59 1.41.59.51 0 1.02-.2 1.41-.59l7.78-7.78 2.81-2.81c.8-.78.8-2.07 0-2.86zM5.41 20L4 18.59l7.72-7.72 1.47 1.35L5.41 20z\"/>\n",
              "  </svg>\n",
              "      </button>\n",
              "      \n",
              "  <style>\n",
              "    .colab-df-container {\n",
              "      display:flex;\n",
              "      flex-wrap:wrap;\n",
              "      gap: 12px;\n",
              "    }\n",
              "\n",
              "    .colab-df-convert {\n",
              "      background-color: #E8F0FE;\n",
              "      border: none;\n",
              "      border-radius: 50%;\n",
              "      cursor: pointer;\n",
              "      display: none;\n",
              "      fill: #1967D2;\n",
              "      height: 32px;\n",
              "      padding: 0 0 0 0;\n",
              "      width: 32px;\n",
              "    }\n",
              "\n",
              "    .colab-df-convert:hover {\n",
              "      background-color: #E2EBFA;\n",
              "      box-shadow: 0px 1px 2px rgba(60, 64, 67, 0.3), 0px 1px 3px 1px rgba(60, 64, 67, 0.15);\n",
              "      fill: #174EA6;\n",
              "    }\n",
              "\n",
              "    [theme=dark] .colab-df-convert {\n",
              "      background-color: #3B4455;\n",
              "      fill: #D2E3FC;\n",
              "    }\n",
              "\n",
              "    [theme=dark] .colab-df-convert:hover {\n",
              "      background-color: #434B5C;\n",
              "      box-shadow: 0px 1px 3px 1px rgba(0, 0, 0, 0.15);\n",
              "      filter: drop-shadow(0px 1px 2px rgba(0, 0, 0, 0.3));\n",
              "      fill: #FFFFFF;\n",
              "    }\n",
              "  </style>\n",
              "\n",
              "      <script>\n",
              "        const buttonEl =\n",
              "          document.querySelector('#df-0e77b7a6-520b-4961-8816-d2a0262ac3de button.colab-df-convert');\n",
              "        buttonEl.style.display =\n",
              "          google.colab.kernel.accessAllowed ? 'block' : 'none';\n",
              "\n",
              "        async function convertToInteractive(key) {\n",
              "          const element = document.querySelector('#df-0e77b7a6-520b-4961-8816-d2a0262ac3de');\n",
              "          const dataTable =\n",
              "            await google.colab.kernel.invokeFunction('convertToInteractive',\n",
              "                                                     [key], {});\n",
              "          if (!dataTable) return;\n",
              "\n",
              "          const docLinkHtml = 'Like what you see? Visit the ' +\n",
              "            '<a target=\"_blank\" href=https://colab.research.google.com/notebooks/data_table.ipynb>data table notebook</a>'\n",
              "            + ' to learn more about interactive tables.';\n",
              "          element.innerHTML = '';\n",
              "          dataTable['output_type'] = 'display_data';\n",
              "          await google.colab.output.renderOutput(dataTable, element);\n",
              "          const docLink = document.createElement('div');\n",
              "          docLink.innerHTML = docLinkHtml;\n",
              "          element.appendChild(docLink);\n",
              "        }\n",
              "      </script>\n",
              "    </div>\n",
              "  </div>\n",
              "  "
            ]
          },
          "metadata": {},
          "execution_count": 33
        }
      ],
      "source": [
        "df2.head(20)"
      ]
    },
    {
      "cell_type": "code",
      "execution_count": 20,
      "metadata": {
        "id": "9WV3h78Vipyw"
      },
      "outputs": [],
      "source": [
        "df2=df2.drop_duplicates(subset='TARJETA')"
      ]
    },
    {
      "cell_type": "code",
      "source": [
        "##OBTENGO MEDIDA RELATIVA DE INTENSIDAD DE USO##\n",
        "df2.VIAJES.describe()"
      ],
      "metadata": {
        "colab": {
          "base_uri": "https://localhost:8080/"
        },
        "id": "FLnQbLz6xrjN",
        "outputId": "958a88dc-3366-437b-ee84-23f3e6d70824"
      },
      "execution_count": null,
      "outputs": [
        {
          "output_type": "execute_result",
          "data": {
            "text/plain": [
              "count    111412.000000\n",
              "mean         84.972157\n",
              "std          54.317490\n",
              "min           1.000000\n",
              "25%          46.000000\n",
              "50%          78.000000\n",
              "75%         114.000000\n",
              "max         623.000000\n",
              "Name: VIAJES, dtype: float64"
            ]
          },
          "metadata": {},
          "execution_count": 29
        }
      ]
    },
    {
      "cell_type": "code",
      "source": [
        "df2.head()"
      ],
      "metadata": {
        "colab": {
          "base_uri": "https://localhost:8080/",
          "height": 270
        },
        "id": "S3mpBynOyEUU",
        "outputId": "16ceb874-c7ae-4e2b-df15-3deccfcac901"
      },
      "execution_count": null,
      "outputs": [
        {
          "output_type": "execute_result",
          "data": {
            "text/plain": [
              "     TARJETA  VIAJES  porc_pico  porc_LaV  porc_Sab_Dom  \\\n",
              "0    2016806      44   0.727273  0.977273      0.022727   \n",
              "44   2020218     114   0.140351  0.640351      0.359649   \n",
              "158  2020455     118   0.881356  0.983051      0.016949   \n",
              "276  2020507     121   0.404959  0.925620      0.074380   \n",
              "397  2020753      47   0.829787  1.000000      0.000000   \n",
              "\n",
              "     porc_CORREDOR_Cor_1_Naranja  porc_CORREDOR_Cor_2_Azul  \\\n",
              "0                       0.000000                  0.000000   \n",
              "44                      0.043860                  0.000000   \n",
              "158                     0.898305                  0.016949   \n",
              "276                     0.000000                  0.000000   \n",
              "397                     0.510638                  0.000000   \n",
              "\n",
              "     porc_CORREDOR_Cor_3_Rojo  porc_CORREDOR_Cor_4_Amarillo  \\\n",
              "0                    0.318182                       0.00000   \n",
              "44                   0.000000                       0.22807   \n",
              "158                  0.016949                       0.00000   \n",
              "276                  1.000000                       0.00000   \n",
              "397                  0.000000                       0.00000   \n",
              "\n",
              "     porc_CORREDOR_Cor_5_Amarillo  porc_CORREDOR_Cor_6_Naranja  \\\n",
              "0                        0.181818                     0.386364   \n",
              "44                       0.061404                     0.649123   \n",
              "158                      0.025424                     0.008475   \n",
              "276                      0.000000                     0.000000   \n",
              "397                      0.000000                     0.000000   \n",
              "\n",
              "     porc_CORREDOR_Cor_7_Azul  porc_CORREDOR_Cor_8_Rojo  \\\n",
              "0                    0.022727                  0.022727   \n",
              "44                   0.000000                  0.000000   \n",
              "158                  0.000000                  0.033898   \n",
              "276                  0.000000                  0.000000   \n",
              "397                  0.000000                  0.489362   \n",
              "\n",
              "     porc_CORREDOR_Lín_Anu_Amarillo  porc_CORREDOR_TROLE  cant_meses  \n",
              "0                               0.0             0.068182           3  \n",
              "44                              0.0             0.017544           3  \n",
              "158                             0.0             0.000000           3  \n",
              "276                             0.0             0.000000           3  \n",
              "397                             0.0             0.000000           3  "
            ],
            "text/html": [
              "\n",
              "  <div id=\"df-8506090d-55a5-4087-993a-0077ed7331ed\">\n",
              "    <div class=\"colab-df-container\">\n",
              "      <div>\n",
              "<style scoped>\n",
              "    .dataframe tbody tr th:only-of-type {\n",
              "        vertical-align: middle;\n",
              "    }\n",
              "\n",
              "    .dataframe tbody tr th {\n",
              "        vertical-align: top;\n",
              "    }\n",
              "\n",
              "    .dataframe thead th {\n",
              "        text-align: right;\n",
              "    }\n",
              "</style>\n",
              "<table border=\"1\" class=\"dataframe\">\n",
              "  <thead>\n",
              "    <tr style=\"text-align: right;\">\n",
              "      <th></th>\n",
              "      <th>TARJETA</th>\n",
              "      <th>VIAJES</th>\n",
              "      <th>porc_pico</th>\n",
              "      <th>porc_LaV</th>\n",
              "      <th>porc_Sab_Dom</th>\n",
              "      <th>porc_CORREDOR_Cor_1_Naranja</th>\n",
              "      <th>porc_CORREDOR_Cor_2_Azul</th>\n",
              "      <th>porc_CORREDOR_Cor_3_Rojo</th>\n",
              "      <th>porc_CORREDOR_Cor_4_Amarillo</th>\n",
              "      <th>porc_CORREDOR_Cor_5_Amarillo</th>\n",
              "      <th>porc_CORREDOR_Cor_6_Naranja</th>\n",
              "      <th>porc_CORREDOR_Cor_7_Azul</th>\n",
              "      <th>porc_CORREDOR_Cor_8_Rojo</th>\n",
              "      <th>porc_CORREDOR_Lín_Anu_Amarillo</th>\n",
              "      <th>porc_CORREDOR_TROLE</th>\n",
              "      <th>cant_meses</th>\n",
              "    </tr>\n",
              "  </thead>\n",
              "  <tbody>\n",
              "    <tr>\n",
              "      <th>0</th>\n",
              "      <td>2016806</td>\n",
              "      <td>44</td>\n",
              "      <td>0.727273</td>\n",
              "      <td>0.977273</td>\n",
              "      <td>0.022727</td>\n",
              "      <td>0.000000</td>\n",
              "      <td>0.000000</td>\n",
              "      <td>0.318182</td>\n",
              "      <td>0.00000</td>\n",
              "      <td>0.181818</td>\n",
              "      <td>0.386364</td>\n",
              "      <td>0.022727</td>\n",
              "      <td>0.022727</td>\n",
              "      <td>0.0</td>\n",
              "      <td>0.068182</td>\n",
              "      <td>3</td>\n",
              "    </tr>\n",
              "    <tr>\n",
              "      <th>44</th>\n",
              "      <td>2020218</td>\n",
              "      <td>114</td>\n",
              "      <td>0.140351</td>\n",
              "      <td>0.640351</td>\n",
              "      <td>0.359649</td>\n",
              "      <td>0.043860</td>\n",
              "      <td>0.000000</td>\n",
              "      <td>0.000000</td>\n",
              "      <td>0.22807</td>\n",
              "      <td>0.061404</td>\n",
              "      <td>0.649123</td>\n",
              "      <td>0.000000</td>\n",
              "      <td>0.000000</td>\n",
              "      <td>0.0</td>\n",
              "      <td>0.017544</td>\n",
              "      <td>3</td>\n",
              "    </tr>\n",
              "    <tr>\n",
              "      <th>158</th>\n",
              "      <td>2020455</td>\n",
              "      <td>118</td>\n",
              "      <td>0.881356</td>\n",
              "      <td>0.983051</td>\n",
              "      <td>0.016949</td>\n",
              "      <td>0.898305</td>\n",
              "      <td>0.016949</td>\n",
              "      <td>0.016949</td>\n",
              "      <td>0.00000</td>\n",
              "      <td>0.025424</td>\n",
              "      <td>0.008475</td>\n",
              "      <td>0.000000</td>\n",
              "      <td>0.033898</td>\n",
              "      <td>0.0</td>\n",
              "      <td>0.000000</td>\n",
              "      <td>3</td>\n",
              "    </tr>\n",
              "    <tr>\n",
              "      <th>276</th>\n",
              "      <td>2020507</td>\n",
              "      <td>121</td>\n",
              "      <td>0.404959</td>\n",
              "      <td>0.925620</td>\n",
              "      <td>0.074380</td>\n",
              "      <td>0.000000</td>\n",
              "      <td>0.000000</td>\n",
              "      <td>1.000000</td>\n",
              "      <td>0.00000</td>\n",
              "      <td>0.000000</td>\n",
              "      <td>0.000000</td>\n",
              "      <td>0.000000</td>\n",
              "      <td>0.000000</td>\n",
              "      <td>0.0</td>\n",
              "      <td>0.000000</td>\n",
              "      <td>3</td>\n",
              "    </tr>\n",
              "    <tr>\n",
              "      <th>397</th>\n",
              "      <td>2020753</td>\n",
              "      <td>47</td>\n",
              "      <td>0.829787</td>\n",
              "      <td>1.000000</td>\n",
              "      <td>0.000000</td>\n",
              "      <td>0.510638</td>\n",
              "      <td>0.000000</td>\n",
              "      <td>0.000000</td>\n",
              "      <td>0.00000</td>\n",
              "      <td>0.000000</td>\n",
              "      <td>0.000000</td>\n",
              "      <td>0.000000</td>\n",
              "      <td>0.489362</td>\n",
              "      <td>0.0</td>\n",
              "      <td>0.000000</td>\n",
              "      <td>3</td>\n",
              "    </tr>\n",
              "  </tbody>\n",
              "</table>\n",
              "</div>\n",
              "      <button class=\"colab-df-convert\" onclick=\"convertToInteractive('df-8506090d-55a5-4087-993a-0077ed7331ed')\"\n",
              "              title=\"Convert this dataframe to an interactive table.\"\n",
              "              style=\"display:none;\">\n",
              "        \n",
              "  <svg xmlns=\"http://www.w3.org/2000/svg\" height=\"24px\"viewBox=\"0 0 24 24\"\n",
              "       width=\"24px\">\n",
              "    <path d=\"M0 0h24v24H0V0z\" fill=\"none\"/>\n",
              "    <path d=\"M18.56 5.44l.94 2.06.94-2.06 2.06-.94-2.06-.94-.94-2.06-.94 2.06-2.06.94zm-11 1L8.5 8.5l.94-2.06 2.06-.94-2.06-.94L8.5 2.5l-.94 2.06-2.06.94zm10 10l.94 2.06.94-2.06 2.06-.94-2.06-.94-.94-2.06-.94 2.06-2.06.94z\"/><path d=\"M17.41 7.96l-1.37-1.37c-.4-.4-.92-.59-1.43-.59-.52 0-1.04.2-1.43.59L10.3 9.45l-7.72 7.72c-.78.78-.78 2.05 0 2.83L4 21.41c.39.39.9.59 1.41.59.51 0 1.02-.2 1.41-.59l7.78-7.78 2.81-2.81c.8-.78.8-2.07 0-2.86zM5.41 20L4 18.59l7.72-7.72 1.47 1.35L5.41 20z\"/>\n",
              "  </svg>\n",
              "      </button>\n",
              "      \n",
              "  <style>\n",
              "    .colab-df-container {\n",
              "      display:flex;\n",
              "      flex-wrap:wrap;\n",
              "      gap: 12px;\n",
              "    }\n",
              "\n",
              "    .colab-df-convert {\n",
              "      background-color: #E8F0FE;\n",
              "      border: none;\n",
              "      border-radius: 50%;\n",
              "      cursor: pointer;\n",
              "      display: none;\n",
              "      fill: #1967D2;\n",
              "      height: 32px;\n",
              "      padding: 0 0 0 0;\n",
              "      width: 32px;\n",
              "    }\n",
              "\n",
              "    .colab-df-convert:hover {\n",
              "      background-color: #E2EBFA;\n",
              "      box-shadow: 0px 1px 2px rgba(60, 64, 67, 0.3), 0px 1px 3px 1px rgba(60, 64, 67, 0.15);\n",
              "      fill: #174EA6;\n",
              "    }\n",
              "\n",
              "    [theme=dark] .colab-df-convert {\n",
              "      background-color: #3B4455;\n",
              "      fill: #D2E3FC;\n",
              "    }\n",
              "\n",
              "    [theme=dark] .colab-df-convert:hover {\n",
              "      background-color: #434B5C;\n",
              "      box-shadow: 0px 1px 3px 1px rgba(0, 0, 0, 0.15);\n",
              "      filter: drop-shadow(0px 1px 2px rgba(0, 0, 0, 0.3));\n",
              "      fill: #FFFFFF;\n",
              "    }\n",
              "  </style>\n",
              "\n",
              "      <script>\n",
              "        const buttonEl =\n",
              "          document.querySelector('#df-8506090d-55a5-4087-993a-0077ed7331ed button.colab-df-convert');\n",
              "        buttonEl.style.display =\n",
              "          google.colab.kernel.accessAllowed ? 'block' : 'none';\n",
              "\n",
              "        async function convertToInteractive(key) {\n",
              "          const element = document.querySelector('#df-8506090d-55a5-4087-993a-0077ed7331ed');\n",
              "          const dataTable =\n",
              "            await google.colab.kernel.invokeFunction('convertToInteractive',\n",
              "                                                     [key], {});\n",
              "          if (!dataTable) return;\n",
              "\n",
              "          const docLinkHtml = 'Like what you see? Visit the ' +\n",
              "            '<a target=\"_blank\" href=https://colab.research.google.com/notebooks/data_table.ipynb>data table notebook</a>'\n",
              "            + ' to learn more about interactive tables.';\n",
              "          element.innerHTML = '';\n",
              "          dataTable['output_type'] = 'display_data';\n",
              "          await google.colab.output.renderOutput(dataTable, element);\n",
              "          const docLink = document.createElement('div');\n",
              "          docLink.innerHTML = docLinkHtml;\n",
              "          element.appendChild(docLink);\n",
              "        }\n",
              "      </script>\n",
              "    </div>\n",
              "  </div>\n",
              "  "
            ]
          },
          "metadata": {},
          "execution_count": 21
        }
      ]
    },
    {
      "cell_type": "code",
      "execution_count": null,
      "metadata": {
        "id": "xmDKRdRcjL-v"
      },
      "outputs": [],
      "source": []
    },
    {
      "cell_type": "code",
      "execution_count": 21,
      "metadata": {
        "id": "F7TYNlQEknlV",
        "colab": {
          "base_uri": "https://localhost:8080/",
          "height": 17
        },
        "outputId": "6c36d7d0-caf5-4e1f-89f9-3320c2e79e7a"
      },
      "outputs": [
        {
          "output_type": "display_data",
          "data": {
            "text/plain": [
              "<IPython.core.display.Javascript object>"
            ],
            "application/javascript": [
              "\n",
              "    async function download(id, filename, size) {\n",
              "      if (!google.colab.kernel.accessAllowed) {\n",
              "        return;\n",
              "      }\n",
              "      const div = document.createElement('div');\n",
              "      const label = document.createElement('label');\n",
              "      label.textContent = `Downloading \"${filename}\": `;\n",
              "      div.appendChild(label);\n",
              "      const progress = document.createElement('progress');\n",
              "      progress.max = size;\n",
              "      div.appendChild(progress);\n",
              "      document.body.appendChild(div);\n",
              "\n",
              "      const buffers = [];\n",
              "      let downloaded = 0;\n",
              "\n",
              "      const channel = await google.colab.kernel.comms.open(id);\n",
              "      // Send a message to notify the kernel that we're ready.\n",
              "      channel.send({})\n",
              "\n",
              "      for await (const message of channel.messages) {\n",
              "        // Send a message to notify the kernel that we're ready.\n",
              "        channel.send({})\n",
              "        if (message.buffers) {\n",
              "          for (const buffer of message.buffers) {\n",
              "            buffers.push(buffer);\n",
              "            downloaded += buffer.byteLength;\n",
              "            progress.value = downloaded;\n",
              "          }\n",
              "        }\n",
              "      }\n",
              "      const blob = new Blob(buffers, {type: 'application/binary'});\n",
              "      const a = document.createElement('a');\n",
              "      a.href = window.URL.createObjectURL(blob);\n",
              "      a.download = filename;\n",
              "      div.appendChild(a);\n",
              "      a.click();\n",
              "      div.remove();\n",
              "    }\n",
              "  "
            ]
          },
          "metadata": {}
        },
        {
          "output_type": "display_data",
          "data": {
            "text/plain": [
              "<IPython.core.display.Javascript object>"
            ],
            "application/javascript": [
              "download(\"download_0f8cc939-e8bd-4990-aafb-c2510902b9fa\", \"para_a_nosup_1t19.csv\", 17721263)"
            ]
          },
          "metadata": {}
        }
      ],
      "source": [
        "para_a_nosup= df2\n",
        "para_a_nosup.to_csv(\"para_a_nosup_1t19.csv\", index=None)\n",
        "from google.colab import files\n",
        "files.download('para_a_nosup_1t19.csv') \n",
        "\n"
      ]
    },
    {
      "cell_type": "code",
      "execution_count": 1,
      "metadata": {
        "id": "Bj0X5ZjvSTXH",
        "colab": {
          "base_uri": "https://localhost:8080/",
          "height": 224
        },
        "outputId": "03761bab-1478-4ca7-b1ec-d98bfe19c8c9"
      },
      "outputs": [
        {
          "output_type": "stream",
          "name": "stdout",
          "text": [
            "Mounted at /content/drive/\n"
          ]
        },
        {
          "output_type": "execute_result",
          "data": {
            "text/plain": [
              "                    FECHA           FECHAAPERTURA  TARJETA    CORREDOR LINEA  \\\n",
              "0  05/04/2019 12:00:08 AM  04/04/2019 10:02:49 PM  4884082  Cor 8 Rojo   L82   \n",
              "1  05/04/2019 12:00:10 AM  04/04/2019 11:30:03 PM  5871414       TROLE     B   \n",
              "2  05/04/2019 12:00:12 AM  04/04/2019 10:43:21 PM  5813430  Cor 7 Azul   L75   \n",
              "3  05/04/2019 12:00:13 AM  04/04/2019 11:42:13 PM  3262031  Cor 2 Azul   L26   \n",
              "4  05/04/2019 12:00:15 AM  04/04/2019 10:59:19 PM  5791090  Cor 7 Azul   L74   \n",
              "\n",
              "  SENTIDO  \n",
              "0  Vuelta  \n",
              "1  Vuelta  \n",
              "2  Vuelta  \n",
              "3     Ida  \n",
              "4  Vuelta  "
            ],
            "text/html": [
              "\n",
              "  <div id=\"df-b1f534da-d53f-4565-8151-565cb8823a39\">\n",
              "    <div class=\"colab-df-container\">\n",
              "      <div>\n",
              "<style scoped>\n",
              "    .dataframe tbody tr th:only-of-type {\n",
              "        vertical-align: middle;\n",
              "    }\n",
              "\n",
              "    .dataframe tbody tr th {\n",
              "        vertical-align: top;\n",
              "    }\n",
              "\n",
              "    .dataframe thead th {\n",
              "        text-align: right;\n",
              "    }\n",
              "</style>\n",
              "<table border=\"1\" class=\"dataframe\">\n",
              "  <thead>\n",
              "    <tr style=\"text-align: right;\">\n",
              "      <th></th>\n",
              "      <th>FECHA</th>\n",
              "      <th>FECHAAPERTURA</th>\n",
              "      <th>TARJETA</th>\n",
              "      <th>CORREDOR</th>\n",
              "      <th>LINEA</th>\n",
              "      <th>SENTIDO</th>\n",
              "    </tr>\n",
              "  </thead>\n",
              "  <tbody>\n",
              "    <tr>\n",
              "      <th>0</th>\n",
              "      <td>05/04/2019 12:00:08 AM</td>\n",
              "      <td>04/04/2019 10:02:49 PM</td>\n",
              "      <td>4884082</td>\n",
              "      <td>Cor 8 Rojo</td>\n",
              "      <td>L82</td>\n",
              "      <td>Vuelta</td>\n",
              "    </tr>\n",
              "    <tr>\n",
              "      <th>1</th>\n",
              "      <td>05/04/2019 12:00:10 AM</td>\n",
              "      <td>04/04/2019 11:30:03 PM</td>\n",
              "      <td>5871414</td>\n",
              "      <td>TROLE</td>\n",
              "      <td>B</td>\n",
              "      <td>Vuelta</td>\n",
              "    </tr>\n",
              "    <tr>\n",
              "      <th>2</th>\n",
              "      <td>05/04/2019 12:00:12 AM</td>\n",
              "      <td>04/04/2019 10:43:21 PM</td>\n",
              "      <td>5813430</td>\n",
              "      <td>Cor 7 Azul</td>\n",
              "      <td>L75</td>\n",
              "      <td>Vuelta</td>\n",
              "    </tr>\n",
              "    <tr>\n",
              "      <th>3</th>\n",
              "      <td>05/04/2019 12:00:13 AM</td>\n",
              "      <td>04/04/2019 11:42:13 PM</td>\n",
              "      <td>3262031</td>\n",
              "      <td>Cor 2 Azul</td>\n",
              "      <td>L26</td>\n",
              "      <td>Ida</td>\n",
              "    </tr>\n",
              "    <tr>\n",
              "      <th>4</th>\n",
              "      <td>05/04/2019 12:00:15 AM</td>\n",
              "      <td>04/04/2019 10:59:19 PM</td>\n",
              "      <td>5791090</td>\n",
              "      <td>Cor 7 Azul</td>\n",
              "      <td>L74</td>\n",
              "      <td>Vuelta</td>\n",
              "    </tr>\n",
              "  </tbody>\n",
              "</table>\n",
              "</div>\n",
              "      <button class=\"colab-df-convert\" onclick=\"convertToInteractive('df-b1f534da-d53f-4565-8151-565cb8823a39')\"\n",
              "              title=\"Convert this dataframe to an interactive table.\"\n",
              "              style=\"display:none;\">\n",
              "        \n",
              "  <svg xmlns=\"http://www.w3.org/2000/svg\" height=\"24px\"viewBox=\"0 0 24 24\"\n",
              "       width=\"24px\">\n",
              "    <path d=\"M0 0h24v24H0V0z\" fill=\"none\"/>\n",
              "    <path d=\"M18.56 5.44l.94 2.06.94-2.06 2.06-.94-2.06-.94-.94-2.06-.94 2.06-2.06.94zm-11 1L8.5 8.5l.94-2.06 2.06-.94-2.06-.94L8.5 2.5l-.94 2.06-2.06.94zm10 10l.94 2.06.94-2.06 2.06-.94-2.06-.94-.94-2.06-.94 2.06-2.06.94z\"/><path d=\"M17.41 7.96l-1.37-1.37c-.4-.4-.92-.59-1.43-.59-.52 0-1.04.2-1.43.59L10.3 9.45l-7.72 7.72c-.78.78-.78 2.05 0 2.83L4 21.41c.39.39.9.59 1.41.59.51 0 1.02-.2 1.41-.59l7.78-7.78 2.81-2.81c.8-.78.8-2.07 0-2.86zM5.41 20L4 18.59l7.72-7.72 1.47 1.35L5.41 20z\"/>\n",
              "  </svg>\n",
              "      </button>\n",
              "      \n",
              "  <style>\n",
              "    .colab-df-container {\n",
              "      display:flex;\n",
              "      flex-wrap:wrap;\n",
              "      gap: 12px;\n",
              "    }\n",
              "\n",
              "    .colab-df-convert {\n",
              "      background-color: #E8F0FE;\n",
              "      border: none;\n",
              "      border-radius: 50%;\n",
              "      cursor: pointer;\n",
              "      display: none;\n",
              "      fill: #1967D2;\n",
              "      height: 32px;\n",
              "      padding: 0 0 0 0;\n",
              "      width: 32px;\n",
              "    }\n",
              "\n",
              "    .colab-df-convert:hover {\n",
              "      background-color: #E2EBFA;\n",
              "      box-shadow: 0px 1px 2px rgba(60, 64, 67, 0.3), 0px 1px 3px 1px rgba(60, 64, 67, 0.15);\n",
              "      fill: #174EA6;\n",
              "    }\n",
              "\n",
              "    [theme=dark] .colab-df-convert {\n",
              "      background-color: #3B4455;\n",
              "      fill: #D2E3FC;\n",
              "    }\n",
              "\n",
              "    [theme=dark] .colab-df-convert:hover {\n",
              "      background-color: #434B5C;\n",
              "      box-shadow: 0px 1px 3px 1px rgba(0, 0, 0, 0.15);\n",
              "      filter: drop-shadow(0px 1px 2px rgba(0, 0, 0, 0.3));\n",
              "      fill: #FFFFFF;\n",
              "    }\n",
              "  </style>\n",
              "\n",
              "      <script>\n",
              "        const buttonEl =\n",
              "          document.querySelector('#df-b1f534da-d53f-4565-8151-565cb8823a39 button.colab-df-convert');\n",
              "        buttonEl.style.display =\n",
              "          google.colab.kernel.accessAllowed ? 'block' : 'none';\n",
              "\n",
              "        async function convertToInteractive(key) {\n",
              "          const element = document.querySelector('#df-b1f534da-d53f-4565-8151-565cb8823a39');\n",
              "          const dataTable =\n",
              "            await google.colab.kernel.invokeFunction('convertToInteractive',\n",
              "                                                     [key], {});\n",
              "          if (!dataTable) return;\n",
              "\n",
              "          const docLinkHtml = 'Like what you see? Visit the ' +\n",
              "            '<a target=\"_blank\" href=https://colab.research.google.com/notebooks/data_table.ipynb>data table notebook</a>'\n",
              "            + ' to learn more about interactive tables.';\n",
              "          element.innerHTML = '';\n",
              "          dataTable['output_type'] = 'display_data';\n",
              "          await google.colab.output.renderOutput(dataTable, element);\n",
              "          const docLink = document.createElement('div');\n",
              "          docLink.innerHTML = docLinkHtml;\n",
              "          element.appendChild(docLink);\n",
              "        }\n",
              "      </script>\n",
              "    </div>\n",
              "  </div>\n",
              "  "
            ]
          },
          "metadata": {},
          "execution_count": 1
        }
      ],
      "source": [
        "##LO MISMO PARA EL SEGUNDO TRIMESTRE DE 2019#\n",
        "from google.colab import drive\n",
        "drive.mount('/content/drive/', force_remount=True )\n",
        "import pandas as pd\n",
        "#%cd /content/drive/My Drive/bases_mentoria/\n",
        "path= '/content/drive/My Drive/Mentoria/segundo trimestre 2019'\n",
        "import glob\n",
        "filenames = glob.glob(path + \"/*.csv\")\n",
        "\n",
        "dfs = []\n",
        "for filename in filenames:\n",
        "    dfs.append(pd.read_csv(filename, encoding='latin-1', sep=\";\"))\n",
        "\n",
        "# Concatenate all data into one DataFrame\n",
        "big_frame = pd.concat(dfs, ignore_index=True)\n",
        "\n",
        "big_frame.head()\n",
        "\n",
        "\n"
      ]
    },
    {
      "cell_type": "code",
      "source": [
        "import datetime as dt"
      ],
      "metadata": {
        "id": "k-w1vh03PsBl"
      },
      "execution_count": 2,
      "outputs": []
    },
    {
      "cell_type": "code",
      "source": [
        "# VARIABLE FECHA DE STRING A DATETIME##\n",
        "big_frame['Fecha2'] = pd.to_datetime(big_frame['FECHA'], format='%d/%m/%Y %I:%M:%S %p')"
      ],
      "metadata": {
        "id": "YjjjmfztQabn"
      },
      "execution_count": 3,
      "outputs": []
    },
    {
      "cell_type": "code",
      "source": [
        "##OBTENEMOS HORA DEL DÍA##\n",
        "big_frame['hora'] = big_frame['Fecha2'].dt.hour"
      ],
      "metadata": {
        "id": "uX-NhdjnQabo"
      },
      "execution_count": 4,
      "outputs": []
    },
    {
      "cell_type": "code",
      "source": [
        "## OBTENEMOS DIA DE LA SEMANA##\n",
        "big_frame['dia_semana']=big_frame['Fecha2'].dt.day_name()"
      ],
      "metadata": {
        "id": "BbC3OHkKQabp"
      },
      "execution_count": 5,
      "outputs": []
    },
    {
      "cell_type": "code",
      "source": [
        "## OBTENEMOS MES DEL AÑO###\n",
        "big_frame['MES']=big_frame['Fecha2'].dt.month"
      ],
      "metadata": {
        "id": "zhhvNmZ_WKwE"
      },
      "execution_count": 6,
      "outputs": []
    },
    {
      "cell_type": "code",
      "source": [
        "big_frame['cant_mes_t2'] = big_frame.groupby('TARJETA')['MES'].transform('nunique')"
      ],
      "metadata": {
        "id": "RT6TqUVnWKwF"
      },
      "execution_count": 7,
      "outputs": []
    },
    {
      "cell_type": "code",
      "source": [
        "big_frame.head(3)"
      ],
      "metadata": {
        "colab": {
          "base_uri": "https://localhost:8080/",
          "height": 143
        },
        "outputId": "e60ac8bb-fc70-47f0-ff2e-ec8b7d08e1fb",
        "id": "VW4he18VQabp"
      },
      "execution_count": null,
      "outputs": [
        {
          "output_type": "execute_result",
          "data": {
            "text/plain": [
              "                    FECHA           FECHAAPERTURA  TARJETA    CORREDOR LINEA  \\\n",
              "0  05/04/2019 12:00:08 AM  04/04/2019 10:02:49 PM  4884082  Cor 8 Rojo   L82   \n",
              "1  05/04/2019 12:00:10 AM  04/04/2019 11:30:03 PM  5871414       TROLE     B   \n",
              "2  05/04/2019 12:00:12 AM  04/04/2019 10:43:21 PM  5813430  Cor 7 Azul   L75   \n",
              "\n",
              "  SENTIDO              Fecha2  hora dia_semana  \n",
              "0  Vuelta 2019-04-05 00:00:08     0     Friday  \n",
              "1  Vuelta 2019-04-05 00:00:10     0     Friday  \n",
              "2  Vuelta 2019-04-05 00:00:12     0     Friday  "
            ],
            "text/html": [
              "\n",
              "  <div id=\"df-93c589e5-be63-4208-8bd3-084fbc0b5d54\">\n",
              "    <div class=\"colab-df-container\">\n",
              "      <div>\n",
              "<style scoped>\n",
              "    .dataframe tbody tr th:only-of-type {\n",
              "        vertical-align: middle;\n",
              "    }\n",
              "\n",
              "    .dataframe tbody tr th {\n",
              "        vertical-align: top;\n",
              "    }\n",
              "\n",
              "    .dataframe thead th {\n",
              "        text-align: right;\n",
              "    }\n",
              "</style>\n",
              "<table border=\"1\" class=\"dataframe\">\n",
              "  <thead>\n",
              "    <tr style=\"text-align: right;\">\n",
              "      <th></th>\n",
              "      <th>FECHA</th>\n",
              "      <th>FECHAAPERTURA</th>\n",
              "      <th>TARJETA</th>\n",
              "      <th>CORREDOR</th>\n",
              "      <th>LINEA</th>\n",
              "      <th>SENTIDO</th>\n",
              "      <th>Fecha2</th>\n",
              "      <th>hora</th>\n",
              "      <th>dia_semana</th>\n",
              "    </tr>\n",
              "  </thead>\n",
              "  <tbody>\n",
              "    <tr>\n",
              "      <th>0</th>\n",
              "      <td>05/04/2019 12:00:08 AM</td>\n",
              "      <td>04/04/2019 10:02:49 PM</td>\n",
              "      <td>4884082</td>\n",
              "      <td>Cor 8 Rojo</td>\n",
              "      <td>L82</td>\n",
              "      <td>Vuelta</td>\n",
              "      <td>2019-04-05 00:00:08</td>\n",
              "      <td>0</td>\n",
              "      <td>Friday</td>\n",
              "    </tr>\n",
              "    <tr>\n",
              "      <th>1</th>\n",
              "      <td>05/04/2019 12:00:10 AM</td>\n",
              "      <td>04/04/2019 11:30:03 PM</td>\n",
              "      <td>5871414</td>\n",
              "      <td>TROLE</td>\n",
              "      <td>B</td>\n",
              "      <td>Vuelta</td>\n",
              "      <td>2019-04-05 00:00:10</td>\n",
              "      <td>0</td>\n",
              "      <td>Friday</td>\n",
              "    </tr>\n",
              "    <tr>\n",
              "      <th>2</th>\n",
              "      <td>05/04/2019 12:00:12 AM</td>\n",
              "      <td>04/04/2019 10:43:21 PM</td>\n",
              "      <td>5813430</td>\n",
              "      <td>Cor 7 Azul</td>\n",
              "      <td>L75</td>\n",
              "      <td>Vuelta</td>\n",
              "      <td>2019-04-05 00:00:12</td>\n",
              "      <td>0</td>\n",
              "      <td>Friday</td>\n",
              "    </tr>\n",
              "  </tbody>\n",
              "</table>\n",
              "</div>\n",
              "      <button class=\"colab-df-convert\" onclick=\"convertToInteractive('df-93c589e5-be63-4208-8bd3-084fbc0b5d54')\"\n",
              "              title=\"Convert this dataframe to an interactive table.\"\n",
              "              style=\"display:none;\">\n",
              "        \n",
              "  <svg xmlns=\"http://www.w3.org/2000/svg\" height=\"24px\"viewBox=\"0 0 24 24\"\n",
              "       width=\"24px\">\n",
              "    <path d=\"M0 0h24v24H0V0z\" fill=\"none\"/>\n",
              "    <path d=\"M18.56 5.44l.94 2.06.94-2.06 2.06-.94-2.06-.94-.94-2.06-.94 2.06-2.06.94zm-11 1L8.5 8.5l.94-2.06 2.06-.94-2.06-.94L8.5 2.5l-.94 2.06-2.06.94zm10 10l.94 2.06.94-2.06 2.06-.94-2.06-.94-.94-2.06-.94 2.06-2.06.94z\"/><path d=\"M17.41 7.96l-1.37-1.37c-.4-.4-.92-.59-1.43-.59-.52 0-1.04.2-1.43.59L10.3 9.45l-7.72 7.72c-.78.78-.78 2.05 0 2.83L4 21.41c.39.39.9.59 1.41.59.51 0 1.02-.2 1.41-.59l7.78-7.78 2.81-2.81c.8-.78.8-2.07 0-2.86zM5.41 20L4 18.59l7.72-7.72 1.47 1.35L5.41 20z\"/>\n",
              "  </svg>\n",
              "      </button>\n",
              "      \n",
              "  <style>\n",
              "    .colab-df-container {\n",
              "      display:flex;\n",
              "      flex-wrap:wrap;\n",
              "      gap: 12px;\n",
              "    }\n",
              "\n",
              "    .colab-df-convert {\n",
              "      background-color: #E8F0FE;\n",
              "      border: none;\n",
              "      border-radius: 50%;\n",
              "      cursor: pointer;\n",
              "      display: none;\n",
              "      fill: #1967D2;\n",
              "      height: 32px;\n",
              "      padding: 0 0 0 0;\n",
              "      width: 32px;\n",
              "    }\n",
              "\n",
              "    .colab-df-convert:hover {\n",
              "      background-color: #E2EBFA;\n",
              "      box-shadow: 0px 1px 2px rgba(60, 64, 67, 0.3), 0px 1px 3px 1px rgba(60, 64, 67, 0.15);\n",
              "      fill: #174EA6;\n",
              "    }\n",
              "\n",
              "    [theme=dark] .colab-df-convert {\n",
              "      background-color: #3B4455;\n",
              "      fill: #D2E3FC;\n",
              "    }\n",
              "\n",
              "    [theme=dark] .colab-df-convert:hover {\n",
              "      background-color: #434B5C;\n",
              "      box-shadow: 0px 1px 3px 1px rgba(0, 0, 0, 0.15);\n",
              "      filter: drop-shadow(0px 1px 2px rgba(0, 0, 0, 0.3));\n",
              "      fill: #FFFFFF;\n",
              "    }\n",
              "  </style>\n",
              "\n",
              "      <script>\n",
              "        const buttonEl =\n",
              "          document.querySelector('#df-93c589e5-be63-4208-8bd3-084fbc0b5d54 button.colab-df-convert');\n",
              "        buttonEl.style.display =\n",
              "          google.colab.kernel.accessAllowed ? 'block' : 'none';\n",
              "\n",
              "        async function convertToInteractive(key) {\n",
              "          const element = document.querySelector('#df-93c589e5-be63-4208-8bd3-084fbc0b5d54');\n",
              "          const dataTable =\n",
              "            await google.colab.kernel.invokeFunction('convertToInteractive',\n",
              "                                                     [key], {});\n",
              "          if (!dataTable) return;\n",
              "\n",
              "          const docLinkHtml = 'Like what you see? Visit the ' +\n",
              "            '<a target=\"_blank\" href=https://colab.research.google.com/notebooks/data_table.ipynb>data table notebook</a>'\n",
              "            + ' to learn more about interactive tables.';\n",
              "          element.innerHTML = '';\n",
              "          dataTable['output_type'] = 'display_data';\n",
              "          await google.colab.output.renderOutput(dataTable, element);\n",
              "          const docLink = document.createElement('div');\n",
              "          docLink.innerHTML = docLinkHtml;\n",
              "          element.appendChild(docLink);\n",
              "        }\n",
              "      </script>\n",
              "    </div>\n",
              "  </div>\n",
              "  "
            ]
          },
          "metadata": {},
          "execution_count": 6
        }
      ]
    },
    {
      "cell_type": "code",
      "source": [
        "##GENERAMOS UNA VARIABLE QUE INDIQUE: LUNES A VIERNES##\n",
        "mask=((big_frame.dia_semana==\"Monday\") | (big_frame.dia_semana==\"Tuesday\") | (big_frame.dia_semana==\"Wednesday\")  | (big_frame.dia_semana==\"Thursday\")   | (big_frame.dia_semana==\"Friday\") )  \n",
        "big_frame['LaV']=0\n",
        "big_frame.loc[mask, 'LaV']=1\n"
      ],
      "metadata": {
        "id": "IFkYi5UBQabq"
      },
      "execution_count": 8,
      "outputs": []
    },
    {
      "cell_type": "code",
      "source": [],
      "metadata": {
        "id": "CKU3agvUPsNT"
      },
      "execution_count": null,
      "outputs": []
    },
    {
      "cell_type": "code",
      "execution_count": null,
      "metadata": {
        "colab": {
          "base_uri": "https://localhost:8080/"
        },
        "outputId": "0ff7debc-ca63-479c-8af9-cb87e6740092",
        "id": "y4mROiZmRJ1l"
      },
      "outputs": [
        {
          "output_type": "execute_result",
          "data": {
            "text/plain": [
              "1    10867325\n",
              "0     1739876\n",
              "Name: LaV, dtype: int64"
            ]
          },
          "metadata": {},
          "execution_count": 8
        }
      ],
      "source": [
        "big_frame.LaV.value_counts()"
      ]
    },
    {
      "cell_type": "code",
      "execution_count": 9,
      "metadata": {
        "id": "YSnxJmU2RJ2H"
      },
      "outputs": [],
      "source": [
        "## GENERAMOS UNA VARIABLE QUE INDIQUE: SABADOS Y DOMINGOS##\n",
        "mask=((big_frame.dia_semana==\"Saturday\") | (big_frame.dia_semana==\"Sunday\"))\n",
        "big_frame['Sabados_Domingos']=0\n",
        "big_frame.loc[mask, 'Sabados_Domingos']=1"
      ]
    },
    {
      "cell_type": "code",
      "execution_count": null,
      "metadata": {
        "colab": {
          "base_uri": "https://localhost:8080/"
        },
        "outputId": "bddb4d19-be4b-4172-e607-75e01b56623e",
        "id": "8FxJKTLSRJ2I"
      },
      "outputs": [
        {
          "output_type": "execute_result",
          "data": {
            "text/plain": [
              "0    10867325\n",
              "1     1739876\n",
              "Name: Sabados_Domingos, dtype: int64"
            ]
          },
          "metadata": {},
          "execution_count": 10
        }
      ],
      "source": [
        "big_frame.Sabados_Domingos.value_counts()"
      ]
    },
    {
      "cell_type": "code",
      "execution_count": 10,
      "metadata": {
        "id": "5WP_CEG8RJ2J"
      },
      "outputs": [],
      "source": [
        "## GENERAMOS UN INDICADOR DE HORA DE USO##\n",
        "## PICO / NO PICO##\n",
        "## 7 ,8, 17, 18, 13, 14 HORAS DE MAYOR USO##\n",
        "mask=(((big_frame.hora==7)| (big_frame.hora==8) | (big_frame.hora==17) | (big_frame.hora==18) | (big_frame.hora==13) | (big_frame.hora==14)) & (big_frame.LaV==1))\n",
        "big_frame['PICO']=0\n",
        "big_frame.loc[mask, 'PICO']=1"
      ]
    },
    {
      "cell_type": "code",
      "execution_count": null,
      "metadata": {
        "colab": {
          "base_uri": "https://localhost:8080/"
        },
        "outputId": "a0e090fc-1fbb-40be-bf70-12b16d16ae9a",
        "id": "puJ6nF9iRJ2K"
      },
      "outputs": [
        {
          "output_type": "execute_result",
          "data": {
            "text/plain": [
              "0    7617028\n",
              "1    4990173\n",
              "Name: PICO, dtype: int64"
            ]
          },
          "metadata": {},
          "execution_count": 12
        }
      ],
      "source": [
        "big_frame.PICO.value_counts()"
      ]
    },
    {
      "cell_type": "code",
      "execution_count": null,
      "metadata": {
        "colab": {
          "base_uri": "https://localhost:8080/",
          "height": 175
        },
        "outputId": "9e85cf17-7b4b-4511-8915-746c9a4bc6fd",
        "id": "FYBvn-dRRJ2L"
      },
      "outputs": [
        {
          "output_type": "execute_result",
          "data": {
            "text/plain": [
              "                    FECHA           FECHAAPERTURA  TARJETA    CORREDOR LINEA  \\\n",
              "0  05/04/2019 12:00:08 AM  04/04/2019 10:02:49 PM  4884082  Cor 8 Rojo   L82   \n",
              "1  05/04/2019 12:00:10 AM  04/04/2019 11:30:03 PM  5871414       TROLE     B   \n",
              "2  05/04/2019 12:00:12 AM  04/04/2019 10:43:21 PM  5813430  Cor 7 Azul   L75   \n",
              "3  05/04/2019 12:00:13 AM  04/04/2019 11:42:13 PM  3262031  Cor 2 Azul   L26   \n",
              "\n",
              "  SENTIDO              Fecha2  hora dia_semana  LaV  Sabados_Domingos  PICO  \n",
              "0  Vuelta 2019-04-05 00:00:08     0     Friday    1                 0     0  \n",
              "1  Vuelta 2019-04-05 00:00:10     0     Friday    1                 0     0  \n",
              "2  Vuelta 2019-04-05 00:00:12     0     Friday    1                 0     0  \n",
              "3     Ida 2019-04-05 00:00:13     0     Friday    1                 0     0  "
            ],
            "text/html": [
              "\n",
              "  <div id=\"df-ca300d08-6c63-4842-a88c-426117113d55\">\n",
              "    <div class=\"colab-df-container\">\n",
              "      <div>\n",
              "<style scoped>\n",
              "    .dataframe tbody tr th:only-of-type {\n",
              "        vertical-align: middle;\n",
              "    }\n",
              "\n",
              "    .dataframe tbody tr th {\n",
              "        vertical-align: top;\n",
              "    }\n",
              "\n",
              "    .dataframe thead th {\n",
              "        text-align: right;\n",
              "    }\n",
              "</style>\n",
              "<table border=\"1\" class=\"dataframe\">\n",
              "  <thead>\n",
              "    <tr style=\"text-align: right;\">\n",
              "      <th></th>\n",
              "      <th>FECHA</th>\n",
              "      <th>FECHAAPERTURA</th>\n",
              "      <th>TARJETA</th>\n",
              "      <th>CORREDOR</th>\n",
              "      <th>LINEA</th>\n",
              "      <th>SENTIDO</th>\n",
              "      <th>Fecha2</th>\n",
              "      <th>hora</th>\n",
              "      <th>dia_semana</th>\n",
              "      <th>LaV</th>\n",
              "      <th>Sabados_Domingos</th>\n",
              "      <th>PICO</th>\n",
              "    </tr>\n",
              "  </thead>\n",
              "  <tbody>\n",
              "    <tr>\n",
              "      <th>0</th>\n",
              "      <td>05/04/2019 12:00:08 AM</td>\n",
              "      <td>04/04/2019 10:02:49 PM</td>\n",
              "      <td>4884082</td>\n",
              "      <td>Cor 8 Rojo</td>\n",
              "      <td>L82</td>\n",
              "      <td>Vuelta</td>\n",
              "      <td>2019-04-05 00:00:08</td>\n",
              "      <td>0</td>\n",
              "      <td>Friday</td>\n",
              "      <td>1</td>\n",
              "      <td>0</td>\n",
              "      <td>0</td>\n",
              "    </tr>\n",
              "    <tr>\n",
              "      <th>1</th>\n",
              "      <td>05/04/2019 12:00:10 AM</td>\n",
              "      <td>04/04/2019 11:30:03 PM</td>\n",
              "      <td>5871414</td>\n",
              "      <td>TROLE</td>\n",
              "      <td>B</td>\n",
              "      <td>Vuelta</td>\n",
              "      <td>2019-04-05 00:00:10</td>\n",
              "      <td>0</td>\n",
              "      <td>Friday</td>\n",
              "      <td>1</td>\n",
              "      <td>0</td>\n",
              "      <td>0</td>\n",
              "    </tr>\n",
              "    <tr>\n",
              "      <th>2</th>\n",
              "      <td>05/04/2019 12:00:12 AM</td>\n",
              "      <td>04/04/2019 10:43:21 PM</td>\n",
              "      <td>5813430</td>\n",
              "      <td>Cor 7 Azul</td>\n",
              "      <td>L75</td>\n",
              "      <td>Vuelta</td>\n",
              "      <td>2019-04-05 00:00:12</td>\n",
              "      <td>0</td>\n",
              "      <td>Friday</td>\n",
              "      <td>1</td>\n",
              "      <td>0</td>\n",
              "      <td>0</td>\n",
              "    </tr>\n",
              "    <tr>\n",
              "      <th>3</th>\n",
              "      <td>05/04/2019 12:00:13 AM</td>\n",
              "      <td>04/04/2019 11:42:13 PM</td>\n",
              "      <td>3262031</td>\n",
              "      <td>Cor 2 Azul</td>\n",
              "      <td>L26</td>\n",
              "      <td>Ida</td>\n",
              "      <td>2019-04-05 00:00:13</td>\n",
              "      <td>0</td>\n",
              "      <td>Friday</td>\n",
              "      <td>1</td>\n",
              "      <td>0</td>\n",
              "      <td>0</td>\n",
              "    </tr>\n",
              "  </tbody>\n",
              "</table>\n",
              "</div>\n",
              "      <button class=\"colab-df-convert\" onclick=\"convertToInteractive('df-ca300d08-6c63-4842-a88c-426117113d55')\"\n",
              "              title=\"Convert this dataframe to an interactive table.\"\n",
              "              style=\"display:none;\">\n",
              "        \n",
              "  <svg xmlns=\"http://www.w3.org/2000/svg\" height=\"24px\"viewBox=\"0 0 24 24\"\n",
              "       width=\"24px\">\n",
              "    <path d=\"M0 0h24v24H0V0z\" fill=\"none\"/>\n",
              "    <path d=\"M18.56 5.44l.94 2.06.94-2.06 2.06-.94-2.06-.94-.94-2.06-.94 2.06-2.06.94zm-11 1L8.5 8.5l.94-2.06 2.06-.94-2.06-.94L8.5 2.5l-.94 2.06-2.06.94zm10 10l.94 2.06.94-2.06 2.06-.94-2.06-.94-.94-2.06-.94 2.06-2.06.94z\"/><path d=\"M17.41 7.96l-1.37-1.37c-.4-.4-.92-.59-1.43-.59-.52 0-1.04.2-1.43.59L10.3 9.45l-7.72 7.72c-.78.78-.78 2.05 0 2.83L4 21.41c.39.39.9.59 1.41.59.51 0 1.02-.2 1.41-.59l7.78-7.78 2.81-2.81c.8-.78.8-2.07 0-2.86zM5.41 20L4 18.59l7.72-7.72 1.47 1.35L5.41 20z\"/>\n",
              "  </svg>\n",
              "      </button>\n",
              "      \n",
              "  <style>\n",
              "    .colab-df-container {\n",
              "      display:flex;\n",
              "      flex-wrap:wrap;\n",
              "      gap: 12px;\n",
              "    }\n",
              "\n",
              "    .colab-df-convert {\n",
              "      background-color: #E8F0FE;\n",
              "      border: none;\n",
              "      border-radius: 50%;\n",
              "      cursor: pointer;\n",
              "      display: none;\n",
              "      fill: #1967D2;\n",
              "      height: 32px;\n",
              "      padding: 0 0 0 0;\n",
              "      width: 32px;\n",
              "    }\n",
              "\n",
              "    .colab-df-convert:hover {\n",
              "      background-color: #E2EBFA;\n",
              "      box-shadow: 0px 1px 2px rgba(60, 64, 67, 0.3), 0px 1px 3px 1px rgba(60, 64, 67, 0.15);\n",
              "      fill: #174EA6;\n",
              "    }\n",
              "\n",
              "    [theme=dark] .colab-df-convert {\n",
              "      background-color: #3B4455;\n",
              "      fill: #D2E3FC;\n",
              "    }\n",
              "\n",
              "    [theme=dark] .colab-df-convert:hover {\n",
              "      background-color: #434B5C;\n",
              "      box-shadow: 0px 1px 3px 1px rgba(0, 0, 0, 0.15);\n",
              "      filter: drop-shadow(0px 1px 2px rgba(0, 0, 0, 0.3));\n",
              "      fill: #FFFFFF;\n",
              "    }\n",
              "  </style>\n",
              "\n",
              "      <script>\n",
              "        const buttonEl =\n",
              "          document.querySelector('#df-ca300d08-6c63-4842-a88c-426117113d55 button.colab-df-convert');\n",
              "        buttonEl.style.display =\n",
              "          google.colab.kernel.accessAllowed ? 'block' : 'none';\n",
              "\n",
              "        async function convertToInteractive(key) {\n",
              "          const element = document.querySelector('#df-ca300d08-6c63-4842-a88c-426117113d55');\n",
              "          const dataTable =\n",
              "            await google.colab.kernel.invokeFunction('convertToInteractive',\n",
              "                                                     [key], {});\n",
              "          if (!dataTable) return;\n",
              "\n",
              "          const docLinkHtml = 'Like what you see? Visit the ' +\n",
              "            '<a target=\"_blank\" href=https://colab.research.google.com/notebooks/data_table.ipynb>data table notebook</a>'\n",
              "            + ' to learn more about interactive tables.';\n",
              "          element.innerHTML = '';\n",
              "          dataTable['output_type'] = 'display_data';\n",
              "          await google.colab.output.renderOutput(dataTable, element);\n",
              "          const docLink = document.createElement('div');\n",
              "          docLink.innerHTML = docLinkHtml;\n",
              "          element.appendChild(docLink);\n",
              "        }\n",
              "      </script>\n",
              "    </div>\n",
              "  </div>\n",
              "  "
            ]
          },
          "metadata": {},
          "execution_count": 13
        }
      ],
      "source": [
        "big_frame.head(4)"
      ]
    },
    {
      "cell_type": "code",
      "execution_count": null,
      "metadata": {
        "colab": {
          "base_uri": "https://localhost:8080/"
        },
        "outputId": "e011daba-dc94-4d2c-c3b2-64f10d9340de",
        "id": "v8uUWj_3RJ2M"
      },
      "outputs": [
        {
          "output_type": "execute_result",
          "data": {
            "text/plain": [
              "Cor 1 Naranja       2246655\n",
              "Cor 6 Naranja       1945255\n",
              "Cor 2 Azul          1746434\n",
              "Cor 3 Rojo          1467839\n",
              "Cor 7 Azul          1312638\n",
              "Cor 5 Amarillo      1056606\n",
              "Cor 4 Amarillo      1034857\n",
              "Cor 8 Rojo          1008203\n",
              "TROLE                598273\n",
              "Lín Anu Amarillo     190441\n",
              "Name: CORREDOR, dtype: int64"
            ]
          },
          "metadata": {},
          "execution_count": 14
        }
      ],
      "source": [
        "big_frame.CORREDOR.value_counts()"
      ]
    },
    {
      "cell_type": "code",
      "source": [
        "## TOMARIA LAS SIGUIENTES VARIABLES PARA CONTAR POR TARJETA: %LaV %Sabados_Domingos %horaPICO %por CORREDOR\n",
        "## OJO, ELIMINAR TARJETAS PRESTADAS ANTES\n",
        "big_frame.shape\n"
      ],
      "metadata": {
        "colab": {
          "base_uri": "https://localhost:8080/"
        },
        "outputId": "b58d1c1e-24b7-40ca-aa54-07618f6c52e1",
        "id": "MVQg8b5uRJ2N"
      },
      "execution_count": null,
      "outputs": [
        {
          "output_type": "execute_result",
          "data": {
            "text/plain": [
              "(12607201, 12)"
            ]
          },
          "metadata": {},
          "execution_count": 15
        }
      ]
    },
    {
      "cell_type": "code",
      "execution_count": 11,
      "metadata": {
        "id": "hacq5W2JRJ2O"
      },
      "outputs": [],
      "source": [
        "#Se depura la base, nos quedamos solo con el primer uso de la tarjeta en ese mismo viaje.\n",
        "df1 = big_frame.groupby(['TARJETA','LINEA','SENTIDO','FECHAAPERTURA']).first().reset_index()"
      ]
    },
    {
      "cell_type": "code",
      "execution_count": 12,
      "metadata": {
        "id": "pY-kbQ-tRJ2P"
      },
      "outputs": [],
      "source": [
        "##PORCENTAJE DE USO POR HORA PICO NO PICO POR TARJETA##\n",
        "df1['CUENTA']=1\n",
        "df1['VIAJES']=df1.groupby('TARJETA')['CUENTA'].transform('sum')\n",
        "\n"
      ]
    },
    {
      "cell_type": "code",
      "execution_count": 13,
      "metadata": {
        "id": "GjqsleFZRJ2P"
      },
      "outputs": [],
      "source": [
        "df1['AUX']=df1.groupby('TARJETA')['PICO'].transform('sum')\n",
        "df1['porc_pico']=df1.AUX/ df1.VIAJES\n",
        "#df1.head(5)\n",
        "\n"
      ]
    },
    {
      "cell_type": "code",
      "execution_count": 14,
      "metadata": {
        "id": "owKoOS_ERJ2Q"
      },
      "outputs": [],
      "source": [
        "##PORCENTAJE DE USO DE LUNES A VIERNES##\n",
        "df1['AUX']=df1.groupby('TARJETA')['LaV'].transform('sum')\n",
        "df1['porc_LaV']=df1.AUX/ df1.VIAJES\n",
        "#df1.head(5)"
      ]
    },
    {
      "cell_type": "code",
      "source": [
        "##PORCENTAJE DE USO EN SABADOS Y DOMINGOS##\n",
        "df1['AUX']=df1.groupby('TARJETA')['Sabados_Domingos'].transform('sum')\n",
        "df1['porc_Sab_Dom']=df1.AUX/ df1.VIAJES\n",
        "#df1.head(5)"
      ],
      "metadata": {
        "id": "YzE8aKDiRJ2R"
      },
      "execution_count": 15,
      "outputs": []
    },
    {
      "cell_type": "code",
      "source": [
        "##PORCENTAJE DE USO POR CORREDOR##\n",
        "df1 = pd.get_dummies(df1, columns=['CORREDOR'])"
      ],
      "metadata": {
        "id": "z46GQ_3GRJ2S"
      },
      "execution_count": 16,
      "outputs": []
    },
    {
      "cell_type": "code",
      "source": [
        "## LOOP PARA QUE AGRUPE LOS VAIAJES POR CORREDOR Y POR TARJETA\n",
        "for column in df1.columns[-10:]:\n",
        "    df1[f'{column}_suma'] = df1.groupby('TARJETA')[f'{column}'].transform('sum')\n"
      ],
      "metadata": {
        "id": "pSKHh2TORJ2T"
      },
      "execution_count": 17,
      "outputs": []
    },
    {
      "cell_type": "code",
      "source": [
        "## AHORA DEBO CALCULAR LOS 8 PORCENTAJES\n",
        "df1['porc_CORREDOR_Cor_1_Naranja']=df1['CORREDOR_Cor 1 Naranja_suma']/ df1.VIAJES\n",
        "df1['porc_CORREDOR_Cor_2_Azul']=df1['CORREDOR_Cor 2 Azul_suma']/ df1.VIAJES\n",
        "df1['porc_CORREDOR_Cor_3_Rojo']=df1['CORREDOR_Cor 3 Rojo_suma']/ df1.VIAJES\n",
        "df1['porc_CORREDOR_Cor_4_Amarillo']=df1['CORREDOR_Cor 4 Amarillo_suma']/ df1.VIAJES\n",
        "df1['porc_CORREDOR_Cor_5_Amarillo']=df1['CORREDOR_Cor 5 Amarillo_suma']/ df1.VIAJES\n",
        "df1['porc_CORREDOR_Cor_6_Naranja']=df1['CORREDOR_Cor 6 Naranja_suma']/ df1.VIAJES\n",
        "df1['porc_CORREDOR_Cor_7_Azul']=df1['CORREDOR_Cor 7 Azul_suma']/ df1.VIAJES\n",
        "df1['porc_CORREDOR_Cor_8_Rojo']=df1['CORREDOR_Cor 8 Rojo_suma']/ df1.VIAJES\n",
        "df1['porc_CORREDOR_Lín_Anu_Amarillo']=df1['CORREDOR_Lín Anu Amarillo_suma']/ df1.VIAJES\n",
        "df1['porc_CORREDOR_TROLE']=df1['CORREDOR_TROLE_suma']/ df1.VIAJES\n"
      ],
      "metadata": {
        "id": "SRXHFmPyRJ2T"
      },
      "execution_count": 18,
      "outputs": []
    },
    {
      "cell_type": "code",
      "source": [
        "##DEJAMOS SOLO LAS VARIABLES RELEVANTES PARA HACER EL ANALISIS DE CLUSTERS##\n",
        "df2=df1.loc[:, ['TARJETA', 'VIAJES','porc_pico', 'porc_LaV', 'porc_Sab_Dom','porc_CORREDOR_Cor_1_Naranja', 'porc_CORREDOR_Cor_2_Azul','porc_CORREDOR_Cor_3_Rojo', 'porc_CORREDOR_Cor_4_Amarillo', 'porc_CORREDOR_Cor_5_Amarillo', 'porc_CORREDOR_Cor_6_Naranja','porc_CORREDOR_Cor_7_Azul', 'porc_CORREDOR_Cor_8_Rojo','porc_CORREDOR_Lín_Anu_Amarillo', 'porc_CORREDOR_TROLE', 'cant_mes_t2']]"
      ],
      "metadata": {
        "id": "cFBLz1LfRJ2U"
      },
      "execution_count": 19,
      "outputs": []
    },
    {
      "cell_type": "code",
      "execution_count": 20,
      "metadata": {
        "id": "3TdLnzg_RJ2V"
      },
      "outputs": [],
      "source": [
        "del df1"
      ]
    },
    {
      "cell_type": "code",
      "execution_count": 21,
      "metadata": {
        "id": "l5OzHlQLRJ2W"
      },
      "outputs": [],
      "source": [
        "df2=df2.drop_duplicates(subset='TARJETA')"
      ]
    },
    {
      "cell_type": "code",
      "source": [
        "##OBTENGO MEDIDA RELATIVA DE INTENSIDAD DE USO##\n",
        "#df2.VIAJES.describe()"
      ],
      "metadata": {
        "id": "F1lxWEhDRJ2X"
      },
      "execution_count": null,
      "outputs": []
    },
    {
      "cell_type": "code",
      "source": [
        "para_a_nosup= df2\n",
        "para_a_nosup.to_csv(\"para_a_nosup_2t19.csv\", index=None)\n",
        "from google.colab import files\n",
        "files.download('para_a_nosup_2t19.csv') "
      ],
      "metadata": {
        "colab": {
          "base_uri": "https://localhost:8080/",
          "height": 17
        },
        "id": "ChbN2mKbPsgP",
        "outputId": "d83736d8-7298-478f-d6b5-587ea894ddd1"
      },
      "execution_count": 22,
      "outputs": [
        {
          "output_type": "display_data",
          "data": {
            "text/plain": [
              "<IPython.core.display.Javascript object>"
            ],
            "application/javascript": [
              "\n",
              "    async function download(id, filename, size) {\n",
              "      if (!google.colab.kernel.accessAllowed) {\n",
              "        return;\n",
              "      }\n",
              "      const div = document.createElement('div');\n",
              "      const label = document.createElement('label');\n",
              "      label.textContent = `Downloading \"${filename}\": `;\n",
              "      div.appendChild(label);\n",
              "      const progress = document.createElement('progress');\n",
              "      progress.max = size;\n",
              "      div.appendChild(progress);\n",
              "      document.body.appendChild(div);\n",
              "\n",
              "      const buffers = [];\n",
              "      let downloaded = 0;\n",
              "\n",
              "      const channel = await google.colab.kernel.comms.open(id);\n",
              "      // Send a message to notify the kernel that we're ready.\n",
              "      channel.send({})\n",
              "\n",
              "      for await (const message of channel.messages) {\n",
              "        // Send a message to notify the kernel that we're ready.\n",
              "        channel.send({})\n",
              "        if (message.buffers) {\n",
              "          for (const buffer of message.buffers) {\n",
              "            buffers.push(buffer);\n",
              "            downloaded += buffer.byteLength;\n",
              "            progress.value = downloaded;\n",
              "          }\n",
              "        }\n",
              "      }\n",
              "      const blob = new Blob(buffers, {type: 'application/binary'});\n",
              "      const a = document.createElement('a');\n",
              "      a.href = window.URL.createObjectURL(blob);\n",
              "      a.download = filename;\n",
              "      div.appendChild(a);\n",
              "      a.click();\n",
              "      div.remove();\n",
              "    }\n",
              "  "
            ]
          },
          "metadata": {}
        },
        {
          "output_type": "display_data",
          "data": {
            "text/plain": [
              "<IPython.core.display.Javascript object>"
            ],
            "application/javascript": [
              "download(\"download_ea773521-7453-488b-94cb-8448b4f5e87c\", \"para_a_nosup_2t19.csv\", 19413536)"
            ]
          },
          "metadata": {}
        }
      ]
    },
    {
      "cell_type": "code",
      "source": [
        "##LO MISMO PARA EL TERCER TRIMESTRE DE 2019#\n",
        "from google.colab import drive\n",
        "drive.mount('/content/drive/', force_remount=True )\n",
        "import pandas as pd\n",
        "#%cd /content/drive/My Drive/bases_mentoria/\n",
        "path= '/content/drive/My Drive/Mentoria/tercer trimestre 2019'\n",
        "import glob\n",
        "filenames = glob.glob(path + \"/*.csv\")\n",
        "\n",
        "dfs = []\n",
        "for filename in filenames:\n",
        "    dfs.append(pd.read_csv(filename, encoding='latin-1', sep=\";\"))\n",
        "\n",
        "# Concatenate all data into one DataFrame\n",
        "big_frame = pd.concat(dfs, ignore_index=True)\n",
        "\n",
        "big_frame.head()"
      ],
      "metadata": {
        "colab": {
          "base_uri": "https://localhost:8080/",
          "height": 224
        },
        "id": "VhdyXRU4Pskn",
        "outputId": "a958dd62-7aa6-4573-d557-48b441b33130"
      },
      "execution_count": 1,
      "outputs": [
        {
          "output_type": "stream",
          "name": "stdout",
          "text": [
            "Mounted at /content/drive/\n"
          ]
        },
        {
          "output_type": "execute_result",
          "data": {
            "text/plain": [
              "                    FECHA           FECHAAPERTURA  TARJETA        CORREDOR  \\\n",
              "0  06/07/2019 12:00:07 AM  05/07/2019 11:28:07 PM  5099043   Cor 1 Naranja   \n",
              "1  06/07/2019 12:00:29 AM  05/07/2019 11:32:24 PM  5515754   Cor 6 Naranja   \n",
              "2  06/07/2019 12:00:29 AM  05/07/2019 11:05:36 PM  4971142  Cor 5 Amarillo   \n",
              "3  06/07/2019 12:00:30 AM  05/07/2019 11:05:36 PM  4971142  Cor 5 Amarillo   \n",
              "4  06/07/2019 12:00:33 AM  05/07/2019 11:05:36 PM  4971142  Cor 5 Amarillo   \n",
              "\n",
              "  LINEA SENTIDO  \n",
              "0   L12     Ida  \n",
              "1   L67     Ida  \n",
              "2   L50  Vuelta  \n",
              "3   L50  Vuelta  \n",
              "4   L50  Vuelta  "
            ],
            "text/html": [
              "\n",
              "  <div id=\"df-869657f3-c51c-4763-bbf0-0e5fcef77761\">\n",
              "    <div class=\"colab-df-container\">\n",
              "      <div>\n",
              "<style scoped>\n",
              "    .dataframe tbody tr th:only-of-type {\n",
              "        vertical-align: middle;\n",
              "    }\n",
              "\n",
              "    .dataframe tbody tr th {\n",
              "        vertical-align: top;\n",
              "    }\n",
              "\n",
              "    .dataframe thead th {\n",
              "        text-align: right;\n",
              "    }\n",
              "</style>\n",
              "<table border=\"1\" class=\"dataframe\">\n",
              "  <thead>\n",
              "    <tr style=\"text-align: right;\">\n",
              "      <th></th>\n",
              "      <th>FECHA</th>\n",
              "      <th>FECHAAPERTURA</th>\n",
              "      <th>TARJETA</th>\n",
              "      <th>CORREDOR</th>\n",
              "      <th>LINEA</th>\n",
              "      <th>SENTIDO</th>\n",
              "    </tr>\n",
              "  </thead>\n",
              "  <tbody>\n",
              "    <tr>\n",
              "      <th>0</th>\n",
              "      <td>06/07/2019 12:00:07 AM</td>\n",
              "      <td>05/07/2019 11:28:07 PM</td>\n",
              "      <td>5099043</td>\n",
              "      <td>Cor 1 Naranja</td>\n",
              "      <td>L12</td>\n",
              "      <td>Ida</td>\n",
              "    </tr>\n",
              "    <tr>\n",
              "      <th>1</th>\n",
              "      <td>06/07/2019 12:00:29 AM</td>\n",
              "      <td>05/07/2019 11:32:24 PM</td>\n",
              "      <td>5515754</td>\n",
              "      <td>Cor 6 Naranja</td>\n",
              "      <td>L67</td>\n",
              "      <td>Ida</td>\n",
              "    </tr>\n",
              "    <tr>\n",
              "      <th>2</th>\n",
              "      <td>06/07/2019 12:00:29 AM</td>\n",
              "      <td>05/07/2019 11:05:36 PM</td>\n",
              "      <td>4971142</td>\n",
              "      <td>Cor 5 Amarillo</td>\n",
              "      <td>L50</td>\n",
              "      <td>Vuelta</td>\n",
              "    </tr>\n",
              "    <tr>\n",
              "      <th>3</th>\n",
              "      <td>06/07/2019 12:00:30 AM</td>\n",
              "      <td>05/07/2019 11:05:36 PM</td>\n",
              "      <td>4971142</td>\n",
              "      <td>Cor 5 Amarillo</td>\n",
              "      <td>L50</td>\n",
              "      <td>Vuelta</td>\n",
              "    </tr>\n",
              "    <tr>\n",
              "      <th>4</th>\n",
              "      <td>06/07/2019 12:00:33 AM</td>\n",
              "      <td>05/07/2019 11:05:36 PM</td>\n",
              "      <td>4971142</td>\n",
              "      <td>Cor 5 Amarillo</td>\n",
              "      <td>L50</td>\n",
              "      <td>Vuelta</td>\n",
              "    </tr>\n",
              "  </tbody>\n",
              "</table>\n",
              "</div>\n",
              "      <button class=\"colab-df-convert\" onclick=\"convertToInteractive('df-869657f3-c51c-4763-bbf0-0e5fcef77761')\"\n",
              "              title=\"Convert this dataframe to an interactive table.\"\n",
              "              style=\"display:none;\">\n",
              "        \n",
              "  <svg xmlns=\"http://www.w3.org/2000/svg\" height=\"24px\"viewBox=\"0 0 24 24\"\n",
              "       width=\"24px\">\n",
              "    <path d=\"M0 0h24v24H0V0z\" fill=\"none\"/>\n",
              "    <path d=\"M18.56 5.44l.94 2.06.94-2.06 2.06-.94-2.06-.94-.94-2.06-.94 2.06-2.06.94zm-11 1L8.5 8.5l.94-2.06 2.06-.94-2.06-.94L8.5 2.5l-.94 2.06-2.06.94zm10 10l.94 2.06.94-2.06 2.06-.94-2.06-.94-.94-2.06-.94 2.06-2.06.94z\"/><path d=\"M17.41 7.96l-1.37-1.37c-.4-.4-.92-.59-1.43-.59-.52 0-1.04.2-1.43.59L10.3 9.45l-7.72 7.72c-.78.78-.78 2.05 0 2.83L4 21.41c.39.39.9.59 1.41.59.51 0 1.02-.2 1.41-.59l7.78-7.78 2.81-2.81c.8-.78.8-2.07 0-2.86zM5.41 20L4 18.59l7.72-7.72 1.47 1.35L5.41 20z\"/>\n",
              "  </svg>\n",
              "      </button>\n",
              "      \n",
              "  <style>\n",
              "    .colab-df-container {\n",
              "      display:flex;\n",
              "      flex-wrap:wrap;\n",
              "      gap: 12px;\n",
              "    }\n",
              "\n",
              "    .colab-df-convert {\n",
              "      background-color: #E8F0FE;\n",
              "      border: none;\n",
              "      border-radius: 50%;\n",
              "      cursor: pointer;\n",
              "      display: none;\n",
              "      fill: #1967D2;\n",
              "      height: 32px;\n",
              "      padding: 0 0 0 0;\n",
              "      width: 32px;\n",
              "    }\n",
              "\n",
              "    .colab-df-convert:hover {\n",
              "      background-color: #E2EBFA;\n",
              "      box-shadow: 0px 1px 2px rgba(60, 64, 67, 0.3), 0px 1px 3px 1px rgba(60, 64, 67, 0.15);\n",
              "      fill: #174EA6;\n",
              "    }\n",
              "\n",
              "    [theme=dark] .colab-df-convert {\n",
              "      background-color: #3B4455;\n",
              "      fill: #D2E3FC;\n",
              "    }\n",
              "\n",
              "    [theme=dark] .colab-df-convert:hover {\n",
              "      background-color: #434B5C;\n",
              "      box-shadow: 0px 1px 3px 1px rgba(0, 0, 0, 0.15);\n",
              "      filter: drop-shadow(0px 1px 2px rgba(0, 0, 0, 0.3));\n",
              "      fill: #FFFFFF;\n",
              "    }\n",
              "  </style>\n",
              "\n",
              "      <script>\n",
              "        const buttonEl =\n",
              "          document.querySelector('#df-869657f3-c51c-4763-bbf0-0e5fcef77761 button.colab-df-convert');\n",
              "        buttonEl.style.display =\n",
              "          google.colab.kernel.accessAllowed ? 'block' : 'none';\n",
              "\n",
              "        async function convertToInteractive(key) {\n",
              "          const element = document.querySelector('#df-869657f3-c51c-4763-bbf0-0e5fcef77761');\n",
              "          const dataTable =\n",
              "            await google.colab.kernel.invokeFunction('convertToInteractive',\n",
              "                                                     [key], {});\n",
              "          if (!dataTable) return;\n",
              "\n",
              "          const docLinkHtml = 'Like what you see? Visit the ' +\n",
              "            '<a target=\"_blank\" href=https://colab.research.google.com/notebooks/data_table.ipynb>data table notebook</a>'\n",
              "            + ' to learn more about interactive tables.';\n",
              "          element.innerHTML = '';\n",
              "          dataTable['output_type'] = 'display_data';\n",
              "          await google.colab.output.renderOutput(dataTable, element);\n",
              "          const docLink = document.createElement('div');\n",
              "          docLink.innerHTML = docLinkHtml;\n",
              "          element.appendChild(docLink);\n",
              "        }\n",
              "      </script>\n",
              "    </div>\n",
              "  </div>\n",
              "  "
            ]
          },
          "metadata": {},
          "execution_count": 1
        }
      ]
    },
    {
      "cell_type": "code",
      "source": [],
      "metadata": {
        "id": "1Yav3IKaPsoZ"
      },
      "execution_count": null,
      "outputs": []
    },
    {
      "cell_type": "code",
      "source": [
        "import datetime as dt"
      ],
      "metadata": {
        "id": "x7awULMYSCY5"
      },
      "execution_count": 2,
      "outputs": []
    },
    {
      "cell_type": "code",
      "source": [
        "# VARIABLE FECHA DE STRING A DATETIME##\n",
        "big_frame['Fecha2'] = pd.to_datetime(big_frame['FECHA'], format='%d/%m/%Y %I:%M:%S %p')"
      ],
      "metadata": {
        "id": "Bw7O2Vf4SCZJ"
      },
      "execution_count": 3,
      "outputs": []
    },
    {
      "cell_type": "code",
      "source": [
        "##OBTENEMOS HORA DEL DÍA##\n",
        "big_frame['hora'] = big_frame['Fecha2'].dt.hour"
      ],
      "metadata": {
        "id": "wgu31pbJSCZK"
      },
      "execution_count": 4,
      "outputs": []
    },
    {
      "cell_type": "code",
      "source": [
        "## OBTENEMOS DIA DE LA SEMANA##\n",
        "big_frame['dia_semana']=big_frame['Fecha2'].dt.day_name()"
      ],
      "metadata": {
        "id": "YxW1d-zISCZK"
      },
      "execution_count": 5,
      "outputs": []
    },
    {
      "cell_type": "code",
      "source": [
        "## OBTENEMOS MES DEL AÑO###\n",
        "big_frame['MES']=big_frame['Fecha2'].dt.month"
      ],
      "metadata": {
        "id": "4YtdCR2sWRIF"
      },
      "execution_count": 6,
      "outputs": []
    },
    {
      "cell_type": "code",
      "source": [
        "big_frame['cant_mes_t3'] = big_frame.groupby('TARJETA')['MES'].transform('nunique')"
      ],
      "metadata": {
        "id": "DugLSatPWRIG"
      },
      "execution_count": 7,
      "outputs": []
    },
    {
      "cell_type": "code",
      "source": [
        "big_frame.head(3)"
      ],
      "metadata": {
        "id": "paL9lXr5SCZL",
        "colab": {
          "base_uri": "https://localhost:8080/",
          "height": 143
        },
        "outputId": "a11bdaa0-6074-444b-857b-ae702ebf2099"
      },
      "execution_count": 8,
      "outputs": [
        {
          "output_type": "execute_result",
          "data": {
            "text/plain": [
              "                    FECHA           FECHAAPERTURA  TARJETA        CORREDOR  \\\n",
              "0  06/07/2019 12:00:07 AM  05/07/2019 11:28:07 PM  5099043   Cor 1 Naranja   \n",
              "1  06/07/2019 12:00:29 AM  05/07/2019 11:32:24 PM  5515754   Cor 6 Naranja   \n",
              "2  06/07/2019 12:00:29 AM  05/07/2019 11:05:36 PM  4971142  Cor 5 Amarillo   \n",
              "\n",
              "  LINEA SENTIDO              Fecha2  hora dia_semana  MES  cant_mes_t3  \n",
              "0   L12     Ida 2019-07-06 00:00:07     0   Saturday    7            3  \n",
              "1   L67     Ida 2019-07-06 00:00:29     0   Saturday    7            3  \n",
              "2   L50  Vuelta 2019-07-06 00:00:29     0   Saturday    7            3  "
            ],
            "text/html": [
              "\n",
              "  <div id=\"df-f1030133-73ee-453c-843e-bb5c759cc33c\">\n",
              "    <div class=\"colab-df-container\">\n",
              "      <div>\n",
              "<style scoped>\n",
              "    .dataframe tbody tr th:only-of-type {\n",
              "        vertical-align: middle;\n",
              "    }\n",
              "\n",
              "    .dataframe tbody tr th {\n",
              "        vertical-align: top;\n",
              "    }\n",
              "\n",
              "    .dataframe thead th {\n",
              "        text-align: right;\n",
              "    }\n",
              "</style>\n",
              "<table border=\"1\" class=\"dataframe\">\n",
              "  <thead>\n",
              "    <tr style=\"text-align: right;\">\n",
              "      <th></th>\n",
              "      <th>FECHA</th>\n",
              "      <th>FECHAAPERTURA</th>\n",
              "      <th>TARJETA</th>\n",
              "      <th>CORREDOR</th>\n",
              "      <th>LINEA</th>\n",
              "      <th>SENTIDO</th>\n",
              "      <th>Fecha2</th>\n",
              "      <th>hora</th>\n",
              "      <th>dia_semana</th>\n",
              "      <th>MES</th>\n",
              "      <th>cant_mes_t3</th>\n",
              "    </tr>\n",
              "  </thead>\n",
              "  <tbody>\n",
              "    <tr>\n",
              "      <th>0</th>\n",
              "      <td>06/07/2019 12:00:07 AM</td>\n",
              "      <td>05/07/2019 11:28:07 PM</td>\n",
              "      <td>5099043</td>\n",
              "      <td>Cor 1 Naranja</td>\n",
              "      <td>L12</td>\n",
              "      <td>Ida</td>\n",
              "      <td>2019-07-06 00:00:07</td>\n",
              "      <td>0</td>\n",
              "      <td>Saturday</td>\n",
              "      <td>7</td>\n",
              "      <td>3</td>\n",
              "    </tr>\n",
              "    <tr>\n",
              "      <th>1</th>\n",
              "      <td>06/07/2019 12:00:29 AM</td>\n",
              "      <td>05/07/2019 11:32:24 PM</td>\n",
              "      <td>5515754</td>\n",
              "      <td>Cor 6 Naranja</td>\n",
              "      <td>L67</td>\n",
              "      <td>Ida</td>\n",
              "      <td>2019-07-06 00:00:29</td>\n",
              "      <td>0</td>\n",
              "      <td>Saturday</td>\n",
              "      <td>7</td>\n",
              "      <td>3</td>\n",
              "    </tr>\n",
              "    <tr>\n",
              "      <th>2</th>\n",
              "      <td>06/07/2019 12:00:29 AM</td>\n",
              "      <td>05/07/2019 11:05:36 PM</td>\n",
              "      <td>4971142</td>\n",
              "      <td>Cor 5 Amarillo</td>\n",
              "      <td>L50</td>\n",
              "      <td>Vuelta</td>\n",
              "      <td>2019-07-06 00:00:29</td>\n",
              "      <td>0</td>\n",
              "      <td>Saturday</td>\n",
              "      <td>7</td>\n",
              "      <td>3</td>\n",
              "    </tr>\n",
              "  </tbody>\n",
              "</table>\n",
              "</div>\n",
              "      <button class=\"colab-df-convert\" onclick=\"convertToInteractive('df-f1030133-73ee-453c-843e-bb5c759cc33c')\"\n",
              "              title=\"Convert this dataframe to an interactive table.\"\n",
              "              style=\"display:none;\">\n",
              "        \n",
              "  <svg xmlns=\"http://www.w3.org/2000/svg\" height=\"24px\"viewBox=\"0 0 24 24\"\n",
              "       width=\"24px\">\n",
              "    <path d=\"M0 0h24v24H0V0z\" fill=\"none\"/>\n",
              "    <path d=\"M18.56 5.44l.94 2.06.94-2.06 2.06-.94-2.06-.94-.94-2.06-.94 2.06-2.06.94zm-11 1L8.5 8.5l.94-2.06 2.06-.94-2.06-.94L8.5 2.5l-.94 2.06-2.06.94zm10 10l.94 2.06.94-2.06 2.06-.94-2.06-.94-.94-2.06-.94 2.06-2.06.94z\"/><path d=\"M17.41 7.96l-1.37-1.37c-.4-.4-.92-.59-1.43-.59-.52 0-1.04.2-1.43.59L10.3 9.45l-7.72 7.72c-.78.78-.78 2.05 0 2.83L4 21.41c.39.39.9.59 1.41.59.51 0 1.02-.2 1.41-.59l7.78-7.78 2.81-2.81c.8-.78.8-2.07 0-2.86zM5.41 20L4 18.59l7.72-7.72 1.47 1.35L5.41 20z\"/>\n",
              "  </svg>\n",
              "      </button>\n",
              "      \n",
              "  <style>\n",
              "    .colab-df-container {\n",
              "      display:flex;\n",
              "      flex-wrap:wrap;\n",
              "      gap: 12px;\n",
              "    }\n",
              "\n",
              "    .colab-df-convert {\n",
              "      background-color: #E8F0FE;\n",
              "      border: none;\n",
              "      border-radius: 50%;\n",
              "      cursor: pointer;\n",
              "      display: none;\n",
              "      fill: #1967D2;\n",
              "      height: 32px;\n",
              "      padding: 0 0 0 0;\n",
              "      width: 32px;\n",
              "    }\n",
              "\n",
              "    .colab-df-convert:hover {\n",
              "      background-color: #E2EBFA;\n",
              "      box-shadow: 0px 1px 2px rgba(60, 64, 67, 0.3), 0px 1px 3px 1px rgba(60, 64, 67, 0.15);\n",
              "      fill: #174EA6;\n",
              "    }\n",
              "\n",
              "    [theme=dark] .colab-df-convert {\n",
              "      background-color: #3B4455;\n",
              "      fill: #D2E3FC;\n",
              "    }\n",
              "\n",
              "    [theme=dark] .colab-df-convert:hover {\n",
              "      background-color: #434B5C;\n",
              "      box-shadow: 0px 1px 3px 1px rgba(0, 0, 0, 0.15);\n",
              "      filter: drop-shadow(0px 1px 2px rgba(0, 0, 0, 0.3));\n",
              "      fill: #FFFFFF;\n",
              "    }\n",
              "  </style>\n",
              "\n",
              "      <script>\n",
              "        const buttonEl =\n",
              "          document.querySelector('#df-f1030133-73ee-453c-843e-bb5c759cc33c button.colab-df-convert');\n",
              "        buttonEl.style.display =\n",
              "          google.colab.kernel.accessAllowed ? 'block' : 'none';\n",
              "\n",
              "        async function convertToInteractive(key) {\n",
              "          const element = document.querySelector('#df-f1030133-73ee-453c-843e-bb5c759cc33c');\n",
              "          const dataTable =\n",
              "            await google.colab.kernel.invokeFunction('convertToInteractive',\n",
              "                                                     [key], {});\n",
              "          if (!dataTable) return;\n",
              "\n",
              "          const docLinkHtml = 'Like what you see? Visit the ' +\n",
              "            '<a target=\"_blank\" href=https://colab.research.google.com/notebooks/data_table.ipynb>data table notebook</a>'\n",
              "            + ' to learn more about interactive tables.';\n",
              "          element.innerHTML = '';\n",
              "          dataTable['output_type'] = 'display_data';\n",
              "          await google.colab.output.renderOutput(dataTable, element);\n",
              "          const docLink = document.createElement('div');\n",
              "          docLink.innerHTML = docLinkHtml;\n",
              "          element.appendChild(docLink);\n",
              "        }\n",
              "      </script>\n",
              "    </div>\n",
              "  </div>\n",
              "  "
            ]
          },
          "metadata": {},
          "execution_count": 8
        }
      ]
    },
    {
      "cell_type": "code",
      "source": [
        "##GENERAMOS UNA VARIABLE QUE INDIQUE: LUNES A VIERNES##\n",
        "mask=((big_frame.dia_semana==\"Monday\") | (big_frame.dia_semana==\"Tuesday\") | (big_frame.dia_semana==\"Wednesday\")  | (big_frame.dia_semana==\"Thursday\")   | (big_frame.dia_semana==\"Friday\") )  \n",
        "big_frame['LaV']=0\n",
        "big_frame.loc[mask, 'LaV']=1\n"
      ],
      "metadata": {
        "id": "dgvIJvEmSCZM"
      },
      "execution_count": 8,
      "outputs": []
    },
    {
      "cell_type": "code",
      "execution_count": null,
      "metadata": {
        "id": "eoRh5nzZSCZM"
      },
      "outputs": [],
      "source": [
        "big_frame.LaV.value_counts()"
      ]
    },
    {
      "cell_type": "code",
      "execution_count": 9,
      "metadata": {
        "id": "Wzc7m2XGSCZN"
      },
      "outputs": [],
      "source": [
        "## GENERAMOS UNA VARIABLE QUE INDIQUE: SABADOS Y DOMINGOS##\n",
        "mask=((big_frame.dia_semana==\"Saturday\") | (big_frame.dia_semana==\"Sunday\"))\n",
        "big_frame['Sabados_Domingos']=0\n",
        "big_frame.loc[mask, 'Sabados_Domingos']=1"
      ]
    },
    {
      "cell_type": "code",
      "execution_count": null,
      "metadata": {
        "id": "6L90vwNNSCZN"
      },
      "outputs": [],
      "source": [
        "big_frame.Sabados_Domingos.value_counts()"
      ]
    },
    {
      "cell_type": "code",
      "execution_count": 10,
      "metadata": {
        "id": "L4aiXqQFSCZO"
      },
      "outputs": [],
      "source": [
        "## GENERAMOS UN INDICADOR DE HORA DE USO##\n",
        "## PICO / NO PICO##\n",
        "## 7 ,8, 17, 18, 13, 14 HORAS DE MAYOR USO##\n",
        "mask=(((big_frame.hora==7)| (big_frame.hora==8) | (big_frame.hora==17) | (big_frame.hora==18) | (big_frame.hora==13) | (big_frame.hora==14)) & (big_frame.LaV==1))\n",
        "big_frame['PICO']=0\n",
        "big_frame.loc[mask, 'PICO']=1"
      ]
    },
    {
      "cell_type": "code",
      "execution_count": null,
      "metadata": {
        "id": "l3erpUveSCZO"
      },
      "outputs": [],
      "source": [
        "big_frame.PICO.value_counts()"
      ]
    },
    {
      "cell_type": "code",
      "execution_count": null,
      "metadata": {
        "id": "93W8-SZ6SCZP"
      },
      "outputs": [],
      "source": [
        "big_frame.head(4)"
      ]
    },
    {
      "cell_type": "code",
      "execution_count": null,
      "metadata": {
        "id": "DnyT9znnSCZP"
      },
      "outputs": [],
      "source": [
        "big_frame.CORREDOR.value_counts()"
      ]
    },
    {
      "cell_type": "code",
      "source": [
        "## TOMARIA LAS SIGUIENTES VARIABLES PARA CONTAR POR TARJETA: %LaV %Sabados_Domingos %horaPICO %por CORREDOR\n",
        "## OJO, ELIMINAR TARJETAS PRESTADAS ANTES\n",
        "big_frame.shape\n"
      ],
      "metadata": {
        "id": "YP8YDELpSCZQ"
      },
      "execution_count": null,
      "outputs": []
    },
    {
      "cell_type": "code",
      "execution_count": 11,
      "metadata": {
        "id": "u0fuXNrvSCZQ"
      },
      "outputs": [],
      "source": [
        "#Se depura la base, nos quedamos solo con el primer uso de la tarjeta en ese mismo viaje.\n",
        "df1 = big_frame.groupby(['TARJETA','LINEA','SENTIDO','FECHAAPERTURA']).first().reset_index()"
      ]
    },
    {
      "cell_type": "code",
      "execution_count": 12,
      "metadata": {
        "id": "D3N0ViGUSCZR"
      },
      "outputs": [],
      "source": [
        "##PORCENTAJE DE USO POR HORA PICO NO PICO POR TARJETA##\n",
        "df1['CUENTA']=1\n",
        "df1['VIAJES']=df1.groupby('TARJETA')['CUENTA'].transform('sum')\n",
        "\n"
      ]
    },
    {
      "cell_type": "code",
      "execution_count": 13,
      "metadata": {
        "id": "jUw4XecsSCZS"
      },
      "outputs": [],
      "source": [
        "df1['AUX']=df1.groupby('TARJETA')['PICO'].transform('sum')\n",
        "df1['porc_pico']=df1.AUX/ df1.VIAJES\n",
        "#df1.head(5)\n",
        "\n"
      ]
    },
    {
      "cell_type": "code",
      "execution_count": 14,
      "metadata": {
        "id": "NgKiP4J8SCZS"
      },
      "outputs": [],
      "source": [
        "##PORCENTAJE DE USO DE LUNES A VIERNES##\n",
        "df1['AUX']=df1.groupby('TARJETA')['LaV'].transform('sum')\n",
        "df1['porc_LaV']=df1.AUX/ df1.VIAJES\n",
        "#df1.head(5)"
      ]
    },
    {
      "cell_type": "code",
      "source": [
        "##PORCENTAJE DE USO EN SABADOS Y DOMINGOS##\n",
        "df1['AUX']=df1.groupby('TARJETA')['Sabados_Domingos'].transform('sum')\n",
        "df1['porc_Sab_Dom']=df1.AUX/ df1.VIAJES\n",
        "#df1.head(5)"
      ],
      "metadata": {
        "id": "jtt1zU6YSCZT"
      },
      "execution_count": 15,
      "outputs": []
    },
    {
      "cell_type": "code",
      "source": [
        "##PORCENTAJE DE USO POR CORREDOR##\n",
        "df1 = pd.get_dummies(df1, columns=['CORREDOR'])"
      ],
      "metadata": {
        "id": "i-emY8TOSCZT"
      },
      "execution_count": 16,
      "outputs": []
    },
    {
      "cell_type": "code",
      "source": [
        "## LOOP PARA QUE AGRUPE LOS VAIAJES POR CORREDOR Y POR TARJETA\n",
        "for column in df1.columns[-10:]:\n",
        "    df1[f'{column}_suma'] = df1.groupby('TARJETA')[f'{column}'].transform('sum')\n"
      ],
      "metadata": {
        "id": "9HZdZ1RASCZT"
      },
      "execution_count": 17,
      "outputs": []
    },
    {
      "cell_type": "code",
      "source": [
        "## AHORA DEBO CALCULAR LOS 8 PORCENTAJES\n",
        "df1['porc_CORREDOR_Cor_1_Naranja']=df1['CORREDOR_Cor 1 Naranja_suma']/ df1.VIAJES\n",
        "df1['porc_CORREDOR_Cor_2_Azul']=df1['CORREDOR_Cor 2 Azul_suma']/ df1.VIAJES\n",
        "df1['porc_CORREDOR_Cor_3_Rojo']=df1['CORREDOR_Cor 3 Rojo_suma']/ df1.VIAJES\n",
        "df1['porc_CORREDOR_Cor_4_Amarillo']=df1['CORREDOR_Cor 4 Amarillo_suma']/ df1.VIAJES\n",
        "df1['porc_CORREDOR_Cor_5_Amarillo']=df1['CORREDOR_Cor 5 Amarillo_suma']/ df1.VIAJES\n",
        "df1['porc_CORREDOR_Cor_6_Naranja']=df1['CORREDOR_Cor 6 Naranja_suma']/ df1.VIAJES\n",
        "df1['porc_CORREDOR_Cor_7_Azul']=df1['CORREDOR_Cor 7 Azul_suma']/ df1.VIAJES\n",
        "df1['porc_CORREDOR_Cor_8_Rojo']=df1['CORREDOR_Cor 8 Rojo_suma']/ df1.VIAJES\n",
        "df1['porc_CORREDOR_Lín_Anu_Amarillo']=df1['CORREDOR_Lín Anu Amarillo_suma']/ df1.VIAJES\n",
        "df1['porc_CORREDOR_TROLE']=df1['CORREDOR_TROLE_suma']/ df1.VIAJES\n"
      ],
      "metadata": {
        "id": "aDwjFGv4SCZU"
      },
      "execution_count": 18,
      "outputs": []
    },
    {
      "cell_type": "code",
      "source": [
        "##DEJAMOS SOLO LAS VARIABLES RELEVANTES PARA HACER EL ANALISIS DE CLUSTERS##\n",
        "df2=df1.loc[:, ['TARJETA', 'VIAJES','porc_pico', 'porc_LaV', 'porc_Sab_Dom','porc_CORREDOR_Cor_1_Naranja', 'porc_CORREDOR_Cor_2_Azul','porc_CORREDOR_Cor_3_Rojo', 'porc_CORREDOR_Cor_4_Amarillo', 'porc_CORREDOR_Cor_5_Amarillo', 'porc_CORREDOR_Cor_6_Naranja','porc_CORREDOR_Cor_7_Azul', 'porc_CORREDOR_Cor_8_Rojo','porc_CORREDOR_Lín_Anu_Amarillo', 'porc_CORREDOR_TROLE', 'cant_mes_t3']]"
      ],
      "metadata": {
        "id": "l9Ab5pUeSCZU"
      },
      "execution_count": 19,
      "outputs": []
    },
    {
      "cell_type": "code",
      "execution_count": null,
      "metadata": {
        "id": "o_Kj9LGFSCZV"
      },
      "outputs": [],
      "source": [
        "#df2.columns"
      ]
    },
    {
      "cell_type": "code",
      "execution_count": 20,
      "metadata": {
        "id": "hR56QXqDSCZV"
      },
      "outputs": [],
      "source": [
        "df2=df2.drop_duplicates(subset='TARJETA')"
      ]
    },
    {
      "cell_type": "code",
      "source": [
        "##OBTENGO MEDIDA RELATIVA DE INTENSIDAD DE USO##\n",
        "df2.VIAJES.describe()"
      ],
      "metadata": {
        "id": "k45n35FGSCZV"
      },
      "execution_count": null,
      "outputs": []
    },
    {
      "cell_type": "code",
      "source": [
        "para_a_nosup= df2\n",
        "para_a_nosup.to_csv(\"para_a_nosup_3t19.csv\", index=None)\n",
        "from google.colab import files\n",
        "files.download('para_a_nosup_3t19.csv') "
      ],
      "metadata": {
        "colab": {
          "base_uri": "https://localhost:8080/",
          "height": 17
        },
        "id": "J4SOYB2FPssI",
        "outputId": "3467699c-c4d0-49ee-bc9e-9cc7b5ccb40a"
      },
      "execution_count": 21,
      "outputs": [
        {
          "output_type": "display_data",
          "data": {
            "text/plain": [
              "<IPython.core.display.Javascript object>"
            ],
            "application/javascript": [
              "\n",
              "    async function download(id, filename, size) {\n",
              "      if (!google.colab.kernel.accessAllowed) {\n",
              "        return;\n",
              "      }\n",
              "      const div = document.createElement('div');\n",
              "      const label = document.createElement('label');\n",
              "      label.textContent = `Downloading \"${filename}\": `;\n",
              "      div.appendChild(label);\n",
              "      const progress = document.createElement('progress');\n",
              "      progress.max = size;\n",
              "      div.appendChild(progress);\n",
              "      document.body.appendChild(div);\n",
              "\n",
              "      const buffers = [];\n",
              "      let downloaded = 0;\n",
              "\n",
              "      const channel = await google.colab.kernel.comms.open(id);\n",
              "      // Send a message to notify the kernel that we're ready.\n",
              "      channel.send({})\n",
              "\n",
              "      for await (const message of channel.messages) {\n",
              "        // Send a message to notify the kernel that we're ready.\n",
              "        channel.send({})\n",
              "        if (message.buffers) {\n",
              "          for (const buffer of message.buffers) {\n",
              "            buffers.push(buffer);\n",
              "            downloaded += buffer.byteLength;\n",
              "            progress.value = downloaded;\n",
              "          }\n",
              "        }\n",
              "      }\n",
              "      const blob = new Blob(buffers, {type: 'application/binary'});\n",
              "      const a = document.createElement('a');\n",
              "      a.href = window.URL.createObjectURL(blob);\n",
              "      a.download = filename;\n",
              "      div.appendChild(a);\n",
              "      a.click();\n",
              "      div.remove();\n",
              "    }\n",
              "  "
            ]
          },
          "metadata": {}
        },
        {
          "output_type": "display_data",
          "data": {
            "text/plain": [
              "<IPython.core.display.Javascript object>"
            ],
            "application/javascript": [
              "download(\"download_f6026f45-283e-4dd4-b217-4dfc0cb63333\", \"para_a_nosup_3t19.csv\", 19457715)"
            ]
          },
          "metadata": {}
        }
      ]
    },
    {
      "cell_type": "code",
      "source": [
        "##LO MISMO PARA EL CUARTO TRIMESTRE DE 2019#\n",
        "from google.colab import drive\n",
        "drive.mount('/content/drive/', force_remount=True )\n",
        "import pandas as pd\n",
        "#%cd /content/drive/My Drive/bases_mentoria/\n",
        "path= '/content/drive/My Drive/Mentoria/cuarto trimestre 2019'\n",
        "import glob\n",
        "filenames = glob.glob(path + \"/*.csv\")\n",
        "\n",
        "dfs = []\n",
        "for filename in filenames:\n",
        "    dfs.append(pd.read_csv(filename, encoding='latin-1', sep=\";\"))\n",
        "\n",
        "# Concatenate all data into one DataFrame\n",
        "big_frame = pd.concat(dfs, ignore_index=True)\n",
        "\n",
        "big_frame.head()"
      ],
      "metadata": {
        "colab": {
          "base_uri": "https://localhost:8080/",
          "height": 224
        },
        "id": "83kCx8TSPuYj",
        "outputId": "df9a77e7-7723-4c3f-df13-94da4c0eb217"
      },
      "execution_count": 3,
      "outputs": [
        {
          "output_type": "stream",
          "name": "stdout",
          "text": [
            "Mounted at /content/drive/\n"
          ]
        },
        {
          "output_type": "execute_result",
          "data": {
            "text/plain": [
              "                    FECHA           FECHAAPERTURA  TARJETA       CORREDOR  \\\n",
              "0  06/10/2019 12:00:05 AM  05/10/2019 11:02:36 PM  5969486     Cor 7 Azul   \n",
              "1  06/10/2019 12:00:09 AM  05/10/2019 11:26:36 PM  5943292  Cor 1 Naranja   \n",
              "2  06/10/2019 12:00:13 AM  05/10/2019 11:46:15 PM  3497303     Cor 3 Rojo   \n",
              "3  06/10/2019 12:00:15 AM  05/10/2019 11:46:15 PM  4659858     Cor 3 Rojo   \n",
              "4  06/10/2019 12:00:18 AM  05/10/2019 10:27:52 PM  5325561  Cor 6 Naranja   \n",
              "\n",
              "  LINEA SENTIDO  \n",
              "0   L75  Vuelta  \n",
              "1   L13     Ida  \n",
              "2   L33     Ida  \n",
              "3   L33     Ida  \n",
              "4   L60  Vuelta  "
            ],
            "text/html": [
              "\n",
              "  <div id=\"df-69c4e7db-cdcd-4e24-84d6-e4316e161298\">\n",
              "    <div class=\"colab-df-container\">\n",
              "      <div>\n",
              "<style scoped>\n",
              "    .dataframe tbody tr th:only-of-type {\n",
              "        vertical-align: middle;\n",
              "    }\n",
              "\n",
              "    .dataframe tbody tr th {\n",
              "        vertical-align: top;\n",
              "    }\n",
              "\n",
              "    .dataframe thead th {\n",
              "        text-align: right;\n",
              "    }\n",
              "</style>\n",
              "<table border=\"1\" class=\"dataframe\">\n",
              "  <thead>\n",
              "    <tr style=\"text-align: right;\">\n",
              "      <th></th>\n",
              "      <th>FECHA</th>\n",
              "      <th>FECHAAPERTURA</th>\n",
              "      <th>TARJETA</th>\n",
              "      <th>CORREDOR</th>\n",
              "      <th>LINEA</th>\n",
              "      <th>SENTIDO</th>\n",
              "    </tr>\n",
              "  </thead>\n",
              "  <tbody>\n",
              "    <tr>\n",
              "      <th>0</th>\n",
              "      <td>06/10/2019 12:00:05 AM</td>\n",
              "      <td>05/10/2019 11:02:36 PM</td>\n",
              "      <td>5969486</td>\n",
              "      <td>Cor 7 Azul</td>\n",
              "      <td>L75</td>\n",
              "      <td>Vuelta</td>\n",
              "    </tr>\n",
              "    <tr>\n",
              "      <th>1</th>\n",
              "      <td>06/10/2019 12:00:09 AM</td>\n",
              "      <td>05/10/2019 11:26:36 PM</td>\n",
              "      <td>5943292</td>\n",
              "      <td>Cor 1 Naranja</td>\n",
              "      <td>L13</td>\n",
              "      <td>Ida</td>\n",
              "    </tr>\n",
              "    <tr>\n",
              "      <th>2</th>\n",
              "      <td>06/10/2019 12:00:13 AM</td>\n",
              "      <td>05/10/2019 11:46:15 PM</td>\n",
              "      <td>3497303</td>\n",
              "      <td>Cor 3 Rojo</td>\n",
              "      <td>L33</td>\n",
              "      <td>Ida</td>\n",
              "    </tr>\n",
              "    <tr>\n",
              "      <th>3</th>\n",
              "      <td>06/10/2019 12:00:15 AM</td>\n",
              "      <td>05/10/2019 11:46:15 PM</td>\n",
              "      <td>4659858</td>\n",
              "      <td>Cor 3 Rojo</td>\n",
              "      <td>L33</td>\n",
              "      <td>Ida</td>\n",
              "    </tr>\n",
              "    <tr>\n",
              "      <th>4</th>\n",
              "      <td>06/10/2019 12:00:18 AM</td>\n",
              "      <td>05/10/2019 10:27:52 PM</td>\n",
              "      <td>5325561</td>\n",
              "      <td>Cor 6 Naranja</td>\n",
              "      <td>L60</td>\n",
              "      <td>Vuelta</td>\n",
              "    </tr>\n",
              "  </tbody>\n",
              "</table>\n",
              "</div>\n",
              "      <button class=\"colab-df-convert\" onclick=\"convertToInteractive('df-69c4e7db-cdcd-4e24-84d6-e4316e161298')\"\n",
              "              title=\"Convert this dataframe to an interactive table.\"\n",
              "              style=\"display:none;\">\n",
              "        \n",
              "  <svg xmlns=\"http://www.w3.org/2000/svg\" height=\"24px\"viewBox=\"0 0 24 24\"\n",
              "       width=\"24px\">\n",
              "    <path d=\"M0 0h24v24H0V0z\" fill=\"none\"/>\n",
              "    <path d=\"M18.56 5.44l.94 2.06.94-2.06 2.06-.94-2.06-.94-.94-2.06-.94 2.06-2.06.94zm-11 1L8.5 8.5l.94-2.06 2.06-.94-2.06-.94L8.5 2.5l-.94 2.06-2.06.94zm10 10l.94 2.06.94-2.06 2.06-.94-2.06-.94-.94-2.06-.94 2.06-2.06.94z\"/><path d=\"M17.41 7.96l-1.37-1.37c-.4-.4-.92-.59-1.43-.59-.52 0-1.04.2-1.43.59L10.3 9.45l-7.72 7.72c-.78.78-.78 2.05 0 2.83L4 21.41c.39.39.9.59 1.41.59.51 0 1.02-.2 1.41-.59l7.78-7.78 2.81-2.81c.8-.78.8-2.07 0-2.86zM5.41 20L4 18.59l7.72-7.72 1.47 1.35L5.41 20z\"/>\n",
              "  </svg>\n",
              "      </button>\n",
              "      \n",
              "  <style>\n",
              "    .colab-df-container {\n",
              "      display:flex;\n",
              "      flex-wrap:wrap;\n",
              "      gap: 12px;\n",
              "    }\n",
              "\n",
              "    .colab-df-convert {\n",
              "      background-color: #E8F0FE;\n",
              "      border: none;\n",
              "      border-radius: 50%;\n",
              "      cursor: pointer;\n",
              "      display: none;\n",
              "      fill: #1967D2;\n",
              "      height: 32px;\n",
              "      padding: 0 0 0 0;\n",
              "      width: 32px;\n",
              "    }\n",
              "\n",
              "    .colab-df-convert:hover {\n",
              "      background-color: #E2EBFA;\n",
              "      box-shadow: 0px 1px 2px rgba(60, 64, 67, 0.3), 0px 1px 3px 1px rgba(60, 64, 67, 0.15);\n",
              "      fill: #174EA6;\n",
              "    }\n",
              "\n",
              "    [theme=dark] .colab-df-convert {\n",
              "      background-color: #3B4455;\n",
              "      fill: #D2E3FC;\n",
              "    }\n",
              "\n",
              "    [theme=dark] .colab-df-convert:hover {\n",
              "      background-color: #434B5C;\n",
              "      box-shadow: 0px 1px 3px 1px rgba(0, 0, 0, 0.15);\n",
              "      filter: drop-shadow(0px 1px 2px rgba(0, 0, 0, 0.3));\n",
              "      fill: #FFFFFF;\n",
              "    }\n",
              "  </style>\n",
              "\n",
              "      <script>\n",
              "        const buttonEl =\n",
              "          document.querySelector('#df-69c4e7db-cdcd-4e24-84d6-e4316e161298 button.colab-df-convert');\n",
              "        buttonEl.style.display =\n",
              "          google.colab.kernel.accessAllowed ? 'block' : 'none';\n",
              "\n",
              "        async function convertToInteractive(key) {\n",
              "          const element = document.querySelector('#df-69c4e7db-cdcd-4e24-84d6-e4316e161298');\n",
              "          const dataTable =\n",
              "            await google.colab.kernel.invokeFunction('convertToInteractive',\n",
              "                                                     [key], {});\n",
              "          if (!dataTable) return;\n",
              "\n",
              "          const docLinkHtml = 'Like what you see? Visit the ' +\n",
              "            '<a target=\"_blank\" href=https://colab.research.google.com/notebooks/data_table.ipynb>data table notebook</a>'\n",
              "            + ' to learn more about interactive tables.';\n",
              "          element.innerHTML = '';\n",
              "          dataTable['output_type'] = 'display_data';\n",
              "          await google.colab.output.renderOutput(dataTable, element);\n",
              "          const docLink = document.createElement('div');\n",
              "          docLink.innerHTML = docLinkHtml;\n",
              "          element.appendChild(docLink);\n",
              "        }\n",
              "      </script>\n",
              "    </div>\n",
              "  </div>\n",
              "  "
            ]
          },
          "metadata": {},
          "execution_count": 3
        }
      ]
    },
    {
      "cell_type": "code",
      "source": [],
      "metadata": {
        "id": "66dhHA_zPuej"
      },
      "execution_count": null,
      "outputs": []
    },
    {
      "cell_type": "code",
      "source": [
        "import datetime as dt"
      ],
      "metadata": {
        "id": "Uq9VdOmzSthi"
      },
      "execution_count": 4,
      "outputs": []
    },
    {
      "cell_type": "code",
      "source": [
        "# VARIABLE FECHA DE STRING A DATETIME##\n",
        "big_frame['Fecha2'] = pd.to_datetime(big_frame['FECHA'], format='%d/%m/%Y %I:%M:%S %p')"
      ],
      "metadata": {
        "id": "fcbtlRwUSthj"
      },
      "execution_count": 5,
      "outputs": []
    },
    {
      "cell_type": "code",
      "source": [
        "##OBTENEMOS HORA DEL DÍA##\n",
        "big_frame['hora'] = big_frame['Fecha2'].dt.hour"
      ],
      "metadata": {
        "id": "8X9zuq_nSthk"
      },
      "execution_count": 6,
      "outputs": []
    },
    {
      "cell_type": "code",
      "source": [
        "## OBTENEMOS DIA DE LA SEMANA##\n",
        "big_frame['dia_semana']=big_frame['Fecha2'].dt.day_name()"
      ],
      "metadata": {
        "id": "GHedNrCBSthk"
      },
      "execution_count": 7,
      "outputs": []
    },
    {
      "cell_type": "code",
      "source": [
        "## OBTENEMOS MES DEL AÑO###\n",
        "big_frame['MES']=big_frame['Fecha2'].dt.month"
      ],
      "metadata": {
        "id": "uhVrLoOVWclr"
      },
      "execution_count": 8,
      "outputs": []
    },
    {
      "cell_type": "code",
      "source": [
        "big_frame['cant_mes_t4'] = big_frame.groupby('TARJETA')['MES'].transform('nunique')"
      ],
      "metadata": {
        "id": "aCmvCCZlWcls"
      },
      "execution_count": 9,
      "outputs": []
    },
    {
      "cell_type": "code",
      "source": [
        "big_frame.head(3)"
      ],
      "metadata": {
        "id": "KB4lDdK8Sthl"
      },
      "execution_count": null,
      "outputs": []
    },
    {
      "cell_type": "code",
      "source": [
        "##GENERAMOS UNA VARIABLE QUE INDIQUE: LUNES A VIERNES##\n",
        "mask=((big_frame.dia_semana==\"Monday\") | (big_frame.dia_semana==\"Tuesday\") | (big_frame.dia_semana==\"Wednesday\")  | (big_frame.dia_semana==\"Thursday\")   | (big_frame.dia_semana==\"Friday\") )  \n",
        "big_frame['LaV']=0\n",
        "big_frame.loc[mask, 'LaV']=1\n"
      ],
      "metadata": {
        "id": "Bh4gEFVWSthm"
      },
      "execution_count": 10,
      "outputs": []
    },
    {
      "cell_type": "code",
      "execution_count": null,
      "metadata": {
        "id": "r_RMkw4xSthn"
      },
      "outputs": [],
      "source": [
        "big_frame.LaV.value_counts()"
      ]
    },
    {
      "cell_type": "code",
      "execution_count": 11,
      "metadata": {
        "id": "HpWRUImxSthn"
      },
      "outputs": [],
      "source": [
        "## GENERAMOS UNA VARIABLE QUE INDIQUE: SABADOS Y DOMINGOS##\n",
        "mask=((big_frame.dia_semana==\"Saturday\") | (big_frame.dia_semana==\"Sunday\"))\n",
        "big_frame['Sabados_Domingos']=0\n",
        "big_frame.loc[mask, 'Sabados_Domingos']=1"
      ]
    },
    {
      "cell_type": "code",
      "execution_count": null,
      "metadata": {
        "colab": {
          "base_uri": "https://localhost:8080/"
        },
        "outputId": "0b2ffefc-398b-4b44-8f4d-8985d1bb00db",
        "id": "aJlArVI7Stho"
      },
      "outputs": [
        {
          "output_type": "execute_result",
          "data": {
            "text/plain": [
              "0    9694457\n",
              "1    1500185\n",
              "Name: Sabados_Domingos, dtype: int64"
            ]
          },
          "metadata": {},
          "execution_count": 8
        }
      ],
      "source": [
        "big_frame.Sabados_Domingos.value_counts()"
      ]
    },
    {
      "cell_type": "code",
      "execution_count": 12,
      "metadata": {
        "id": "qLec8fKVSthp"
      },
      "outputs": [],
      "source": [
        "## GENERAMOS UN INDICADOR DE HORA DE USO##\n",
        "## PICO / NO PICO##\n",
        "## 7 ,8, 17, 18, 13, 14 HORAS DE MAYOR USO##\n",
        "mask=(((big_frame.hora==7)| (big_frame.hora==8) | (big_frame.hora==17) | (big_frame.hora==18) | (big_frame.hora==13) | (big_frame.hora==14)) & (big_frame.LaV==1))\n",
        "big_frame['PICO']=0\n",
        "big_frame.loc[mask, 'PICO']=1"
      ]
    },
    {
      "cell_type": "code",
      "execution_count": null,
      "metadata": {
        "id": "aLXOpLgiSthp"
      },
      "outputs": [],
      "source": [
        "big_frame.PICO.value_counts()"
      ]
    },
    {
      "cell_type": "code",
      "execution_count": null,
      "metadata": {
        "id": "4nobZA1eSthq"
      },
      "outputs": [],
      "source": [
        "big_frame.head(4)"
      ]
    },
    {
      "cell_type": "code",
      "execution_count": null,
      "metadata": {
        "id": "eMdZUXi0Sthr"
      },
      "outputs": [],
      "source": [
        "big_frame.CORREDOR.value_counts()"
      ]
    },
    {
      "cell_type": "code",
      "source": [
        "## TOMARIA LAS SIGUIENTES VARIABLES PARA CONTAR POR TARJETA: %LaV %Sabados_Domingos %horaPICO %por CORREDOR\n",
        "## OJO, ELIMINAR TARJETAS PRESTADAS ANTES\n",
        "big_frame.shape\n"
      ],
      "metadata": {
        "id": "kU29bg6ySths"
      },
      "execution_count": null,
      "outputs": []
    },
    {
      "cell_type": "code",
      "execution_count": 13,
      "metadata": {
        "id": "indf0OKySths"
      },
      "outputs": [],
      "source": [
        "#Se depura la base, nos quedamos solo con el primer uso de la tarjeta en ese mismo viaje.\n",
        "df1 = big_frame.groupby(['TARJETA','LINEA','SENTIDO','FECHAAPERTURA']).first().reset_index()"
      ]
    },
    {
      "cell_type": "code",
      "execution_count": 14,
      "metadata": {
        "id": "XQm1B54MSthu"
      },
      "outputs": [],
      "source": [
        "##PORCENTAJE DE USO POR HORA PICO NO PICO POR TARJETA##\n",
        "df1['CUENTA']=1\n",
        "df1['VIAJES']=df1.groupby('TARJETA')['CUENTA'].transform('sum')\n",
        "\n"
      ]
    },
    {
      "cell_type": "code",
      "execution_count": 15,
      "metadata": {
        "id": "-kHy8A6hSthu"
      },
      "outputs": [],
      "source": [
        "df1['AUX']=df1.groupby('TARJETA')['PICO'].transform('sum')\n",
        "df1['porc_pico']=df1.AUX/ df1.VIAJES\n",
        "#df1.head(5)\n",
        "\n"
      ]
    },
    {
      "cell_type": "code",
      "execution_count": 16,
      "metadata": {
        "id": "lohF9hYvSthv"
      },
      "outputs": [],
      "source": [
        "##PORCENTAJE DE USO DE LUNES A VIERNES##\n",
        "df1['AUX']=df1.groupby('TARJETA')['LaV'].transform('sum')\n",
        "df1['porc_LaV']=df1.AUX/ df1.VIAJES\n",
        "#df1.head(5)"
      ]
    },
    {
      "cell_type": "code",
      "source": [
        "##PORCENTAJE DE USO EN SABADOS Y DOMINGOS##\n",
        "df1['AUX']=df1.groupby('TARJETA')['Sabados_Domingos'].transform('sum')\n",
        "df1['porc_Sab_Dom']=df1.AUX/ df1.VIAJES\n",
        "#df1.head(5)"
      ],
      "metadata": {
        "id": "27FEpG-vSthw"
      },
      "execution_count": 17,
      "outputs": []
    },
    {
      "cell_type": "code",
      "source": [
        "##PORCENTAJE DE USO POR CORREDOR##\n",
        "df1 = pd.get_dummies(df1, columns=['CORREDOR'])"
      ],
      "metadata": {
        "id": "cl_JW_X6Sthx"
      },
      "execution_count": 18,
      "outputs": []
    },
    {
      "cell_type": "code",
      "source": [
        "## LOOP PARA QUE AGRUPE LOS VAIAJES POR CORREDOR Y POR TARJETA\n",
        "for column in df1.columns[-10:]:\n",
        "    df1[f'{column}_suma'] = df1.groupby('TARJETA')[f'{column}'].transform('sum')\n"
      ],
      "metadata": {
        "id": "CuQS_w0fSthy"
      },
      "execution_count": 19,
      "outputs": []
    },
    {
      "cell_type": "code",
      "source": [
        "## AHORA DEBO CALCULAR LOS 8 PORCENTAJES\n",
        "df1['porc_CORREDOR_Cor_1_Naranja']=df1['CORREDOR_Cor 1 Naranja_suma']/ df1.VIAJES\n",
        "df1['porc_CORREDOR_Cor_2_Azul']=df1['CORREDOR_Cor 2 Azul_suma']/ df1.VIAJES\n",
        "df1['porc_CORREDOR_Cor_3_Rojo']=df1['CORREDOR_Cor 3 Rojo_suma']/ df1.VIAJES\n",
        "df1['porc_CORREDOR_Cor_4_Amarillo']=df1['CORREDOR_Cor 4 Amarillo_suma']/ df1.VIAJES\n",
        "df1['porc_CORREDOR_Cor_5_Amarillo']=df1['CORREDOR_Cor 5 Amarillo_suma']/ df1.VIAJES\n",
        "df1['porc_CORREDOR_Cor_6_Naranja']=df1['CORREDOR_Cor 6 Naranja_suma']/ df1.VIAJES\n",
        "df1['porc_CORREDOR_Cor_7_Azul']=df1['CORREDOR_Cor 7 Azul_suma']/ df1.VIAJES\n",
        "df1['porc_CORREDOR_Cor_8_Rojo']=df1['CORREDOR_Cor 8 Rojo_suma']/ df1.VIAJES\n",
        "df1['porc_CORREDOR_Lín_Anu_Amarillo']=df1['CORREDOR_Lín Anu Amarillo_suma']/ df1.VIAJES\n",
        "df1['porc_CORREDOR_TROLE']=df1['CORREDOR_TROLE_suma']/ df1.VIAJES\n"
      ],
      "metadata": {
        "id": "ZGfSY0MhSthy"
      },
      "execution_count": 20,
      "outputs": []
    },
    {
      "cell_type": "code",
      "source": [
        "##DEJAMOS SOLO LAS VARIABLES RELEVANTES PARA HACER EL ANALISIS DE CLUSTERS##\n",
        "df2=df1.loc[:, ['TARJETA', 'VIAJES','porc_pico', 'porc_LaV', 'porc_Sab_Dom','porc_CORREDOR_Cor_1_Naranja', 'porc_CORREDOR_Cor_2_Azul','porc_CORREDOR_Cor_3_Rojo', 'porc_CORREDOR_Cor_4_Amarillo', 'porc_CORREDOR_Cor_5_Amarillo', 'porc_CORREDOR_Cor_6_Naranja','porc_CORREDOR_Cor_7_Azul', 'porc_CORREDOR_Cor_8_Rojo','porc_CORREDOR_Lín_Anu_Amarillo', 'porc_CORREDOR_TROLE', 'cant_mes_t4']]"
      ],
      "metadata": {
        "id": "OR-U5C6QSthz"
      },
      "execution_count": 21,
      "outputs": []
    },
    {
      "cell_type": "code",
      "execution_count": null,
      "metadata": {
        "id": "CluHT3DbSth0"
      },
      "outputs": [],
      "source": [
        "df2.columns"
      ]
    },
    {
      "cell_type": "code",
      "execution_count": 22,
      "metadata": {
        "id": "ehe69QeTSth1"
      },
      "outputs": [],
      "source": [
        "df2=df2.drop_duplicates(subset='TARJETA')"
      ]
    },
    {
      "cell_type": "code",
      "source": [
        "##OBTENGO MEDIDA RELATIVA DE INTENSIDAD DE USO##\n",
        "df2.VIAJES.describe()"
      ],
      "metadata": {
        "id": "X2V0HHq_Sth2"
      },
      "execution_count": null,
      "outputs": []
    },
    {
      "cell_type": "code",
      "source": [
        "para_a_nosup= df2\n",
        "para_a_nosup.to_csv(\"para_a_nosup_4t19.csv\", index=None)\n",
        "from google.colab import files\n",
        "files.download('para_a_nosup_4t19.csv') "
      ],
      "metadata": {
        "colab": {
          "base_uri": "https://localhost:8080/",
          "height": 17
        },
        "id": "P0Z1sNTxSUnu",
        "outputId": "bfdfd794-5c62-41a7-d702-bf3fa8084763"
      },
      "execution_count": 23,
      "outputs": [
        {
          "output_type": "display_data",
          "data": {
            "text/plain": [
              "<IPython.core.display.Javascript object>"
            ],
            "application/javascript": [
              "\n",
              "    async function download(id, filename, size) {\n",
              "      if (!google.colab.kernel.accessAllowed) {\n",
              "        return;\n",
              "      }\n",
              "      const div = document.createElement('div');\n",
              "      const label = document.createElement('label');\n",
              "      label.textContent = `Downloading \"${filename}\": `;\n",
              "      div.appendChild(label);\n",
              "      const progress = document.createElement('progress');\n",
              "      progress.max = size;\n",
              "      div.appendChild(progress);\n",
              "      document.body.appendChild(div);\n",
              "\n",
              "      const buffers = [];\n",
              "      let downloaded = 0;\n",
              "\n",
              "      const channel = await google.colab.kernel.comms.open(id);\n",
              "      // Send a message to notify the kernel that we're ready.\n",
              "      channel.send({})\n",
              "\n",
              "      for await (const message of channel.messages) {\n",
              "        // Send a message to notify the kernel that we're ready.\n",
              "        channel.send({})\n",
              "        if (message.buffers) {\n",
              "          for (const buffer of message.buffers) {\n",
              "            buffers.push(buffer);\n",
              "            downloaded += buffer.byteLength;\n",
              "            progress.value = downloaded;\n",
              "          }\n",
              "        }\n",
              "      }\n",
              "      const blob = new Blob(buffers, {type: 'application/binary'});\n",
              "      const a = document.createElement('a');\n",
              "      a.href = window.URL.createObjectURL(blob);\n",
              "      a.download = filename;\n",
              "      div.appendChild(a);\n",
              "      a.click();\n",
              "      div.remove();\n",
              "    }\n",
              "  "
            ]
          },
          "metadata": {}
        },
        {
          "output_type": "display_data",
          "data": {
            "text/plain": [
              "<IPython.core.display.Javascript object>"
            ],
            "application/javascript": [
              "download(\"download_64804ecc-9f79-4243-aecd-18ab0795bd27\", \"para_a_nosup_4t19.csv\", 18050878)"
            ]
          },
          "metadata": {}
        }
      ]
    },
    {
      "cell_type": "code",
      "source": [],
      "metadata": {
        "id": "q8E_TJMkSUtl"
      },
      "execution_count": null,
      "outputs": []
    },
    {
      "cell_type": "code",
      "source": [],
      "metadata": {
        "id": "PPlSUONBSUyi"
      },
      "execution_count": null,
      "outputs": []
    },
    {
      "cell_type": "code",
      "source": [],
      "metadata": {
        "id": "f4LhBAUISU4F"
      },
      "execution_count": null,
      "outputs": []
    },
    {
      "cell_type": "code",
      "source": [],
      "metadata": {
        "id": "OCYT9Ae-SU97"
      },
      "execution_count": null,
      "outputs": []
    },
    {
      "cell_type": "code",
      "source": [],
      "metadata": {
        "id": "1XHlw3m3SVEE"
      },
      "execution_count": null,
      "outputs": []
    },
    {
      "cell_type": "code",
      "source": [],
      "metadata": {
        "id": "Vw1E50GrSVJW"
      },
      "execution_count": null,
      "outputs": []
    },
    {
      "cell_type": "code",
      "source": [],
      "metadata": {
        "id": "qIN7t51xPuio"
      },
      "execution_count": null,
      "outputs": []
    },
    {
      "cell_type": "code",
      "source": [],
      "metadata": {
        "id": "RSqCm1NQPunh"
      },
      "execution_count": null,
      "outputs": []
    },
    {
      "cell_type": "code",
      "source": [],
      "metadata": {
        "id": "GxCk08rXPusZ"
      },
      "execution_count": null,
      "outputs": []
    },
    {
      "cell_type": "code",
      "source": [],
      "metadata": {
        "id": "yBC2S2ZwPuwp"
      },
      "execution_count": null,
      "outputs": []
    },
    {
      "cell_type": "code",
      "source": [],
      "metadata": {
        "id": "P8S8qv50Pu0S"
      },
      "execution_count": null,
      "outputs": []
    },
    {
      "cell_type": "code",
      "source": [],
      "metadata": {
        "id": "PVO71quLPu4m"
      },
      "execution_count": null,
      "outputs": []
    },
    {
      "cell_type": "code",
      "source": [],
      "metadata": {
        "id": "KiYMYpS8PswT"
      },
      "execution_count": null,
      "outputs": []
    },
    {
      "cell_type": "code",
      "source": [],
      "metadata": {
        "id": "O_J9ZnFePszk"
      },
      "execution_count": null,
      "outputs": []
    },
    {
      "cell_type": "code",
      "source": [],
      "metadata": {
        "id": "KVb4CcL7Ps2l"
      },
      "execution_count": null,
      "outputs": []
    },
    {
      "cell_type": "code",
      "source": [],
      "metadata": {
        "id": "JP3tClGdPs5p"
      },
      "execution_count": null,
      "outputs": []
    },
    {
      "cell_type": "code",
      "execution_count": null,
      "metadata": {
        "id": "1xTCrSeJlZS7"
      },
      "outputs": [],
      "source": [
        "\n"
      ]
    },
    {
      "cell_type": "code",
      "execution_count": null,
      "metadata": {
        "id": "BRJNzgtPlZZv"
      },
      "outputs": [],
      "source": []
    },
    {
      "cell_type": "code",
      "execution_count": null,
      "metadata": {
        "id": "QzozAc5PiSl2"
      },
      "outputs": [],
      "source": []
    },
    {
      "cell_type": "code",
      "execution_count": null,
      "metadata": {
        "id": "GXPAODPFjDOw"
      },
      "outputs": [],
      "source": []
    },
    {
      "cell_type": "code",
      "execution_count": null,
      "metadata": {
        "id": "AaKurBrMjDTz"
      },
      "outputs": [],
      "source": []
    },
    {
      "cell_type": "code",
      "source": [],
      "metadata": {
        "id": "AiPBXiDWSPzB"
      },
      "execution_count": null,
      "outputs": []
    },
    {
      "cell_type": "code",
      "source": [],
      "metadata": {
        "id": "thdIQuqGSP5W"
      },
      "execution_count": null,
      "outputs": []
    },
    {
      "cell_type": "code",
      "source": [],
      "metadata": {
        "id": "qAIKOMXuSP-T"
      },
      "execution_count": null,
      "outputs": []
    },
    {
      "cell_type": "code",
      "source": [],
      "metadata": {
        "id": "uiFXNgBqSQDZ"
      },
      "execution_count": null,
      "outputs": []
    },
    {
      "cell_type": "code",
      "source": [],
      "metadata": {
        "id": "ijn4u7fqSQId"
      },
      "execution_count": null,
      "outputs": []
    },
    {
      "cell_type": "code",
      "source": [],
      "metadata": {
        "id": "8kcJ1mG4SQOY"
      },
      "execution_count": null,
      "outputs": []
    },
    {
      "cell_type": "code",
      "source": [],
      "metadata": {
        "id": "XAw8fubpSQTe"
      },
      "execution_count": null,
      "outputs": []
    },
    {
      "cell_type": "code",
      "source": [],
      "metadata": {
        "id": "szP4LKXzSQYV"
      },
      "execution_count": null,
      "outputs": []
    },
    {
      "cell_type": "code",
      "source": [],
      "metadata": {
        "id": "ChDrg4BwSQdC"
      },
      "execution_count": null,
      "outputs": []
    },
    {
      "cell_type": "code",
      "source": [],
      "metadata": {
        "id": "WaE5w0BfSQxA"
      },
      "execution_count": null,
      "outputs": []
    },
    {
      "cell_type": "code",
      "execution_count": null,
      "metadata": {
        "id": "lZn12R8ejDwd"
      },
      "outputs": [],
      "source": []
    },
    {
      "cell_type": "code",
      "execution_count": null,
      "metadata": {
        "id": "3RxMpceHjD70"
      },
      "outputs": [],
      "source": []
    },
    {
      "cell_type": "code",
      "execution_count": null,
      "metadata": {
        "id": "hjubTBqejECi"
      },
      "outputs": [],
      "source": []
    },
    {
      "cell_type": "code",
      "execution_count": null,
      "metadata": {
        "id": "iNexbG7HjEFt"
      },
      "outputs": [],
      "source": []
    },
    {
      "cell_type": "code",
      "execution_count": null,
      "metadata": {
        "id": "tMh7fl-CjSaW"
      },
      "outputs": [],
      "source": []
    },
    {
      "cell_type": "code",
      "execution_count": null,
      "metadata": {
        "id": "daHZxTg7jSiG"
      },
      "outputs": [],
      "source": []
    },
    {
      "cell_type": "code",
      "execution_count": null,
      "metadata": {
        "id": "dVJAElfkjSov"
      },
      "outputs": [],
      "source": []
    },
    {
      "cell_type": "code",
      "execution_count": null,
      "metadata": {
        "id": "4Qr-Ze2yjSwE"
      },
      "outputs": [],
      "source": []
    },
    {
      "cell_type": "code",
      "execution_count": null,
      "metadata": {
        "id": "gaO_OdIdjS3g"
      },
      "outputs": [],
      "source": []
    },
    {
      "cell_type": "code",
      "execution_count": null,
      "metadata": {
        "id": "Lx15rYdujS-t"
      },
      "outputs": [],
      "source": []
    }
  ],
  "metadata": {
    "colab": {
      "collapsed_sections": [],
      "provenance": []
    },
    "kernelspec": {
      "display_name": "Python 3",
      "name": "python3"
    },
    "language_info": {
      "name": "python"
    },
    "accelerator": "GPU"
  },
  "nbformat": 4,
  "nbformat_minor": 0
}