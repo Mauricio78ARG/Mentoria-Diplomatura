{
  "nbformat": 4,
  "nbformat_minor": 0,
  "metadata": {
    "colab": {
      "name": "Resguardo Conexión a bases de drive_Mentoria_conteos_hora_V4.ipynb",
      "provenance": [],
      "collapsed_sections": []
    },
    "kernelspec": {
      "name": "python3",
      "display_name": "Python 3"
    },
    "language_info": {
      "name": "python"
    }
  },
  "cells": [
    {
      "cell_type": "code",
      "execution_count": null,
      "metadata": {
        "id": "Z3IsoE-7RJBu",
        "colab": {
          "base_uri": "https://localhost:8080/",
          "height": 224
        },
        "outputId": "d1c26e40-fde9-450a-b86f-ad3923f0c66a"
      },
      "outputs": [
        {
          "output_type": "stream",
          "name": "stdout",
          "text": [
            "Mounted at /content/drive/\n"
          ]
        },
        {
          "output_type": "execute_result",
          "data": {
            "text/plain": [
              "                    FECHA           FECHAAPERTURA  TARJETA       CORREDOR  \\\n",
              "0  01/01/2019 01:32:43 AM  01/01/2019 01:00:11 AM  4992639     Cor 3 Rojo   \n",
              "1  01/01/2019 02:26:11 AM  01/01/2019 01:00:11 AM  5489022     Cor 3 Rojo   \n",
              "2  01/01/2019 02:26:14 AM  01/01/2019 01:00:11 AM  5489022     Cor 3 Rojo   \n",
              "3  01/01/2019 02:32:27 AM  01/01/2019 01:59:31 AM  5317539  Cor 1 Naranja   \n",
              "4  01/01/2019 02:57:48 AM  01/01/2019 01:59:31 AM  4451141  Cor 1 Naranja   \n",
              "\n",
              "  LINEA SENTIDO  \n",
              "0   L35     Ida  \n",
              "1   L35  Vuelta  \n",
              "2   L35  Vuelta  \n",
              "3   L12  Vuelta  \n",
              "4   L12  Vuelta  "
            ],
            "text/html": [
              "\n",
              "  <div id=\"df-52733666-43a3-4642-bfc1-5b698837e15b\">\n",
              "    <div class=\"colab-df-container\">\n",
              "      <div>\n",
              "<style scoped>\n",
              "    .dataframe tbody tr th:only-of-type {\n",
              "        vertical-align: middle;\n",
              "    }\n",
              "\n",
              "    .dataframe tbody tr th {\n",
              "        vertical-align: top;\n",
              "    }\n",
              "\n",
              "    .dataframe thead th {\n",
              "        text-align: right;\n",
              "    }\n",
              "</style>\n",
              "<table border=\"1\" class=\"dataframe\">\n",
              "  <thead>\n",
              "    <tr style=\"text-align: right;\">\n",
              "      <th></th>\n",
              "      <th>FECHA</th>\n",
              "      <th>FECHAAPERTURA</th>\n",
              "      <th>TARJETA</th>\n",
              "      <th>CORREDOR</th>\n",
              "      <th>LINEA</th>\n",
              "      <th>SENTIDO</th>\n",
              "    </tr>\n",
              "  </thead>\n",
              "  <tbody>\n",
              "    <tr>\n",
              "      <th>0</th>\n",
              "      <td>01/01/2019 01:32:43 AM</td>\n",
              "      <td>01/01/2019 01:00:11 AM</td>\n",
              "      <td>4992639</td>\n",
              "      <td>Cor 3 Rojo</td>\n",
              "      <td>L35</td>\n",
              "      <td>Ida</td>\n",
              "    </tr>\n",
              "    <tr>\n",
              "      <th>1</th>\n",
              "      <td>01/01/2019 02:26:11 AM</td>\n",
              "      <td>01/01/2019 01:00:11 AM</td>\n",
              "      <td>5489022</td>\n",
              "      <td>Cor 3 Rojo</td>\n",
              "      <td>L35</td>\n",
              "      <td>Vuelta</td>\n",
              "    </tr>\n",
              "    <tr>\n",
              "      <th>2</th>\n",
              "      <td>01/01/2019 02:26:14 AM</td>\n",
              "      <td>01/01/2019 01:00:11 AM</td>\n",
              "      <td>5489022</td>\n",
              "      <td>Cor 3 Rojo</td>\n",
              "      <td>L35</td>\n",
              "      <td>Vuelta</td>\n",
              "    </tr>\n",
              "    <tr>\n",
              "      <th>3</th>\n",
              "      <td>01/01/2019 02:32:27 AM</td>\n",
              "      <td>01/01/2019 01:59:31 AM</td>\n",
              "      <td>5317539</td>\n",
              "      <td>Cor 1 Naranja</td>\n",
              "      <td>L12</td>\n",
              "      <td>Vuelta</td>\n",
              "    </tr>\n",
              "    <tr>\n",
              "      <th>4</th>\n",
              "      <td>01/01/2019 02:57:48 AM</td>\n",
              "      <td>01/01/2019 01:59:31 AM</td>\n",
              "      <td>4451141</td>\n",
              "      <td>Cor 1 Naranja</td>\n",
              "      <td>L12</td>\n",
              "      <td>Vuelta</td>\n",
              "    </tr>\n",
              "  </tbody>\n",
              "</table>\n",
              "</div>\n",
              "      <button class=\"colab-df-convert\" onclick=\"convertToInteractive('df-52733666-43a3-4642-bfc1-5b698837e15b')\"\n",
              "              title=\"Convert this dataframe to an interactive table.\"\n",
              "              style=\"display:none;\">\n",
              "        \n",
              "  <svg xmlns=\"http://www.w3.org/2000/svg\" height=\"24px\"viewBox=\"0 0 24 24\"\n",
              "       width=\"24px\">\n",
              "    <path d=\"M0 0h24v24H0V0z\" fill=\"none\"/>\n",
              "    <path d=\"M18.56 5.44l.94 2.06.94-2.06 2.06-.94-2.06-.94-.94-2.06-.94 2.06-2.06.94zm-11 1L8.5 8.5l.94-2.06 2.06-.94-2.06-.94L8.5 2.5l-.94 2.06-2.06.94zm10 10l.94 2.06.94-2.06 2.06-.94-2.06-.94-.94-2.06-.94 2.06-2.06.94z\"/><path d=\"M17.41 7.96l-1.37-1.37c-.4-.4-.92-.59-1.43-.59-.52 0-1.04.2-1.43.59L10.3 9.45l-7.72 7.72c-.78.78-.78 2.05 0 2.83L4 21.41c.39.39.9.59 1.41.59.51 0 1.02-.2 1.41-.59l7.78-7.78 2.81-2.81c.8-.78.8-2.07 0-2.86zM5.41 20L4 18.59l7.72-7.72 1.47 1.35L5.41 20z\"/>\n",
              "  </svg>\n",
              "      </button>\n",
              "      \n",
              "  <style>\n",
              "    .colab-df-container {\n",
              "      display:flex;\n",
              "      flex-wrap:wrap;\n",
              "      gap: 12px;\n",
              "    }\n",
              "\n",
              "    .colab-df-convert {\n",
              "      background-color: #E8F0FE;\n",
              "      border: none;\n",
              "      border-radius: 50%;\n",
              "      cursor: pointer;\n",
              "      display: none;\n",
              "      fill: #1967D2;\n",
              "      height: 32px;\n",
              "      padding: 0 0 0 0;\n",
              "      width: 32px;\n",
              "    }\n",
              "\n",
              "    .colab-df-convert:hover {\n",
              "      background-color: #E2EBFA;\n",
              "      box-shadow: 0px 1px 2px rgba(60, 64, 67, 0.3), 0px 1px 3px 1px rgba(60, 64, 67, 0.15);\n",
              "      fill: #174EA6;\n",
              "    }\n",
              "\n",
              "    [theme=dark] .colab-df-convert {\n",
              "      background-color: #3B4455;\n",
              "      fill: #D2E3FC;\n",
              "    }\n",
              "\n",
              "    [theme=dark] .colab-df-convert:hover {\n",
              "      background-color: #434B5C;\n",
              "      box-shadow: 0px 1px 3px 1px rgba(0, 0, 0, 0.15);\n",
              "      filter: drop-shadow(0px 1px 2px rgba(0, 0, 0, 0.3));\n",
              "      fill: #FFFFFF;\n",
              "    }\n",
              "  </style>\n",
              "\n",
              "      <script>\n",
              "        const buttonEl =\n",
              "          document.querySelector('#df-52733666-43a3-4642-bfc1-5b698837e15b button.colab-df-convert');\n",
              "        buttonEl.style.display =\n",
              "          google.colab.kernel.accessAllowed ? 'block' : 'none';\n",
              "\n",
              "        async function convertToInteractive(key) {\n",
              "          const element = document.querySelector('#df-52733666-43a3-4642-bfc1-5b698837e15b');\n",
              "          const dataTable =\n",
              "            await google.colab.kernel.invokeFunction('convertToInteractive',\n",
              "                                                     [key], {});\n",
              "          if (!dataTable) return;\n",
              "\n",
              "          const docLinkHtml = 'Like what you see? Visit the ' +\n",
              "            '<a target=\"_blank\" href=https://colab.research.google.com/notebooks/data_table.ipynb>data table notebook</a>'\n",
              "            + ' to learn more about interactive tables.';\n",
              "          element.innerHTML = '';\n",
              "          dataTable['output_type'] = 'display_data';\n",
              "          await google.colab.output.renderOutput(dataTable, element);\n",
              "          const docLink = document.createElement('div');\n",
              "          docLink.innerHTML = docLinkHtml;\n",
              "          element.appendChild(docLink);\n",
              "        }\n",
              "      </script>\n",
              "    </div>\n",
              "  </div>\n",
              "  "
            ]
          },
          "metadata": {},
          "execution_count": 1
        }
      ],
      "source": [
        "from google.colab import drive\n",
        "drive.mount('/content/drive/', force_remount=True )\n",
        "import pandas as pd\n",
        "#%cd /content/drive/My Drive/bases_mentoria/\n",
        "#path= '/content/drive/My Drive/bases_mentoria/primer trimestre 2019'\n",
        "path= '/content/drive/My Drive/Mentoria/primer trimestre 2019'\n",
        "import glob\n",
        "filenames = glob.glob(path + \"/*.csv\")\n",
        "\n",
        "dfs = []\n",
        "for filename in filenames:\n",
        "    dfs.append(pd.read_csv(filename, encoding='latin-1', sep=\";\"))\n",
        "\n",
        "# Concatenate all data into one DataFrame\n",
        "big_frame = pd.concat(dfs, ignore_index=True)\n",
        "\n",
        "big_frame.head()\n"
      ]
    },
    {
      "cell_type": "code",
      "source": [
        "big_frame['m'] = big_frame.FECHA.astype(str).str[:10].astype(str)"
      ],
      "metadata": {
        "id": "wT29QwK5LxLK"
      },
      "execution_count": null,
      "outputs": []
    },
    {
      "cell_type": "code",
      "source": [
        "big_frame['hora'] = big_frame.FECHA.astype(str).str[11:].astype(str)"
      ],
      "metadata": {
        "id": "wYJ44v93IcJj"
      },
      "execution_count": null,
      "outputs": []
    },
    {
      "cell_type": "code",
      "source": [
        "big_frame['aux']=big_frame.FECHA.astype(str).str[19:].astype(str) \n"
      ],
      "metadata": {
        "id": "KDUY_s8gJ9-d"
      },
      "execution_count": null,
      "outputs": []
    },
    {
      "cell_type": "code",
      "source": [
        "big_frame['aux2']=big_frame.hora.astype(str).str[:2].astype(str) "
      ],
      "metadata": {
        "id": "9muwzCLIbMdt"
      },
      "execution_count": null,
      "outputs": []
    },
    {
      "cell_type": "code",
      "source": [
        "big_frame['hh']=big_frame.aux2 + big_frame.aux"
      ],
      "metadata": {
        "id": "NLnLd-BHbi2v"
      },
      "execution_count": null,
      "outputs": []
    },
    {
      "cell_type": "code",
      "source": [
        "big_frame.sort_values(by=['hh'], inplace=True)"
      ],
      "metadata": {
        "id": "9_qeT08Gcmip"
      },
      "execution_count": null,
      "outputs": []
    },
    {
      "cell_type": "code",
      "source": [
        "big_frame.m.value_counts()"
      ],
      "metadata": {
        "colab": {
          "base_uri": "https://localhost:8080/"
        },
        "id": "AL5sgBWx-I86",
        "outputId": "91a7e5f5-073b-45f2-be1b-4655081cb00e"
      },
      "execution_count": null,
      "outputs": [
        {
          "output_type": "execute_result",
          "data": {
            "text/plain": [
              "28/03/2019    176887\n",
              "29/03/2019    176481\n",
              "13/03/2019    174942\n",
              "12/03/2019    173855\n",
              "11/03/2019    173682\n",
              "               ...  \n",
              "20/01/2019     34871\n",
              "27/01/2019     34737\n",
              "13/01/2019     29166\n",
              "06/01/2019     22635\n",
              "01/01/2019     13487\n",
              "Name: m, Length: 90, dtype: int64"
            ]
          },
          "metadata": {},
          "execution_count": 8
        }
      ]
    },
    {
      "cell_type": "code",
      "source": [
        "big_frame['dia'] = pd.to_datetime(big_frame['m'])\n",
        "big_frame['dia'] = big_frame['dia'].dt.strftime('%d.%m.%Y')"
      ],
      "metadata": {
        "id": "XkRp8J6ArlsB"
      },
      "execution_count": null,
      "outputs": []
    },
    {
      "cell_type": "code",
      "source": [
        "big_frame.dia.value_counts()"
      ],
      "metadata": {
        "id": "yXZ26w50ruLA",
        "colab": {
          "base_uri": "https://localhost:8080/"
        },
        "outputId": "ab0ce594-83d9-47b3-8d84-5e0a9c09f315"
      },
      "execution_count": null,
      "outputs": [
        {
          "output_type": "execute_result",
          "data": {
            "text/plain": [
              "28.03.2019    176887\n",
              "29.03.2019    176481\n",
              "13.03.2019    174942\n",
              "03.12.2019    173855\n",
              "03.11.2019    173682\n",
              "               ...  \n",
              "20.01.2019     34871\n",
              "27.01.2019     34737\n",
              "13.01.2019     29166\n",
              "01.06.2019     22635\n",
              "01.01.2019     13487\n",
              "Name: dia, Length: 90, dtype: int64"
            ]
          },
          "metadata": {},
          "execution_count": 10
        }
      ]
    },
    {
      "cell_type": "code",
      "source": [
        "big_frame['dia2'] = pd.to_datetime(big_frame['dia'])"
      ],
      "metadata": {
        "id": "ggXqxtqhOtXB"
      },
      "execution_count": null,
      "outputs": []
    },
    {
      "cell_type": "code",
      "source": [
        "\n",
        "### EJERCICIO 1: INTERACTUAR CON BASES, CONVERTIR FORMATOS FECHAS, GENERAR VARIABLES NUEVAS (MES DIA )###\n",
        "big_frame['day_of_week'] = big_frame['dia2'].dt.day_name()\n"
      ],
      "metadata": {
        "id": "W_Cqq0bDfzn4"
      },
      "execution_count": null,
      "outputs": []
    },
    {
      "cell_type": "code",
      "source": [
        "big_frame.dia2.value_counts()"
      ],
      "metadata": {
        "id": "w9TXULYaPAPN",
        "colab": {
          "base_uri": "https://localhost:8080/"
        },
        "outputId": "590752fd-5843-454a-967d-4804ebb3c46c"
      },
      "execution_count": null,
      "outputs": [
        {
          "output_type": "execute_result",
          "data": {
            "text/plain": [
              "2019-03-28    176887\n",
              "2019-03-29    176481\n",
              "2019-03-13    174942\n",
              "2019-03-12    173855\n",
              "2019-03-11    173682\n",
              "               ...  \n",
              "2019-01-20     34871\n",
              "2019-01-27     34737\n",
              "2019-01-13     29166\n",
              "2019-01-06     22635\n",
              "2019-01-01     13487\n",
              "Name: dia2, Length: 90, dtype: int64"
            ]
          },
          "metadata": {},
          "execution_count": 13
        }
      ]
    },
    {
      "cell_type": "code",
      "source": [
        "big_frame.shape"
      ],
      "metadata": {
        "id": "peesTm-qojCj",
        "colab": {
          "base_uri": "https://localhost:8080/"
        },
        "outputId": "e9ed4f98-23fd-4b30-d72d-df7cb637e38b"
      },
      "execution_count": null,
      "outputs": [
        {
          "output_type": "execute_result",
          "data": {
            "text/plain": [
              "(10290050, 14)"
            ]
          },
          "metadata": {},
          "execution_count": 14
        }
      ]
    },
    {
      "cell_type": "code",
      "source": [
        "###EJERCICIO 2: \n",
        "##APLICAR ESTADÍSTICOS DESCRIPTIVOS SOBRE CORTES DE BOLETOS: \n",
        "## 1) VARIABLES ESPACIALES: CORREDOR, LINEA Y SENTIDO\n",
        "  ## CONTAMOS VIAJES POR  POR CORREDOR, LINEA Y SENTIDO , POR DIA###\n",
        "big_frame['AUX']=1\n",
        "big_frame['VIAJES_DIA_HORA_CORREDOR']=big_frame.groupby(['CORREDOR', 'dia2', 'hh'])['AUX'].transform('sum')\n",
        "big_frame['VIAJES_DIA_HORA_LINEA']=big_frame.groupby(['LINEA', 'dia2', 'hh'])['AUX'].transform('sum')\n",
        "big_frame['SENTIDO_IDA_HORA']=0\n",
        "mask=big_frame.SENTIDO==\"Ida\"\n",
        "big_frame.loc[mask,'SENTIDO_IDA_HORA']=1\n",
        "big_frame['SENTIDO_VUELTA_HORA']=0\n",
        "mask=big_frame.SENTIDO==\"Vuelta\"\n",
        "big_frame.loc[mask,'SENTIDO_VUELTA_HORA']=1\n",
        "\n",
        "big_frame['VIAJES_DIA_HORA_LINEA_SENT_IDA']=big_frame.groupby(['LINEA', 'dia2', 'hh'])['SENTIDO_IDA_HORA'].transform('sum')\n",
        "big_frame['VIAJES_DIA_HORA_LINEA_SENT_VUELTA']=big_frame.groupby(['LINEA', 'dia2', 'hh'])['SENTIDO_VUELTA_HORA'].transform('sum')\n",
        "big_frame.head(10)\n",
        "\n",
        "big_frame= big_frame.drop_duplicates(['CORREDOR', 'LINEA', 'dia2', 'VIAJES_DIA_HORA_CORREDOR', \t'VIAJES_DIA_HORA_LINEA' , 'VIAJES_DIA_HORA_LINEA_SENT_IDA', \t'VIAJES_DIA_HORA_LINEA_SENT_VUELTA', 'hh' ])\n",
        "big_frame.head()\n",
        "big_frame=big_frame.loc[:,['CORREDOR', 'LINEA', 'dia2',  'VIAJES_DIA_HORA_CORREDOR', \t'VIAJES_DIA_HORA_LINEA' , 'VIAJES_DIA_HORA_LINEA_SENT_IDA', \t'VIAJES_DIA_HORA_LINEA_SENT_VUELTA', 'hh' ]]\n",
        "#df1.to_csv(\"df1.csv\", index=None)\n",
        "#from google.colab import files\n",
        "#files.download('df1.csv') \n",
        "\n",
        "## 2) VARIABLES TEMPORALES: MES DIA DE LA SEMANA Y HORA##\n",
        "## 3) ANALIZAR ESTACIONALIDAD\n",
        "## IDEM SOBRE TARJETAS MESES USADAS VS DIAS PROMEDIO USADAS (¿OUTLIERS?, CANTIDAD DE USOS DIA)\n",
        "\n",
        "###LUEGO GUARDAMOS UN DF PARA PODER LUEGO HACER LOOP, DIGAMOS, DEBERIA HABER 2 LOOP, EL QUE LEVANTA Y PROCESA Y LUEGO EL QEU UNE TODO##"
      ],
      "metadata": {
        "id": "3anTv68wySKE"
      },
      "execution_count": null,
      "outputs": []
    },
    {
      "cell_type": "code",
      "source": [
        "big_frame.shape"
      ],
      "metadata": {
        "id": "9WV3h78Vipyw",
        "colab": {
          "base_uri": "https://localhost:8080/"
        },
        "outputId": "e47035e0-cc22-4f8b-8a80-f324d9899d67"
      },
      "execution_count": null,
      "outputs": [
        {
          "output_type": "execute_result",
          "data": {
            "text/plain": [
              "(126191, 8)"
            ]
          },
          "metadata": {},
          "execution_count": 16
        }
      ]
    },
    {
      "cell_type": "code",
      "source": [
        "viajes_1t19= big_frame\n",
        "viajes_1t19.to_csv(\"viajes_hora_1t19.csv\", index=None)\n",
        "from google.colab import files\n",
        "files.download('viajes_hora_1t19.csv') \n",
        "\n"
      ],
      "metadata": {
        "id": "F7TYNlQEknlV",
        "colab": {
          "base_uri": "https://localhost:8080/",
          "height": 17
        },
        "outputId": "d087611b-302f-4895-a91c-643fdd726c73"
      },
      "execution_count": null,
      "outputs": [
        {
          "output_type": "display_data",
          "data": {
            "text/plain": [
              "<IPython.core.display.Javascript object>"
            ],
            "application/javascript": [
              "\n",
              "    async function download(id, filename, size) {\n",
              "      if (!google.colab.kernel.accessAllowed) {\n",
              "        return;\n",
              "      }\n",
              "      const div = document.createElement('div');\n",
              "      const label = document.createElement('label');\n",
              "      label.textContent = `Downloading \"${filename}\": `;\n",
              "      div.appendChild(label);\n",
              "      const progress = document.createElement('progress');\n",
              "      progress.max = size;\n",
              "      div.appendChild(progress);\n",
              "      document.body.appendChild(div);\n",
              "\n",
              "      const buffers = [];\n",
              "      let downloaded = 0;\n",
              "\n",
              "      const channel = await google.colab.kernel.comms.open(id);\n",
              "      // Send a message to notify the kernel that we're ready.\n",
              "      channel.send({})\n",
              "\n",
              "      for await (const message of channel.messages) {\n",
              "        // Send a message to notify the kernel that we're ready.\n",
              "        channel.send({})\n",
              "        if (message.buffers) {\n",
              "          for (const buffer of message.buffers) {\n",
              "            buffers.push(buffer);\n",
              "            downloaded += buffer.byteLength;\n",
              "            progress.value = downloaded;\n",
              "          }\n",
              "        }\n",
              "      }\n",
              "      const blob = new Blob(buffers, {type: 'application/binary'});\n",
              "      const a = document.createElement('a');\n",
              "      a.href = window.URL.createObjectURL(blob);\n",
              "      a.download = filename;\n",
              "      div.appendChild(a);\n",
              "      a.click();\n",
              "      div.remove();\n",
              "    }\n",
              "  "
            ]
          },
          "metadata": {}
        },
        {
          "output_type": "display_data",
          "data": {
            "text/plain": [
              "<IPython.core.display.Javascript object>"
            ],
            "application/javascript": [
              "download(\"download_7fc4fb68-fae4-4e58-95e9-bdd3cae5af2c\", \"viajes_hora_1t19.csv\", 5874122)"
            ]
          },
          "metadata": {}
        }
      ]
    },
    {
      "cell_type": "code",
      "source": [
        "##LO MISMO PARA EL SEGUNDO TRIMESTRE DE 2019#\n",
        "from google.colab import drive\n",
        "drive.mount('/content/drive/', force_remount=True )\n",
        "import pandas as pd\n",
        "#%cd /content/drive/My Drive/bases_mentoria/\n",
        "path= '/content/drive/My Drive/Mentoria/segundo trimestre 2019'\n",
        "import glob\n",
        "filenames = glob.glob(path + \"/*.csv\")\n",
        "\n",
        "dfs = []\n",
        "for filename in filenames:\n",
        "    dfs.append(pd.read_csv(filename, encoding='latin-1', sep=\";\"))\n",
        "\n",
        "# Concatenate all data into one DataFrame\n",
        "big_frame = pd.concat(dfs, ignore_index=True)\n",
        "\n",
        "big_frame.head()\n",
        "\n",
        "\n"
      ],
      "metadata": {
        "id": "Bj0X5ZjvSTXH",
        "colab": {
          "base_uri": "https://localhost:8080/",
          "height": 224
        },
        "outputId": "504cdb51-89fa-4a67-81ea-2a6831190a0d"
      },
      "execution_count": null,
      "outputs": [
        {
          "output_type": "stream",
          "name": "stdout",
          "text": [
            "Mounted at /content/drive/\n"
          ]
        },
        {
          "output_type": "execute_result",
          "data": {
            "text/plain": [
              "                    FECHA           FECHAAPERTURA  TARJETA    CORREDOR LINEA  \\\n",
              "0  05/04/2019 12:00:08 AM  04/04/2019 10:02:49 PM  4884082  Cor 8 Rojo   L82   \n",
              "1  05/04/2019 12:00:10 AM  04/04/2019 11:30:03 PM  5871414       TROLE     B   \n",
              "2  05/04/2019 12:00:12 AM  04/04/2019 10:43:21 PM  5813430  Cor 7 Azul   L75   \n",
              "3  05/04/2019 12:00:13 AM  04/04/2019 11:42:13 PM  3262031  Cor 2 Azul   L26   \n",
              "4  05/04/2019 12:00:15 AM  04/04/2019 10:59:19 PM  5791090  Cor 7 Azul   L74   \n",
              "\n",
              "  SENTIDO  \n",
              "0  Vuelta  \n",
              "1  Vuelta  \n",
              "2  Vuelta  \n",
              "3     Ida  \n",
              "4  Vuelta  "
            ],
            "text/html": [
              "\n",
              "  <div id=\"df-b6a49570-0cf9-457a-8824-8348002a00ab\">\n",
              "    <div class=\"colab-df-container\">\n",
              "      <div>\n",
              "<style scoped>\n",
              "    .dataframe tbody tr th:only-of-type {\n",
              "        vertical-align: middle;\n",
              "    }\n",
              "\n",
              "    .dataframe tbody tr th {\n",
              "        vertical-align: top;\n",
              "    }\n",
              "\n",
              "    .dataframe thead th {\n",
              "        text-align: right;\n",
              "    }\n",
              "</style>\n",
              "<table border=\"1\" class=\"dataframe\">\n",
              "  <thead>\n",
              "    <tr style=\"text-align: right;\">\n",
              "      <th></th>\n",
              "      <th>FECHA</th>\n",
              "      <th>FECHAAPERTURA</th>\n",
              "      <th>TARJETA</th>\n",
              "      <th>CORREDOR</th>\n",
              "      <th>LINEA</th>\n",
              "      <th>SENTIDO</th>\n",
              "    </tr>\n",
              "  </thead>\n",
              "  <tbody>\n",
              "    <tr>\n",
              "      <th>0</th>\n",
              "      <td>05/04/2019 12:00:08 AM</td>\n",
              "      <td>04/04/2019 10:02:49 PM</td>\n",
              "      <td>4884082</td>\n",
              "      <td>Cor 8 Rojo</td>\n",
              "      <td>L82</td>\n",
              "      <td>Vuelta</td>\n",
              "    </tr>\n",
              "    <tr>\n",
              "      <th>1</th>\n",
              "      <td>05/04/2019 12:00:10 AM</td>\n",
              "      <td>04/04/2019 11:30:03 PM</td>\n",
              "      <td>5871414</td>\n",
              "      <td>TROLE</td>\n",
              "      <td>B</td>\n",
              "      <td>Vuelta</td>\n",
              "    </tr>\n",
              "    <tr>\n",
              "      <th>2</th>\n",
              "      <td>05/04/2019 12:00:12 AM</td>\n",
              "      <td>04/04/2019 10:43:21 PM</td>\n",
              "      <td>5813430</td>\n",
              "      <td>Cor 7 Azul</td>\n",
              "      <td>L75</td>\n",
              "      <td>Vuelta</td>\n",
              "    </tr>\n",
              "    <tr>\n",
              "      <th>3</th>\n",
              "      <td>05/04/2019 12:00:13 AM</td>\n",
              "      <td>04/04/2019 11:42:13 PM</td>\n",
              "      <td>3262031</td>\n",
              "      <td>Cor 2 Azul</td>\n",
              "      <td>L26</td>\n",
              "      <td>Ida</td>\n",
              "    </tr>\n",
              "    <tr>\n",
              "      <th>4</th>\n",
              "      <td>05/04/2019 12:00:15 AM</td>\n",
              "      <td>04/04/2019 10:59:19 PM</td>\n",
              "      <td>5791090</td>\n",
              "      <td>Cor 7 Azul</td>\n",
              "      <td>L74</td>\n",
              "      <td>Vuelta</td>\n",
              "    </tr>\n",
              "  </tbody>\n",
              "</table>\n",
              "</div>\n",
              "      <button class=\"colab-df-convert\" onclick=\"convertToInteractive('df-b6a49570-0cf9-457a-8824-8348002a00ab')\"\n",
              "              title=\"Convert this dataframe to an interactive table.\"\n",
              "              style=\"display:none;\">\n",
              "        \n",
              "  <svg xmlns=\"http://www.w3.org/2000/svg\" height=\"24px\"viewBox=\"0 0 24 24\"\n",
              "       width=\"24px\">\n",
              "    <path d=\"M0 0h24v24H0V0z\" fill=\"none\"/>\n",
              "    <path d=\"M18.56 5.44l.94 2.06.94-2.06 2.06-.94-2.06-.94-.94-2.06-.94 2.06-2.06.94zm-11 1L8.5 8.5l.94-2.06 2.06-.94-2.06-.94L8.5 2.5l-.94 2.06-2.06.94zm10 10l.94 2.06.94-2.06 2.06-.94-2.06-.94-.94-2.06-.94 2.06-2.06.94z\"/><path d=\"M17.41 7.96l-1.37-1.37c-.4-.4-.92-.59-1.43-.59-.52 0-1.04.2-1.43.59L10.3 9.45l-7.72 7.72c-.78.78-.78 2.05 0 2.83L4 21.41c.39.39.9.59 1.41.59.51 0 1.02-.2 1.41-.59l7.78-7.78 2.81-2.81c.8-.78.8-2.07 0-2.86zM5.41 20L4 18.59l7.72-7.72 1.47 1.35L5.41 20z\"/>\n",
              "  </svg>\n",
              "      </button>\n",
              "      \n",
              "  <style>\n",
              "    .colab-df-container {\n",
              "      display:flex;\n",
              "      flex-wrap:wrap;\n",
              "      gap: 12px;\n",
              "    }\n",
              "\n",
              "    .colab-df-convert {\n",
              "      background-color: #E8F0FE;\n",
              "      border: none;\n",
              "      border-radius: 50%;\n",
              "      cursor: pointer;\n",
              "      display: none;\n",
              "      fill: #1967D2;\n",
              "      height: 32px;\n",
              "      padding: 0 0 0 0;\n",
              "      width: 32px;\n",
              "    }\n",
              "\n",
              "    .colab-df-convert:hover {\n",
              "      background-color: #E2EBFA;\n",
              "      box-shadow: 0px 1px 2px rgba(60, 64, 67, 0.3), 0px 1px 3px 1px rgba(60, 64, 67, 0.15);\n",
              "      fill: #174EA6;\n",
              "    }\n",
              "\n",
              "    [theme=dark] .colab-df-convert {\n",
              "      background-color: #3B4455;\n",
              "      fill: #D2E3FC;\n",
              "    }\n",
              "\n",
              "    [theme=dark] .colab-df-convert:hover {\n",
              "      background-color: #434B5C;\n",
              "      box-shadow: 0px 1px 3px 1px rgba(0, 0, 0, 0.15);\n",
              "      filter: drop-shadow(0px 1px 2px rgba(0, 0, 0, 0.3));\n",
              "      fill: #FFFFFF;\n",
              "    }\n",
              "  </style>\n",
              "\n",
              "      <script>\n",
              "        const buttonEl =\n",
              "          document.querySelector('#df-b6a49570-0cf9-457a-8824-8348002a00ab button.colab-df-convert');\n",
              "        buttonEl.style.display =\n",
              "          google.colab.kernel.accessAllowed ? 'block' : 'none';\n",
              "\n",
              "        async function convertToInteractive(key) {\n",
              "          const element = document.querySelector('#df-b6a49570-0cf9-457a-8824-8348002a00ab');\n",
              "          const dataTable =\n",
              "            await google.colab.kernel.invokeFunction('convertToInteractive',\n",
              "                                                     [key], {});\n",
              "          if (!dataTable) return;\n",
              "\n",
              "          const docLinkHtml = 'Like what you see? Visit the ' +\n",
              "            '<a target=\"_blank\" href=https://colab.research.google.com/notebooks/data_table.ipynb>data table notebook</a>'\n",
              "            + ' to learn more about interactive tables.';\n",
              "          element.innerHTML = '';\n",
              "          dataTable['output_type'] = 'display_data';\n",
              "          await google.colab.output.renderOutput(dataTable, element);\n",
              "          const docLink = document.createElement('div');\n",
              "          docLink.innerHTML = docLinkHtml;\n",
              "          element.appendChild(docLink);\n",
              "        }\n",
              "      </script>\n",
              "    </div>\n",
              "  </div>\n",
              "  "
            ]
          },
          "metadata": {},
          "execution_count": 1
        }
      ]
    },
    {
      "cell_type": "code",
      "source": [
        "big_frame['m'] = big_frame.FECHA.astype(str).str[:10].astype(str)"
      ],
      "metadata": {
        "id": "YNWaEM-Dk0H3"
      },
      "execution_count": null,
      "outputs": []
    },
    {
      "cell_type": "code",
      "source": [
        "big_frame['hora'] = big_frame.FECHA.astype(str).str[11:].astype(str)"
      ],
      "metadata": {
        "id": "eLlFIqr0nqCj"
      },
      "execution_count": null,
      "outputs": []
    },
    {
      "cell_type": "code",
      "source": [
        "big_frame['aux']=big_frame.FECHA.astype(str).str[19:].astype(str) "
      ],
      "metadata": {
        "id": "hzBigdlInqKs"
      },
      "execution_count": null,
      "outputs": []
    },
    {
      "cell_type": "code",
      "source": [
        "big_frame['aux2']=big_frame.hora.astype(str).str[:2].astype(str) "
      ],
      "metadata": {
        "id": "yPXJM17TnqR5"
      },
      "execution_count": null,
      "outputs": []
    },
    {
      "cell_type": "code",
      "source": [
        "big_frame['hh']=big_frame.aux2 + big_frame.aux"
      ],
      "metadata": {
        "id": "USA_OcfAnqaR"
      },
      "execution_count": null,
      "outputs": []
    },
    {
      "cell_type": "code",
      "source": [
        "big_frame.sort_values(by=['hh'], inplace=True)"
      ],
      "metadata": {
        "id": "FUCIaSfcn5WX"
      },
      "execution_count": null,
      "outputs": []
    },
    {
      "cell_type": "code",
      "source": [
        "big_frame.m.value_counts()"
      ],
      "metadata": {
        "id": "I3INqLT3k4T_",
        "colab": {
          "base_uri": "https://localhost:8080/"
        },
        "outputId": "6492e6c1-ba64-4487-d105-adc2fbe455b3"
      },
      "execution_count": null,
      "outputs": [
        {
          "output_type": "execute_result",
          "data": {
            "text/plain": [
              "10/05/2019    191236\n",
              "14/06/2019    189752\n",
              "07/06/2019    188931\n",
              "13/06/2019    188717\n",
              "16/05/2019    188680\n",
              "               ...  \n",
              "05/05/2019     41274\n",
              "21/04/2019     39324\n",
              "16/06/2019     37555\n",
              "01/05/2019       555\n",
              "29/05/2019       383\n",
              "Name: m, Length: 91, dtype: int64"
            ]
          },
          "metadata": {},
          "execution_count": 9
        }
      ]
    },
    {
      "cell_type": "code",
      "source": [
        "big_frame['dia'] = pd.to_datetime(big_frame['m'])\n",
        "big_frame['dia'] = big_frame['dia'].dt.strftime('%d.%m.%Y')"
      ],
      "metadata": {
        "id": "dWoasI5kk4kx"
      },
      "execution_count": null,
      "outputs": []
    },
    {
      "cell_type": "code",
      "source": [
        "big_frame.dia.value_counts()"
      ],
      "metadata": {
        "id": "0RImabQhk4pR",
        "colab": {
          "base_uri": "https://localhost:8080/"
        },
        "outputId": "8da8d6ec-31c0-4373-ec70-4fb956d2c9c8"
      },
      "execution_count": null,
      "outputs": [
        {
          "output_type": "execute_result",
          "data": {
            "text/plain": [
              "05.10.2019    191236\n",
              "14.06.2019    189752\n",
              "06.07.2019    188931\n",
              "13.06.2019    188717\n",
              "16.05.2019    188680\n",
              "               ...  \n",
              "05.05.2019     41274\n",
              "21.04.2019     39324\n",
              "16.06.2019     37555\n",
              "05.01.2019       555\n",
              "29.05.2019       383\n",
              "Name: dia, Length: 91, dtype: int64"
            ]
          },
          "metadata": {},
          "execution_count": 10
        }
      ]
    },
    {
      "cell_type": "code",
      "source": [
        "big_frame['dia2'] = pd.to_datetime(big_frame['dia'])"
      ],
      "metadata": {
        "id": "kCV5Qod3k4s4"
      },
      "execution_count": null,
      "outputs": []
    },
    {
      "cell_type": "code",
      "source": [
        "### EJERCICIO 1: INTERACTUAR CON BASES, CONVERTIR FORMATOS FECHAS, GENERAR VARIABLES NUEVAS (MES DIA )###\n"
      ],
      "metadata": {
        "id": "PoeAp23Ak4wR"
      },
      "execution_count": null,
      "outputs": []
    },
    {
      "cell_type": "code",
      "source": [
        "big_frame.shape"
      ],
      "metadata": {
        "id": "LEFX_dkaooeR",
        "colab": {
          "base_uri": "https://localhost:8080/"
        },
        "outputId": "0d7b7f33-d504-47f1-cff5-221e0ea3e463"
      },
      "execution_count": null,
      "outputs": [
        {
          "output_type": "execute_result",
          "data": {
            "text/plain": [
              "(12607201, 13)"
            ]
          },
          "metadata": {},
          "execution_count": 10
        }
      ]
    },
    {
      "cell_type": "code",
      "source": [
        "###EJERCICIO 2: \n",
        "##APLICAR ESTADÍSTICOS DESCRIPTIVOS SOBRE CORTES DE BOLETOS: \n",
        "## 1) VARIABLES ESPACIALES: CORREDOR, LINEA Y SENTIDO\n",
        "  ## CONTAMOS VIAJES POR  POR CORREDOR, LINEA Y SENTIDO , POR DIA###\n",
        "big_frame['AUX']=1\n",
        "big_frame['VIAJES_DIA_HORA_CORREDOR']=big_frame.groupby(['CORREDOR', 'dia2', 'hh'])['AUX'].transform('sum')\n",
        "big_frame['VIAJES_DIA_HORA_LINEA']=big_frame.groupby(['LINEA', 'dia2', 'hh'])['AUX'].transform('sum')\n",
        "big_frame['SENTIDO_IDA_HORA']=0\n",
        "mask=big_frame.SENTIDO==\"Ida\"\n",
        "big_frame.loc[mask,'SENTIDO_IDA_HORA']=1\n",
        "big_frame['SENTIDO_VUELTA_HORA']=0\n",
        "mask=big_frame.SENTIDO==\"Vuelta\"\n",
        "big_frame.loc[mask,'SENTIDO_VUELTA_HORA']=1\n",
        "\n",
        "big_frame['VIAJES_DIA_HORA_LINEA_SENT_IDA']=big_frame.groupby(['LINEA', 'dia2', 'hh'])['SENTIDO_IDA_HORA'].transform('sum')\n",
        "big_frame['VIAJES_DIA_HORA_LINEA_SENT_VUELTA']=big_frame.groupby(['LINEA', 'dia2', 'hh'])['SENTIDO_VUELTA_HORA'].transform('sum')\n",
        "big_frame.head(10)\n",
        "\n",
        "big_frame= big_frame.drop_duplicates(['CORREDOR', 'LINEA', 'dia2', 'VIAJES_DIA_HORA_CORREDOR', \t'VIAJES_DIA_HORA_LINEA' , 'VIAJES_DIA_HORA_LINEA_SENT_IDA', \t'VIAJES_DIA_HORA_LINEA_SENT_VUELTA', 'hh' ])\n",
        "big_frame.head()\n",
        "big_frame=big_frame.loc[:,['CORREDOR', 'LINEA', 'dia2',  'VIAJES_DIA_HORA_CORREDOR', \t'VIAJES_DIA_HORA_LINEA' , 'VIAJES_DIA_HORA_LINEA_SENT_IDA', \t'VIAJES_DIA_HORA_LINEA_SENT_VUELTA', 'hh' ]]\n",
        "#df1.to_csv(\"df1.csv\", index=None)\n",
        "#from google.colab import files\n",
        "#files.download('df1.csv') \n",
        "\n",
        "## 2) VARIABLES TEMPORALES: MES DIA DE LA SEMANA Y HORA##\n",
        "## 3) ANALIZAR ESTACIONALIDAD\n",
        "## IDEM SOBRE TARJETAS MESES USADAS VS DIAS PROMEDIO USADAS (¿OUTLIERS?, CANTIDAD DE USOS DIA)\n",
        "\n",
        "###LUEGO GUARDAMOS UN DF PARA PODER LUEGO HACER LOOP, DIGAMOS, DEBERIA HABER 2 LOOP, EL QUE LEVANTA Y PROCESA Y LUEGO EL QEU UNE TODO##"
      ],
      "metadata": {
        "id": "GtEStRtHlDvI"
      },
      "execution_count": null,
      "outputs": []
    },
    {
      "cell_type": "code",
      "source": [
        "big_frame.shape"
      ],
      "metadata": {
        "id": "u0YRxU-UlDyh"
      },
      "execution_count": null,
      "outputs": []
    },
    {
      "cell_type": "code",
      "source": [
        "big_frame.dia2.value_counts()"
      ],
      "metadata": {
        "id": "ucBUI5CrlZMM"
      },
      "execution_count": null,
      "outputs": []
    },
    {
      "cell_type": "code",
      "source": [
        "viajes_2t19= big_frame\n",
        "viajes_2t19.to_csv(\"viajes_hora_2t19.csv\", index=None)\n",
        "from google.colab import files\n",
        "files.download('viajes_hora_2t19.csv') \n"
      ],
      "metadata": {
        "id": "1xTCrSeJlZS7",
        "colab": {
          "base_uri": "https://localhost:8080/",
          "height": 17
        },
        "outputId": "a2817614-0611-4467-856e-4082e67e2187"
      },
      "execution_count": null,
      "outputs": [
        {
          "output_type": "display_data",
          "data": {
            "text/plain": [
              "<IPython.core.display.Javascript object>"
            ],
            "application/javascript": [
              "\n",
              "    async function download(id, filename, size) {\n",
              "      if (!google.colab.kernel.accessAllowed) {\n",
              "        return;\n",
              "      }\n",
              "      const div = document.createElement('div');\n",
              "      const label = document.createElement('label');\n",
              "      label.textContent = `Downloading \"${filename}\": `;\n",
              "      div.appendChild(label);\n",
              "      const progress = document.createElement('progress');\n",
              "      progress.max = size;\n",
              "      div.appendChild(progress);\n",
              "      document.body.appendChild(div);\n",
              "\n",
              "      const buffers = [];\n",
              "      let downloaded = 0;\n",
              "\n",
              "      const channel = await google.colab.kernel.comms.open(id);\n",
              "      // Send a message to notify the kernel that we're ready.\n",
              "      channel.send({})\n",
              "\n",
              "      for await (const message of channel.messages) {\n",
              "        // Send a message to notify the kernel that we're ready.\n",
              "        channel.send({})\n",
              "        if (message.buffers) {\n",
              "          for (const buffer of message.buffers) {\n",
              "            buffers.push(buffer);\n",
              "            downloaded += buffer.byteLength;\n",
              "            progress.value = downloaded;\n",
              "          }\n",
              "        }\n",
              "      }\n",
              "      const blob = new Blob(buffers, {type: 'application/binary'});\n",
              "      const a = document.createElement('a');\n",
              "      a.href = window.URL.createObjectURL(blob);\n",
              "      a.download = filename;\n",
              "      div.appendChild(a);\n",
              "      a.click();\n",
              "      div.remove();\n",
              "    }\n",
              "  "
            ]
          },
          "metadata": {}
        },
        {
          "output_type": "display_data",
          "data": {
            "text/plain": [
              "<IPython.core.display.Javascript object>"
            ],
            "application/javascript": [
              "download(\"download_47d78fd1-2dbb-491a-a8d2-38eece9e512c\", \"viajes_hora_2t19.csv\", 5929326)"
            ]
          },
          "metadata": {}
        }
      ]
    },
    {
      "cell_type": "code",
      "source": [
        ""
      ],
      "metadata": {
        "id": "BRJNzgtPlZZv"
      },
      "execution_count": null,
      "outputs": []
    },
    {
      "cell_type": "code",
      "source": [
        "##LO MISMO PARA EL TERCER TRIMESTRE DE 2019#\n",
        "from google.colab import drive\n",
        "drive.mount('/content/drive/', force_remount=True )\n",
        "import pandas as pd\n",
        "#%cd /content/drive/My Drive/bases_mentoria/\n",
        "path= '/content/drive/My Drive/Mentoria/tercer trimestre 2019'\n",
        "import glob\n",
        "filenames = glob.glob(path + \"/*.csv\")\n",
        "\n",
        "dfs = []\n",
        "for filename in filenames:\n",
        "    dfs.append(pd.read_csv(filename, encoding='latin-1', sep=\";\"))\n",
        "\n",
        "# Concatenate all data into one DataFrame\n",
        "big_frame = pd.concat(dfs, ignore_index=True)\n",
        "\n",
        "big_frame.head()\n",
        "\n",
        "\n"
      ],
      "metadata": {
        "id": "QzozAc5PiSl2",
        "colab": {
          "base_uri": "https://localhost:8080/",
          "height": 224
        },
        "outputId": "6656ebd4-595f-4fc3-dc0c-869a8e890940"
      },
      "execution_count": null,
      "outputs": [
        {
          "output_type": "stream",
          "name": "stdout",
          "text": [
            "Mounted at /content/drive/\n"
          ]
        },
        {
          "output_type": "execute_result",
          "data": {
            "text/plain": [
              "                    FECHA           FECHAAPERTURA  TARJETA        CORREDOR  \\\n",
              "0  06/07/2019 12:00:07 AM  05/07/2019 11:28:07 PM  5099043   Cor 1 Naranja   \n",
              "1  06/07/2019 12:00:29 AM  05/07/2019 11:32:24 PM  5515754   Cor 6 Naranja   \n",
              "2  06/07/2019 12:00:29 AM  05/07/2019 11:05:36 PM  4971142  Cor 5 Amarillo   \n",
              "3  06/07/2019 12:00:30 AM  05/07/2019 11:05:36 PM  4971142  Cor 5 Amarillo   \n",
              "4  06/07/2019 12:00:33 AM  05/07/2019 11:05:36 PM  4971142  Cor 5 Amarillo   \n",
              "\n",
              "  LINEA SENTIDO  \n",
              "0   L12     Ida  \n",
              "1   L67     Ida  \n",
              "2   L50  Vuelta  \n",
              "3   L50  Vuelta  \n",
              "4   L50  Vuelta  "
            ],
            "text/html": [
              "\n",
              "  <div id=\"df-8585ac9d-c475-49e0-898d-abe28a39be8c\">\n",
              "    <div class=\"colab-df-container\">\n",
              "      <div>\n",
              "<style scoped>\n",
              "    .dataframe tbody tr th:only-of-type {\n",
              "        vertical-align: middle;\n",
              "    }\n",
              "\n",
              "    .dataframe tbody tr th {\n",
              "        vertical-align: top;\n",
              "    }\n",
              "\n",
              "    .dataframe thead th {\n",
              "        text-align: right;\n",
              "    }\n",
              "</style>\n",
              "<table border=\"1\" class=\"dataframe\">\n",
              "  <thead>\n",
              "    <tr style=\"text-align: right;\">\n",
              "      <th></th>\n",
              "      <th>FECHA</th>\n",
              "      <th>FECHAAPERTURA</th>\n",
              "      <th>TARJETA</th>\n",
              "      <th>CORREDOR</th>\n",
              "      <th>LINEA</th>\n",
              "      <th>SENTIDO</th>\n",
              "    </tr>\n",
              "  </thead>\n",
              "  <tbody>\n",
              "    <tr>\n",
              "      <th>0</th>\n",
              "      <td>06/07/2019 12:00:07 AM</td>\n",
              "      <td>05/07/2019 11:28:07 PM</td>\n",
              "      <td>5099043</td>\n",
              "      <td>Cor 1 Naranja</td>\n",
              "      <td>L12</td>\n",
              "      <td>Ida</td>\n",
              "    </tr>\n",
              "    <tr>\n",
              "      <th>1</th>\n",
              "      <td>06/07/2019 12:00:29 AM</td>\n",
              "      <td>05/07/2019 11:32:24 PM</td>\n",
              "      <td>5515754</td>\n",
              "      <td>Cor 6 Naranja</td>\n",
              "      <td>L67</td>\n",
              "      <td>Ida</td>\n",
              "    </tr>\n",
              "    <tr>\n",
              "      <th>2</th>\n",
              "      <td>06/07/2019 12:00:29 AM</td>\n",
              "      <td>05/07/2019 11:05:36 PM</td>\n",
              "      <td>4971142</td>\n",
              "      <td>Cor 5 Amarillo</td>\n",
              "      <td>L50</td>\n",
              "      <td>Vuelta</td>\n",
              "    </tr>\n",
              "    <tr>\n",
              "      <th>3</th>\n",
              "      <td>06/07/2019 12:00:30 AM</td>\n",
              "      <td>05/07/2019 11:05:36 PM</td>\n",
              "      <td>4971142</td>\n",
              "      <td>Cor 5 Amarillo</td>\n",
              "      <td>L50</td>\n",
              "      <td>Vuelta</td>\n",
              "    </tr>\n",
              "    <tr>\n",
              "      <th>4</th>\n",
              "      <td>06/07/2019 12:00:33 AM</td>\n",
              "      <td>05/07/2019 11:05:36 PM</td>\n",
              "      <td>4971142</td>\n",
              "      <td>Cor 5 Amarillo</td>\n",
              "      <td>L50</td>\n",
              "      <td>Vuelta</td>\n",
              "    </tr>\n",
              "  </tbody>\n",
              "</table>\n",
              "</div>\n",
              "      <button class=\"colab-df-convert\" onclick=\"convertToInteractive('df-8585ac9d-c475-49e0-898d-abe28a39be8c')\"\n",
              "              title=\"Convert this dataframe to an interactive table.\"\n",
              "              style=\"display:none;\">\n",
              "        \n",
              "  <svg xmlns=\"http://www.w3.org/2000/svg\" height=\"24px\"viewBox=\"0 0 24 24\"\n",
              "       width=\"24px\">\n",
              "    <path d=\"M0 0h24v24H0V0z\" fill=\"none\"/>\n",
              "    <path d=\"M18.56 5.44l.94 2.06.94-2.06 2.06-.94-2.06-.94-.94-2.06-.94 2.06-2.06.94zm-11 1L8.5 8.5l.94-2.06 2.06-.94-2.06-.94L8.5 2.5l-.94 2.06-2.06.94zm10 10l.94 2.06.94-2.06 2.06-.94-2.06-.94-.94-2.06-.94 2.06-2.06.94z\"/><path d=\"M17.41 7.96l-1.37-1.37c-.4-.4-.92-.59-1.43-.59-.52 0-1.04.2-1.43.59L10.3 9.45l-7.72 7.72c-.78.78-.78 2.05 0 2.83L4 21.41c.39.39.9.59 1.41.59.51 0 1.02-.2 1.41-.59l7.78-7.78 2.81-2.81c.8-.78.8-2.07 0-2.86zM5.41 20L4 18.59l7.72-7.72 1.47 1.35L5.41 20z\"/>\n",
              "  </svg>\n",
              "      </button>\n",
              "      \n",
              "  <style>\n",
              "    .colab-df-container {\n",
              "      display:flex;\n",
              "      flex-wrap:wrap;\n",
              "      gap: 12px;\n",
              "    }\n",
              "\n",
              "    .colab-df-convert {\n",
              "      background-color: #E8F0FE;\n",
              "      border: none;\n",
              "      border-radius: 50%;\n",
              "      cursor: pointer;\n",
              "      display: none;\n",
              "      fill: #1967D2;\n",
              "      height: 32px;\n",
              "      padding: 0 0 0 0;\n",
              "      width: 32px;\n",
              "    }\n",
              "\n",
              "    .colab-df-convert:hover {\n",
              "      background-color: #E2EBFA;\n",
              "      box-shadow: 0px 1px 2px rgba(60, 64, 67, 0.3), 0px 1px 3px 1px rgba(60, 64, 67, 0.15);\n",
              "      fill: #174EA6;\n",
              "    }\n",
              "\n",
              "    [theme=dark] .colab-df-convert {\n",
              "      background-color: #3B4455;\n",
              "      fill: #D2E3FC;\n",
              "    }\n",
              "\n",
              "    [theme=dark] .colab-df-convert:hover {\n",
              "      background-color: #434B5C;\n",
              "      box-shadow: 0px 1px 3px 1px rgba(0, 0, 0, 0.15);\n",
              "      filter: drop-shadow(0px 1px 2px rgba(0, 0, 0, 0.3));\n",
              "      fill: #FFFFFF;\n",
              "    }\n",
              "  </style>\n",
              "\n",
              "      <script>\n",
              "        const buttonEl =\n",
              "          document.querySelector('#df-8585ac9d-c475-49e0-898d-abe28a39be8c button.colab-df-convert');\n",
              "        buttonEl.style.display =\n",
              "          google.colab.kernel.accessAllowed ? 'block' : 'none';\n",
              "\n",
              "        async function convertToInteractive(key) {\n",
              "          const element = document.querySelector('#df-8585ac9d-c475-49e0-898d-abe28a39be8c');\n",
              "          const dataTable =\n",
              "            await google.colab.kernel.invokeFunction('convertToInteractive',\n",
              "                                                     [key], {});\n",
              "          if (!dataTable) return;\n",
              "\n",
              "          const docLinkHtml = 'Like what you see? Visit the ' +\n",
              "            '<a target=\"_blank\" href=https://colab.research.google.com/notebooks/data_table.ipynb>data table notebook</a>'\n",
              "            + ' to learn more about interactive tables.';\n",
              "          element.innerHTML = '';\n",
              "          dataTable['output_type'] = 'display_data';\n",
              "          await google.colab.output.renderOutput(dataTable, element);\n",
              "          const docLink = document.createElement('div');\n",
              "          docLink.innerHTML = docLinkHtml;\n",
              "          element.appendChild(docLink);\n",
              "        }\n",
              "      </script>\n",
              "    </div>\n",
              "  </div>\n",
              "  "
            ]
          },
          "metadata": {},
          "execution_count": 1
        }
      ]
    },
    {
      "cell_type": "code",
      "source": [
        "big_frame['m'] = big_frame.FECHA.astype(str).str[:10].astype(str)"
      ],
      "metadata": {
        "id": "E3u3kFezidJ0"
      },
      "execution_count": null,
      "outputs": []
    },
    {
      "cell_type": "code",
      "source": [
        "big_frame['hora'] = big_frame.FECHA.astype(str).str[11:].astype(str)"
      ],
      "metadata": {
        "id": "zPEz6WgQqAfs"
      },
      "execution_count": null,
      "outputs": []
    },
    {
      "cell_type": "code",
      "source": [
        "big_frame['aux']=big_frame.FECHA.astype(str).str[19:].astype(str) "
      ],
      "metadata": {
        "id": "pUPvXxWbqAmm"
      },
      "execution_count": null,
      "outputs": []
    },
    {
      "cell_type": "code",
      "source": [
        "big_frame['aux2']=big_frame.hora.astype(str).str[:2].astype(str) "
      ],
      "metadata": {
        "id": "sapKeq7nqAsk"
      },
      "execution_count": null,
      "outputs": []
    },
    {
      "cell_type": "code",
      "source": [
        "big_frame['hh']=big_frame.aux2 + big_frame.aux"
      ],
      "metadata": {
        "id": "miyXckQ7qAy8"
      },
      "execution_count": null,
      "outputs": []
    },
    {
      "cell_type": "code",
      "source": [
        "big_frame.sort_values(by=['hh'], inplace=True)"
      ],
      "metadata": {
        "id": "ai2JLD0DqA4z"
      },
      "execution_count": null,
      "outputs": []
    },
    {
      "cell_type": "code",
      "source": [
        "big_frame.m.value_counts()"
      ],
      "metadata": {
        "id": "6kV43od0idUd"
      },
      "execution_count": null,
      "outputs": []
    },
    {
      "cell_type": "code",
      "source": [
        "big_frame['dia'] = pd.to_datetime(big_frame['m'])\n",
        "big_frame['dia'] = big_frame['dia'].dt.strftime('%d.%m.%Y')"
      ],
      "metadata": {
        "id": "CukJZeKTidZx"
      },
      "execution_count": null,
      "outputs": []
    },
    {
      "cell_type": "code",
      "source": [
        "big_frame.dia.value_counts()"
      ],
      "metadata": {
        "id": "atj1bJZ1iddS"
      },
      "execution_count": null,
      "outputs": []
    },
    {
      "cell_type": "code",
      "source": [
        "big_frame['dia2'] = pd.to_datetime(big_frame['dia'])"
      ],
      "metadata": {
        "id": "H_qb-NcKidgU"
      },
      "execution_count": null,
      "outputs": []
    },
    {
      "cell_type": "code",
      "source": [
        "### EJERCICIO 1: INTERACTUAR CON BASES, CONVERTIR FORMATOS FECHAS, GENERAR VARIABLES NUEVAS (MES DIA )###\n",
        "big_frame['day_of_week'] = big_frame['dia2'].dt.day_name()\n"
      ],
      "metadata": {
        "id": "dPVQBBBbidjT"
      },
      "execution_count": null,
      "outputs": []
    },
    {
      "cell_type": "code",
      "source": [
        "big_frame.dia2.value_counts()"
      ],
      "metadata": {
        "id": "8ZQ2ZYPEidmO"
      },
      "execution_count": null,
      "outputs": []
    },
    {
      "cell_type": "code",
      "source": [
        "big_frame.shape"
      ],
      "metadata": {
        "id": "4PGOGdTRido9",
        "colab": {
          "base_uri": "https://localhost:8080/"
        },
        "outputId": "e8606932-4542-4cef-a6c1-808e46ee29b6"
      },
      "execution_count": null,
      "outputs": [
        {
          "output_type": "execute_result",
          "data": {
            "text/plain": [
              "(12718216, 13)"
            ]
          },
          "metadata": {},
          "execution_count": 10
        }
      ]
    },
    {
      "cell_type": "code",
      "source": [
        "###EJERCICIO 2: \n",
        "##APLICAR ESTADÍSTICOS DESCRIPTIVOS SOBRE CORTES DE BOLETOS: \n",
        "## 1) VARIABLES ESPACIALES: CORREDOR, LINEA Y SENTIDO\n",
        "  ## CONTAMOS VIAJES POR  POR CORREDOR, LINEA Y SENTIDO , POR DIA###\n",
        "big_frame['AUX']=1\n",
        "big_frame['VIAJES_DIA_HORA_CORREDOR']=big_frame.groupby(['CORREDOR', 'dia2', 'hh'])['AUX'].transform('sum')\n",
        "big_frame['VIAJES_DIA_HORA_LINEA']=big_frame.groupby(['LINEA', 'dia2', 'hh'])['AUX'].transform('sum')\n",
        "big_frame['SENTIDO_IDA_HORA']=0\n",
        "mask=big_frame.SENTIDO==\"Ida\"\n",
        "big_frame.loc[mask,'SENTIDO_IDA_HORA']=1\n",
        "big_frame['SENTIDO_VUELTA_HORA']=0\n",
        "mask=big_frame.SENTIDO==\"Vuelta\"\n",
        "big_frame.loc[mask,'SENTIDO_VUELTA_HORA']=1\n",
        "\n",
        "big_frame['VIAJES_DIA_HORA_LINEA_SENT_IDA']=big_frame.groupby(['LINEA', 'dia2', 'hh'])['SENTIDO_IDA_HORA'].transform('sum')\n",
        "big_frame['VIAJES_DIA_HORA_LINEA_SENT_VUELTA']=big_frame.groupby(['LINEA', 'dia2', 'hh'])['SENTIDO_VUELTA_HORA'].transform('sum')\n",
        "big_frame.head(10)\n",
        "\n",
        "big_frame= big_frame.drop_duplicates(['CORREDOR', 'LINEA', 'dia2', 'VIAJES_DIA_HORA_CORREDOR', \t'VIAJES_DIA_HORA_LINEA' , 'VIAJES_DIA_HORA_LINEA_SENT_IDA', \t'VIAJES_DIA_HORA_LINEA_SENT_VUELTA', 'hh' ])\n",
        "big_frame.head()\n",
        "big_frame=big_frame.loc[:,['CORREDOR', 'LINEA', 'dia2',  'VIAJES_DIA_HORA_CORREDOR', \t'VIAJES_DIA_HORA_LINEA' , 'VIAJES_DIA_HORA_LINEA_SENT_IDA', \t'VIAJES_DIA_HORA_LINEA_SENT_VUELTA', 'hh' ]]\n",
        "#df1.to_csv(\"df1.csv\", index=None)\n",
        "#from google.colab import files\n",
        "#files.download('df1.csv') \n",
        "\n",
        "## 2) VARIABLES TEMPORALES: MES DIA DE LA SEMANA Y HORA##\n",
        "## 3) ANALIZAR ESTACIONALIDAD\n",
        "## IDEM SOBRE TARJETAS MESES USADAS VS DIAS PROMEDIO USADAS (¿OUTLIERS?, CANTIDAD DE USOS DIA)\n",
        "\n",
        "###LUEGO GUARDAMOS UN DF PARA PODER LUEGO HACER LOOP, DIGAMOS, DEBERIA HABER 2 LOOP, EL QUE LEVANTA Y PROCESA Y LUEGO EL QEU UNE TODO##"
      ],
      "metadata": {
        "id": "t63LUiAeidrt"
      },
      "execution_count": null,
      "outputs": []
    },
    {
      "cell_type": "code",
      "source": [
        "big_frame.shape"
      ],
      "metadata": {
        "id": "Le-wmYUwiduW"
      },
      "execution_count": null,
      "outputs": []
    },
    {
      "cell_type": "code",
      "source": [
        "big_frame.dia2.value_counts()"
      ],
      "metadata": {
        "id": "Ru4iOSAIidwz"
      },
      "execution_count": null,
      "outputs": []
    },
    {
      "cell_type": "code",
      "source": [
        "viajes_3t19= big_frame\n",
        "viajes_3t19.to_csv(\"viajes_hora_3t19.csv\", index=None)\n",
        "from google.colab import files\n",
        "files.download('viajes_hora_3t19.csv') "
      ],
      "metadata": {
        "id": "GXPAODPFjDOw",
        "colab": {
          "base_uri": "https://localhost:8080/",
          "height": 17
        },
        "outputId": "acc5a23c-d7f8-48d5-a94c-0f10cf40e930"
      },
      "execution_count": null,
      "outputs": [
        {
          "output_type": "display_data",
          "data": {
            "text/plain": [
              "<IPython.core.display.Javascript object>"
            ],
            "application/javascript": [
              "\n",
              "    async function download(id, filename, size) {\n",
              "      if (!google.colab.kernel.accessAllowed) {\n",
              "        return;\n",
              "      }\n",
              "      const div = document.createElement('div');\n",
              "      const label = document.createElement('label');\n",
              "      label.textContent = `Downloading \"${filename}\": `;\n",
              "      div.appendChild(label);\n",
              "      const progress = document.createElement('progress');\n",
              "      progress.max = size;\n",
              "      div.appendChild(progress);\n",
              "      document.body.appendChild(div);\n",
              "\n",
              "      const buffers = [];\n",
              "      let downloaded = 0;\n",
              "\n",
              "      const channel = await google.colab.kernel.comms.open(id);\n",
              "      // Send a message to notify the kernel that we're ready.\n",
              "      channel.send({})\n",
              "\n",
              "      for await (const message of channel.messages) {\n",
              "        // Send a message to notify the kernel that we're ready.\n",
              "        channel.send({})\n",
              "        if (message.buffers) {\n",
              "          for (const buffer of message.buffers) {\n",
              "            buffers.push(buffer);\n",
              "            downloaded += buffer.byteLength;\n",
              "            progress.value = downloaded;\n",
              "          }\n",
              "        }\n",
              "      }\n",
              "      const blob = new Blob(buffers, {type: 'application/binary'});\n",
              "      const a = document.createElement('a');\n",
              "      a.href = window.URL.createObjectURL(blob);\n",
              "      a.download = filename;\n",
              "      div.appendChild(a);\n",
              "      a.click();\n",
              "      div.remove();\n",
              "    }\n",
              "  "
            ]
          },
          "metadata": {}
        },
        {
          "output_type": "display_data",
          "data": {
            "text/plain": [
              "<IPython.core.display.Javascript object>"
            ],
            "application/javascript": [
              "download(\"download_dbebc2b4-de44-46ed-876e-d9f67af8ff79\", \"viajes_hora_3t19.csv\", 6038156)"
            ]
          },
          "metadata": {}
        }
      ]
    },
    {
      "cell_type": "code",
      "source": [
        "##LO MISMO PARA EL CUARTO TRIMESTRE DE 2019#\n",
        "from google.colab import drive\n",
        "drive.mount('/content/drive/', force_remount=True )\n",
        "import pandas as pd\n",
        "#%cd /content/drive/My Drive/bases_mentoria/\n",
        "path= '/content/drive/My Drive/Mentoria/cuarto trimestre 2019'\n",
        "import glob\n",
        "filenames = glob.glob(path + \"/*.csv\")\n",
        "\n",
        "dfs = []\n",
        "for filename in filenames:\n",
        "    dfs.append(pd.read_csv(filename, encoding='latin-1', sep=\";\"))\n",
        "\n",
        "# Concatenate all data into one DataFrame\n",
        "big_frame = pd.concat(dfs, ignore_index=True)\n",
        "\n",
        "big_frame.head()"
      ],
      "metadata": {
        "id": "AaKurBrMjDTz",
        "colab": {
          "base_uri": "https://localhost:8080/",
          "height": 224
        },
        "outputId": "826619db-8ca5-4128-b8f9-b50a83834e0f"
      },
      "execution_count": null,
      "outputs": [
        {
          "output_type": "stream",
          "name": "stdout",
          "text": [
            "Mounted at /content/drive/\n"
          ]
        },
        {
          "output_type": "execute_result",
          "data": {
            "text/plain": [
              "                    FECHA           FECHAAPERTURA  TARJETA       CORREDOR  \\\n",
              "0  06/10/2019 12:00:05 AM  05/10/2019 11:02:36 PM  5969486     Cor 7 Azul   \n",
              "1  06/10/2019 12:00:09 AM  05/10/2019 11:26:36 PM  5943292  Cor 1 Naranja   \n",
              "2  06/10/2019 12:00:13 AM  05/10/2019 11:46:15 PM  3497303     Cor 3 Rojo   \n",
              "3  06/10/2019 12:00:15 AM  05/10/2019 11:46:15 PM  4659858     Cor 3 Rojo   \n",
              "4  06/10/2019 12:00:18 AM  05/10/2019 10:27:52 PM  5325561  Cor 6 Naranja   \n",
              "\n",
              "  LINEA SENTIDO  \n",
              "0   L75  Vuelta  \n",
              "1   L13     Ida  \n",
              "2   L33     Ida  \n",
              "3   L33     Ida  \n",
              "4   L60  Vuelta  "
            ],
            "text/html": [
              "\n",
              "  <div id=\"df-1b55f09a-3776-42d0-b7b6-510a686f4176\">\n",
              "    <div class=\"colab-df-container\">\n",
              "      <div>\n",
              "<style scoped>\n",
              "    .dataframe tbody tr th:only-of-type {\n",
              "        vertical-align: middle;\n",
              "    }\n",
              "\n",
              "    .dataframe tbody tr th {\n",
              "        vertical-align: top;\n",
              "    }\n",
              "\n",
              "    .dataframe thead th {\n",
              "        text-align: right;\n",
              "    }\n",
              "</style>\n",
              "<table border=\"1\" class=\"dataframe\">\n",
              "  <thead>\n",
              "    <tr style=\"text-align: right;\">\n",
              "      <th></th>\n",
              "      <th>FECHA</th>\n",
              "      <th>FECHAAPERTURA</th>\n",
              "      <th>TARJETA</th>\n",
              "      <th>CORREDOR</th>\n",
              "      <th>LINEA</th>\n",
              "      <th>SENTIDO</th>\n",
              "    </tr>\n",
              "  </thead>\n",
              "  <tbody>\n",
              "    <tr>\n",
              "      <th>0</th>\n",
              "      <td>06/10/2019 12:00:05 AM</td>\n",
              "      <td>05/10/2019 11:02:36 PM</td>\n",
              "      <td>5969486</td>\n",
              "      <td>Cor 7 Azul</td>\n",
              "      <td>L75</td>\n",
              "      <td>Vuelta</td>\n",
              "    </tr>\n",
              "    <tr>\n",
              "      <th>1</th>\n",
              "      <td>06/10/2019 12:00:09 AM</td>\n",
              "      <td>05/10/2019 11:26:36 PM</td>\n",
              "      <td>5943292</td>\n",
              "      <td>Cor 1 Naranja</td>\n",
              "      <td>L13</td>\n",
              "      <td>Ida</td>\n",
              "    </tr>\n",
              "    <tr>\n",
              "      <th>2</th>\n",
              "      <td>06/10/2019 12:00:13 AM</td>\n",
              "      <td>05/10/2019 11:46:15 PM</td>\n",
              "      <td>3497303</td>\n",
              "      <td>Cor 3 Rojo</td>\n",
              "      <td>L33</td>\n",
              "      <td>Ida</td>\n",
              "    </tr>\n",
              "    <tr>\n",
              "      <th>3</th>\n",
              "      <td>06/10/2019 12:00:15 AM</td>\n",
              "      <td>05/10/2019 11:46:15 PM</td>\n",
              "      <td>4659858</td>\n",
              "      <td>Cor 3 Rojo</td>\n",
              "      <td>L33</td>\n",
              "      <td>Ida</td>\n",
              "    </tr>\n",
              "    <tr>\n",
              "      <th>4</th>\n",
              "      <td>06/10/2019 12:00:18 AM</td>\n",
              "      <td>05/10/2019 10:27:52 PM</td>\n",
              "      <td>5325561</td>\n",
              "      <td>Cor 6 Naranja</td>\n",
              "      <td>L60</td>\n",
              "      <td>Vuelta</td>\n",
              "    </tr>\n",
              "  </tbody>\n",
              "</table>\n",
              "</div>\n",
              "      <button class=\"colab-df-convert\" onclick=\"convertToInteractive('df-1b55f09a-3776-42d0-b7b6-510a686f4176')\"\n",
              "              title=\"Convert this dataframe to an interactive table.\"\n",
              "              style=\"display:none;\">\n",
              "        \n",
              "  <svg xmlns=\"http://www.w3.org/2000/svg\" height=\"24px\"viewBox=\"0 0 24 24\"\n",
              "       width=\"24px\">\n",
              "    <path d=\"M0 0h24v24H0V0z\" fill=\"none\"/>\n",
              "    <path d=\"M18.56 5.44l.94 2.06.94-2.06 2.06-.94-2.06-.94-.94-2.06-.94 2.06-2.06.94zm-11 1L8.5 8.5l.94-2.06 2.06-.94-2.06-.94L8.5 2.5l-.94 2.06-2.06.94zm10 10l.94 2.06.94-2.06 2.06-.94-2.06-.94-.94-2.06-.94 2.06-2.06.94z\"/><path d=\"M17.41 7.96l-1.37-1.37c-.4-.4-.92-.59-1.43-.59-.52 0-1.04.2-1.43.59L10.3 9.45l-7.72 7.72c-.78.78-.78 2.05 0 2.83L4 21.41c.39.39.9.59 1.41.59.51 0 1.02-.2 1.41-.59l7.78-7.78 2.81-2.81c.8-.78.8-2.07 0-2.86zM5.41 20L4 18.59l7.72-7.72 1.47 1.35L5.41 20z\"/>\n",
              "  </svg>\n",
              "      </button>\n",
              "      \n",
              "  <style>\n",
              "    .colab-df-container {\n",
              "      display:flex;\n",
              "      flex-wrap:wrap;\n",
              "      gap: 12px;\n",
              "    }\n",
              "\n",
              "    .colab-df-convert {\n",
              "      background-color: #E8F0FE;\n",
              "      border: none;\n",
              "      border-radius: 50%;\n",
              "      cursor: pointer;\n",
              "      display: none;\n",
              "      fill: #1967D2;\n",
              "      height: 32px;\n",
              "      padding: 0 0 0 0;\n",
              "      width: 32px;\n",
              "    }\n",
              "\n",
              "    .colab-df-convert:hover {\n",
              "      background-color: #E2EBFA;\n",
              "      box-shadow: 0px 1px 2px rgba(60, 64, 67, 0.3), 0px 1px 3px 1px rgba(60, 64, 67, 0.15);\n",
              "      fill: #174EA6;\n",
              "    }\n",
              "\n",
              "    [theme=dark] .colab-df-convert {\n",
              "      background-color: #3B4455;\n",
              "      fill: #D2E3FC;\n",
              "    }\n",
              "\n",
              "    [theme=dark] .colab-df-convert:hover {\n",
              "      background-color: #434B5C;\n",
              "      box-shadow: 0px 1px 3px 1px rgba(0, 0, 0, 0.15);\n",
              "      filter: drop-shadow(0px 1px 2px rgba(0, 0, 0, 0.3));\n",
              "      fill: #FFFFFF;\n",
              "    }\n",
              "  </style>\n",
              "\n",
              "      <script>\n",
              "        const buttonEl =\n",
              "          document.querySelector('#df-1b55f09a-3776-42d0-b7b6-510a686f4176 button.colab-df-convert');\n",
              "        buttonEl.style.display =\n",
              "          google.colab.kernel.accessAllowed ? 'block' : 'none';\n",
              "\n",
              "        async function convertToInteractive(key) {\n",
              "          const element = document.querySelector('#df-1b55f09a-3776-42d0-b7b6-510a686f4176');\n",
              "          const dataTable =\n",
              "            await google.colab.kernel.invokeFunction('convertToInteractive',\n",
              "                                                     [key], {});\n",
              "          if (!dataTable) return;\n",
              "\n",
              "          const docLinkHtml = 'Like what you see? Visit the ' +\n",
              "            '<a target=\"_blank\" href=https://colab.research.google.com/notebooks/data_table.ipynb>data table notebook</a>'\n",
              "            + ' to learn more about interactive tables.';\n",
              "          element.innerHTML = '';\n",
              "          dataTable['output_type'] = 'display_data';\n",
              "          await google.colab.output.renderOutput(dataTable, element);\n",
              "          const docLink = document.createElement('div');\n",
              "          docLink.innerHTML = docLinkHtml;\n",
              "          element.appendChild(docLink);\n",
              "        }\n",
              "      </script>\n",
              "    </div>\n",
              "  </div>\n",
              "  "
            ]
          },
          "metadata": {},
          "execution_count": 1
        }
      ]
    },
    {
      "cell_type": "code",
      "source": [
        "big_frame['m'] = big_frame.FECHA.astype(str).str[:10].astype(str)"
      ],
      "metadata": {
        "id": "JMsC6kWYjDW_"
      },
      "execution_count": null,
      "outputs": []
    },
    {
      "cell_type": "code",
      "source": [
        "big_frame['hora'] = big_frame.FECHA.astype(str).str[11:].astype(str)"
      ],
      "metadata": {
        "id": "j8UI4tUeq0j-"
      },
      "execution_count": null,
      "outputs": []
    },
    {
      "cell_type": "code",
      "source": [
        "big_frame['aux']=big_frame.FECHA.astype(str).str[19:].astype(str) "
      ],
      "metadata": {
        "id": "JPiLfu_Zq0q5"
      },
      "execution_count": null,
      "outputs": []
    },
    {
      "cell_type": "code",
      "source": [
        "big_frame['aux2']=big_frame.hora.astype(str).str[:2].astype(str) "
      ],
      "metadata": {
        "id": "AJVFY49Jq0wq"
      },
      "execution_count": null,
      "outputs": []
    },
    {
      "cell_type": "code",
      "source": [
        "big_frame['hh']=big_frame.aux2 + big_frame.aux"
      ],
      "metadata": {
        "id": "623NlKjBq019"
      },
      "execution_count": null,
      "outputs": []
    },
    {
      "cell_type": "code",
      "source": [
        "big_frame.sort_values(by=['hh'], inplace=True)"
      ],
      "metadata": {
        "id": "NOp5mCmSq07Y"
      },
      "execution_count": null,
      "outputs": []
    },
    {
      "cell_type": "code",
      "source": [
        "big_frame.m.value_counts()"
      ],
      "metadata": {
        "id": "cof_jDWDjDZ8"
      },
      "execution_count": null,
      "outputs": []
    },
    {
      "cell_type": "code",
      "source": [
        "big_frame['dia'] = pd.to_datetime(big_frame['m'])\n",
        "big_frame['dia'] = big_frame['dia'].dt.strftime('%d.%m.%Y')"
      ],
      "metadata": {
        "id": "E7kFDPKOjDe8"
      },
      "execution_count": null,
      "outputs": []
    },
    {
      "cell_type": "code",
      "source": [
        "big_frame.info()"
      ],
      "metadata": {
        "id": "bIizwJxPGKkd"
      },
      "execution_count": null,
      "outputs": []
    },
    {
      "cell_type": "code",
      "source": [
        "big_frame.dia.value_counts()"
      ],
      "metadata": {
        "id": "nfq11TGJjDid"
      },
      "execution_count": null,
      "outputs": []
    },
    {
      "cell_type": "code",
      "source": [
        "big_frame['dia2'] = pd.to_datetime(big_frame['dia'])"
      ],
      "metadata": {
        "id": "8R0NFfmMjDke"
      },
      "execution_count": null,
      "outputs": []
    },
    {
      "cell_type": "code",
      "source": [
        "### EJERCICIO 1: INTERACTUAR CON BASES, CONVERTIR FORMATOS FECHAS, GENERAR VARIABLES NUEVAS (MES DIA )###\n",
        "big_frame['day_of_week'] = big_frame['dia2'].dt.day_name()\n"
      ],
      "metadata": {
        "id": "3ie_gIeRjDnE"
      },
      "execution_count": null,
      "outputs": []
    },
    {
      "cell_type": "code",
      "source": [
        "big_frame.dia2.value_counts()"
      ],
      "metadata": {
        "id": "sLGAysBrjDqS"
      },
      "execution_count": null,
      "outputs": []
    },
    {
      "cell_type": "code",
      "source": [
        "big_frame.shape"
      ],
      "metadata": {
        "id": "qjd49F9OjDtD"
      },
      "execution_count": null,
      "outputs": []
    },
    {
      "cell_type": "code",
      "source": [
        "###EJERCICIO 2: \n",
        "##APLICAR ESTADÍSTICOS DESCRIPTIVOS SOBRE CORTES DE BOLETOS: \n",
        "## 1) VARIABLES ESPACIALES: CORREDOR, LINEA Y SENTIDO\n",
        "  ## CONTAMOS VIAJES POR  POR CORREDOR, LINEA Y SENTIDO , POR DIA###\n",
        "big_frame['AUX']=1\n",
        "big_frame['VIAJES_DIA_HORA_CORREDOR']=big_frame.groupby(['CORREDOR', 'dia2', 'hh'])['AUX'].transform('sum')\n",
        "big_frame['VIAJES_DIA_HORA_LINEA']=big_frame.groupby(['LINEA', 'dia2', 'hh'])['AUX'].transform('sum')\n",
        "big_frame['SENTIDO_IDA_HORA']=0\n",
        "mask=big_frame.SENTIDO==\"Ida\"\n",
        "big_frame.loc[mask,'SENTIDO_IDA_HORA']=1\n",
        "big_frame['SENTIDO_VUELTA_HORA']=0\n",
        "mask=big_frame.SENTIDO==\"Vuelta\"\n",
        "big_frame.loc[mask,'SENTIDO_VUELTA_HORA']=1\n",
        "\n",
        "big_frame['VIAJES_DIA_HORA_LINEA_SENT_IDA']=big_frame.groupby(['LINEA', 'dia2', 'hh'])['SENTIDO_IDA_HORA'].transform('sum')\n",
        "big_frame['VIAJES_DIA_HORA_LINEA_SENT_VUELTA']=big_frame.groupby(['LINEA', 'dia2', 'hh'])['SENTIDO_VUELTA_HORA'].transform('sum')\n",
        "big_frame.head(10)\n",
        "\n",
        "big_frame= big_frame.drop_duplicates(['CORREDOR', 'LINEA', 'dia2', 'VIAJES_DIA_HORA_CORREDOR', \t'VIAJES_DIA_HORA_LINEA' , 'VIAJES_DIA_HORA_LINEA_SENT_IDA', \t'VIAJES_DIA_HORA_LINEA_SENT_VUELTA', 'hh' ])\n",
        "big_frame.head()\n",
        "big_frame=big_frame.loc[:,['CORREDOR', 'LINEA', 'dia2',  'VIAJES_DIA_HORA_CORREDOR', \t'VIAJES_DIA_HORA_LINEA' , 'VIAJES_DIA_HORA_LINEA_SENT_IDA', \t'VIAJES_DIA_HORA_LINEA_SENT_VUELTA', 'hh' ]]\n",
        "#df1.to_csv(\"df1.csv\", index=None)\n",
        "#from google.colab import files\n",
        "#files.download('df1.csv') \n",
        "\n",
        "## 2) VARIABLES TEMPORALES: MES DIA DE LA SEMANA Y HORA##\n",
        "## 3) ANALIZAR ESTACIONALIDAD\n",
        "## IDEM SOBRE TARJETAS MESES USADAS VS DIAS PROMEDIO USADAS (¿OUTLIERS?, CANTIDAD DE USOS DIA)\n",
        "\n",
        "###LUEGO GUARDAMOS UN DF PARA PODER LUEGO HACER LOOP, DIGAMOS, DEBERIA HABER 2 LOOP, EL QUE LEVANTA Y PROCESA Y LUEGO EL QEU UNE TODO##"
      ],
      "metadata": {
        "id": "lZn12R8ejDwd"
      },
      "execution_count": null,
      "outputs": []
    },
    {
      "cell_type": "code",
      "source": [
        ""
      ],
      "metadata": {
        "id": "9e97ra5Yj9hh"
      },
      "execution_count": null,
      "outputs": []
    },
    {
      "cell_type": "code",
      "source": [
        "big_frame.shape"
      ],
      "metadata": {
        "id": "X9ThES-6jDzM"
      },
      "execution_count": null,
      "outputs": []
    },
    {
      "cell_type": "code",
      "source": [
        "big_frame.dia2.value_counts()"
      ],
      "metadata": {
        "id": "4iv_0H3MjD4v"
      },
      "execution_count": null,
      "outputs": []
    },
    {
      "cell_type": "code",
      "source": [
        "viajes_4t19= big_frame\n",
        "viajes_4t19.to_csv(\"viajes_hora_4t19.csv\", index=None)\n",
        "from google.colab import files\n",
        "files.download('viajes_hora_4t19.csv') "
      ],
      "metadata": {
        "id": "3RxMpceHjD70",
        "colab": {
          "base_uri": "https://localhost:8080/",
          "height": 34
        },
        "outputId": "18592b26-a71a-4117-eb88-843a7394a380"
      },
      "execution_count": null,
      "outputs": [
        {
          "output_type": "display_data",
          "data": {
            "text/plain": [
              "<IPython.core.display.Javascript object>"
            ],
            "application/javascript": [
              "\n",
              "    async function download(id, filename, size) {\n",
              "      if (!google.colab.kernel.accessAllowed) {\n",
              "        return;\n",
              "      }\n",
              "      const div = document.createElement('div');\n",
              "      const label = document.createElement('label');\n",
              "      label.textContent = `Downloading \"${filename}\": `;\n",
              "      div.appendChild(label);\n",
              "      const progress = document.createElement('progress');\n",
              "      progress.max = size;\n",
              "      div.appendChild(progress);\n",
              "      document.body.appendChild(div);\n",
              "\n",
              "      const buffers = [];\n",
              "      let downloaded = 0;\n",
              "\n",
              "      const channel = await google.colab.kernel.comms.open(id);\n",
              "      // Send a message to notify the kernel that we're ready.\n",
              "      channel.send({})\n",
              "\n",
              "      for await (const message of channel.messages) {\n",
              "        // Send a message to notify the kernel that we're ready.\n",
              "        channel.send({})\n",
              "        if (message.buffers) {\n",
              "          for (const buffer of message.buffers) {\n",
              "            buffers.push(buffer);\n",
              "            downloaded += buffer.byteLength;\n",
              "            progress.value = downloaded;\n",
              "          }\n",
              "        }\n",
              "      }\n",
              "      const blob = new Blob(buffers, {type: 'application/binary'});\n",
              "      const a = document.createElement('a');\n",
              "      a.href = window.URL.createObjectURL(blob);\n",
              "      a.download = filename;\n",
              "      div.appendChild(a);\n",
              "      a.click();\n",
              "      div.remove();\n",
              "    }\n",
              "  "
            ]
          },
          "metadata": {}
        },
        {
          "output_type": "display_data",
          "data": {
            "text/plain": [
              "<IPython.core.display.Javascript object>"
            ],
            "application/javascript": [
              "download(\"download_cedb271f-3d91-4ccc-b7c2-bdeae621cca5\", \"viajes_hora_4t19.csv\", 6032480)"
            ]
          },
          "metadata": {}
        }
      ]
    },
    {
      "cell_type": "code",
      "source": [
        ""
      ],
      "metadata": {
        "id": "hjubTBqejECi"
      },
      "execution_count": null,
      "outputs": []
    },
    {
      "cell_type": "code",
      "source": [
        ""
      ],
      "metadata": {
        "id": "iNexbG7HjEFt"
      },
      "execution_count": null,
      "outputs": []
    },
    {
      "cell_type": "code",
      "source": [
        ""
      ],
      "metadata": {
        "id": "tMh7fl-CjSaW"
      },
      "execution_count": null,
      "outputs": []
    },
    {
      "cell_type": "code",
      "source": [
        ""
      ],
      "metadata": {
        "id": "daHZxTg7jSiG"
      },
      "execution_count": null,
      "outputs": []
    },
    {
      "cell_type": "code",
      "source": [
        ""
      ],
      "metadata": {
        "id": "dVJAElfkjSov"
      },
      "execution_count": null,
      "outputs": []
    },
    {
      "cell_type": "code",
      "source": [
        ""
      ],
      "metadata": {
        "id": "4Qr-Ze2yjSwE"
      },
      "execution_count": null,
      "outputs": []
    },
    {
      "cell_type": "code",
      "source": [
        ""
      ],
      "metadata": {
        "id": "gaO_OdIdjS3g"
      },
      "execution_count": null,
      "outputs": []
    },
    {
      "cell_type": "code",
      "source": [
        ""
      ],
      "metadata": {
        "id": "Lx15rYdujS-t"
      },
      "execution_count": null,
      "outputs": []
    }
  ]
}