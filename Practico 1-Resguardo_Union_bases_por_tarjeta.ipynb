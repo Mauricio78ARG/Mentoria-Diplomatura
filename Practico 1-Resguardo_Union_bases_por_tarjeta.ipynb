{
  "cells": [
    {
      "cell_type": "code",
      "execution_count": 19,
      "metadata": {
        "colab": {
          "base_uri": "https://localhost:8080/"
        },
        "id": "rvJAqTH_6rQB",
        "outputId": "d9cf50ff-df7b-4752-960b-614bf084a374"
      },
      "outputs": [
        {
          "output_type": "stream",
          "name": "stdout",
          "text": [
            "Mounted at /content/drive/\n"
          ]
        }
      ],
      "source": [
        "from google.colab import drive\n",
        "drive.mount('/content/drive/', force_remount=True )\n",
        "import pandas as pd\n",
        "#%cd /content/drive/My Drive/bases_mentoria/\n",
        "path= '/content/drive/My Drive/viajes tarjeta'\n",
        "\n",
        "import glob\n",
        "filenames = glob.glob(path + \"/*.csv\")\n",
        "\n",
        "dfs = []\n",
        "for filename in filenames:\n",
        "    dfs.append(pd.read_csv(filename, encoding='latin-1', sep=\",\"))\n",
        "\n",
        "# Concatenate all data into one DataFrame\n",
        "conteo_viajes_tarjeta = pd.concat(dfs, ignore_index=True)\n"
      ]
    },
    {
      "cell_type": "code",
      "execution_count": 20,
      "metadata": {
        "colab": {
          "base_uri": "https://localhost:8080/"
        },
        "id": "QEuUIwp19Dr3",
        "outputId": "cd31967c-ebd1-4bbc-9756-93680d910e6c"
      },
      "outputs": [
        {
          "output_type": "execute_result",
          "data": {
            "text/plain": [
              "(20099603, 5)"
            ]
          },
          "metadata": {},
          "execution_count": 20
        }
      ],
      "source": [
        "conteo_viajes_tarjeta.shape"
      ]
    },
    {
      "cell_type": "code",
      "execution_count": 21,
      "metadata": {
        "colab": {
          "base_uri": "https://localhost:8080/"
        },
        "id": "MMfGyDyo63JI",
        "outputId": "b857c57e-3a66-4f0c-cceb-5e3556cd2a7a"
      },
      "outputs": [
        {
          "output_type": "execute_result",
          "data": {
            "text/plain": [
              "118691"
            ]
          },
          "metadata": {},
          "execution_count": 21
        }
      ],
      "source": [
        "# CUANTAS TARJETAS DISTINTAS FUERON USADAS EN EL AÑO AL MENOS UNA VEZ?#\n",
        "conteo_viajes_tarjeta.TARJETA.nunique()"
      ]
    },
    {
      "cell_type": "code",
      "execution_count": 22,
      "metadata": {
        "colab": {
          "base_uri": "https://localhost:8080/"
        },
        "id": "OMSuTNH6oESp",
        "outputId": "eb41dec4-2941-43e0-d25d-e553fb547e6c"
      },
      "outputs": [
        {
          "output_type": "execute_result",
          "data": {
            "text/plain": [
              "46810109"
            ]
          },
          "metadata": {},
          "execution_count": 22
        }
      ],
      "source": [
        "sum(conteo_viajes_tarjeta.VIAJES_POR_TARJETA_DIA)"
      ]
    },
    {
      "cell_type": "code",
      "execution_count": 23,
      "metadata": {
        "colab": {
          "base_uri": "https://localhost:8080/",
          "height": 206
        },
        "id": "aHv2qQvfpFCt",
        "outputId": "d26757ae-7bb8-436b-d96c-d5075ba357c2"
      },
      "outputs": [
        {
          "output_type": "execute_result",
          "data": {
            "text/plain": [
              "         dia2  VIAJES_POR_TARJETA_DIA  VIAJES_POR_TARJETA_MES      MES  \\\n",
              "0  2019-01-01                       1                      32  2019-01   \n",
              "1  2019-03-10                       5                      67  2019-03   \n",
              "2  2019-03-10                       1                      38  2019-03   \n",
              "3  2019-03-10                       6                      23  2019-03   \n",
              "4  2019-03-10                       2                      28  2019-03   \n",
              "\n",
              "   TARJETA  \n",
              "0  4992639  \n",
              "1  5422225  \n",
              "2  5070060  \n",
              "3  5808680  \n",
              "4  5994764  "
            ],
            "text/html": [
              "\n",
              "  <div id=\"df-bad9f527-a082-4825-b64a-67f17fd9aed0\">\n",
              "    <div class=\"colab-df-container\">\n",
              "      <div>\n",
              "<style scoped>\n",
              "    .dataframe tbody tr th:only-of-type {\n",
              "        vertical-align: middle;\n",
              "    }\n",
              "\n",
              "    .dataframe tbody tr th {\n",
              "        vertical-align: top;\n",
              "    }\n",
              "\n",
              "    .dataframe thead th {\n",
              "        text-align: right;\n",
              "    }\n",
              "</style>\n",
              "<table border=\"1\" class=\"dataframe\">\n",
              "  <thead>\n",
              "    <tr style=\"text-align: right;\">\n",
              "      <th></th>\n",
              "      <th>dia2</th>\n",
              "      <th>VIAJES_POR_TARJETA_DIA</th>\n",
              "      <th>VIAJES_POR_TARJETA_MES</th>\n",
              "      <th>MES</th>\n",
              "      <th>TARJETA</th>\n",
              "    </tr>\n",
              "  </thead>\n",
              "  <tbody>\n",
              "    <tr>\n",
              "      <th>0</th>\n",
              "      <td>2019-01-01</td>\n",
              "      <td>1</td>\n",
              "      <td>32</td>\n",
              "      <td>2019-01</td>\n",
              "      <td>4992639</td>\n",
              "    </tr>\n",
              "    <tr>\n",
              "      <th>1</th>\n",
              "      <td>2019-03-10</td>\n",
              "      <td>5</td>\n",
              "      <td>67</td>\n",
              "      <td>2019-03</td>\n",
              "      <td>5422225</td>\n",
              "    </tr>\n",
              "    <tr>\n",
              "      <th>2</th>\n",
              "      <td>2019-03-10</td>\n",
              "      <td>1</td>\n",
              "      <td>38</td>\n",
              "      <td>2019-03</td>\n",
              "      <td>5070060</td>\n",
              "    </tr>\n",
              "    <tr>\n",
              "      <th>3</th>\n",
              "      <td>2019-03-10</td>\n",
              "      <td>6</td>\n",
              "      <td>23</td>\n",
              "      <td>2019-03</td>\n",
              "      <td>5808680</td>\n",
              "    </tr>\n",
              "    <tr>\n",
              "      <th>4</th>\n",
              "      <td>2019-03-10</td>\n",
              "      <td>2</td>\n",
              "      <td>28</td>\n",
              "      <td>2019-03</td>\n",
              "      <td>5994764</td>\n",
              "    </tr>\n",
              "  </tbody>\n",
              "</table>\n",
              "</div>\n",
              "      <button class=\"colab-df-convert\" onclick=\"convertToInteractive('df-bad9f527-a082-4825-b64a-67f17fd9aed0')\"\n",
              "              title=\"Convert this dataframe to an interactive table.\"\n",
              "              style=\"display:none;\">\n",
              "        \n",
              "  <svg xmlns=\"http://www.w3.org/2000/svg\" height=\"24px\"viewBox=\"0 0 24 24\"\n",
              "       width=\"24px\">\n",
              "    <path d=\"M0 0h24v24H0V0z\" fill=\"none\"/>\n",
              "    <path d=\"M18.56 5.44l.94 2.06.94-2.06 2.06-.94-2.06-.94-.94-2.06-.94 2.06-2.06.94zm-11 1L8.5 8.5l.94-2.06 2.06-.94-2.06-.94L8.5 2.5l-.94 2.06-2.06.94zm10 10l.94 2.06.94-2.06 2.06-.94-2.06-.94-.94-2.06-.94 2.06-2.06.94z\"/><path d=\"M17.41 7.96l-1.37-1.37c-.4-.4-.92-.59-1.43-.59-.52 0-1.04.2-1.43.59L10.3 9.45l-7.72 7.72c-.78.78-.78 2.05 0 2.83L4 21.41c.39.39.9.59 1.41.59.51 0 1.02-.2 1.41-.59l7.78-7.78 2.81-2.81c.8-.78.8-2.07 0-2.86zM5.41 20L4 18.59l7.72-7.72 1.47 1.35L5.41 20z\"/>\n",
              "  </svg>\n",
              "      </button>\n",
              "      \n",
              "  <style>\n",
              "    .colab-df-container {\n",
              "      display:flex;\n",
              "      flex-wrap:wrap;\n",
              "      gap: 12px;\n",
              "    }\n",
              "\n",
              "    .colab-df-convert {\n",
              "      background-color: #E8F0FE;\n",
              "      border: none;\n",
              "      border-radius: 50%;\n",
              "      cursor: pointer;\n",
              "      display: none;\n",
              "      fill: #1967D2;\n",
              "      height: 32px;\n",
              "      padding: 0 0 0 0;\n",
              "      width: 32px;\n",
              "    }\n",
              "\n",
              "    .colab-df-convert:hover {\n",
              "      background-color: #E2EBFA;\n",
              "      box-shadow: 0px 1px 2px rgba(60, 64, 67, 0.3), 0px 1px 3px 1px rgba(60, 64, 67, 0.15);\n",
              "      fill: #174EA6;\n",
              "    }\n",
              "\n",
              "    [theme=dark] .colab-df-convert {\n",
              "      background-color: #3B4455;\n",
              "      fill: #D2E3FC;\n",
              "    }\n",
              "\n",
              "    [theme=dark] .colab-df-convert:hover {\n",
              "      background-color: #434B5C;\n",
              "      box-shadow: 0px 1px 3px 1px rgba(0, 0, 0, 0.15);\n",
              "      filter: drop-shadow(0px 1px 2px rgba(0, 0, 0, 0.3));\n",
              "      fill: #FFFFFF;\n",
              "    }\n",
              "  </style>\n",
              "\n",
              "      <script>\n",
              "        const buttonEl =\n",
              "          document.querySelector('#df-bad9f527-a082-4825-b64a-67f17fd9aed0 button.colab-df-convert');\n",
              "        buttonEl.style.display =\n",
              "          google.colab.kernel.accessAllowed ? 'block' : 'none';\n",
              "\n",
              "        async function convertToInteractive(key) {\n",
              "          const element = document.querySelector('#df-bad9f527-a082-4825-b64a-67f17fd9aed0');\n",
              "          const dataTable =\n",
              "            await google.colab.kernel.invokeFunction('convertToInteractive',\n",
              "                                                     [key], {});\n",
              "          if (!dataTable) return;\n",
              "\n",
              "          const docLinkHtml = 'Like what you see? Visit the ' +\n",
              "            '<a target=\"_blank\" href=https://colab.research.google.com/notebooks/data_table.ipynb>data table notebook</a>'\n",
              "            + ' to learn more about interactive tables.';\n",
              "          element.innerHTML = '';\n",
              "          dataTable['output_type'] = 'display_data';\n",
              "          await google.colab.output.renderOutput(dataTable, element);\n",
              "          const docLink = document.createElement('div');\n",
              "          docLink.innerHTML = docLinkHtml;\n",
              "          element.appendChild(docLink);\n",
              "        }\n",
              "      </script>\n",
              "    </div>\n",
              "  </div>\n",
              "  "
            ]
          },
          "metadata": {},
          "execution_count": 23
        }
      ],
      "source": [
        "conteo_viajes_tarjeta.head()"
      ]
    },
    {
      "cell_type": "code",
      "execution_count": 24,
      "metadata": {
        "colab": {
          "base_uri": "https://localhost:8080/"
        },
        "id": "tS-k7c6wEVO9",
        "outputId": "61df64f6-4b7d-46f3-ae90-7418c9a316c2"
      },
      "outputs": [
        {
          "output_type": "execute_result",
          "data": {
            "text/plain": [
              "365"
            ]
          },
          "metadata": {},
          "execution_count": 24
        }
      ],
      "source": [
        "conteo_viajes_tarjeta.dia2.nunique()\n"
      ]
    },
    {
      "cell_type": "code",
      "execution_count": 25,
      "metadata": {
        "colab": {
          "base_uri": "https://localhost:8080/"
        },
        "id": "l8AXOShvDI__",
        "outputId": "228e295b-f793-479b-f2a5-54b6d317c9fa"
      },
      "outputs": [
        {
          "output_type": "execute_result",
          "data": {
            "text/plain": [
              "count    20099603.00\n",
              "mean            2.33\n",
              "std             1.26\n",
              "min             1.00\n",
              "25%             2.00\n",
              "50%             2.00\n",
              "75%             3.00\n",
              "max            62.00\n",
              "Name: VIAJES_POR_TARJETA_DIA, dtype: object"
            ]
          },
          "metadata": {},
          "execution_count": 25
        }
      ],
      "source": [
        "# ANALISIS VIAJES POR DIA Y POR TARJETA#\n",
        "df1=conteo_viajes_tarjeta \n",
        "df1.VIAJES_POR_TARJETA_DIA.describe().apply(lambda s: '{0:.2f}'.format(s))\n",
        "\n"
      ]
    },
    {
      "cell_type": "code",
      "execution_count": 26,
      "metadata": {
        "colab": {
          "base_uri": "https://localhost:8080/",
          "height": 280
        },
        "id": "Fxz1hskBtzo8",
        "outputId": "b8f10d5a-3f1f-4cff-ea75-ace99a8d4cf5"
      },
      "outputs": [
        {
          "output_type": "display_data",
          "data": {
            "text/plain": [
              "<Figure size 864x288 with 1 Axes>"
            ],
            "image/png": "[encoded data removed]"
          },
          "metadata": {
            "needs_background": "light"
          }
        }
      ],
      "source": [
        "import matplotlib\n",
        "import matplotlib.pyplot as plt\n",
        "import seaborn as sns\n",
        "plt.figure(figsize=(12, 4))\n",
        "sns.boxplot(x=df1.VIAJES_POR_TARJETA_DIA)\n",
        "sns.despine()"
      ]
    },
    {
      "cell_type": "code",
      "execution_count": 27,
      "metadata": {
        "id": "ZLULRkXbuv4e"
      },
      "outputs": [],
      "source": [
        "# Eliminamos outliers#\n",
        "# Eliminamos 1% de los datos#\n",
        "df1['VIAJES_POR_TARJETA_DIA'].quantile([.95,.96,.97, .98, .99, .995, .998])\n",
        "df1= df1[df1['VIAJES_POR_TARJETA_DIA'] < df1['VIAJES_POR_TARJETA_DIA'] .quantile(0.99)]"
      ]
    },
    {
      "cell_type": "markdown",
      "metadata": {
        "id": "xzDCfk5H6D5W"
      },
      "source": [
        ""
      ]
    },
    {
      "cell_type": "code",
      "execution_count": 42,
      "metadata": {
        "colab": {
          "base_uri": "https://localhost:8080/",
          "height": 316
        },
        "id": "4Fg1jmJQvvTx",
        "outputId": "975c1382-10c1-4bf9-9da6-7613e36d77fe"
      },
      "outputs": [
        {
          "output_type": "execute_result",
          "data": {
            "text/plain": [
              "Text(0.5, 1.0, 'Distribución de los viajes por dia por tarjeta')"
            ]
          },
          "metadata": {},
          "execution_count": 42
        },
        {
          "output_type": "display_data",
          "data": {
            "text/plain": [
              "<Figure size 864x288 with 1 Axes>"
            ],
            "image/png": "[encoded data removed]"
          },
          "metadata": {
            "needs_background": "light"
          }
        }
      ],
      "source": [
        "# Distribución de los viajes por dia por tarjeta#\n",
        "plt.figure(figsize=(12, 4))\n",
        "sns.boxplot(x=df1.VIAJES_POR_TARJETA_DIA)\n",
        "sns.despine()\n",
        "plt.title('Distribución de los viajes por dia por tarjeta', Fontsize=16)"
      ]
    },
    {
      "cell_type": "code",
      "execution_count": 44,
      "metadata": {
        "colab": {
          "base_uri": "https://localhost:8080/",
          "height": 315
        },
        "id": "HU1tz1wa0Mzr",
        "outputId": "20bd096b-2e0a-4994-83b7-8446f7695152"
      },
      "outputs": [
        {
          "output_type": "execute_result",
          "data": {
            "text/plain": [
              "Text(0.5, 1.0, 'Distribución de los viajes por tarjeta y dia')"
            ]
          },
          "metadata": {},
          "execution_count": 44
        },
        {
          "output_type": "display_data",
          "data": {
            "text/plain": [
              "<Figure size 432x288 with 1 Axes>"
            ],
            "image/png": "[encoded data removed]"
          },
          "metadata": {
            "needs_background": "light"
          }
        }
      ],
      "source": [
        "# Observamos los datos en un histograma\n",
        "plt.hist(df1['VIAJES_POR_TARJETA_DIA'], color='grey', bins=5)\n",
        "plt.ylabel('Frecuencia')\n",
        "plt.xlabel('Cantidad de viajes por dia')\n",
        "plt.title('Distribución de los viajes por tarjeta y dia', Fontsize=16)"
      ]
    },
    {
      "cell_type": "code",
      "execution_count": 45,
      "metadata": {
        "colab": {
          "base_uri": "https://localhost:8080/"
        },
        "id": "3b7jX_vcpZKi",
        "outputId": "c56718d7-eefb-4360-a486-b4742de07ef5"
      },
      "outputs": [
        {
          "output_type": "execute_result",
          "data": {
            "text/plain": [
              "count    1299936.00\n",
              "mean          36.01\n",
              "std           21.30\n",
              "min            1.00\n",
              "25%           22.00\n",
              "50%           33.00\n",
              "75%           47.00\n",
              "max          270.00\n",
              "Name: VIAJES_POR_TARJETA_MES, dtype: object"
            ]
          },
          "metadata": {},
          "execution_count": 45
        }
      ],
      "source": [
        "# ANALISIS VIAJES POR MES Y POR TARJETA#\n",
        "##Eliminamos duplicados para hacer el análisis de conteos mensuales por tarjeta#\n",
        "df2=conteo_viajes_tarjeta\n",
        "df2=df2.drop_duplicates(['VIAJES_POR_TARJETA_MES', 'MES', 'TARJETA'])\n",
        "df2.VIAJES_POR_TARJETA_MES.describe().apply(lambda s: '{0:.2f}'.format(s))"
      ]
    },
    {
      "cell_type": "code",
      "execution_count": 31,
      "metadata": {
        "id": "Jc3Tv9vFwCfv"
      },
      "outputs": [],
      "source": [
        "# Eliminamos outliers#\n",
        "# Eliminamos 1% de los datos#\n",
        "df2['VIAJES_POR_TARJETA_MES'].quantile([.95,.96,.97, .98, .99, .995, .998])\n",
        "df2= df2[df2['VIAJES_POR_TARJETA_MES'] < df2['VIAJES_POR_TARJETA_MES'] .quantile(0.99)]"
      ]
    },
    {
      "cell_type": "code",
      "execution_count": 32,
      "metadata": {
        "colab": {
          "base_uri": "https://localhost:8080/",
          "height": 280
        },
        "id": "5vyVohHYwCpL",
        "outputId": "fc06cd48-86fb-4526-f54c-8cf44ebf8295"
      },
      "outputs": [
        {
          "output_type": "display_data",
          "data": {
            "text/plain": [
              "<Figure size 864x288 with 1 Axes>"
            ],
            "image/png": "[encoded data removed]"
          },
          "metadata": {
            "needs_background": "light"
          }
        }
      ],
      "source": [
        "plt.figure(figsize=(12, 4))\n",
        "sns.boxplot(x=df2.VIAJES_POR_TARJETA_MES)\n",
        "sns.despine()"
      ]
    },
    {
      "cell_type": "code",
      "execution_count": 33,
      "metadata": {
        "colab": {
          "base_uri": "https://localhost:8080/",
          "height": 312
        },
        "id": "Sxem-8FW10Gf",
        "outputId": "9a276e6d-ee54-469b-de9f-a9cd45a11752"
      },
      "outputs": [
        {
          "output_type": "execute_result",
          "data": {
            "text/plain": [
              "Text(0.5, 1.0, 'Distribución de los viajes por mes por tarjeta')"
            ]
          },
          "metadata": {},
          "execution_count": 33
        },
        {
          "output_type": "display_data",
          "data": {
            "text/plain": [
              "<Figure size 432x288 with 1 Axes>"
            ],
            "image/png": "[encoded data removed]"
          },
          "metadata": {
            "needs_background": "light"
          }
        }
      ],
      "source": [
        "# Observamos los datos en un histograma\n",
        "plt.hist(df2['VIAJES_POR_TARJETA_MES'], color='green', bins=20)\n",
        "plt.ylabel('Frecuencia')\n",
        "plt.xlabel('Cantidad de viajes por mes')\n",
        "plt.title('Distribución de los viajes por mes por tarjeta')"
      ]
    }
  ],
  "metadata": {
    "colab": {
      "name": "Resguardo_Union_bases_por_tarjeta.ipynb",
      "provenance": []
    },
    "kernelspec": {
      "display_name": "Python 3",
      "name": "python3"
    },
    "language_info": {
      "name": "python"
    }
  },
  "nbformat": 4,
  "nbformat_minor": 0
}