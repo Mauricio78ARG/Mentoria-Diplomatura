{
  "nbformat": 4,
  "nbformat_minor": 0,
  "metadata": {
    "colab": {
      "name": "Resguardo_Union_bases_por_dia_hora.ipynb",
      "provenance": []
    },
    "kernelspec": {
      "name": "python3",
      "display_name": "Python 3"
    },
    "language_info": {
      "name": "python"
    }
  },
  "cells": [
    {
      "cell_type": "code",
      "execution_count": 21,
      "metadata": {
        "colab": {
          "base_uri": "https://localhost:8080/",
          "height": 581
        },
        "id": "rvJAqTH_6rQB",
        "outputId": "ae44276c-3b5f-4499-a85a-abde3152830c"
      },
      "outputs": [
        {
          "output_type": "stream",
          "name": "stdout",
          "text": [
            "Mounted at /content/drive/\n"
          ]
        },
        {
          "output_type": "execute_result",
          "data": {
            "text/plain": [
              "          CORREDOR LINEA        dia2  VIAJES_DIA_HORA_CORREDOR  \\\n",
              "0       Cor 2 Azul   L21  2019-04-15                        19   \n",
              "1       Cor 3 Rojo   L30  2019-04-18                        44   \n",
              "2    Cor 1 Naranja   L10  2019-04-18                        73   \n",
              "3    Cor 1 Naranja   L12  2019-04-18                        73   \n",
              "4       Cor 8 Rojo   L83  2019-04-18                        24   \n",
              "5       Cor 2 Azul   L29  2019-04-18                        25   \n",
              "6       Cor 7 Azul   L75  2019-04-18                        16   \n",
              "7    Cor 6 Naranja   L66  2019-04-18                        29   \n",
              "8       Cor 2 Azul   L20  2019-04-18                        25   \n",
              "9   Cor 4 Amarillo   L43  2019-04-18                         8   \n",
              "10      Cor 8 Rojo   L82  2019-04-18                        24   \n",
              "11      Cor 3 Rojo   L36  2019-04-18                        44   \n",
              "12      Cor 2 Azul   L26  2019-04-18                        25   \n",
              "13   Cor 1 Naranja   L14  2019-04-18                        73   \n",
              "14   Cor 6 Naranja   L60  2019-04-18                        29   \n",
              "\n",
              "    VIAJES_DIA_HORA_LINEA  VIAJES_DIA_HORA_LINEA_SENT_IDA  \\\n",
              "0                       1                               0   \n",
              "1                      22                              22   \n",
              "2                      40                              13   \n",
              "3                       8                               0   \n",
              "4                       2                               0   \n",
              "5                       1                               0   \n",
              "6                       3                               0   \n",
              "7                       8                               7   \n",
              "8                      16                               9   \n",
              "9                       8                               0   \n",
              "10                     12                               0   \n",
              "11                      4                               4   \n",
              "12                      3                               0   \n",
              "13                     13                               6   \n",
              "14                     20                              12   \n",
              "\n",
              "    VIAJES_DIA_HORA_LINEA_SENT_VUELTA     hh  \n",
              "0                                   1  01 AM  \n",
              "1                                   0  01 AM  \n",
              "2                                  27  01 AM  \n",
              "3                                   8  01 AM  \n",
              "4                                   2  01 AM  \n",
              "5                                   1  01 AM  \n",
              "6                                   3  01 AM  \n",
              "7                                   1  01 AM  \n",
              "8                                   7  01 AM  \n",
              "9                                   8  01 AM  \n",
              "10                                 12  01 AM  \n",
              "11                                  0  01 AM  \n",
              "12                                  3  01 AM  \n",
              "13                                  7  01 AM  \n",
              "14                                  8  01 AM  "
            ],
            "text/html": [
              "\n",
              "  <div id=\"df-a961218e-bf28-46fa-86f4-e4cd89f9b453\">\n",
              "    <div class=\"colab-df-container\">\n",
              "      <div>\n",
              "<style scoped>\n",
              "    .dataframe tbody tr th:only-of-type {\n",
              "        vertical-align: middle;\n",
              "    }\n",
              "\n",
              "    .dataframe tbody tr th {\n",
              "        vertical-align: top;\n",
              "    }\n",
              "\n",
              "    .dataframe thead th {\n",
              "        text-align: right;\n",
              "    }\n",
              "</style>\n",
              "<table border=\"1\" class=\"dataframe\">\n",
              "  <thead>\n",
              "    <tr style=\"text-align: right;\">\n",
              "      <th></th>\n",
              "      <th>CORREDOR</th>\n",
              "      <th>LINEA</th>\n",
              "      <th>dia2</th>\n",
              "      <th>VIAJES_DIA_HORA_CORREDOR</th>\n",
              "      <th>VIAJES_DIA_HORA_LINEA</th>\n",
              "      <th>VIAJES_DIA_HORA_LINEA_SENT_IDA</th>\n",
              "      <th>VIAJES_DIA_HORA_LINEA_SENT_VUELTA</th>\n",
              "      <th>hh</th>\n",
              "    </tr>\n",
              "  </thead>\n",
              "  <tbody>\n",
              "    <tr>\n",
              "      <th>0</th>\n",
              "      <td>Cor 2 Azul</td>\n",
              "      <td>L21</td>\n",
              "      <td>2019-04-15</td>\n",
              "      <td>19</td>\n",
              "      <td>1</td>\n",
              "      <td>0</td>\n",
              "      <td>1</td>\n",
              "      <td>01 AM</td>\n",
              "    </tr>\n",
              "    <tr>\n",
              "      <th>1</th>\n",
              "      <td>Cor 3 Rojo</td>\n",
              "      <td>L30</td>\n",
              "      <td>2019-04-18</td>\n",
              "      <td>44</td>\n",
              "      <td>22</td>\n",
              "      <td>22</td>\n",
              "      <td>0</td>\n",
              "      <td>01 AM</td>\n",
              "    </tr>\n",
              "    <tr>\n",
              "      <th>2</th>\n",
              "      <td>Cor 1 Naranja</td>\n",
              "      <td>L10</td>\n",
              "      <td>2019-04-18</td>\n",
              "      <td>73</td>\n",
              "      <td>40</td>\n",
              "      <td>13</td>\n",
              "      <td>27</td>\n",
              "      <td>01 AM</td>\n",
              "    </tr>\n",
              "    <tr>\n",
              "      <th>3</th>\n",
              "      <td>Cor 1 Naranja</td>\n",
              "      <td>L12</td>\n",
              "      <td>2019-04-18</td>\n",
              "      <td>73</td>\n",
              "      <td>8</td>\n",
              "      <td>0</td>\n",
              "      <td>8</td>\n",
              "      <td>01 AM</td>\n",
              "    </tr>\n",
              "    <tr>\n",
              "      <th>4</th>\n",
              "      <td>Cor 8 Rojo</td>\n",
              "      <td>L83</td>\n",
              "      <td>2019-04-18</td>\n",
              "      <td>24</td>\n",
              "      <td>2</td>\n",
              "      <td>0</td>\n",
              "      <td>2</td>\n",
              "      <td>01 AM</td>\n",
              "    </tr>\n",
              "    <tr>\n",
              "      <th>5</th>\n",
              "      <td>Cor 2 Azul</td>\n",
              "      <td>L29</td>\n",
              "      <td>2019-04-18</td>\n",
              "      <td>25</td>\n",
              "      <td>1</td>\n",
              "      <td>0</td>\n",
              "      <td>1</td>\n",
              "      <td>01 AM</td>\n",
              "    </tr>\n",
              "    <tr>\n",
              "      <th>6</th>\n",
              "      <td>Cor 7 Azul</td>\n",
              "      <td>L75</td>\n",
              "      <td>2019-04-18</td>\n",
              "      <td>16</td>\n",
              "      <td>3</td>\n",
              "      <td>0</td>\n",
              "      <td>3</td>\n",
              "      <td>01 AM</td>\n",
              "    </tr>\n",
              "    <tr>\n",
              "      <th>7</th>\n",
              "      <td>Cor 6 Naranja</td>\n",
              "      <td>L66</td>\n",
              "      <td>2019-04-18</td>\n",
              "      <td>29</td>\n",
              "      <td>8</td>\n",
              "      <td>7</td>\n",
              "      <td>1</td>\n",
              "      <td>01 AM</td>\n",
              "    </tr>\n",
              "    <tr>\n",
              "      <th>8</th>\n",
              "      <td>Cor 2 Azul</td>\n",
              "      <td>L20</td>\n",
              "      <td>2019-04-18</td>\n",
              "      <td>25</td>\n",
              "      <td>16</td>\n",
              "      <td>9</td>\n",
              "      <td>7</td>\n",
              "      <td>01 AM</td>\n",
              "    </tr>\n",
              "    <tr>\n",
              "      <th>9</th>\n",
              "      <td>Cor 4 Amarillo</td>\n",
              "      <td>L43</td>\n",
              "      <td>2019-04-18</td>\n",
              "      <td>8</td>\n",
              "      <td>8</td>\n",
              "      <td>0</td>\n",
              "      <td>8</td>\n",
              "      <td>01 AM</td>\n",
              "    </tr>\n",
              "    <tr>\n",
              "      <th>10</th>\n",
              "      <td>Cor 8 Rojo</td>\n",
              "      <td>L82</td>\n",
              "      <td>2019-04-18</td>\n",
              "      <td>24</td>\n",
              "      <td>12</td>\n",
              "      <td>0</td>\n",
              "      <td>12</td>\n",
              "      <td>01 AM</td>\n",
              "    </tr>\n",
              "    <tr>\n",
              "      <th>11</th>\n",
              "      <td>Cor 3 Rojo</td>\n",
              "      <td>L36</td>\n",
              "      <td>2019-04-18</td>\n",
              "      <td>44</td>\n",
              "      <td>4</td>\n",
              "      <td>4</td>\n",
              "      <td>0</td>\n",
              "      <td>01 AM</td>\n",
              "    </tr>\n",
              "    <tr>\n",
              "      <th>12</th>\n",
              "      <td>Cor 2 Azul</td>\n",
              "      <td>L26</td>\n",
              "      <td>2019-04-18</td>\n",
              "      <td>25</td>\n",
              "      <td>3</td>\n",
              "      <td>0</td>\n",
              "      <td>3</td>\n",
              "      <td>01 AM</td>\n",
              "    </tr>\n",
              "    <tr>\n",
              "      <th>13</th>\n",
              "      <td>Cor 1 Naranja</td>\n",
              "      <td>L14</td>\n",
              "      <td>2019-04-18</td>\n",
              "      <td>73</td>\n",
              "      <td>13</td>\n",
              "      <td>6</td>\n",
              "      <td>7</td>\n",
              "      <td>01 AM</td>\n",
              "    </tr>\n",
              "    <tr>\n",
              "      <th>14</th>\n",
              "      <td>Cor 6 Naranja</td>\n",
              "      <td>L60</td>\n",
              "      <td>2019-04-18</td>\n",
              "      <td>29</td>\n",
              "      <td>20</td>\n",
              "      <td>12</td>\n",
              "      <td>8</td>\n",
              "      <td>01 AM</td>\n",
              "    </tr>\n",
              "  </tbody>\n",
              "</table>\n",
              "</div>\n",
              "      <button class=\"colab-df-convert\" onclick=\"convertToInteractive('df-a961218e-bf28-46fa-86f4-e4cd89f9b453')\"\n",
              "              title=\"Convert this dataframe to an interactive table.\"\n",
              "              style=\"display:none;\">\n",
              "        \n",
              "  <svg xmlns=\"http://www.w3.org/2000/svg\" height=\"24px\"viewBox=\"0 0 24 24\"\n",
              "       width=\"24px\">\n",
              "    <path d=\"M0 0h24v24H0V0z\" fill=\"none\"/>\n",
              "    <path d=\"M18.56 5.44l.94 2.06.94-2.06 2.06-.94-2.06-.94-.94-2.06-.94 2.06-2.06.94zm-11 1L8.5 8.5l.94-2.06 2.06-.94-2.06-.94L8.5 2.5l-.94 2.06-2.06.94zm10 10l.94 2.06.94-2.06 2.06-.94-2.06-.94-.94-2.06-.94 2.06-2.06.94z\"/><path d=\"M17.41 7.96l-1.37-1.37c-.4-.4-.92-.59-1.43-.59-.52 0-1.04.2-1.43.59L10.3 9.45l-7.72 7.72c-.78.78-.78 2.05 0 2.83L4 21.41c.39.39.9.59 1.41.59.51 0 1.02-.2 1.41-.59l7.78-7.78 2.81-2.81c.8-.78.8-2.07 0-2.86zM5.41 20L4 18.59l7.72-7.72 1.47 1.35L5.41 20z\"/>\n",
              "  </svg>\n",
              "      </button>\n",
              "      \n",
              "  <style>\n",
              "    .colab-df-container {\n",
              "      display:flex;\n",
              "      flex-wrap:wrap;\n",
              "      gap: 12px;\n",
              "    }\n",
              "\n",
              "    .colab-df-convert {\n",
              "      background-color: #E8F0FE;\n",
              "      border: none;\n",
              "      border-radius: 50%;\n",
              "      cursor: pointer;\n",
              "      display: none;\n",
              "      fill: #1967D2;\n",
              "      height: 32px;\n",
              "      padding: 0 0 0 0;\n",
              "      width: 32px;\n",
              "    }\n",
              "\n",
              "    .colab-df-convert:hover {\n",
              "      background-color: #E2EBFA;\n",
              "      box-shadow: 0px 1px 2px rgba(60, 64, 67, 0.3), 0px 1px 3px 1px rgba(60, 64, 67, 0.15);\n",
              "      fill: #174EA6;\n",
              "    }\n",
              "\n",
              "    [theme=dark] .colab-df-convert {\n",
              "      background-color: #3B4455;\n",
              "      fill: #D2E3FC;\n",
              "    }\n",
              "\n",
              "    [theme=dark] .colab-df-convert:hover {\n",
              "      background-color: #434B5C;\n",
              "      box-shadow: 0px 1px 3px 1px rgba(0, 0, 0, 0.15);\n",
              "      filter: drop-shadow(0px 1px 2px rgba(0, 0, 0, 0.3));\n",
              "      fill: #FFFFFF;\n",
              "    }\n",
              "  </style>\n",
              "\n",
              "      <script>\n",
              "        const buttonEl =\n",
              "          document.querySelector('#df-a961218e-bf28-46fa-86f4-e4cd89f9b453 button.colab-df-convert');\n",
              "        buttonEl.style.display =\n",
              "          google.colab.kernel.accessAllowed ? 'block' : 'none';\n",
              "\n",
              "        async function convertToInteractive(key) {\n",
              "          const element = document.querySelector('#df-a961218e-bf28-46fa-86f4-e4cd89f9b453');\n",
              "          const dataTable =\n",
              "            await google.colab.kernel.invokeFunction('convertToInteractive',\n",
              "                                                     [key], {});\n",
              "          if (!dataTable) return;\n",
              "\n",
              "          const docLinkHtml = 'Like what you see? Visit the ' +\n",
              "            '<a target=\"_blank\" href=https://colab.research.google.com/notebooks/data_table.ipynb>data table notebook</a>'\n",
              "            + ' to learn more about interactive tables.';\n",
              "          element.innerHTML = '';\n",
              "          dataTable['output_type'] = 'display_data';\n",
              "          await google.colab.output.renderOutput(dataTable, element);\n",
              "          const docLink = document.createElement('div');\n",
              "          docLink.innerHTML = docLinkHtml;\n",
              "          element.appendChild(docLink);\n",
              "        }\n",
              "      </script>\n",
              "    </div>\n",
              "  </div>\n",
              "  "
            ]
          },
          "metadata": {},
          "execution_count": 21
        }
      ],
      "source": [
        "from google.colab import drive\n",
        "drive.mount('/content/drive/', force_remount=True )\n",
        "import pandas as pd\n",
        "#%cd /content/drive/My Drive/bases_mentoria/\n",
        "path= '/content/drive/My Drive/bases_mentoria/viajes dia hora'\n",
        "#path= '/content/drive/My Drive/viajes dia hora'\n",
        "\n",
        "import glob\n",
        "filenames = glob.glob(path + \"/*.csv\")\n",
        "\n",
        "dfs = []\n",
        "for filename in filenames:\n",
        "    dfs.append(pd.read_csv(filename, encoding='latin-1', sep=\",\"))\n",
        "\n",
        "# Concatenate all data into one DataFrame\n",
        "viajes_dia_hora = pd.concat(dfs, ignore_index=True)\n",
        "\n",
        "viajes_dia_hora.head(15)"
      ]
    },
    {
      "cell_type": "code",
      "source": [
        "viajes_dia_hora.shape"
      ],
      "metadata": {
        "id": "X_XtePrXQbVA",
        "colab": {
          "base_uri": "https://localhost:8080/"
        },
        "outputId": "a1b56c99-1df8-4577-c274-509596952373"
      },
      "execution_count": 22,
      "outputs": [
        {
          "output_type": "execute_result",
          "data": {
            "text/plain": [
              "(510600, 8)"
            ]
          },
          "metadata": {},
          "execution_count": 22
        }
      ]
    },
    {
      "cell_type": "code",
      "source": [
        "sum(viajes_dia_hora.VIAJES_DIA_HORA_LINEA)"
      ],
      "metadata": {
        "id": "10-9kC8TSgzn",
        "colab": {
          "base_uri": "https://localhost:8080/"
        },
        "outputId": "ec123db5-874c-47e4-d007-f1f5bf1d46dd"
      },
      "execution_count": 23,
      "outputs": [
        {
          "output_type": "execute_result",
          "data": {
            "text/plain": [
              "46810109"
            ]
          },
          "metadata": {},
          "execution_count": 23
        }
      ]
    },
    {
      "cell_type": "code",
      "source": [
        "# Hacemos un trabajo de reemplazo de las horas para pasar de 0 a 23, no lo hice antes porque no hace la transformación por la cantidad enorme de datos que hay#\n",
        "df1=viajes_dia_hora\n",
        "df1=df1.replace(to_replace =[\"01 AM\"], value =\"01\")\n",
        "df1=df1.replace(to_replace =[\"01 PM\"], value =\"13\")\n",
        "df1=df1.replace(to_replace =[\"02 AM\"], value =\"02\")\n",
        "df1=df1.replace(to_replace =[\"02 PM\"], value =\"14\")\n",
        "df1=df1.replace(to_replace =[\"03 AM\"], value =\"03\")\n",
        "df1=df1.replace(to_replace =[\"03 PM\"], value =\"15\")\n",
        "df1=df1.replace(to_replace =[\"04 AM\"], value =\"04\")\n",
        "df1=df1.replace(to_replace =[\"04 PM\"], value =\"16\")\n",
        "df1=df1.replace(to_replace =[\"05 AM\"], value =\"05\")\n",
        "df1=df1.replace(to_replace =[\"05 PM\"], value =\"17\")\n",
        "df1=df1.replace(to_replace =[\"06 AM\"], value =\"06\")\n",
        "df1=df1.replace(to_replace =[\"06 PM\"], value =\"18\")\n",
        "df1=df1.replace(to_replace =[\"07 AM\"], value =\"07\")\n",
        "df1=df1.replace(to_replace =[\"07 PM\"], value =\"19\")\n",
        "df1=df1.replace(to_replace =[\"08 AM\"], value =\"08\")\n",
        "df1=df1.replace(to_replace =[\"08 PM\"], value =\"20\")\n",
        "df1=df1.replace(to_replace =[\"09 AM\"], value =\"09\")\n",
        "df1=df1.replace(to_replace =[\"09 PM\"], value =\"21\")\n",
        "df1=df1.replace(to_replace =[\"10 AM\"], value =\"10\")\n",
        "df1=df1.replace(to_replace =[\"10 PM\"], value =\"22\")\n",
        "df1=df1.replace(to_replace =[\"11 AM\"], value =\"11\")\n",
        "df1=df1.replace(to_replace =[\"11 PM\"], value =\"23\")\n",
        "df1=df1.replace(to_replace =[\"12 AM\"], value =\"00\")\n",
        "df1=df1.replace(to_replace =[\"12 PM\"], value =\"12\")\n",
        "\n",
        "\n"
      ],
      "metadata": {
        "id": "Sa6TxvHujd6R"
      },
      "execution_count": 24,
      "outputs": []
    },
    {
      "cell_type": "code",
      "source": [
        "df1.head()"
      ],
      "metadata": {
        "id": "WT-tAuHImACM",
        "colab": {
          "base_uri": "https://localhost:8080/",
          "height": 206
        },
        "outputId": "18061f35-928a-43cd-c3de-d45f4cf0578c"
      },
      "execution_count": 25,
      "outputs": [
        {
          "output_type": "execute_result",
          "data": {
            "text/plain": [
              "        CORREDOR LINEA        dia2  VIAJES_DIA_HORA_CORREDOR  \\\n",
              "0     Cor 2 Azul   L21  2019-04-15                        19   \n",
              "1     Cor 3 Rojo   L30  2019-04-18                        44   \n",
              "2  Cor 1 Naranja   L10  2019-04-18                        73   \n",
              "3  Cor 1 Naranja   L12  2019-04-18                        73   \n",
              "4     Cor 8 Rojo   L83  2019-04-18                        24   \n",
              "\n",
              "   VIAJES_DIA_HORA_LINEA  VIAJES_DIA_HORA_LINEA_SENT_IDA  \\\n",
              "0                      1                               0   \n",
              "1                     22                              22   \n",
              "2                     40                              13   \n",
              "3                      8                               0   \n",
              "4                      2                               0   \n",
              "\n",
              "   VIAJES_DIA_HORA_LINEA_SENT_VUELTA  hh  \n",
              "0                                  1  01  \n",
              "1                                  0  01  \n",
              "2                                 27  01  \n",
              "3                                  8  01  \n",
              "4                                  2  01  "
            ],
            "text/html": [
              "\n",
              "  <div id=\"df-54c36dde-88d2-4b79-96a8-e22a91b66d63\">\n",
              "    <div class=\"colab-df-container\">\n",
              "      <div>\n",
              "<style scoped>\n",
              "    .dataframe tbody tr th:only-of-type {\n",
              "        vertical-align: middle;\n",
              "    }\n",
              "\n",
              "    .dataframe tbody tr th {\n",
              "        vertical-align: top;\n",
              "    }\n",
              "\n",
              "    .dataframe thead th {\n",
              "        text-align: right;\n",
              "    }\n",
              "</style>\n",
              "<table border=\"1\" class=\"dataframe\">\n",
              "  <thead>\n",
              "    <tr style=\"text-align: right;\">\n",
              "      <th></th>\n",
              "      <th>CORREDOR</th>\n",
              "      <th>LINEA</th>\n",
              "      <th>dia2</th>\n",
              "      <th>VIAJES_DIA_HORA_CORREDOR</th>\n",
              "      <th>VIAJES_DIA_HORA_LINEA</th>\n",
              "      <th>VIAJES_DIA_HORA_LINEA_SENT_IDA</th>\n",
              "      <th>VIAJES_DIA_HORA_LINEA_SENT_VUELTA</th>\n",
              "      <th>hh</th>\n",
              "    </tr>\n",
              "  </thead>\n",
              "  <tbody>\n",
              "    <tr>\n",
              "      <th>0</th>\n",
              "      <td>Cor 2 Azul</td>\n",
              "      <td>L21</td>\n",
              "      <td>2019-04-15</td>\n",
              "      <td>19</td>\n",
              "      <td>1</td>\n",
              "      <td>0</td>\n",
              "      <td>1</td>\n",
              "      <td>01</td>\n",
              "    </tr>\n",
              "    <tr>\n",
              "      <th>1</th>\n",
              "      <td>Cor 3 Rojo</td>\n",
              "      <td>L30</td>\n",
              "      <td>2019-04-18</td>\n",
              "      <td>44</td>\n",
              "      <td>22</td>\n",
              "      <td>22</td>\n",
              "      <td>0</td>\n",
              "      <td>01</td>\n",
              "    </tr>\n",
              "    <tr>\n",
              "      <th>2</th>\n",
              "      <td>Cor 1 Naranja</td>\n",
              "      <td>L10</td>\n",
              "      <td>2019-04-18</td>\n",
              "      <td>73</td>\n",
              "      <td>40</td>\n",
              "      <td>13</td>\n",
              "      <td>27</td>\n",
              "      <td>01</td>\n",
              "    </tr>\n",
              "    <tr>\n",
              "      <th>3</th>\n",
              "      <td>Cor 1 Naranja</td>\n",
              "      <td>L12</td>\n",
              "      <td>2019-04-18</td>\n",
              "      <td>73</td>\n",
              "      <td>8</td>\n",
              "      <td>0</td>\n",
              "      <td>8</td>\n",
              "      <td>01</td>\n",
              "    </tr>\n",
              "    <tr>\n",
              "      <th>4</th>\n",
              "      <td>Cor 8 Rojo</td>\n",
              "      <td>L83</td>\n",
              "      <td>2019-04-18</td>\n",
              "      <td>24</td>\n",
              "      <td>2</td>\n",
              "      <td>0</td>\n",
              "      <td>2</td>\n",
              "      <td>01</td>\n",
              "    </tr>\n",
              "  </tbody>\n",
              "</table>\n",
              "</div>\n",
              "      <button class=\"colab-df-convert\" onclick=\"convertToInteractive('df-54c36dde-88d2-4b79-96a8-e22a91b66d63')\"\n",
              "              title=\"Convert this dataframe to an interactive table.\"\n",
              "              style=\"display:none;\">\n",
              "        \n",
              "  <svg xmlns=\"http://www.w3.org/2000/svg\" height=\"24px\"viewBox=\"0 0 24 24\"\n",
              "       width=\"24px\">\n",
              "    <path d=\"M0 0h24v24H0V0z\" fill=\"none\"/>\n",
              "    <path d=\"M18.56 5.44l.94 2.06.94-2.06 2.06-.94-2.06-.94-.94-2.06-.94 2.06-2.06.94zm-11 1L8.5 8.5l.94-2.06 2.06-.94-2.06-.94L8.5 2.5l-.94 2.06-2.06.94zm10 10l.94 2.06.94-2.06 2.06-.94-2.06-.94-.94-2.06-.94 2.06-2.06.94z\"/><path d=\"M17.41 7.96l-1.37-1.37c-.4-.4-.92-.59-1.43-.59-.52 0-1.04.2-1.43.59L10.3 9.45l-7.72 7.72c-.78.78-.78 2.05 0 2.83L4 21.41c.39.39.9.59 1.41.59.51 0 1.02-.2 1.41-.59l7.78-7.78 2.81-2.81c.8-.78.8-2.07 0-2.86zM5.41 20L4 18.59l7.72-7.72 1.47 1.35L5.41 20z\"/>\n",
              "  </svg>\n",
              "      </button>\n",
              "      \n",
              "  <style>\n",
              "    .colab-df-container {\n",
              "      display:flex;\n",
              "      flex-wrap:wrap;\n",
              "      gap: 12px;\n",
              "    }\n",
              "\n",
              "    .colab-df-convert {\n",
              "      background-color: #E8F0FE;\n",
              "      border: none;\n",
              "      border-radius: 50%;\n",
              "      cursor: pointer;\n",
              "      display: none;\n",
              "      fill: #1967D2;\n",
              "      height: 32px;\n",
              "      padding: 0 0 0 0;\n",
              "      width: 32px;\n",
              "    }\n",
              "\n",
              "    .colab-df-convert:hover {\n",
              "      background-color: #E2EBFA;\n",
              "      box-shadow: 0px 1px 2px rgba(60, 64, 67, 0.3), 0px 1px 3px 1px rgba(60, 64, 67, 0.15);\n",
              "      fill: #174EA6;\n",
              "    }\n",
              "\n",
              "    [theme=dark] .colab-df-convert {\n",
              "      background-color: #3B4455;\n",
              "      fill: #D2E3FC;\n",
              "    }\n",
              "\n",
              "    [theme=dark] .colab-df-convert:hover {\n",
              "      background-color: #434B5C;\n",
              "      box-shadow: 0px 1px 3px 1px rgba(0, 0, 0, 0.15);\n",
              "      filter: drop-shadow(0px 1px 2px rgba(0, 0, 0, 0.3));\n",
              "      fill: #FFFFFF;\n",
              "    }\n",
              "  </style>\n",
              "\n",
              "      <script>\n",
              "        const buttonEl =\n",
              "          document.querySelector('#df-54c36dde-88d2-4b79-96a8-e22a91b66d63 button.colab-df-convert');\n",
              "        buttonEl.style.display =\n",
              "          google.colab.kernel.accessAllowed ? 'block' : 'none';\n",
              "\n",
              "        async function convertToInteractive(key) {\n",
              "          const element = document.querySelector('#df-54c36dde-88d2-4b79-96a8-e22a91b66d63');\n",
              "          const dataTable =\n",
              "            await google.colab.kernel.invokeFunction('convertToInteractive',\n",
              "                                                     [key], {});\n",
              "          if (!dataTable) return;\n",
              "\n",
              "          const docLinkHtml = 'Like what you see? Visit the ' +\n",
              "            '<a target=\"_blank\" href=https://colab.research.google.com/notebooks/data_table.ipynb>data table notebook</a>'\n",
              "            + ' to learn more about interactive tables.';\n",
              "          element.innerHTML = '';\n",
              "          dataTable['output_type'] = 'display_data';\n",
              "          await google.colab.output.renderOutput(dataTable, element);\n",
              "          const docLink = document.createElement('div');\n",
              "          docLink.innerHTML = docLinkHtml;\n",
              "          element.appendChild(docLink);\n",
              "        }\n",
              "      </script>\n",
              "    </div>\n",
              "  </div>\n",
              "  "
            ]
          },
          "metadata": {},
          "execution_count": 25
        }
      ]
    },
    {
      "cell_type": "code",
      "source": [
        "del viajes_dia_hora"
      ],
      "metadata": {
        "id": "5U3oaCRYnFO8"
      },
      "execution_count": 26,
      "outputs": []
    },
    {
      "cell_type": "code",
      "source": [
        "viajes_dia_hora=df1.copy()"
      ],
      "metadata": {
        "id": "7_FlGaRtnNy-"
      },
      "execution_count": 27,
      "outputs": []
    },
    {
      "cell_type": "code",
      "source": [
        "viajes_dia_hora.head()"
      ],
      "metadata": {
        "id": "MVghtxEcnUPu",
        "colab": {
          "base_uri": "https://localhost:8080/",
          "height": 206
        },
        "outputId": "6fd23f28-f48b-4d7b-963b-d967d30f91eb"
      },
      "execution_count": 28,
      "outputs": [
        {
          "output_type": "execute_result",
          "data": {
            "text/plain": [
              "        CORREDOR LINEA        dia2  VIAJES_DIA_HORA_CORREDOR  \\\n",
              "0     Cor 2 Azul   L21  2019-04-15                        19   \n",
              "1     Cor 3 Rojo   L30  2019-04-18                        44   \n",
              "2  Cor 1 Naranja   L10  2019-04-18                        73   \n",
              "3  Cor 1 Naranja   L12  2019-04-18                        73   \n",
              "4     Cor 8 Rojo   L83  2019-04-18                        24   \n",
              "\n",
              "   VIAJES_DIA_HORA_LINEA  VIAJES_DIA_HORA_LINEA_SENT_IDA  \\\n",
              "0                      1                               0   \n",
              "1                     22                              22   \n",
              "2                     40                              13   \n",
              "3                      8                               0   \n",
              "4                      2                               0   \n",
              "\n",
              "   VIAJES_DIA_HORA_LINEA_SENT_VUELTA  hh  \n",
              "0                                  1  01  \n",
              "1                                  0  01  \n",
              "2                                 27  01  \n",
              "3                                  8  01  \n",
              "4                                  2  01  "
            ],
            "text/html": [
              "\n",
              "  <div id=\"df-4e0f9049-1bc1-482b-aa3a-1adf41cc214e\">\n",
              "    <div class=\"colab-df-container\">\n",
              "      <div>\n",
              "<style scoped>\n",
              "    .dataframe tbody tr th:only-of-type {\n",
              "        vertical-align: middle;\n",
              "    }\n",
              "\n",
              "    .dataframe tbody tr th {\n",
              "        vertical-align: top;\n",
              "    }\n",
              "\n",
              "    .dataframe thead th {\n",
              "        text-align: right;\n",
              "    }\n",
              "</style>\n",
              "<table border=\"1\" class=\"dataframe\">\n",
              "  <thead>\n",
              "    <tr style=\"text-align: right;\">\n",
              "      <th></th>\n",
              "      <th>CORREDOR</th>\n",
              "      <th>LINEA</th>\n",
              "      <th>dia2</th>\n",
              "      <th>VIAJES_DIA_HORA_CORREDOR</th>\n",
              "      <th>VIAJES_DIA_HORA_LINEA</th>\n",
              "      <th>VIAJES_DIA_HORA_LINEA_SENT_IDA</th>\n",
              "      <th>VIAJES_DIA_HORA_LINEA_SENT_VUELTA</th>\n",
              "      <th>hh</th>\n",
              "    </tr>\n",
              "  </thead>\n",
              "  <tbody>\n",
              "    <tr>\n",
              "      <th>0</th>\n",
              "      <td>Cor 2 Azul</td>\n",
              "      <td>L21</td>\n",
              "      <td>2019-04-15</td>\n",
              "      <td>19</td>\n",
              "      <td>1</td>\n",
              "      <td>0</td>\n",
              "      <td>1</td>\n",
              "      <td>01</td>\n",
              "    </tr>\n",
              "    <tr>\n",
              "      <th>1</th>\n",
              "      <td>Cor 3 Rojo</td>\n",
              "      <td>L30</td>\n",
              "      <td>2019-04-18</td>\n",
              "      <td>44</td>\n",
              "      <td>22</td>\n",
              "      <td>22</td>\n",
              "      <td>0</td>\n",
              "      <td>01</td>\n",
              "    </tr>\n",
              "    <tr>\n",
              "      <th>2</th>\n",
              "      <td>Cor 1 Naranja</td>\n",
              "      <td>L10</td>\n",
              "      <td>2019-04-18</td>\n",
              "      <td>73</td>\n",
              "      <td>40</td>\n",
              "      <td>13</td>\n",
              "      <td>27</td>\n",
              "      <td>01</td>\n",
              "    </tr>\n",
              "    <tr>\n",
              "      <th>3</th>\n",
              "      <td>Cor 1 Naranja</td>\n",
              "      <td>L12</td>\n",
              "      <td>2019-04-18</td>\n",
              "      <td>73</td>\n",
              "      <td>8</td>\n",
              "      <td>0</td>\n",
              "      <td>8</td>\n",
              "      <td>01</td>\n",
              "    </tr>\n",
              "    <tr>\n",
              "      <th>4</th>\n",
              "      <td>Cor 8 Rojo</td>\n",
              "      <td>L83</td>\n",
              "      <td>2019-04-18</td>\n",
              "      <td>24</td>\n",
              "      <td>2</td>\n",
              "      <td>0</td>\n",
              "      <td>2</td>\n",
              "      <td>01</td>\n",
              "    </tr>\n",
              "  </tbody>\n",
              "</table>\n",
              "</div>\n",
              "      <button class=\"colab-df-convert\" onclick=\"convertToInteractive('df-4e0f9049-1bc1-482b-aa3a-1adf41cc214e')\"\n",
              "              title=\"Convert this dataframe to an interactive table.\"\n",
              "              style=\"display:none;\">\n",
              "        \n",
              "  <svg xmlns=\"http://www.w3.org/2000/svg\" height=\"24px\"viewBox=\"0 0 24 24\"\n",
              "       width=\"24px\">\n",
              "    <path d=\"M0 0h24v24H0V0z\" fill=\"none\"/>\n",
              "    <path d=\"M18.56 5.44l.94 2.06.94-2.06 2.06-.94-2.06-.94-.94-2.06-.94 2.06-2.06.94zm-11 1L8.5 8.5l.94-2.06 2.06-.94-2.06-.94L8.5 2.5l-.94 2.06-2.06.94zm10 10l.94 2.06.94-2.06 2.06-.94-2.06-.94-.94-2.06-.94 2.06-2.06.94z\"/><path d=\"M17.41 7.96l-1.37-1.37c-.4-.4-.92-.59-1.43-.59-.52 0-1.04.2-1.43.59L10.3 9.45l-7.72 7.72c-.78.78-.78 2.05 0 2.83L4 21.41c.39.39.9.59 1.41.59.51 0 1.02-.2 1.41-.59l7.78-7.78 2.81-2.81c.8-.78.8-2.07 0-2.86zM5.41 20L4 18.59l7.72-7.72 1.47 1.35L5.41 20z\"/>\n",
              "  </svg>\n",
              "      </button>\n",
              "      \n",
              "  <style>\n",
              "    .colab-df-container {\n",
              "      display:flex;\n",
              "      flex-wrap:wrap;\n",
              "      gap: 12px;\n",
              "    }\n",
              "\n",
              "    .colab-df-convert {\n",
              "      background-color: #E8F0FE;\n",
              "      border: none;\n",
              "      border-radius: 50%;\n",
              "      cursor: pointer;\n",
              "      display: none;\n",
              "      fill: #1967D2;\n",
              "      height: 32px;\n",
              "      padding: 0 0 0 0;\n",
              "      width: 32px;\n",
              "    }\n",
              "\n",
              "    .colab-df-convert:hover {\n",
              "      background-color: #E2EBFA;\n",
              "      box-shadow: 0px 1px 2px rgba(60, 64, 67, 0.3), 0px 1px 3px 1px rgba(60, 64, 67, 0.15);\n",
              "      fill: #174EA6;\n",
              "    }\n",
              "\n",
              "    [theme=dark] .colab-df-convert {\n",
              "      background-color: #3B4455;\n",
              "      fill: #D2E3FC;\n",
              "    }\n",
              "\n",
              "    [theme=dark] .colab-df-convert:hover {\n",
              "      background-color: #434B5C;\n",
              "      box-shadow: 0px 1px 3px 1px rgba(0, 0, 0, 0.15);\n",
              "      filter: drop-shadow(0px 1px 2px rgba(0, 0, 0, 0.3));\n",
              "      fill: #FFFFFF;\n",
              "    }\n",
              "  </style>\n",
              "\n",
              "      <script>\n",
              "        const buttonEl =\n",
              "          document.querySelector('#df-4e0f9049-1bc1-482b-aa3a-1adf41cc214e button.colab-df-convert');\n",
              "        buttonEl.style.display =\n",
              "          google.colab.kernel.accessAllowed ? 'block' : 'none';\n",
              "\n",
              "        async function convertToInteractive(key) {\n",
              "          const element = document.querySelector('#df-4e0f9049-1bc1-482b-aa3a-1adf41cc214e');\n",
              "          const dataTable =\n",
              "            await google.colab.kernel.invokeFunction('convertToInteractive',\n",
              "                                                     [key], {});\n",
              "          if (!dataTable) return;\n",
              "\n",
              "          const docLinkHtml = 'Like what you see? Visit the ' +\n",
              "            '<a target=\"_blank\" href=https://colab.research.google.com/notebooks/data_table.ipynb>data table notebook</a>'\n",
              "            + ' to learn more about interactive tables.';\n",
              "          element.innerHTML = '';\n",
              "          dataTable['output_type'] = 'display_data';\n",
              "          await google.colab.output.renderOutput(dataTable, element);\n",
              "          const docLink = document.createElement('div');\n",
              "          docLink.innerHTML = docLinkHtml;\n",
              "          element.appendChild(docLink);\n",
              "        }\n",
              "      </script>\n",
              "    </div>\n",
              "  </div>\n",
              "  "
            ]
          },
          "metadata": {},
          "execution_count": 28
        }
      ]
    },
    {
      "cell_type": "code",
      "source": [
        "# Viajes promedio dia por franja horaria todo el sistema#\n",
        "viajes_dia_hora['viajes_dia_total_sist']= viajes_dia_hora.groupby(['dia2', 'hh'])['VIAJES_DIA_HORA_LINEA'].transform('sum')"
      ],
      "metadata": {
        "id": "Oo5X0AQHfol5"
      },
      "execution_count": 29,
      "outputs": []
    },
    {
      "cell_type": "code",
      "source": [
        "df_tot=viajes_dia_hora.drop_duplicates(['dia2', 'hh', 'viajes_dia_total_sist']) "
      ],
      "metadata": {
        "id": "mKZYmQOohttp"
      },
      "execution_count": 30,
      "outputs": []
    },
    {
      "cell_type": "code",
      "source": [
        "sum(df_tot.viajes_dia_total_sist)"
      ],
      "metadata": {
        "id": "CexucppdgNkG",
        "colab": {
          "base_uri": "https://localhost:8080/"
        },
        "outputId": "6feb7528-9ae0-42b3-9c0c-742afdc64a01"
      },
      "execution_count": 31,
      "outputs": [
        {
          "output_type": "execute_result",
          "data": {
            "text/plain": [
              "46810109"
            ]
          },
          "metadata": {},
          "execution_count": 31
        }
      ]
    },
    {
      "cell_type": "code",
      "source": [
        "df_tot['viajes_promedio_dia_hora_tot_sist']=df_tot.groupby('hh')['viajes_dia_total_sist'].transform('mean')"
      ],
      "metadata": {
        "id": "E7BP__OUiK8E",
        "colab": {
          "base_uri": "https://localhost:8080/"
        },
        "outputId": "8ee47e2e-b555-41bc-d52e-2129a554c27e"
      },
      "execution_count": 32,
      "outputs": [
        {
          "output_type": "stream",
          "name": "stderr",
          "text": [
            "/usr/local/lib/python3.7/dist-packages/ipykernel_launcher.py:1: SettingWithCopyWarning: \n",
            "A value is trying to be set on a copy of a slice from a DataFrame.\n",
            "Try using .loc[row_indexer,col_indexer] = value instead\n",
            "\n",
            "See the caveats in the documentation: https://pandas.pydata.org/pandas-docs/stable/user_guide/indexing.html#returning-a-view-versus-a-copy\n",
            "  \"\"\"Entry point for launching an IPython kernel.\n"
          ]
        }
      ]
    },
    {
      "cell_type": "code",
      "source": [
        "df_tot=df_tot.drop_duplicates(['hh']) "
      ],
      "metadata": {
        "id": "DzrxaHFnijMm"
      },
      "execution_count": 33,
      "outputs": []
    },
    {
      "cell_type": "code",
      "source": [
        "df_tot.shape"
      ],
      "metadata": {
        "id": "TA83U6-skHR3",
        "colab": {
          "base_uri": "https://localhost:8080/"
        },
        "outputId": "6375995e-7c64-4420-882e-ddfca3c88297"
      },
      "execution_count": 34,
      "outputs": [
        {
          "output_type": "execute_result",
          "data": {
            "text/plain": [
              "(24, 10)"
            ]
          },
          "metadata": {},
          "execution_count": 34
        }
      ]
    },
    {
      "cell_type": "code",
      "source": [
        "from matplotlib import pyplot as plt\n",
        "import seaborn as sns\n",
        "## Viajes promedio diario por hora de todo el sistema de transporte(2019)#\n",
        "sns.set_context('talk')\n",
        "#sns.set(font_scale = 2)\n",
        "\n",
        "sns.barplot(data=df_tot.sort_values('hh'), x='hh', y='viajes_promedio_dia_hora_tot_sist', color= 'magenta')\n",
        "plt.xticks(rotation=0, fontsize=11);\n",
        "plt.yticks(fontsize=12);\n",
        "plt.xlabel(\"Franja horaria\", Fontsize=13)\n",
        "plt.ylabel(\"Viajes promedio diario por hora\", Fontsize=12)\n",
        "plt.title('Viajes promedio por hora- Total del sistema-', Fontsize=15)"
      ],
      "metadata": {
        "id": "8QLO0W_wkbtm",
        "colab": {
          "base_uri": "https://localhost:8080/",
          "height": 323
        },
        "outputId": "669a563a-5b13-434c-f53e-a58e5ea4c50b"
      },
      "execution_count": 35,
      "outputs": [
        {
          "output_type": "execute_result",
          "data": {
            "text/plain": [
              "Text(0.5, 1.0, 'Viajes promedio por hora- Total del sistema-')"
            ]
          },
          "metadata": {},
          "execution_count": 35
        },
        {
          "output_type": "display_data",
          "data": {
            "text/plain": [
              "<Figure size 432x288 with 1 Axes>"
            ],
            "image/png": "[encoded data removed]"
          },
          "metadata": {
            "needs_background": "light"
          }
        }
      ]
    },
    {
      "cell_type": "code",
      "source": [
        "# Viajes promedio por corredor y por hora 2019(ojo no duplicar)\n",
        "df1=viajes_dia_hora.loc[:,['CORREDOR','hh', 'dia2', 'VIAJES_DIA_HORA_CORREDOR']]\n",
        "df1.head()"
      ],
      "metadata": {
        "id": "l8AXOShvDI__",
        "colab": {
          "base_uri": "https://localhost:8080/",
          "height": 206
        },
        "outputId": "5234a43f-92f8-463f-f605-e3da6fee3133"
      },
      "execution_count": 36,
      "outputs": [
        {
          "output_type": "execute_result",
          "data": {
            "text/plain": [
              "        CORREDOR  hh        dia2  VIAJES_DIA_HORA_CORREDOR\n",
              "0     Cor 2 Azul  01  2019-04-15                        19\n",
              "1     Cor 3 Rojo  01  2019-04-18                        44\n",
              "2  Cor 1 Naranja  01  2019-04-18                        73\n",
              "3  Cor 1 Naranja  01  2019-04-18                        73\n",
              "4     Cor 8 Rojo  01  2019-04-18                        24"
            ],
            "text/html": [
              "\n",
              "  <div id=\"df-ada6e975-218f-4abb-933e-881992a09f62\">\n",
              "    <div class=\"colab-df-container\">\n",
              "      <div>\n",
              "<style scoped>\n",
              "    .dataframe tbody tr th:only-of-type {\n",
              "        vertical-align: middle;\n",
              "    }\n",
              "\n",
              "    .dataframe tbody tr th {\n",
              "        vertical-align: top;\n",
              "    }\n",
              "\n",
              "    .dataframe thead th {\n",
              "        text-align: right;\n",
              "    }\n",
              "</style>\n",
              "<table border=\"1\" class=\"dataframe\">\n",
              "  <thead>\n",
              "    <tr style=\"text-align: right;\">\n",
              "      <th></th>\n",
              "      <th>CORREDOR</th>\n",
              "      <th>hh</th>\n",
              "      <th>dia2</th>\n",
              "      <th>VIAJES_DIA_HORA_CORREDOR</th>\n",
              "    </tr>\n",
              "  </thead>\n",
              "  <tbody>\n",
              "    <tr>\n",
              "      <th>0</th>\n",
              "      <td>Cor 2 Azul</td>\n",
              "      <td>01</td>\n",
              "      <td>2019-04-15</td>\n",
              "      <td>19</td>\n",
              "    </tr>\n",
              "    <tr>\n",
              "      <th>1</th>\n",
              "      <td>Cor 3 Rojo</td>\n",
              "      <td>01</td>\n",
              "      <td>2019-04-18</td>\n",
              "      <td>44</td>\n",
              "    </tr>\n",
              "    <tr>\n",
              "      <th>2</th>\n",
              "      <td>Cor 1 Naranja</td>\n",
              "      <td>01</td>\n",
              "      <td>2019-04-18</td>\n",
              "      <td>73</td>\n",
              "    </tr>\n",
              "    <tr>\n",
              "      <th>3</th>\n",
              "      <td>Cor 1 Naranja</td>\n",
              "      <td>01</td>\n",
              "      <td>2019-04-18</td>\n",
              "      <td>73</td>\n",
              "    </tr>\n",
              "    <tr>\n",
              "      <th>4</th>\n",
              "      <td>Cor 8 Rojo</td>\n",
              "      <td>01</td>\n",
              "      <td>2019-04-18</td>\n",
              "      <td>24</td>\n",
              "    </tr>\n",
              "  </tbody>\n",
              "</table>\n",
              "</div>\n",
              "      <button class=\"colab-df-convert\" onclick=\"convertToInteractive('df-ada6e975-218f-4abb-933e-881992a09f62')\"\n",
              "              title=\"Convert this dataframe to an interactive table.\"\n",
              "              style=\"display:none;\">\n",
              "        \n",
              "  <svg xmlns=\"http://www.w3.org/2000/svg\" height=\"24px\"viewBox=\"0 0 24 24\"\n",
              "       width=\"24px\">\n",
              "    <path d=\"M0 0h24v24H0V0z\" fill=\"none\"/>\n",
              "    <path d=\"M18.56 5.44l.94 2.06.94-2.06 2.06-.94-2.06-.94-.94-2.06-.94 2.06-2.06.94zm-11 1L8.5 8.5l.94-2.06 2.06-.94-2.06-.94L8.5 2.5l-.94 2.06-2.06.94zm10 10l.94 2.06.94-2.06 2.06-.94-2.06-.94-.94-2.06-.94 2.06-2.06.94z\"/><path d=\"M17.41 7.96l-1.37-1.37c-.4-.4-.92-.59-1.43-.59-.52 0-1.04.2-1.43.59L10.3 9.45l-7.72 7.72c-.78.78-.78 2.05 0 2.83L4 21.41c.39.39.9.59 1.41.59.51 0 1.02-.2 1.41-.59l7.78-7.78 2.81-2.81c.8-.78.8-2.07 0-2.86zM5.41 20L4 18.59l7.72-7.72 1.47 1.35L5.41 20z\"/>\n",
              "  </svg>\n",
              "      </button>\n",
              "      \n",
              "  <style>\n",
              "    .colab-df-container {\n",
              "      display:flex;\n",
              "      flex-wrap:wrap;\n",
              "      gap: 12px;\n",
              "    }\n",
              "\n",
              "    .colab-df-convert {\n",
              "      background-color: #E8F0FE;\n",
              "      border: none;\n",
              "      border-radius: 50%;\n",
              "      cursor: pointer;\n",
              "      display: none;\n",
              "      fill: #1967D2;\n",
              "      height: 32px;\n",
              "      padding: 0 0 0 0;\n",
              "      width: 32px;\n",
              "    }\n",
              "\n",
              "    .colab-df-convert:hover {\n",
              "      background-color: #E2EBFA;\n",
              "      box-shadow: 0px 1px 2px rgba(60, 64, 67, 0.3), 0px 1px 3px 1px rgba(60, 64, 67, 0.15);\n",
              "      fill: #174EA6;\n",
              "    }\n",
              "\n",
              "    [theme=dark] .colab-df-convert {\n",
              "      background-color: #3B4455;\n",
              "      fill: #D2E3FC;\n",
              "    }\n",
              "\n",
              "    [theme=dark] .colab-df-convert:hover {\n",
              "      background-color: #434B5C;\n",
              "      box-shadow: 0px 1px 3px 1px rgba(0, 0, 0, 0.15);\n",
              "      filter: drop-shadow(0px 1px 2px rgba(0, 0, 0, 0.3));\n",
              "      fill: #FFFFFF;\n",
              "    }\n",
              "  </style>\n",
              "\n",
              "      <script>\n",
              "        const buttonEl =\n",
              "          document.querySelector('#df-ada6e975-218f-4abb-933e-881992a09f62 button.colab-df-convert');\n",
              "        buttonEl.style.display =\n",
              "          google.colab.kernel.accessAllowed ? 'block' : 'none';\n",
              "\n",
              "        async function convertToInteractive(key) {\n",
              "          const element = document.querySelector('#df-ada6e975-218f-4abb-933e-881992a09f62');\n",
              "          const dataTable =\n",
              "            await google.colab.kernel.invokeFunction('convertToInteractive',\n",
              "                                                     [key], {});\n",
              "          if (!dataTable) return;\n",
              "\n",
              "          const docLinkHtml = 'Like what you see? Visit the ' +\n",
              "            '<a target=\"_blank\" href=https://colab.research.google.com/notebooks/data_table.ipynb>data table notebook</a>'\n",
              "            + ' to learn more about interactive tables.';\n",
              "          element.innerHTML = '';\n",
              "          dataTable['output_type'] = 'display_data';\n",
              "          await google.colab.output.renderOutput(dataTable, element);\n",
              "          const docLink = document.createElement('div');\n",
              "          docLink.innerHTML = docLinkHtml;\n",
              "          element.appendChild(docLink);\n",
              "        }\n",
              "      </script>\n",
              "    </div>\n",
              "  </div>\n",
              "  "
            ]
          },
          "metadata": {},
          "execution_count": 36
        }
      ]
    },
    {
      "cell_type": "code",
      "source": [
        "df2= df1.drop_duplicates(['CORREDOR', 'VIAJES_DIA_HORA_CORREDOR', 'hh', 'dia2'])"
      ],
      "metadata": {
        "id": "PO4gmmGz-zPO"
      },
      "execution_count": 37,
      "outputs": []
    },
    {
      "cell_type": "code",
      "source": [
        "sum(df2.VIAJES_DIA_HORA_CORREDOR)"
      ],
      "metadata": {
        "id": "V2P13SoCG3qK",
        "colab": {
          "base_uri": "https://localhost:8080/"
        },
        "outputId": "62976832-76ab-4d31-8dff-776579089f24"
      },
      "execution_count": 38,
      "outputs": [
        {
          "output_type": "execute_result",
          "data": {
            "text/plain": [
              "46810109"
            ]
          },
          "metadata": {},
          "execution_count": 38
        }
      ]
    },
    {
      "cell_type": "code",
      "source": [
        "df1['dia2'] = pd.to_datetime(df1['dia2'], errors='coerce')\n"
      ],
      "metadata": {
        "id": "hnrI6aQ1Mutf"
      },
      "execution_count": 39,
      "outputs": []
    },
    {
      "cell_type": "code",
      "source": [
        "df2['viajes_promedio_corredor_hora']=df2.groupby(['hh','CORREDOR'])['VIAJES_DIA_HORA_CORREDOR'].transform('mean')"
      ],
      "metadata": {
        "id": "LqFldu07Kelb",
        "colab": {
          "base_uri": "https://localhost:8080/"
        },
        "outputId": "bcf89496-b8dd-4773-d68d-88f421d4d9d2"
      },
      "execution_count": 40,
      "outputs": [
        {
          "output_type": "stream",
          "name": "stderr",
          "text": [
            "/usr/local/lib/python3.7/dist-packages/ipykernel_launcher.py:1: SettingWithCopyWarning: \n",
            "A value is trying to be set on a copy of a slice from a DataFrame.\n",
            "Try using .loc[row_indexer,col_indexer] = value instead\n",
            "\n",
            "See the caveats in the documentation: https://pandas.pydata.org/pandas-docs/stable/user_guide/indexing.html#returning-a-view-versus-a-copy\n",
            "  \"\"\"Entry point for launching an IPython kernel.\n"
          ]
        }
      ]
    },
    {
      "cell_type": "code",
      "source": [
        "df2=df2.drop_duplicates(['CORREDOR', 'viajes_promedio_corredor_hora', 'hh'])\n"
      ],
      "metadata": {
        "id": "oCITekuyU5zu"
      },
      "execution_count": 41,
      "outputs": []
    },
    {
      "cell_type": "code",
      "source": [
        "from matplotlib import pyplot as plt\n",
        "import seaborn as sns\n",
        "## Viajes promedio diario por hora y corredor (2019)#\n",
        "## Corredor 1 Naranja ##\n",
        "df3=df2.loc[df2.CORREDOR == 'Cor 1 Naranja']\n",
        "sns.set_context('talk')\n",
        "sns.barplot(data=df3.sort_values('hh'), x='hh', y='viajes_promedio_corredor_hora', color= 'orange')\n",
        "plt.xticks(rotation=90);\n",
        "plt.xlabel(\"Franja horaria\", Fontsize=12)\n",
        "plt.ylabel(\"Viajes promedio por hora\", Fontsize=12)\n",
        "plt.title('Viajes promedio por hora- Corredor 1-', Fontsize=15)\n",
        "\n",
        "\n"
      ],
      "metadata": {
        "id": "M5VNESi-LQZ9",
        "colab": {
          "base_uri": "https://localhost:8080/",
          "height": 334
        },
        "outputId": "9bc6750a-cb9a-4b00-cc75-98a5a1ca86b0"
      },
      "execution_count": 42,
      "outputs": [
        {
          "output_type": "execute_result",
          "data": {
            "text/plain": [
              "Text(0.5, 1.0, 'Viajes promedio por hora- Corredor 1-')"
            ]
          },
          "metadata": {},
          "execution_count": 42
        },
        {
          "output_type": "display_data",
          "data": {
            "text/plain": [
              "<Figure size 432x288 with 1 Axes>"
            ],
            "image/png": "[encoded data removed]"
          },
          "metadata": {
            "needs_background": "light"
          }
        }
      ]
    },
    {
      "cell_type": "code",
      "source": [
        "## Viajes promedio diario por hora y corredor (2019)#\n",
        "## Corredor 6 Naranja ##\n",
        "df3=df2.loc[df2.CORREDOR == 'Cor 6 Naranja']\n",
        "sns.set_context('talk')\n",
        "sns.barplot(data=df3.sort_values('hh'), x='hh', y='viajes_promedio_corredor_hora', color= 'orange')\n",
        "plt.xticks(rotation=90);\n",
        "plt.xlabel(\"Franja horaria\", Fontsize=12)\n",
        "plt.ylabel(\"Viajes promedio por hora\", Fontsize=12)\n",
        "plt.title('Viajes promedio por hora- Corredor 6-', Fontsize=15)"
      ],
      "metadata": {
        "id": "Vx_39BhFclBQ",
        "colab": {
          "base_uri": "https://localhost:8080/",
          "height": 334
        },
        "outputId": "5c3804fa-d0c1-4497-93c1-9a1458f7bda6"
      },
      "execution_count": 43,
      "outputs": [
        {
          "output_type": "execute_result",
          "data": {
            "text/plain": [
              "Text(0.5, 1.0, 'Viajes promedio por hora- Corredor 6-')"
            ]
          },
          "metadata": {},
          "execution_count": 43
        },
        {
          "output_type": "display_data",
          "data": {
            "text/plain": [
              "<Figure size 432x288 with 1 Axes>"
            ],
            "image/png": "[encoded data removed]"
          },
          "metadata": {
            "needs_background": "light"
          }
        }
      ]
    },
    {
      "cell_type": "code",
      "source": [
        "\n",
        "## Viajes promedio diario por hora y corredor (2019)#\n",
        "## Corredor 2 Azul ##\n",
        "df3=df2.loc[df2.CORREDOR == 'Cor 2 Azul']\n",
        "sns.set_context('talk')\n",
        "sns.barplot(data=df3.sort_values('hh'), x='hh', y='viajes_promedio_corredor_hora', color= 'blue')\n",
        "plt.xticks(rotation=90);\n",
        "plt.xlabel(\"Franja horaria\", Fontsize=12)\n",
        "plt.ylabel(\"Viajes promedio por hora\", Fontsize=12)\n",
        "plt.title('Viajes promedio por hora- Corredor 2-', Fontsize=15)"
      ],
      "metadata": {
        "id": "m-v-m8zjc9Bg",
        "colab": {
          "base_uri": "https://localhost:8080/",
          "height": 334
        },
        "outputId": "d5c6c772-52ca-4b86-acc4-78c6b2df695d"
      },
      "execution_count": 44,
      "outputs": [
        {
          "output_type": "execute_result",
          "data": {
            "text/plain": [
              "Text(0.5, 1.0, 'Viajes promedio por hora- Corredor 2-')"
            ]
          },
          "metadata": {},
          "execution_count": 44
        },
        {
          "output_type": "display_data",
          "data": {
            "text/plain": [
              "<Figure size 432x288 with 1 Axes>"
            ],
            "image/png": "[encoded data removed]"
          },
          "metadata": {
            "needs_background": "light"
          }
        }
      ]
    },
    {
      "cell_type": "code",
      "source": [
        "## Viajes promedio diario por hora y corredor (2019)#\n",
        "## Corredor 7 Azul ##\n",
        "df3=df2.loc[df2.CORREDOR == 'Cor 7 Azul']\n",
        "sns.set_context('talk')\n",
        "sns.barplot(data=df3.sort_values('hh'), x='hh', y='viajes_promedio_corredor_hora', color= 'blue')\n",
        "plt.xticks(rotation=90);\n",
        "plt.xlabel(\"Franja horaria\", Fontsize=12)\n",
        "plt.ylabel(\"Viajes promedio por hora\", Fontsize=12)\n",
        "plt.title('Viajes promedio por hora- Corredor 7-', Fontsize=15)"
      ],
      "metadata": {
        "id": "7PjZ5uS8c9LY",
        "colab": {
          "base_uri": "https://localhost:8080/",
          "height": 334
        },
        "outputId": "8c0a628c-e906-414f-8aea-308f6ead9133"
      },
      "execution_count": 45,
      "outputs": [
        {
          "output_type": "execute_result",
          "data": {
            "text/plain": [
              "Text(0.5, 1.0, 'Viajes promedio por hora- Corredor 7-')"
            ]
          },
          "metadata": {},
          "execution_count": 45
        },
        {
          "output_type": "display_data",
          "data": {
            "text/plain": [
              "<Figure size 432x288 with 1 Axes>"
            ],
            "image/png": "[encoded data removed]"
          },
          "metadata": {
            "needs_background": "light"
          }
        }
      ]
    },
    {
      "cell_type": "code",
      "source": [
        "## Viajes promedio diario por hora y corredor (2019)#\n",
        "## Corredor 3 Rojo ##\n",
        "df3=df2.loc[df2.CORREDOR == 'Cor 3 Rojo']\n",
        "sns.set_context('talk')\n",
        "sns.barplot(data=df3.sort_values('hh'), x='hh', y='viajes_promedio_corredor_hora', color= 'red')\n",
        "plt.xticks(rotation=90);\n",
        "plt.xlabel(\"Franja horaria\", Fontsize=12)\n",
        "plt.ylabel(\"Viajes promedio por hora\", Fontsize=12)\n",
        "plt.title('Viajes promedio por hora- Corredor 7-', Fontsize=15)"
      ],
      "metadata": {
        "id": "HbPeJGF3c9Rd",
        "colab": {
          "base_uri": "https://localhost:8080/",
          "height": 334
        },
        "outputId": "b35be729-04c1-4cac-d1e5-33bf6b746ed1"
      },
      "execution_count": 46,
      "outputs": [
        {
          "output_type": "execute_result",
          "data": {
            "text/plain": [
              "Text(0.5, 1.0, 'Viajes promedio por hora- Corredor 7-')"
            ]
          },
          "metadata": {},
          "execution_count": 46
        },
        {
          "output_type": "display_data",
          "data": {
            "text/plain": [
              "<Figure size 432x288 with 1 Axes>"
            ],
            "image/png": "[encoded data removed]"
          },
          "metadata": {
            "needs_background": "light"
          }
        }
      ]
    },
    {
      "cell_type": "code",
      "source": [
        "## Viajes promedio diario por hora y corredor (2019)#\n",
        "## Corredor 8 Rojo ##\n",
        "df3=df2.loc[df2.CORREDOR == 'Cor 8 Rojo']\n",
        "sns.set_context('talk')\n",
        "sns.barplot(data=df3.sort_values('hh'), x='hh', y='viajes_promedio_corredor_hora', color= 'red')\n",
        "plt.xticks(rotation=90);\n",
        "plt.xlabel(\"Franja horaria\", Fontsize=12)\n",
        "plt.ylabel(\"Viajes promedio por hora\", Fontsize=12)\n",
        "plt.title('Viajes promedio por hora- Corredor 8-', Fontsize=15)"
      ],
      "metadata": {
        "id": "HOjBKDCpc9Xf",
        "colab": {
          "base_uri": "https://localhost:8080/",
          "height": 334
        },
        "outputId": "6c547503-fc8c-4b67-a3fa-21e40f8e6cfe"
      },
      "execution_count": 47,
      "outputs": [
        {
          "output_type": "execute_result",
          "data": {
            "text/plain": [
              "Text(0.5, 1.0, 'Viajes promedio por hora- Corredor 8-')"
            ]
          },
          "metadata": {},
          "execution_count": 47
        },
        {
          "output_type": "display_data",
          "data": {
            "text/plain": [
              "<Figure size 432x288 with 1 Axes>"
            ],
            "image/png": "[encoded data removed]"
          },
          "metadata": {
            "needs_background": "light"
          }
        }
      ]
    },
    {
      "cell_type": "code",
      "source": [
        "## Viajes promedio diario por hora y corredor (2019)#\n",
        "## Corredor 4 Amarillo ##\n",
        "df3=df2.loc[df2.CORREDOR == 'Cor 4 Amarillo']\n",
        "sns.set_context('talk')\n",
        "sns.barplot(data=df3.sort_values('hh'), x='hh', y='viajes_promedio_corredor_hora', color= 'yellow')\n",
        "plt.xticks(rotation=90);\n",
        "plt.xlabel(\"Franja horaria\", Fontsize=12)\n",
        "plt.ylabel(\"Viajes promedio por hora\", Fontsize=12)\n",
        "plt.title('Viajes promedio por hora- Corredor 4-', Fontsize=15)"
      ],
      "metadata": {
        "id": "7oZcSij-c9dS",
        "colab": {
          "base_uri": "https://localhost:8080/",
          "height": 334
        },
        "outputId": "6b8e0dbe-1a32-4e22-918e-46d03bf82c7d"
      },
      "execution_count": 48,
      "outputs": [
        {
          "output_type": "execute_result",
          "data": {
            "text/plain": [
              "Text(0.5, 1.0, 'Viajes promedio por hora- Corredor 4-')"
            ]
          },
          "metadata": {},
          "execution_count": 48
        },
        {
          "output_type": "display_data",
          "data": {
            "text/plain": [
              "<Figure size 432x288 with 1 Axes>"
            ],
            "image/png": "[encoded data removed]"
          },
          "metadata": {
            "needs_background": "light"
          }
        }
      ]
    },
    {
      "cell_type": "code",
      "source": [
        "## Viajes promedio diario por hora y corredor (2019)#\n",
        "## Corredor 5 Amarillo ##\n",
        "df3=df2.loc[df2.CORREDOR == 'Cor 5 Amarillo']\n",
        "sns.set_context('talk')\n",
        "sns.barplot(data=df3.sort_values('hh'), x='hh', y='viajes_promedio_corredor_hora', color= 'yellow')\n",
        "plt.xticks(rotation=90);\n",
        "plt.xlabel(\"Franja horaria\", Fontsize=12)\n",
        "plt.ylabel(\"Viajes promedio por hora\", Fontsize=12)\n",
        "plt.title('Viajes promedio por hora- Corredor 5-', Fontsize=15)"
      ],
      "metadata": {
        "id": "G3M5E7oDc9jW",
        "colab": {
          "base_uri": "https://localhost:8080/",
          "height": 334
        },
        "outputId": "44ced8df-160b-42a8-e0ed-b9fc42f90afe"
      },
      "execution_count": 49,
      "outputs": [
        {
          "output_type": "execute_result",
          "data": {
            "text/plain": [
              "Text(0.5, 1.0, 'Viajes promedio por hora- Corredor 5-')"
            ]
          },
          "metadata": {},
          "execution_count": 49
        },
        {
          "output_type": "display_data",
          "data": {
            "text/plain": [
              "<Figure size 432x288 with 1 Axes>"
            ],
            "image/png": "[encoded data removed]"
          },
          "metadata": {
            "needs_background": "light"
          }
        }
      ]
    },
    {
      "cell_type": "code",
      "source": [
        "## Viajes promedio diario por hora y corredor (2019)#\n",
        "## TROLE ##\n",
        "df3=df2.loc[df2.CORREDOR == 'TROLE']\n",
        "sns.set_context('talk')\n",
        "sns.barplot(data=df3.sort_values('hh'), x='hh', y='viajes_promedio_corredor_hora', color= 'gray')\n",
        "plt.xticks(rotation=90);\n",
        "plt.xlabel(\"Franja horaria\", Fontsize=12)\n",
        "plt.ylabel(\"Viajes promedio por hora\", Fontsize=12)\n",
        "plt.title('Viajes promedio por hora- TROLEBUS-', Fontsize=15)"
      ],
      "metadata": {
        "id": "Wj5liLBxc9pb",
        "colab": {
          "base_uri": "https://localhost:8080/",
          "height": 334
        },
        "outputId": "f0cf122b-c556-4304-aea8-44a892337061"
      },
      "execution_count": 50,
      "outputs": [
        {
          "output_type": "execute_result",
          "data": {
            "text/plain": [
              "Text(0.5, 1.0, 'Viajes promedio por hora- TROLEBUS-')"
            ]
          },
          "metadata": {},
          "execution_count": 50
        },
        {
          "output_type": "display_data",
          "data": {
            "text/plain": [
              "<Figure size 432x288 with 1 Axes>"
            ],
            "image/png": "[encoded data removed]"
          },
          "metadata": {
            "needs_background": "light"
          }
        }
      ]
    },
    {
      "cell_type": "code",
      "source": [
        "df2=df2.replace(to_replace =[\"LÃ\\xadn Anu Amarillo\"], value =\"600/601 Amarillo\")"
      ],
      "metadata": {
        "id": "1Db0CM3Ec9ve"
      },
      "execution_count": 51,
      "outputs": []
    },
    {
      "cell_type": "code",
      "source": [
        "## Viajes promedio diario por hora y corredor (2019)#\n",
        "## TROLE ##\n",
        "df3=df2.loc[df2.CORREDOR == '600/601 Amarillo']\n",
        "sns.set_context('talk')\n",
        "sns.barplot(data=df3.sort_values('hh'), x='hh', y='viajes_promedio_corredor_hora', color= 'yellow')\n",
        "plt.xticks(rotation=90);\n",
        "plt.xlabel(\"Franja horaria\", Fontsize=12)\n",
        "plt.ylabel(\"Viajes promedio por hora\", Fontsize=12)\n",
        "plt.title('Viajes promedio por hora- 600/601-', Fontsize=15)"
      ],
      "metadata": {
        "id": "JrnQDpjxeOEY",
        "colab": {
          "base_uri": "https://localhost:8080/",
          "height": 334
        },
        "outputId": "52f3eb7c-aae1-47e4-a908-8bc45619687f"
      },
      "execution_count": 52,
      "outputs": [
        {
          "output_type": "execute_result",
          "data": {
            "text/plain": [
              "Text(0.5, 1.0, 'Viajes promedio por hora- 600/601-')"
            ]
          },
          "metadata": {},
          "execution_count": 52
        },
        {
          "output_type": "display_data",
          "data": {
            "text/plain": [
              "<Figure size 432x288 with 1 Axes>"
            ],
            "image/png": "[encoded data removed]"
          },
          "metadata": {
            "needs_background": "light"
          }
        }
      ]
    },
    {
      "cell_type": "code",
      "source": [
        ""
      ],
      "metadata": {
        "id": "MVBa7D4jeOLe"
      },
      "execution_count": 52,
      "outputs": []
    },
    {
      "cell_type": "code",
      "source": [
        ""
      ],
      "metadata": {
        "id": "lKSNKP1peORa"
      },
      "execution_count": 52,
      "outputs": []
    },
    {
      "cell_type": "code",
      "source": [
        ""
      ],
      "metadata": {
        "id": "ZEYqD7VDY9Gu"
      },
      "execution_count": 52,
      "outputs": []
    }
  ]
}