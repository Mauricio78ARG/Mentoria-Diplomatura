{
  "nbformat": 4,
  "nbformat_minor": 0,
  "metadata": {
    "colab": {
      "name": "Resguardo Conexión a bases de drive_Mentoria_conteos_tarjetas_V1.ipynb",
      "provenance": [],
      "collapsed_sections": []
    },
    "kernelspec": {
      "name": "python3",
      "display_name": "Python 3"
    },
    "language_info": {
      "name": "python"
    }
  },
  "cells": [
    {
      "cell_type": "code",
      "execution_count": null,
      "metadata": {
        "id": "Z3IsoE-7RJBu",
        "colab": {
          "base_uri": "https://localhost:8080/",
          "height": 224
        },
        "outputId": "10f9a2f5-7441-4cf5-f834-691e11fbb024"
      },
      "outputs": [
        {
          "output_type": "stream",
          "name": "stdout",
          "text": [
            "Mounted at /content/drive/\n"
          ]
        },
        {
          "output_type": "execute_result",
          "data": {
            "text/plain": [
              "                    FECHA           FECHAAPERTURA  TARJETA       CORREDOR  \\\n",
              "0  01/01/2019 01:32:43 AM  01/01/2019 01:00:11 AM  4992639     Cor 3 Rojo   \n",
              "1  01/01/2019 02:26:11 AM  01/01/2019 01:00:11 AM  5489022     Cor 3 Rojo   \n",
              "2  01/01/2019 02:26:14 AM  01/01/2019 01:00:11 AM  5489022     Cor 3 Rojo   \n",
              "3  01/01/2019 02:32:27 AM  01/01/2019 01:59:31 AM  5317539  Cor 1 Naranja   \n",
              "4  01/01/2019 02:57:48 AM  01/01/2019 01:59:31 AM  4451141  Cor 1 Naranja   \n",
              "\n",
              "  LINEA SENTIDO  \n",
              "0   L35     Ida  \n",
              "1   L35  Vuelta  \n",
              "2   L35  Vuelta  \n",
              "3   L12  Vuelta  \n",
              "4   L12  Vuelta  "
            ],
            "text/html": [
              "\n",
              "  <div id=\"df-d0151778-68f2-44ab-9187-c7aab1412c54\">\n",
              "    <div class=\"colab-df-container\">\n",
              "      <div>\n",
              "<style scoped>\n",
              "    .dataframe tbody tr th:only-of-type {\n",
              "        vertical-align: middle;\n",
              "    }\n",
              "\n",
              "    .dataframe tbody tr th {\n",
              "        vertical-align: top;\n",
              "    }\n",
              "\n",
              "    .dataframe thead th {\n",
              "        text-align: right;\n",
              "    }\n",
              "</style>\n",
              "<table border=\"1\" class=\"dataframe\">\n",
              "  <thead>\n",
              "    <tr style=\"text-align: right;\">\n",
              "      <th></th>\n",
              "      <th>FECHA</th>\n",
              "      <th>FECHAAPERTURA</th>\n",
              "      <th>TARJETA</th>\n",
              "      <th>CORREDOR</th>\n",
              "      <th>LINEA</th>\n",
              "      <th>SENTIDO</th>\n",
              "    </tr>\n",
              "  </thead>\n",
              "  <tbody>\n",
              "    <tr>\n",
              "      <th>0</th>\n",
              "      <td>01/01/2019 01:32:43 AM</td>\n",
              "      <td>01/01/2019 01:00:11 AM</td>\n",
              "      <td>4992639</td>\n",
              "      <td>Cor 3 Rojo</td>\n",
              "      <td>L35</td>\n",
              "      <td>Ida</td>\n",
              "    </tr>\n",
              "    <tr>\n",
              "      <th>1</th>\n",
              "      <td>01/01/2019 02:26:11 AM</td>\n",
              "      <td>01/01/2019 01:00:11 AM</td>\n",
              "      <td>5489022</td>\n",
              "      <td>Cor 3 Rojo</td>\n",
              "      <td>L35</td>\n",
              "      <td>Vuelta</td>\n",
              "    </tr>\n",
              "    <tr>\n",
              "      <th>2</th>\n",
              "      <td>01/01/2019 02:26:14 AM</td>\n",
              "      <td>01/01/2019 01:00:11 AM</td>\n",
              "      <td>5489022</td>\n",
              "      <td>Cor 3 Rojo</td>\n",
              "      <td>L35</td>\n",
              "      <td>Vuelta</td>\n",
              "    </tr>\n",
              "    <tr>\n",
              "      <th>3</th>\n",
              "      <td>01/01/2019 02:32:27 AM</td>\n",
              "      <td>01/01/2019 01:59:31 AM</td>\n",
              "      <td>5317539</td>\n",
              "      <td>Cor 1 Naranja</td>\n",
              "      <td>L12</td>\n",
              "      <td>Vuelta</td>\n",
              "    </tr>\n",
              "    <tr>\n",
              "      <th>4</th>\n",
              "      <td>01/01/2019 02:57:48 AM</td>\n",
              "      <td>01/01/2019 01:59:31 AM</td>\n",
              "      <td>4451141</td>\n",
              "      <td>Cor 1 Naranja</td>\n",
              "      <td>L12</td>\n",
              "      <td>Vuelta</td>\n",
              "    </tr>\n",
              "  </tbody>\n",
              "</table>\n",
              "</div>\n",
              "      <button class=\"colab-df-convert\" onclick=\"convertToInteractive('df-d0151778-68f2-44ab-9187-c7aab1412c54')\"\n",
              "              title=\"Convert this dataframe to an interactive table.\"\n",
              "              style=\"display:none;\">\n",
              "        \n",
              "  <svg xmlns=\"http://www.w3.org/2000/svg\" height=\"24px\"viewBox=\"0 0 24 24\"\n",
              "       width=\"24px\">\n",
              "    <path d=\"M0 0h24v24H0V0z\" fill=\"none\"/>\n",
              "    <path d=\"M18.56 5.44l.94 2.06.94-2.06 2.06-.94-2.06-.94-.94-2.06-.94 2.06-2.06.94zm-11 1L8.5 8.5l.94-2.06 2.06-.94-2.06-.94L8.5 2.5l-.94 2.06-2.06.94zm10 10l.94 2.06.94-2.06 2.06-.94-2.06-.94-.94-2.06-.94 2.06-2.06.94z\"/><path d=\"M17.41 7.96l-1.37-1.37c-.4-.4-.92-.59-1.43-.59-.52 0-1.04.2-1.43.59L10.3 9.45l-7.72 7.72c-.78.78-.78 2.05 0 2.83L4 21.41c.39.39.9.59 1.41.59.51 0 1.02-.2 1.41-.59l7.78-7.78 2.81-2.81c.8-.78.8-2.07 0-2.86zM5.41 20L4 18.59l7.72-7.72 1.47 1.35L5.41 20z\"/>\n",
              "  </svg>\n",
              "      </button>\n",
              "      \n",
              "  <style>\n",
              "    .colab-df-container {\n",
              "      display:flex;\n",
              "      flex-wrap:wrap;\n",
              "      gap: 12px;\n",
              "    }\n",
              "\n",
              "    .colab-df-convert {\n",
              "      background-color: #E8F0FE;\n",
              "      border: none;\n",
              "      border-radius: 50%;\n",
              "      cursor: pointer;\n",
              "      display: none;\n",
              "      fill: #1967D2;\n",
              "      height: 32px;\n",
              "      padding: 0 0 0 0;\n",
              "      width: 32px;\n",
              "    }\n",
              "\n",
              "    .colab-df-convert:hover {\n",
              "      background-color: #E2EBFA;\n",
              "      box-shadow: 0px 1px 2px rgba(60, 64, 67, 0.3), 0px 1px 3px 1px rgba(60, 64, 67, 0.15);\n",
              "      fill: #174EA6;\n",
              "    }\n",
              "\n",
              "    [theme=dark] .colab-df-convert {\n",
              "      background-color: #3B4455;\n",
              "      fill: #D2E3FC;\n",
              "    }\n",
              "\n",
              "    [theme=dark] .colab-df-convert:hover {\n",
              "      background-color: #434B5C;\n",
              "      box-shadow: 0px 1px 3px 1px rgba(0, 0, 0, 0.15);\n",
              "      filter: drop-shadow(0px 1px 2px rgba(0, 0, 0, 0.3));\n",
              "      fill: #FFFFFF;\n",
              "    }\n",
              "  </style>\n",
              "\n",
              "      <script>\n",
              "        const buttonEl =\n",
              "          document.querySelector('#df-d0151778-68f2-44ab-9187-c7aab1412c54 button.colab-df-convert');\n",
              "        buttonEl.style.display =\n",
              "          google.colab.kernel.accessAllowed ? 'block' : 'none';\n",
              "\n",
              "        async function convertToInteractive(key) {\n",
              "          const element = document.querySelector('#df-d0151778-68f2-44ab-9187-c7aab1412c54');\n",
              "          const dataTable =\n",
              "            await google.colab.kernel.invokeFunction('convertToInteractive',\n",
              "                                                     [key], {});\n",
              "          if (!dataTable) return;\n",
              "\n",
              "          const docLinkHtml = 'Like what you see? Visit the ' +\n",
              "            '<a target=\"_blank\" href=https://colab.research.google.com/notebooks/data_table.ipynb>data table notebook</a>'\n",
              "            + ' to learn more about interactive tables.';\n",
              "          element.innerHTML = '';\n",
              "          dataTable['output_type'] = 'display_data';\n",
              "          await google.colab.output.renderOutput(dataTable, element);\n",
              "          const docLink = document.createElement('div');\n",
              "          docLink.innerHTML = docLinkHtml;\n",
              "          element.appendChild(docLink);\n",
              "        }\n",
              "      </script>\n",
              "    </div>\n",
              "  </div>\n",
              "  "
            ]
          },
          "metadata": {},
          "execution_count": 1
        }
      ],
      "source": [
        "from google.colab import drive\n",
        "drive.mount('/content/drive/', force_remount=True )\n",
        "import pandas as pd\n",
        "#%cd /content/drive/My Drive/bases_mentoria/\n",
        "#path= '/content/drive/My Drive/bases_mentoria/primer trimestre 2019'\n",
        "path= '/content/drive/My Drive/Mentoria/primer trimestre 2019'\n",
        "import glob\n",
        "filenames = glob.glob(path + \"/*.csv\")\n",
        "\n",
        "dfs = []\n",
        "for filename in filenames:\n",
        "    dfs.append(pd.read_csv(filename, encoding='latin-1', sep=\";\"))\n",
        "\n",
        "# Concatenate all data into one DataFrame\n",
        "big_frame = pd.concat(dfs, ignore_index=True)\n",
        "\n",
        "big_frame.head()\n"
      ]
    },
    {
      "cell_type": "code",
      "source": [
        "big_frame['m'] = big_frame.FECHA.astype(str).str[:10].astype(str)"
      ],
      "metadata": {
        "id": "wT29QwK5LxLK"
      },
      "execution_count": null,
      "outputs": []
    },
    {
      "cell_type": "code",
      "source": [
        "big_frame['hora'] = big_frame.FECHA.astype(str).str[11:].astype(str)"
      ],
      "metadata": {
        "id": "wYJ44v93IcJj"
      },
      "execution_count": null,
      "outputs": []
    },
    {
      "cell_type": "code",
      "source": [
        "big_frame['aux']=big_frame.FECHA.astype(str).str[19:].astype(str) \n"
      ],
      "metadata": {
        "id": "KDUY_s8gJ9-d"
      },
      "execution_count": null,
      "outputs": []
    },
    {
      "cell_type": "code",
      "source": [
        "big_frame['aux2']=big_frame.hora.astype(str).str[:2].astype(str) "
      ],
      "metadata": {
        "id": "9muwzCLIbMdt"
      },
      "execution_count": null,
      "outputs": []
    },
    {
      "cell_type": "code",
      "source": [
        "big_frame['hh']=big_frame.aux2 + big_frame.aux"
      ],
      "metadata": {
        "id": "NLnLd-BHbi2v"
      },
      "execution_count": null,
      "outputs": []
    },
    {
      "cell_type": "code",
      "source": [
        "big_frame.sort_values(by=['hh'], inplace=True)"
      ],
      "metadata": {
        "id": "9_qeT08Gcmip"
      },
      "execution_count": null,
      "outputs": []
    },
    {
      "cell_type": "code",
      "source": [
        "big_frame.m.value_counts()"
      ],
      "metadata": {
        "colab": {
          "base_uri": "https://localhost:8080/"
        },
        "id": "AL5sgBWx-I86",
        "outputId": "992d5964-fe71-4b25-fc3b-aa882f0fdeb1"
      },
      "execution_count": null,
      "outputs": [
        {
          "output_type": "execute_result",
          "data": {
            "text/plain": [
              "28/03/2019    176887\n",
              "29/03/2019    176481\n",
              "13/03/2019    174942\n",
              "12/03/2019    173855\n",
              "11/03/2019    173682\n",
              "               ...  \n",
              "20/01/2019     34871\n",
              "27/01/2019     34737\n",
              "13/01/2019     29166\n",
              "06/01/2019     22635\n",
              "01/01/2019     13487\n",
              "Name: m, Length: 90, dtype: int64"
            ]
          },
          "metadata": {},
          "execution_count": 8
        }
      ]
    },
    {
      "cell_type": "code",
      "source": [
        "big_frame['dia'] = pd.to_datetime(big_frame['m'])\n",
        "big_frame['dia'] = big_frame['dia'].dt.strftime('%d.%m.%Y')"
      ],
      "metadata": {
        "id": "XkRp8J6ArlsB"
      },
      "execution_count": null,
      "outputs": []
    },
    {
      "cell_type": "code",
      "source": [
        "big_frame.dia.value_counts()"
      ],
      "metadata": {
        "id": "yXZ26w50ruLA",
        "colab": {
          "base_uri": "https://localhost:8080/"
        },
        "outputId": "9c733a57-69ef-4203-a9b4-f785837decb4"
      },
      "execution_count": null,
      "outputs": [
        {
          "output_type": "execute_result",
          "data": {
            "text/plain": [
              "28.03.2019    176887\n",
              "29.03.2019    176481\n",
              "13.03.2019    174942\n",
              "03.12.2019    173855\n",
              "03.11.2019    173682\n",
              "               ...  \n",
              "20.01.2019     34871\n",
              "27.01.2019     34737\n",
              "13.01.2019     29166\n",
              "01.06.2019     22635\n",
              "01.01.2019     13487\n",
              "Name: dia, Length: 90, dtype: int64"
            ]
          },
          "metadata": {},
          "execution_count": 10
        }
      ]
    },
    {
      "cell_type": "code",
      "source": [
        "big_frame['dia2'] = pd.to_datetime(big_frame['dia'])\n"
      ],
      "metadata": {
        "id": "ggXqxtqhOtXB"
      },
      "execution_count": null,
      "outputs": []
    },
    {
      "cell_type": "code",
      "source": [
        "\n",
        "### EJERCICIO 1: INTERACTUAR CON BASES, CONVERTIR FORMATOS FECHAS, GENERAR VARIABLES NUEVAS (MES DIA )###\n",
        "big_frame['day_of_week'] = big_frame['dia2'].dt.day_name()\n",
        "big_frame['MES']= big_frame['dia2'].dt.to_period('M')"
      ],
      "metadata": {
        "id": "W_Cqq0bDfzn4"
      },
      "execution_count": null,
      "outputs": []
    },
    {
      "cell_type": "code",
      "source": [
        "big_frame.MES.value_counts()"
      ],
      "metadata": {
        "id": "w9TXULYaPAPN",
        "colab": {
          "base_uri": "https://localhost:8080/"
        },
        "outputId": "263ff1f7-88a4-4f96-8812-ae2a1218dc66"
      },
      "execution_count": null,
      "outputs": [
        {
          "output_type": "execute_result",
          "data": {
            "text/plain": [
              "2019-03    3911586\n",
              "2019-02    3350995\n",
              "2019-01    3027469\n",
              "Freq: M, Name: MES, dtype: int64"
            ]
          },
          "metadata": {},
          "execution_count": 13
        }
      ]
    },
    {
      "cell_type": "code",
      "source": [
        "big_frame.shape"
      ],
      "metadata": {
        "id": "peesTm-qojCj",
        "colab": {
          "base_uri": "https://localhost:8080/"
        },
        "outputId": "1d37347e-bfa9-46b1-8ad6-79517657f098"
      },
      "execution_count": null,
      "outputs": [
        {
          "output_type": "execute_result",
          "data": {
            "text/plain": [
              "(10290050, 15)"
            ]
          },
          "metadata": {},
          "execution_count": 14
        }
      ]
    },
    {
      "cell_type": "code",
      "source": [
        "###EJERCICIO 2: \n",
        "##APLICAR ESTADÍSTICOS DESCRIPTIVOS SOBRE CORTES DE BOLETOS: \n",
        "##1) TARJETAS: CANTIDAD DE USOS POR MES (TAB), CANTIDAD DIAS AL MES USADAS, IDENTIFICAR OUTLIERS\n",
        "big_frame['AUX']=1\n",
        "big_frame['VIAJES_POR_TARJETA_DIA']=big_frame.groupby(['TARJETA', 'dia2'])['AUX'].transform('sum')\n",
        "big_frame['VIAJES_POR_TARJETA_MES']=big_frame.groupby(['TARJETA', 'MES'])['AUX'].transform('sum')\n",
        "\n",
        "\n",
        "big_frame= big_frame.drop_duplicates(['dia2', 'MES', 'TARJETA'])\n",
        "big_frame.head()\n",
        "big_frame=big_frame.loc[:,['dia2', 'VIAJES_POR_TARJETA_DIA','VIAJES_POR_TARJETA_MES', 'MES', 'TARJETA' ]]\n",
        "#df1.to_csv(\"df1.csv\", index=None)\n",
        "#from google.colab import files\n",
        "#files.download('df1.csv') \n",
        "\n"
      ],
      "metadata": {
        "id": "3anTv68wySKE"
      },
      "execution_count": null,
      "outputs": []
    },
    {
      "cell_type": "code",
      "source": [
        "sum(big_frame.VIAJES_POR_TARJETA_DIA)\n"
      ],
      "metadata": {
        "id": "9WV3h78Vipyw",
        "colab": {
          "base_uri": "https://localhost:8080/"
        },
        "outputId": "8773f1eb-86d1-439d-a1a3-babe1003ba79"
      },
      "execution_count": null,
      "outputs": [
        {
          "output_type": "execute_result",
          "data": {
            "text/plain": [
              "10290050"
            ]
          },
          "metadata": {},
          "execution_count": 16
        }
      ]
    },
    {
      "cell_type": "code",
      "source": [
        "viajes_1t19= big_frame\n",
        "viajes_1t19.to_csv(\"viajes_tarjeta_1t19.csv\", index=None)\n",
        "from google.colab import files\n",
        "files.download('viajes_tarjeta_1t19.csv') \n",
        "\n"
      ],
      "metadata": {
        "id": "F7TYNlQEknlV",
        "colab": {
          "base_uri": "https://localhost:8080/",
          "height": 34
        },
        "outputId": "e8e604d6-dcd8-4613-88a6-fe4a263bb0a3"
      },
      "execution_count": null,
      "outputs": [
        {
          "output_type": "display_data",
          "data": {
            "text/plain": [
              "<IPython.core.display.Javascript object>"
            ],
            "application/javascript": [
              "\n",
              "    async function download(id, filename, size) {\n",
              "      if (!google.colab.kernel.accessAllowed) {\n",
              "        return;\n",
              "      }\n",
              "      const div = document.createElement('div');\n",
              "      const label = document.createElement('label');\n",
              "      label.textContent = `Downloading \"${filename}\": `;\n",
              "      div.appendChild(label);\n",
              "      const progress = document.createElement('progress');\n",
              "      progress.max = size;\n",
              "      div.appendChild(progress);\n",
              "      document.body.appendChild(div);\n",
              "\n",
              "      const buffers = [];\n",
              "      let downloaded = 0;\n",
              "\n",
              "      const channel = await google.colab.kernel.comms.open(id);\n",
              "      // Send a message to notify the kernel that we're ready.\n",
              "      channel.send({})\n",
              "\n",
              "      for await (const message of channel.messages) {\n",
              "        // Send a message to notify the kernel that we're ready.\n",
              "        channel.send({})\n",
              "        if (message.buffers) {\n",
              "          for (const buffer of message.buffers) {\n",
              "            buffers.push(buffer);\n",
              "            downloaded += buffer.byteLength;\n",
              "            progress.value = downloaded;\n",
              "          }\n",
              "        }\n",
              "      }\n",
              "      const blob = new Blob(buffers, {type: 'application/binary'});\n",
              "      const a = document.createElement('a');\n",
              "      a.href = window.URL.createObjectURL(blob);\n",
              "      a.download = filename;\n",
              "      div.appendChild(a);\n",
              "      a.click();\n",
              "      div.remove();\n",
              "    }\n",
              "  "
            ]
          },
          "metadata": {}
        },
        {
          "output_type": "display_data",
          "data": {
            "text/plain": [
              "<IPython.core.display.Javascript object>"
            ],
            "application/javascript": [
              "download(\"download_60c30451-f157-4da3-b1bd-5165670bad76\", \"viajes_tarjeta_1t19.csv\", 140262399)"
            ]
          },
          "metadata": {}
        }
      ]
    },
    {
      "cell_type": "code",
      "source": [
        "##LO MISMO PARA EL SEGUNDO TRIMESTRE DE 2019#\n",
        "from google.colab import drive\n",
        "drive.mount('/content/drive/', force_remount=True )\n",
        "import pandas as pd\n",
        "#%cd /content/drive/My Drive/bases_mentoria/\n",
        "path= '/content/drive/My Drive/Mentoria/segundo trimestre 2019'\n",
        "import glob\n",
        "filenames = glob.glob(path + \"/*.csv\")\n",
        "\n",
        "dfs = []\n",
        "for filename in filenames:\n",
        "    dfs.append(pd.read_csv(filename, encoding='latin-1', sep=\";\"))\n",
        "\n",
        "# Concatenate all data into one DataFrame\n",
        "big_frame = pd.concat(dfs, ignore_index=True)\n",
        "\n",
        "big_frame.head()\n",
        "\n",
        "\n"
      ],
      "metadata": {
        "id": "Bj0X5ZjvSTXH",
        "colab": {
          "base_uri": "https://localhost:8080/",
          "height": 224
        },
        "outputId": "8d165088-02e7-42f3-856e-d56ba53c0f61"
      },
      "execution_count": null,
      "outputs": [
        {
          "metadata": {
            "tags": null
          },
          "name": "stdout",
          "output_type": "stream",
          "text": [
            "Mounted at /content/drive/\n"
          ]
        },
        {
          "output_type": "execute_result",
          "data": {
            "text/plain": [
              "                    FECHA           FECHAAPERTURA  TARJETA    CORREDOR LINEA  \\\n",
              "0  05/04/2019 12:00:08 AM  04/04/2019 10:02:49 PM  4884082  Cor 8 Rojo   L82   \n",
              "1  05/04/2019 12:00:10 AM  04/04/2019 11:30:03 PM  5871414       TROLE     B   \n",
              "2  05/04/2019 12:00:12 AM  04/04/2019 10:43:21 PM  5813430  Cor 7 Azul   L75   \n",
              "3  05/04/2019 12:00:13 AM  04/04/2019 11:42:13 PM  3262031  Cor 2 Azul   L26   \n",
              "4  05/04/2019 12:00:15 AM  04/04/2019 10:59:19 PM  5791090  Cor 7 Azul   L74   \n",
              "\n",
              "  SENTIDO  \n",
              "0  Vuelta  \n",
              "1  Vuelta  \n",
              "2  Vuelta  \n",
              "3     Ida  \n",
              "4  Vuelta  "
            ],
            "text/html": [
              "\n",
              "  <div id=\"df-ddda078f-c885-42cd-ad00-b909c17235c0\">\n",
              "    <div class=\"colab-df-container\">\n",
              "      <div>\n",
              "<style scoped>\n",
              "    .dataframe tbody tr th:only-of-type {\n",
              "        vertical-align: middle;\n",
              "    }\n",
              "\n",
              "    .dataframe tbody tr th {\n",
              "        vertical-align: top;\n",
              "    }\n",
              "\n",
              "    .dataframe thead th {\n",
              "        text-align: right;\n",
              "    }\n",
              "</style>\n",
              "<table border=\"1\" class=\"dataframe\">\n",
              "  <thead>\n",
              "    <tr style=\"text-align: right;\">\n",
              "      <th></th>\n",
              "      <th>FECHA</th>\n",
              "      <th>FECHAAPERTURA</th>\n",
              "      <th>TARJETA</th>\n",
              "      <th>CORREDOR</th>\n",
              "      <th>LINEA</th>\n",
              "      <th>SENTIDO</th>\n",
              "    </tr>\n",
              "  </thead>\n",
              "  <tbody>\n",
              "    <tr>\n",
              "      <th>0</th>\n",
              "      <td>05/04/2019 12:00:08 AM</td>\n",
              "      <td>04/04/2019 10:02:49 PM</td>\n",
              "      <td>4884082</td>\n",
              "      <td>Cor 8 Rojo</td>\n",
              "      <td>L82</td>\n",
              "      <td>Vuelta</td>\n",
              "    </tr>\n",
              "    <tr>\n",
              "      <th>1</th>\n",
              "      <td>05/04/2019 12:00:10 AM</td>\n",
              "      <td>04/04/2019 11:30:03 PM</td>\n",
              "      <td>5871414</td>\n",
              "      <td>TROLE</td>\n",
              "      <td>B</td>\n",
              "      <td>Vuelta</td>\n",
              "    </tr>\n",
              "    <tr>\n",
              "      <th>2</th>\n",
              "      <td>05/04/2019 12:00:12 AM</td>\n",
              "      <td>04/04/2019 10:43:21 PM</td>\n",
              "      <td>5813430</td>\n",
              "      <td>Cor 7 Azul</td>\n",
              "      <td>L75</td>\n",
              "      <td>Vuelta</td>\n",
              "    </tr>\n",
              "    <tr>\n",
              "      <th>3</th>\n",
              "      <td>05/04/2019 12:00:13 AM</td>\n",
              "      <td>04/04/2019 11:42:13 PM</td>\n",
              "      <td>3262031</td>\n",
              "      <td>Cor 2 Azul</td>\n",
              "      <td>L26</td>\n",
              "      <td>Ida</td>\n",
              "    </tr>\n",
              "    <tr>\n",
              "      <th>4</th>\n",
              "      <td>05/04/2019 12:00:15 AM</td>\n",
              "      <td>04/04/2019 10:59:19 PM</td>\n",
              "      <td>5791090</td>\n",
              "      <td>Cor 7 Azul</td>\n",
              "      <td>L74</td>\n",
              "      <td>Vuelta</td>\n",
              "    </tr>\n",
              "  </tbody>\n",
              "</table>\n",
              "</div>\n",
              "      <button class=\"colab-df-convert\" onclick=\"convertToInteractive('df-ddda078f-c885-42cd-ad00-b909c17235c0')\"\n",
              "              title=\"Convert this dataframe to an interactive table.\"\n",
              "              style=\"display:none;\">\n",
              "        \n",
              "  <svg xmlns=\"http://www.w3.org/2000/svg\" height=\"24px\"viewBox=\"0 0 24 24\"\n",
              "       width=\"24px\">\n",
              "    <path d=\"M0 0h24v24H0V0z\" fill=\"none\"/>\n",
              "    <path d=\"M18.56 5.44l.94 2.06.94-2.06 2.06-.94-2.06-.94-.94-2.06-.94 2.06-2.06.94zm-11 1L8.5 8.5l.94-2.06 2.06-.94-2.06-.94L8.5 2.5l-.94 2.06-2.06.94zm10 10l.94 2.06.94-2.06 2.06-.94-2.06-.94-.94-2.06-.94 2.06-2.06.94z\"/><path d=\"M17.41 7.96l-1.37-1.37c-.4-.4-.92-.59-1.43-.59-.52 0-1.04.2-1.43.59L10.3 9.45l-7.72 7.72c-.78.78-.78 2.05 0 2.83L4 21.41c.39.39.9.59 1.41.59.51 0 1.02-.2 1.41-.59l7.78-7.78 2.81-2.81c.8-.78.8-2.07 0-2.86zM5.41 20L4 18.59l7.72-7.72 1.47 1.35L5.41 20z\"/>\n",
              "  </svg>\n",
              "      </button>\n",
              "      \n",
              "  <style>\n",
              "    .colab-df-container {\n",
              "      display:flex;\n",
              "      flex-wrap:wrap;\n",
              "      gap: 12px;\n",
              "    }\n",
              "\n",
              "    .colab-df-convert {\n",
              "      background-color: #E8F0FE;\n",
              "      border: none;\n",
              "      border-radius: 50%;\n",
              "      cursor: pointer;\n",
              "      display: none;\n",
              "      fill: #1967D2;\n",
              "      height: 32px;\n",
              "      padding: 0 0 0 0;\n",
              "      width: 32px;\n",
              "    }\n",
              "\n",
              "    .colab-df-convert:hover {\n",
              "      background-color: #E2EBFA;\n",
              "      box-shadow: 0px 1px 2px rgba(60, 64, 67, 0.3), 0px 1px 3px 1px rgba(60, 64, 67, 0.15);\n",
              "      fill: #174EA6;\n",
              "    }\n",
              "\n",
              "    [theme=dark] .colab-df-convert {\n",
              "      background-color: #3B4455;\n",
              "      fill: #D2E3FC;\n",
              "    }\n",
              "\n",
              "    [theme=dark] .colab-df-convert:hover {\n",
              "      background-color: #434B5C;\n",
              "      box-shadow: 0px 1px 3px 1px rgba(0, 0, 0, 0.15);\n",
              "      filter: drop-shadow(0px 1px 2px rgba(0, 0, 0, 0.3));\n",
              "      fill: #FFFFFF;\n",
              "    }\n",
              "  </style>\n",
              "\n",
              "      <script>\n",
              "        const buttonEl =\n",
              "          document.querySelector('#df-ddda078f-c885-42cd-ad00-b909c17235c0 button.colab-df-convert');\n",
              "        buttonEl.style.display =\n",
              "          google.colab.kernel.accessAllowed ? 'block' : 'none';\n",
              "\n",
              "        async function convertToInteractive(key) {\n",
              "          const element = document.querySelector('#df-ddda078f-c885-42cd-ad00-b909c17235c0');\n",
              "          const dataTable =\n",
              "            await google.colab.kernel.invokeFunction('convertToInteractive',\n",
              "                                                     [key], {});\n",
              "          if (!dataTable) return;\n",
              "\n",
              "          const docLinkHtml = 'Like what you see? Visit the ' +\n",
              "            '<a target=\"_blank\" href=https://colab.research.google.com/notebooks/data_table.ipynb>data table notebook</a>'\n",
              "            + ' to learn more about interactive tables.';\n",
              "          element.innerHTML = '';\n",
              "          dataTable['output_type'] = 'display_data';\n",
              "          await google.colab.output.renderOutput(dataTable, element);\n",
              "          const docLink = document.createElement('div');\n",
              "          docLink.innerHTML = docLinkHtml;\n",
              "          element.appendChild(docLink);\n",
              "        }\n",
              "      </script>\n",
              "    </div>\n",
              "  </div>\n",
              "  "
            ]
          },
          "metadata": {},
          "execution_count": 1
        }
      ]
    },
    {
      "cell_type": "code",
      "source": [
        "big_frame['m'] = big_frame.FECHA.astype(str).str[:10].astype(str)"
      ],
      "metadata": {
        "id": "YNWaEM-Dk0H3"
      },
      "execution_count": null,
      "outputs": []
    },
    {
      "cell_type": "code",
      "source": [
        "big_frame['hora'] = big_frame.FECHA.astype(str).str[11:].astype(str)"
      ],
      "metadata": {
        "id": "eLlFIqr0nqCj"
      },
      "execution_count": null,
      "outputs": []
    },
    {
      "cell_type": "code",
      "source": [
        "big_frame['aux']=big_frame.FECHA.astype(str).str[19:].astype(str) "
      ],
      "metadata": {
        "id": "hzBigdlInqKs"
      },
      "execution_count": null,
      "outputs": []
    },
    {
      "cell_type": "code",
      "source": [
        "big_frame['aux2']=big_frame.hora.astype(str).str[:2].astype(str) "
      ],
      "metadata": {
        "id": "yPXJM17TnqR5"
      },
      "execution_count": null,
      "outputs": []
    },
    {
      "cell_type": "code",
      "source": [
        "big_frame['hh']=big_frame.aux2 + big_frame.aux"
      ],
      "metadata": {
        "id": "USA_OcfAnqaR"
      },
      "execution_count": null,
      "outputs": []
    },
    {
      "cell_type": "code",
      "source": [
        "big_frame.sort_values(by=['hh'], inplace=True)"
      ],
      "metadata": {
        "id": "FUCIaSfcn5WX"
      },
      "execution_count": null,
      "outputs": []
    },
    {
      "cell_type": "code",
      "source": [
        "big_frame.m.value_counts()"
      ],
      "metadata": {
        "id": "I3INqLT3k4T_",
        "colab": {
          "base_uri": "https://localhost:8080/"
        },
        "outputId": "74e3f77c-1c78-4e7b-e297-06370622447e"
      },
      "execution_count": null,
      "outputs": [
        {
          "output_type": "execute_result",
          "data": {
            "text/plain": [
              "10/05/2019    191236\n",
              "14/06/2019    189752\n",
              "07/06/2019    188931\n",
              "13/06/2019    188717\n",
              "16/05/2019    188680\n",
              "               ...  \n",
              "05/05/2019     41274\n",
              "21/04/2019     39324\n",
              "16/06/2019     37555\n",
              "01/05/2019       555\n",
              "29/05/2019       383\n",
              "Name: m, Length: 91, dtype: int64"
            ]
          },
          "metadata": {},
          "execution_count": 8
        }
      ]
    },
    {
      "cell_type": "code",
      "source": [
        "big_frame['dia'] = pd.to_datetime(big_frame['m'])\n",
        "big_frame['dia'] = big_frame['dia'].dt.strftime('%d.%m.%Y')"
      ],
      "metadata": {
        "id": "dWoasI5kk4kx"
      },
      "execution_count": null,
      "outputs": []
    },
    {
      "cell_type": "code",
      "source": [
        "big_frame.dia.value_counts()"
      ],
      "metadata": {
        "id": "0RImabQhk4pR",
        "colab": {
          "base_uri": "https://localhost:8080/"
        },
        "outputId": "3c059fa7-0276-4c17-c8f7-540bf024f99d"
      },
      "execution_count": null,
      "outputs": [
        {
          "output_type": "execute_result",
          "data": {
            "text/plain": [
              "05.10.2019    191236\n",
              "14.06.2019    189752\n",
              "06.07.2019    188931\n",
              "13.06.2019    188717\n",
              "16.05.2019    188680\n",
              "               ...  \n",
              "05.05.2019     41274\n",
              "21.04.2019     39324\n",
              "16.06.2019     37555\n",
              "05.01.2019       555\n",
              "29.05.2019       383\n",
              "Name: dia, Length: 91, dtype: int64"
            ]
          },
          "metadata": {},
          "execution_count": 10
        }
      ]
    },
    {
      "cell_type": "code",
      "source": [
        "big_frame['dia2'] = pd.to_datetime(big_frame['dia'])\n"
      ],
      "metadata": {
        "id": "kCV5Qod3k4s4"
      },
      "execution_count": null,
      "outputs": []
    },
    {
      "cell_type": "code",
      "source": [
        "### EJERCICIO 1: INTERACTUAR CON BASES, CONVERTIR FORMATOS FECHAS, GENERAR VARIABLES NUEVAS (MES DIA )###\n",
        "big_frame['MES']= big_frame['dia2'].dt.to_period('M')"
      ],
      "metadata": {
        "id": "PoeAp23Ak4wR"
      },
      "execution_count": null,
      "outputs": []
    },
    {
      "cell_type": "code",
      "source": [
        "big_frame.shape"
      ],
      "metadata": {
        "id": "LEFX_dkaooeR",
        "colab": {
          "base_uri": "https://localhost:8080/"
        },
        "outputId": "641f76ee-847c-4084-cb8f-19f1f14f8445"
      },
      "execution_count": null,
      "outputs": [
        {
          "output_type": "execute_result",
          "data": {
            "text/plain": [
              "(12607201, 14)"
            ]
          },
          "metadata": {},
          "execution_count": 13
        }
      ]
    },
    {
      "cell_type": "code",
      "source": [
        "###EJERCICIO 2: \n",
        "##APLICAR ESTADÍSTICOS DESCRIPTIVOS SOBRE CORTES DE BOLETOS: \n",
        "##1) TARJETAS: CANTIDAD DE USOS POR MES (TAB), CANTIDAD DIAS AL MES USADAS, IDENTIFICAR OUTLIERS\n",
        "big_frame['AUX']=1\n",
        "big_frame['VIAJES_POR_TARJETA_DIA']=big_frame.groupby(['TARJETA', 'dia2'])['AUX'].transform('sum')\n",
        "big_frame['VIAJES_POR_TARJETA_MES']=big_frame.groupby(['TARJETA', 'MES'])['AUX'].transform('sum')\n",
        "\n",
        "\n",
        "big_frame= big_frame.drop_duplicates(['dia2', 'MES', 'TARJETA'])\n",
        "big_frame.head()\n",
        "big_frame=big_frame.loc[:,['dia2', 'VIAJES_POR_TARJETA_DIA','VIAJES_POR_TARJETA_MES', 'MES', 'TARJETA' ]]\n",
        "#df1.to_csv(\"df1.csv\", index=None)\n",
        "#from google.colab import files\n",
        "#files.download('df1.csv') "
      ],
      "metadata": {
        "id": "GtEStRtHlDvI"
      },
      "execution_count": null,
      "outputs": []
    },
    {
      "cell_type": "code",
      "source": [
        "big_frame.shape"
      ],
      "metadata": {
        "id": "u0YRxU-UlDyh"
      },
      "execution_count": null,
      "outputs": []
    },
    {
      "cell_type": "code",
      "source": [
        "sum(big_frame.VIAJES_POR_TARJETA_DIA)"
      ],
      "metadata": {
        "colab": {
          "base_uri": "https://localhost:8080/"
        },
        "id": "t4M4Wpit4C9w",
        "outputId": "f98b9058-89f2-4282-f8f3-2026c94b1c9c"
      },
      "execution_count": null,
      "outputs": [
        {
          "output_type": "execute_result",
          "data": {
            "text/plain": [
              "12607201"
            ]
          },
          "metadata": {},
          "execution_count": 14
        }
      ]
    },
    {
      "cell_type": "code",
      "source": [
        "viajes_2t19= big_frame\n",
        "viajes_2t19.to_csv(\"viajes_tarjeta_2t19.csv\", index=None)\n",
        "from google.colab import files\n",
        "files.download('viajes_tarjeta_2t19.csv') \n"
      ],
      "metadata": {
        "id": "1xTCrSeJlZS7",
        "colab": {
          "base_uri": "https://localhost:8080/",
          "height": 17
        },
        "outputId": "b1041cc8-86e6-4ffe-e8c6-b5b3d6cc7bc5"
      },
      "execution_count": null,
      "outputs": [
        {
          "output_type": "display_data",
          "data": {
            "text/plain": [
              "<IPython.core.display.Javascript object>"
            ],
            "application/javascript": [
              "\n",
              "    async function download(id, filename, size) {\n",
              "      if (!google.colab.kernel.accessAllowed) {\n",
              "        return;\n",
              "      }\n",
              "      const div = document.createElement('div');\n",
              "      const label = document.createElement('label');\n",
              "      label.textContent = `Downloading \"${filename}\": `;\n",
              "      div.appendChild(label);\n",
              "      const progress = document.createElement('progress');\n",
              "      progress.max = size;\n",
              "      div.appendChild(progress);\n",
              "      document.body.appendChild(div);\n",
              "\n",
              "      const buffers = [];\n",
              "      let downloaded = 0;\n",
              "\n",
              "      const channel = await google.colab.kernel.comms.open(id);\n",
              "      // Send a message to notify the kernel that we're ready.\n",
              "      channel.send({})\n",
              "\n",
              "      for await (const message of channel.messages) {\n",
              "        // Send a message to notify the kernel that we're ready.\n",
              "        channel.send({})\n",
              "        if (message.buffers) {\n",
              "          for (const buffer of message.buffers) {\n",
              "            buffers.push(buffer);\n",
              "            downloaded += buffer.byteLength;\n",
              "            progress.value = downloaded;\n",
              "          }\n",
              "        }\n",
              "      }\n",
              "      const blob = new Blob(buffers, {type: 'application/binary'});\n",
              "      const a = document.createElement('a');\n",
              "      a.href = window.URL.createObjectURL(blob);\n",
              "      a.download = filename;\n",
              "      div.appendChild(a);\n",
              "      a.click();\n",
              "      div.remove();\n",
              "    }\n",
              "  "
            ]
          },
          "metadata": {}
        },
        {
          "output_type": "display_data",
          "data": {
            "text/plain": [
              "<IPython.core.display.Javascript object>"
            ],
            "application/javascript": [
              "download(\"download_dac091ea-5769-4d2a-9459-7c4c03941b76\", \"viajes_hora_2t19.csv\", 172478156)"
            ]
          },
          "metadata": {}
        }
      ]
    },
    {
      "cell_type": "code",
      "source": [
        "##LO MISMO PARA EL TERCER TRIMESTRE DE 2019#\n",
        "from google.colab import drive\n",
        "drive.mount('/content/drive/', force_remount=True )\n",
        "import pandas as pd\n",
        "#%cd /content/drive/My Drive/bases_mentoria/\n",
        "path= '/content/drive/My Drive/Mentoria/tercer trimestre 2019'\n",
        "import glob\n",
        "filenames = glob.glob(path + \"/*.csv\")\n",
        "\n",
        "dfs = []\n",
        "for filename in filenames:\n",
        "    dfs.append(pd.read_csv(filename, encoding='latin-1', sep=\";\"))\n",
        "\n",
        "# Concatenate all data into one DataFrame\n",
        "big_frame = pd.concat(dfs, ignore_index=True)\n",
        "\n",
        "big_frame.head()\n",
        "\n",
        "\n"
      ],
      "metadata": {
        "id": "QzozAc5PiSl2",
        "colab": {
          "base_uri": "https://localhost:8080/",
          "height": 224
        },
        "outputId": "766b348f-4d70-4884-827b-03b1394d83bc"
      },
      "execution_count": null,
      "outputs": [
        {
          "output_type": "stream",
          "name": "stdout",
          "text": [
            "Mounted at /content/drive/\n"
          ]
        },
        {
          "output_type": "execute_result",
          "data": {
            "text/plain": [
              "                    FECHA           FECHAAPERTURA  TARJETA        CORREDOR  \\\n",
              "0  06/07/2019 12:00:07 AM  05/07/2019 11:28:07 PM  5099043   Cor 1 Naranja   \n",
              "1  06/07/2019 12:00:29 AM  05/07/2019 11:32:24 PM  5515754   Cor 6 Naranja   \n",
              "2  06/07/2019 12:00:29 AM  05/07/2019 11:05:36 PM  4971142  Cor 5 Amarillo   \n",
              "3  06/07/2019 12:00:30 AM  05/07/2019 11:05:36 PM  4971142  Cor 5 Amarillo   \n",
              "4  06/07/2019 12:00:33 AM  05/07/2019 11:05:36 PM  4971142  Cor 5 Amarillo   \n",
              "\n",
              "  LINEA SENTIDO  \n",
              "0   L12     Ida  \n",
              "1   L67     Ida  \n",
              "2   L50  Vuelta  \n",
              "3   L50  Vuelta  \n",
              "4   L50  Vuelta  "
            ],
            "text/html": [
              "\n",
              "  <div id=\"df-827757fa-655d-45ac-86fa-59a583f2bb91\">\n",
              "    <div class=\"colab-df-container\">\n",
              "      <div>\n",
              "<style scoped>\n",
              "    .dataframe tbody tr th:only-of-type {\n",
              "        vertical-align: middle;\n",
              "    }\n",
              "\n",
              "    .dataframe tbody tr th {\n",
              "        vertical-align: top;\n",
              "    }\n",
              "\n",
              "    .dataframe thead th {\n",
              "        text-align: right;\n",
              "    }\n",
              "</style>\n",
              "<table border=\"1\" class=\"dataframe\">\n",
              "  <thead>\n",
              "    <tr style=\"text-align: right;\">\n",
              "      <th></th>\n",
              "      <th>FECHA</th>\n",
              "      <th>FECHAAPERTURA</th>\n",
              "      <th>TARJETA</th>\n",
              "      <th>CORREDOR</th>\n",
              "      <th>LINEA</th>\n",
              "      <th>SENTIDO</th>\n",
              "    </tr>\n",
              "  </thead>\n",
              "  <tbody>\n",
              "    <tr>\n",
              "      <th>0</th>\n",
              "      <td>06/07/2019 12:00:07 AM</td>\n",
              "      <td>05/07/2019 11:28:07 PM</td>\n",
              "      <td>5099043</td>\n",
              "      <td>Cor 1 Naranja</td>\n",
              "      <td>L12</td>\n",
              "      <td>Ida</td>\n",
              "    </tr>\n",
              "    <tr>\n",
              "      <th>1</th>\n",
              "      <td>06/07/2019 12:00:29 AM</td>\n",
              "      <td>05/07/2019 11:32:24 PM</td>\n",
              "      <td>5515754</td>\n",
              "      <td>Cor 6 Naranja</td>\n",
              "      <td>L67</td>\n",
              "      <td>Ida</td>\n",
              "    </tr>\n",
              "    <tr>\n",
              "      <th>2</th>\n",
              "      <td>06/07/2019 12:00:29 AM</td>\n",
              "      <td>05/07/2019 11:05:36 PM</td>\n",
              "      <td>4971142</td>\n",
              "      <td>Cor 5 Amarillo</td>\n",
              "      <td>L50</td>\n",
              "      <td>Vuelta</td>\n",
              "    </tr>\n",
              "    <tr>\n",
              "      <th>3</th>\n",
              "      <td>06/07/2019 12:00:30 AM</td>\n",
              "      <td>05/07/2019 11:05:36 PM</td>\n",
              "      <td>4971142</td>\n",
              "      <td>Cor 5 Amarillo</td>\n",
              "      <td>L50</td>\n",
              "      <td>Vuelta</td>\n",
              "    </tr>\n",
              "    <tr>\n",
              "      <th>4</th>\n",
              "      <td>06/07/2019 12:00:33 AM</td>\n",
              "      <td>05/07/2019 11:05:36 PM</td>\n",
              "      <td>4971142</td>\n",
              "      <td>Cor 5 Amarillo</td>\n",
              "      <td>L50</td>\n",
              "      <td>Vuelta</td>\n",
              "    </tr>\n",
              "  </tbody>\n",
              "</table>\n",
              "</div>\n",
              "      <button class=\"colab-df-convert\" onclick=\"convertToInteractive('df-827757fa-655d-45ac-86fa-59a583f2bb91')\"\n",
              "              title=\"Convert this dataframe to an interactive table.\"\n",
              "              style=\"display:none;\">\n",
              "        \n",
              "  <svg xmlns=\"http://www.w3.org/2000/svg\" height=\"24px\"viewBox=\"0 0 24 24\"\n",
              "       width=\"24px\">\n",
              "    <path d=\"M0 0h24v24H0V0z\" fill=\"none\"/>\n",
              "    <path d=\"M18.56 5.44l.94 2.06.94-2.06 2.06-.94-2.06-.94-.94-2.06-.94 2.06-2.06.94zm-11 1L8.5 8.5l.94-2.06 2.06-.94-2.06-.94L8.5 2.5l-.94 2.06-2.06.94zm10 10l.94 2.06.94-2.06 2.06-.94-2.06-.94-.94-2.06-.94 2.06-2.06.94z\"/><path d=\"M17.41 7.96l-1.37-1.37c-.4-.4-.92-.59-1.43-.59-.52 0-1.04.2-1.43.59L10.3 9.45l-7.72 7.72c-.78.78-.78 2.05 0 2.83L4 21.41c.39.39.9.59 1.41.59.51 0 1.02-.2 1.41-.59l7.78-7.78 2.81-2.81c.8-.78.8-2.07 0-2.86zM5.41 20L4 18.59l7.72-7.72 1.47 1.35L5.41 20z\"/>\n",
              "  </svg>\n",
              "      </button>\n",
              "      \n",
              "  <style>\n",
              "    .colab-df-container {\n",
              "      display:flex;\n",
              "      flex-wrap:wrap;\n",
              "      gap: 12px;\n",
              "    }\n",
              "\n",
              "    .colab-df-convert {\n",
              "      background-color: #E8F0FE;\n",
              "      border: none;\n",
              "      border-radius: 50%;\n",
              "      cursor: pointer;\n",
              "      display: none;\n",
              "      fill: #1967D2;\n",
              "      height: 32px;\n",
              "      padding: 0 0 0 0;\n",
              "      width: 32px;\n",
              "    }\n",
              "\n",
              "    .colab-df-convert:hover {\n",
              "      background-color: #E2EBFA;\n",
              "      box-shadow: 0px 1px 2px rgba(60, 64, 67, 0.3), 0px 1px 3px 1px rgba(60, 64, 67, 0.15);\n",
              "      fill: #174EA6;\n",
              "    }\n",
              "\n",
              "    [theme=dark] .colab-df-convert {\n",
              "      background-color: #3B4455;\n",
              "      fill: #D2E3FC;\n",
              "    }\n",
              "\n",
              "    [theme=dark] .colab-df-convert:hover {\n",
              "      background-color: #434B5C;\n",
              "      box-shadow: 0px 1px 3px 1px rgba(0, 0, 0, 0.15);\n",
              "      filter: drop-shadow(0px 1px 2px rgba(0, 0, 0, 0.3));\n",
              "      fill: #FFFFFF;\n",
              "    }\n",
              "  </style>\n",
              "\n",
              "      <script>\n",
              "        const buttonEl =\n",
              "          document.querySelector('#df-827757fa-655d-45ac-86fa-59a583f2bb91 button.colab-df-convert');\n",
              "        buttonEl.style.display =\n",
              "          google.colab.kernel.accessAllowed ? 'block' : 'none';\n",
              "\n",
              "        async function convertToInteractive(key) {\n",
              "          const element = document.querySelector('#df-827757fa-655d-45ac-86fa-59a583f2bb91');\n",
              "          const dataTable =\n",
              "            await google.colab.kernel.invokeFunction('convertToInteractive',\n",
              "                                                     [key], {});\n",
              "          if (!dataTable) return;\n",
              "\n",
              "          const docLinkHtml = 'Like what you see? Visit the ' +\n",
              "            '<a target=\"_blank\" href=https://colab.research.google.com/notebooks/data_table.ipynb>data table notebook</a>'\n",
              "            + ' to learn more about interactive tables.';\n",
              "          element.innerHTML = '';\n",
              "          dataTable['output_type'] = 'display_data';\n",
              "          await google.colab.output.renderOutput(dataTable, element);\n",
              "          const docLink = document.createElement('div');\n",
              "          docLink.innerHTML = docLinkHtml;\n",
              "          element.appendChild(docLink);\n",
              "        }\n",
              "      </script>\n",
              "    </div>\n",
              "  </div>\n",
              "  "
            ]
          },
          "metadata": {},
          "execution_count": 1
        }
      ]
    },
    {
      "cell_type": "code",
      "source": [
        "big_frame['m'] = big_frame.FECHA.astype(str).str[:10].astype(str)"
      ],
      "metadata": {
        "id": "E3u3kFezidJ0"
      },
      "execution_count": null,
      "outputs": []
    },
    {
      "cell_type": "code",
      "source": [
        "big_frame['hora'] = big_frame.FECHA.astype(str).str[11:].astype(str)"
      ],
      "metadata": {
        "id": "zPEz6WgQqAfs"
      },
      "execution_count": null,
      "outputs": []
    },
    {
      "cell_type": "code",
      "source": [
        "big_frame['aux']=big_frame.FECHA.astype(str).str[19:].astype(str) "
      ],
      "metadata": {
        "id": "pUPvXxWbqAmm"
      },
      "execution_count": null,
      "outputs": []
    },
    {
      "cell_type": "code",
      "source": [
        "big_frame['aux2']=big_frame.hora.astype(str).str[:2].astype(str) "
      ],
      "metadata": {
        "id": "sapKeq7nqAsk"
      },
      "execution_count": null,
      "outputs": []
    },
    {
      "cell_type": "code",
      "source": [
        "big_frame['hh']=big_frame.aux2 + big_frame.aux"
      ],
      "metadata": {
        "id": "miyXckQ7qAy8"
      },
      "execution_count": null,
      "outputs": []
    },
    {
      "cell_type": "code",
      "source": [
        "big_frame.sort_values(by=['hh'], inplace=True)"
      ],
      "metadata": {
        "id": "ai2JLD0DqA4z"
      },
      "execution_count": null,
      "outputs": []
    },
    {
      "cell_type": "code",
      "source": [
        "big_frame.m.value_counts()"
      ],
      "metadata": {
        "id": "6kV43od0idUd",
        "colab": {
          "base_uri": "https://localhost:8080/"
        },
        "outputId": "cca2464e-57b6-4aa8-fcc7-2d18126c60bb"
      },
      "execution_count": null,
      "outputs": [
        {
          "output_type": "execute_result",
          "data": {
            "text/plain": [
              "07/08/2019    186394\n",
              "16/08/2019    185234\n",
              "09/08/2019    184550\n",
              "13/08/2019    183662\n",
              "06/08/2019    183536\n",
              "               ...  \n",
              "01/09/2019     42460\n",
              "22/09/2019     42280\n",
              "07/07/2019     40755\n",
              "28/07/2019     40682\n",
              "12/07/2019       104\n",
              "Name: m, Length: 92, dtype: int64"
            ]
          },
          "metadata": {},
          "execution_count": 8
        }
      ]
    },
    {
      "cell_type": "code",
      "source": [
        "big_frame['dia'] = pd.to_datetime(big_frame['m'])\n",
        "big_frame['dia'] = big_frame['dia'].dt.strftime('%d.%m.%Y')"
      ],
      "metadata": {
        "id": "CukJZeKTidZx"
      },
      "execution_count": null,
      "outputs": []
    },
    {
      "cell_type": "code",
      "source": [
        "big_frame.dia.value_counts()"
      ],
      "metadata": {
        "id": "atj1bJZ1iddS",
        "colab": {
          "base_uri": "https://localhost:8080/"
        },
        "outputId": "e266598a-8482-472b-eb5c-52a71cd3ce77"
      },
      "execution_count": null,
      "outputs": [
        {
          "output_type": "execute_result",
          "data": {
            "text/plain": [
              "08.07.2019    186394\n",
              "16.08.2019    185234\n",
              "08.09.2019    184550\n",
              "13.08.2019    183662\n",
              "08.06.2019    183536\n",
              "               ...  \n",
              "09.01.2019     42460\n",
              "22.09.2019     42280\n",
              "07.07.2019     40755\n",
              "28.07.2019     40682\n",
              "07.12.2019       104\n",
              "Name: dia, Length: 92, dtype: int64"
            ]
          },
          "metadata": {},
          "execution_count": 10
        }
      ]
    },
    {
      "cell_type": "code",
      "source": [
        "big_frame['dia2'] = pd.to_datetime(big_frame['dia'])"
      ],
      "metadata": {
        "id": "H_qb-NcKidgU"
      },
      "execution_count": null,
      "outputs": []
    },
    {
      "cell_type": "code",
      "source": [
        "### EJERCICIO 1: INTERACTUAR CON BASES, CONVERTIR FORMATOS FECHAS, GENERAR VARIABLES NUEVAS (MES DIA )###\n",
        "big_frame['day_of_week'] = big_frame['dia2'].dt.day_name()\n",
        "big_frame['MES']= big_frame['dia2'].dt.to_period('M')"
      ],
      "metadata": {
        "id": "dPVQBBBbidjT"
      },
      "execution_count": null,
      "outputs": []
    },
    {
      "cell_type": "code",
      "source": [
        "big_frame.shape"
      ],
      "metadata": {
        "id": "4PGOGdTRido9",
        "colab": {
          "base_uri": "https://localhost:8080/"
        },
        "outputId": "0d5179dc-d28a-43f8-ce3f-873fa0c987d8"
      },
      "execution_count": null,
      "outputs": [
        {
          "output_type": "execute_result",
          "data": {
            "text/plain": [
              "(12718216, 11)"
            ]
          },
          "metadata": {},
          "execution_count": 6
        }
      ]
    },
    {
      "cell_type": "code",
      "source": [
        "###EJERCICIO 2: \n",
        "##APLICAR ESTADÍSTICOS DESCRIPTIVOS SOBRE CORTES DE BOLETOS: \n",
        "##1) TARJETAS: CANTIDAD DE USOS POR MES (TAB), CANTIDAD DIAS AL MES USADAS, IDENTIFICAR OUTLIERS\n",
        "big_frame['AUX']=1\n",
        "big_frame['VIAJES_POR_TARJETA_DIA']=big_frame.groupby(['TARJETA', 'dia2'])['AUX'].transform('sum')\n",
        "big_frame['VIAJES_POR_TARJETA_MES']=big_frame.groupby(['TARJETA', 'MES'])['AUX'].transform('sum')\n",
        "\n",
        "\n",
        "big_frame= big_frame.drop_duplicates(['dia2', 'MES', 'TARJETA'])\n",
        "big_frame.head()\n",
        "big_frame=big_frame.loc[:,['dia2', 'VIAJES_POR_TARJETA_DIA','VIAJES_POR_TARJETA_MES', 'MES', 'TARJETA' ]]\n",
        "#df1.to_csv(\"df1.csv\", index=None)\n",
        "#from google.colab import files\n",
        "#files.download('df1.csv') "
      ],
      "metadata": {
        "id": "t63LUiAeidrt"
      },
      "execution_count": null,
      "outputs": []
    },
    {
      "cell_type": "code",
      "source": [
        "big_frame.head()"
      ],
      "metadata": {
        "id": "Le-wmYUwiduW",
        "colab": {
          "base_uri": "https://localhost:8080/",
          "height": 206
        },
        "outputId": "87b79017-a52c-4960-b0e1-3cc0117ec00f"
      },
      "execution_count": null,
      "outputs": [
        {
          "output_type": "execute_result",
          "data": {
            "text/plain": [
              "        dia2  VIAJES_POR_TARJETA_DIA  VIAJES_POR_TARJETA_MES      MES  TARJETA\n",
              "0 2019-07-06                       2                      29  2019-07  5099043\n",
              "1 2019-07-06                       6                      97  2019-07  5515754\n",
              "2 2019-07-06                       5                      21  2019-07  4971142\n",
              "5 2019-07-06                       8                     104  2019-07  4859592\n",
              "6 2019-07-06                       5                      42  2019-07  4921348"
            ],
            "text/html": [
              "\n",
              "  <div id=\"df-31ac0046-7be0-41c7-87af-4c4625af6076\">\n",
              "    <div class=\"colab-df-container\">\n",
              "      <div>\n",
              "<style scoped>\n",
              "    .dataframe tbody tr th:only-of-type {\n",
              "        vertical-align: middle;\n",
              "    }\n",
              "\n",
              "    .dataframe tbody tr th {\n",
              "        vertical-align: top;\n",
              "    }\n",
              "\n",
              "    .dataframe thead th {\n",
              "        text-align: right;\n",
              "    }\n",
              "</style>\n",
              "<table border=\"1\" class=\"dataframe\">\n",
              "  <thead>\n",
              "    <tr style=\"text-align: right;\">\n",
              "      <th></th>\n",
              "      <th>dia2</th>\n",
              "      <th>VIAJES_POR_TARJETA_DIA</th>\n",
              "      <th>VIAJES_POR_TARJETA_MES</th>\n",
              "      <th>MES</th>\n",
              "      <th>TARJETA</th>\n",
              "    </tr>\n",
              "  </thead>\n",
              "  <tbody>\n",
              "    <tr>\n",
              "      <th>0</th>\n",
              "      <td>2019-07-06</td>\n",
              "      <td>2</td>\n",
              "      <td>29</td>\n",
              "      <td>2019-07</td>\n",
              "      <td>5099043</td>\n",
              "    </tr>\n",
              "    <tr>\n",
              "      <th>1</th>\n",
              "      <td>2019-07-06</td>\n",
              "      <td>6</td>\n",
              "      <td>97</td>\n",
              "      <td>2019-07</td>\n",
              "      <td>5515754</td>\n",
              "    </tr>\n",
              "    <tr>\n",
              "      <th>2</th>\n",
              "      <td>2019-07-06</td>\n",
              "      <td>5</td>\n",
              "      <td>21</td>\n",
              "      <td>2019-07</td>\n",
              "      <td>4971142</td>\n",
              "    </tr>\n",
              "    <tr>\n",
              "      <th>5</th>\n",
              "      <td>2019-07-06</td>\n",
              "      <td>8</td>\n",
              "      <td>104</td>\n",
              "      <td>2019-07</td>\n",
              "      <td>4859592</td>\n",
              "    </tr>\n",
              "    <tr>\n",
              "      <th>6</th>\n",
              "      <td>2019-07-06</td>\n",
              "      <td>5</td>\n",
              "      <td>42</td>\n",
              "      <td>2019-07</td>\n",
              "      <td>4921348</td>\n",
              "    </tr>\n",
              "  </tbody>\n",
              "</table>\n",
              "</div>\n",
              "      <button class=\"colab-df-convert\" onclick=\"convertToInteractive('df-31ac0046-7be0-41c7-87af-4c4625af6076')\"\n",
              "              title=\"Convert this dataframe to an interactive table.\"\n",
              "              style=\"display:none;\">\n",
              "        \n",
              "  <svg xmlns=\"http://www.w3.org/2000/svg\" height=\"24px\"viewBox=\"0 0 24 24\"\n",
              "       width=\"24px\">\n",
              "    <path d=\"M0 0h24v24H0V0z\" fill=\"none\"/>\n",
              "    <path d=\"M18.56 5.44l.94 2.06.94-2.06 2.06-.94-2.06-.94-.94-2.06-.94 2.06-2.06.94zm-11 1L8.5 8.5l.94-2.06 2.06-.94-2.06-.94L8.5 2.5l-.94 2.06-2.06.94zm10 10l.94 2.06.94-2.06 2.06-.94-2.06-.94-.94-2.06-.94 2.06-2.06.94z\"/><path d=\"M17.41 7.96l-1.37-1.37c-.4-.4-.92-.59-1.43-.59-.52 0-1.04.2-1.43.59L10.3 9.45l-7.72 7.72c-.78.78-.78 2.05 0 2.83L4 21.41c.39.39.9.59 1.41.59.51 0 1.02-.2 1.41-.59l7.78-7.78 2.81-2.81c.8-.78.8-2.07 0-2.86zM5.41 20L4 18.59l7.72-7.72 1.47 1.35L5.41 20z\"/>\n",
              "  </svg>\n",
              "      </button>\n",
              "      \n",
              "  <style>\n",
              "    .colab-df-container {\n",
              "      display:flex;\n",
              "      flex-wrap:wrap;\n",
              "      gap: 12px;\n",
              "    }\n",
              "\n",
              "    .colab-df-convert {\n",
              "      background-color: #E8F0FE;\n",
              "      border: none;\n",
              "      border-radius: 50%;\n",
              "      cursor: pointer;\n",
              "      display: none;\n",
              "      fill: #1967D2;\n",
              "      height: 32px;\n",
              "      padding: 0 0 0 0;\n",
              "      width: 32px;\n",
              "    }\n",
              "\n",
              "    .colab-df-convert:hover {\n",
              "      background-color: #E2EBFA;\n",
              "      box-shadow: 0px 1px 2px rgba(60, 64, 67, 0.3), 0px 1px 3px 1px rgba(60, 64, 67, 0.15);\n",
              "      fill: #174EA6;\n",
              "    }\n",
              "\n",
              "    [theme=dark] .colab-df-convert {\n",
              "      background-color: #3B4455;\n",
              "      fill: #D2E3FC;\n",
              "    }\n",
              "\n",
              "    [theme=dark] .colab-df-convert:hover {\n",
              "      background-color: #434B5C;\n",
              "      box-shadow: 0px 1px 3px 1px rgba(0, 0, 0, 0.15);\n",
              "      filter: drop-shadow(0px 1px 2px rgba(0, 0, 0, 0.3));\n",
              "      fill: #FFFFFF;\n",
              "    }\n",
              "  </style>\n",
              "\n",
              "      <script>\n",
              "        const buttonEl =\n",
              "          document.querySelector('#df-31ac0046-7be0-41c7-87af-4c4625af6076 button.colab-df-convert');\n",
              "        buttonEl.style.display =\n",
              "          google.colab.kernel.accessAllowed ? 'block' : 'none';\n",
              "\n",
              "        async function convertToInteractive(key) {\n",
              "          const element = document.querySelector('#df-31ac0046-7be0-41c7-87af-4c4625af6076');\n",
              "          const dataTable =\n",
              "            await google.colab.kernel.invokeFunction('convertToInteractive',\n",
              "                                                     [key], {});\n",
              "          if (!dataTable) return;\n",
              "\n",
              "          const docLinkHtml = 'Like what you see? Visit the ' +\n",
              "            '<a target=\"_blank\" href=https://colab.research.google.com/notebooks/data_table.ipynb>data table notebook</a>'\n",
              "            + ' to learn more about interactive tables.';\n",
              "          element.innerHTML = '';\n",
              "          dataTable['output_type'] = 'display_data';\n",
              "          await google.colab.output.renderOutput(dataTable, element);\n",
              "          const docLink = document.createElement('div');\n",
              "          docLink.innerHTML = docLinkHtml;\n",
              "          element.appendChild(docLink);\n",
              "        }\n",
              "      </script>\n",
              "    </div>\n",
              "  </div>\n",
              "  "
            ]
          },
          "metadata": {},
          "execution_count": 10
        }
      ]
    },
    {
      "cell_type": "code",
      "source": [
        "sum(big_frame.VIAJES_POR_TARJETA_DIA)"
      ],
      "metadata": {
        "id": "EXqs5_Tg4Lc1",
        "colab": {
          "base_uri": "https://localhost:8080/"
        },
        "outputId": "51b68c3f-71bc-48f5-98db-6ecdeb18701f"
      },
      "execution_count": null,
      "outputs": [
        {
          "output_type": "execute_result",
          "data": {
            "text/plain": [
              "12718216"
            ]
          },
          "metadata": {},
          "execution_count": 8
        }
      ]
    },
    {
      "cell_type": "code",
      "source": [
        "viajes_3t19= big_frame\n",
        "viajes_3t19.to_csv(\"viajes_tarjeta_3t19.csv\", index=None)\n",
        "from google.colab import files\n",
        "files.download('viajes_tarjeta_3t19.csv') "
      ],
      "metadata": {
        "id": "GXPAODPFjDOw",
        "colab": {
          "base_uri": "https://localhost:8080/",
          "height": 17
        },
        "outputId": "fc092530-06e1-4d42-dba7-70a3fe6755d5"
      },
      "execution_count": null,
      "outputs": [
        {
          "output_type": "display_data",
          "data": {
            "text/plain": [
              "<IPython.core.display.Javascript object>"
            ],
            "application/javascript": [
              "\n",
              "    async function download(id, filename, size) {\n",
              "      if (!google.colab.kernel.accessAllowed) {\n",
              "        return;\n",
              "      }\n",
              "      const div = document.createElement('div');\n",
              "      const label = document.createElement('label');\n",
              "      label.textContent = `Downloading \"${filename}\": `;\n",
              "      div.appendChild(label);\n",
              "      const progress = document.createElement('progress');\n",
              "      progress.max = size;\n",
              "      div.appendChild(progress);\n",
              "      document.body.appendChild(div);\n",
              "\n",
              "      const buffers = [];\n",
              "      let downloaded = 0;\n",
              "\n",
              "      const channel = await google.colab.kernel.comms.open(id);\n",
              "      // Send a message to notify the kernel that we're ready.\n",
              "      channel.send({})\n",
              "\n",
              "      for await (const message of channel.messages) {\n",
              "        // Send a message to notify the kernel that we're ready.\n",
              "        channel.send({})\n",
              "        if (message.buffers) {\n",
              "          for (const buffer of message.buffers) {\n",
              "            buffers.push(buffer);\n",
              "            downloaded += buffer.byteLength;\n",
              "            progress.value = downloaded;\n",
              "          }\n",
              "        }\n",
              "      }\n",
              "      const blob = new Blob(buffers, {type: 'application/binary'});\n",
              "      const a = document.createElement('a');\n",
              "      a.href = window.URL.createObjectURL(blob);\n",
              "      a.download = filename;\n",
              "      div.appendChild(a);\n",
              "      a.click();\n",
              "      div.remove();\n",
              "    }\n",
              "  "
            ]
          },
          "metadata": {}
        },
        {
          "output_type": "display_data",
          "data": {
            "text/plain": [
              "<IPython.core.display.Javascript object>"
            ],
            "application/javascript": [
              "download(\"download_5ed479ba-1bc5-4681-bb24-da474bcacf9a\", \"control_3t19.csv\", 1727)"
            ]
          },
          "metadata": {}
        }
      ]
    },
    {
      "cell_type": "code",
      "source": [
        "##LO MISMO PARA EL CUARTO TRIMESTRE DE 2019#\n",
        "from google.colab import drive\n",
        "drive.mount('/content/drive/', force_remount=True )\n",
        "import pandas as pd\n",
        "#%cd /content/drive/My Drive/bases_mentoria/\n",
        "path= '/content/drive/My Drive/Mentoria/cuarto trimestre 2019'\n",
        "import glob\n",
        "filenames = glob.glob(path + \"/*.csv\")\n",
        "\n",
        "dfs = []\n",
        "for filename in filenames:\n",
        "    dfs.append(pd.read_csv(filename, encoding='latin-1', sep=\";\"))\n",
        "\n",
        "# Concatenate all data into one DataFrame\n",
        "big_frame = pd.concat(dfs, ignore_index=True)\n",
        "\n",
        "big_frame.head()"
      ],
      "metadata": {
        "id": "AaKurBrMjDTz",
        "colab": {
          "base_uri": "https://localhost:8080/",
          "height": 224
        },
        "outputId": "24a04ca6-89b7-4183-9ba5-148aa99d1ed6"
      },
      "execution_count": null,
      "outputs": [
        {
          "output_type": "stream",
          "name": "stdout",
          "text": [
            "Mounted at /content/drive/\n"
          ]
        },
        {
          "output_type": "execute_result",
          "data": {
            "text/plain": [
              "                    FECHA           FECHAAPERTURA  TARJETA       CORREDOR  \\\n",
              "0  06/10/2019 12:00:05 AM  05/10/2019 11:02:36 PM  5969486     Cor 7 Azul   \n",
              "1  06/10/2019 12:00:09 AM  05/10/2019 11:26:36 PM  5943292  Cor 1 Naranja   \n",
              "2  06/10/2019 12:00:13 AM  05/10/2019 11:46:15 PM  3497303     Cor 3 Rojo   \n",
              "3  06/10/2019 12:00:15 AM  05/10/2019 11:46:15 PM  4659858     Cor 3 Rojo   \n",
              "4  06/10/2019 12:00:18 AM  05/10/2019 10:27:52 PM  5325561  Cor 6 Naranja   \n",
              "\n",
              "  LINEA SENTIDO  \n",
              "0   L75  Vuelta  \n",
              "1   L13     Ida  \n",
              "2   L33     Ida  \n",
              "3   L33     Ida  \n",
              "4   L60  Vuelta  "
            ],
            "text/html": [
              "\n",
              "  <div id=\"df-c0de4224-8b47-4903-902b-f2df314c9b6e\">\n",
              "    <div class=\"colab-df-container\">\n",
              "      <div>\n",
              "<style scoped>\n",
              "    .dataframe tbody tr th:only-of-type {\n",
              "        vertical-align: middle;\n",
              "    }\n",
              "\n",
              "    .dataframe tbody tr th {\n",
              "        vertical-align: top;\n",
              "    }\n",
              "\n",
              "    .dataframe thead th {\n",
              "        text-align: right;\n",
              "    }\n",
              "</style>\n",
              "<table border=\"1\" class=\"dataframe\">\n",
              "  <thead>\n",
              "    <tr style=\"text-align: right;\">\n",
              "      <th></th>\n",
              "      <th>FECHA</th>\n",
              "      <th>FECHAAPERTURA</th>\n",
              "      <th>TARJETA</th>\n",
              "      <th>CORREDOR</th>\n",
              "      <th>LINEA</th>\n",
              "      <th>SENTIDO</th>\n",
              "    </tr>\n",
              "  </thead>\n",
              "  <tbody>\n",
              "    <tr>\n",
              "      <th>0</th>\n",
              "      <td>06/10/2019 12:00:05 AM</td>\n",
              "      <td>05/10/2019 11:02:36 PM</td>\n",
              "      <td>5969486</td>\n",
              "      <td>Cor 7 Azul</td>\n",
              "      <td>L75</td>\n",
              "      <td>Vuelta</td>\n",
              "    </tr>\n",
              "    <tr>\n",
              "      <th>1</th>\n",
              "      <td>06/10/2019 12:00:09 AM</td>\n",
              "      <td>05/10/2019 11:26:36 PM</td>\n",
              "      <td>5943292</td>\n",
              "      <td>Cor 1 Naranja</td>\n",
              "      <td>L13</td>\n",
              "      <td>Ida</td>\n",
              "    </tr>\n",
              "    <tr>\n",
              "      <th>2</th>\n",
              "      <td>06/10/2019 12:00:13 AM</td>\n",
              "      <td>05/10/2019 11:46:15 PM</td>\n",
              "      <td>3497303</td>\n",
              "      <td>Cor 3 Rojo</td>\n",
              "      <td>L33</td>\n",
              "      <td>Ida</td>\n",
              "    </tr>\n",
              "    <tr>\n",
              "      <th>3</th>\n",
              "      <td>06/10/2019 12:00:15 AM</td>\n",
              "      <td>05/10/2019 11:46:15 PM</td>\n",
              "      <td>4659858</td>\n",
              "      <td>Cor 3 Rojo</td>\n",
              "      <td>L33</td>\n",
              "      <td>Ida</td>\n",
              "    </tr>\n",
              "    <tr>\n",
              "      <th>4</th>\n",
              "      <td>06/10/2019 12:00:18 AM</td>\n",
              "      <td>05/10/2019 10:27:52 PM</td>\n",
              "      <td>5325561</td>\n",
              "      <td>Cor 6 Naranja</td>\n",
              "      <td>L60</td>\n",
              "      <td>Vuelta</td>\n",
              "    </tr>\n",
              "  </tbody>\n",
              "</table>\n",
              "</div>\n",
              "      <button class=\"colab-df-convert\" onclick=\"convertToInteractive('df-c0de4224-8b47-4903-902b-f2df314c9b6e')\"\n",
              "              title=\"Convert this dataframe to an interactive table.\"\n",
              "              style=\"display:none;\">\n",
              "        \n",
              "  <svg xmlns=\"http://www.w3.org/2000/svg\" height=\"24px\"viewBox=\"0 0 24 24\"\n",
              "       width=\"24px\">\n",
              "    <path d=\"M0 0h24v24H0V0z\" fill=\"none\"/>\n",
              "    <path d=\"M18.56 5.44l.94 2.06.94-2.06 2.06-.94-2.06-.94-.94-2.06-.94 2.06-2.06.94zm-11 1L8.5 8.5l.94-2.06 2.06-.94-2.06-.94L8.5 2.5l-.94 2.06-2.06.94zm10 10l.94 2.06.94-2.06 2.06-.94-2.06-.94-.94-2.06-.94 2.06-2.06.94z\"/><path d=\"M17.41 7.96l-1.37-1.37c-.4-.4-.92-.59-1.43-.59-.52 0-1.04.2-1.43.59L10.3 9.45l-7.72 7.72c-.78.78-.78 2.05 0 2.83L4 21.41c.39.39.9.59 1.41.59.51 0 1.02-.2 1.41-.59l7.78-7.78 2.81-2.81c.8-.78.8-2.07 0-2.86zM5.41 20L4 18.59l7.72-7.72 1.47 1.35L5.41 20z\"/>\n",
              "  </svg>\n",
              "      </button>\n",
              "      \n",
              "  <style>\n",
              "    .colab-df-container {\n",
              "      display:flex;\n",
              "      flex-wrap:wrap;\n",
              "      gap: 12px;\n",
              "    }\n",
              "\n",
              "    .colab-df-convert {\n",
              "      background-color: #E8F0FE;\n",
              "      border: none;\n",
              "      border-radius: 50%;\n",
              "      cursor: pointer;\n",
              "      display: none;\n",
              "      fill: #1967D2;\n",
              "      height: 32px;\n",
              "      padding: 0 0 0 0;\n",
              "      width: 32px;\n",
              "    }\n",
              "\n",
              "    .colab-df-convert:hover {\n",
              "      background-color: #E2EBFA;\n",
              "      box-shadow: 0px 1px 2px rgba(60, 64, 67, 0.3), 0px 1px 3px 1px rgba(60, 64, 67, 0.15);\n",
              "      fill: #174EA6;\n",
              "    }\n",
              "\n",
              "    [theme=dark] .colab-df-convert {\n",
              "      background-color: #3B4455;\n",
              "      fill: #D2E3FC;\n",
              "    }\n",
              "\n",
              "    [theme=dark] .colab-df-convert:hover {\n",
              "      background-color: #434B5C;\n",
              "      box-shadow: 0px 1px 3px 1px rgba(0, 0, 0, 0.15);\n",
              "      filter: drop-shadow(0px 1px 2px rgba(0, 0, 0, 0.3));\n",
              "      fill: #FFFFFF;\n",
              "    }\n",
              "  </style>\n",
              "\n",
              "      <script>\n",
              "        const buttonEl =\n",
              "          document.querySelector('#df-c0de4224-8b47-4903-902b-f2df314c9b6e button.colab-df-convert');\n",
              "        buttonEl.style.display =\n",
              "          google.colab.kernel.accessAllowed ? 'block' : 'none';\n",
              "\n",
              "        async function convertToInteractive(key) {\n",
              "          const element = document.querySelector('#df-c0de4224-8b47-4903-902b-f2df314c9b6e');\n",
              "          const dataTable =\n",
              "            await google.colab.kernel.invokeFunction('convertToInteractive',\n",
              "                                                     [key], {});\n",
              "          if (!dataTable) return;\n",
              "\n",
              "          const docLinkHtml = 'Like what you see? Visit the ' +\n",
              "            '<a target=\"_blank\" href=https://colab.research.google.com/notebooks/data_table.ipynb>data table notebook</a>'\n",
              "            + ' to learn more about interactive tables.';\n",
              "          element.innerHTML = '';\n",
              "          dataTable['output_type'] = 'display_data';\n",
              "          await google.colab.output.renderOutput(dataTable, element);\n",
              "          const docLink = document.createElement('div');\n",
              "          docLink.innerHTML = docLinkHtml;\n",
              "          element.appendChild(docLink);\n",
              "        }\n",
              "      </script>\n",
              "    </div>\n",
              "  </div>\n",
              "  "
            ]
          },
          "metadata": {},
          "execution_count": 1
        }
      ]
    },
    {
      "cell_type": "code",
      "source": [
        "big_frame['m'] = big_frame.FECHA.astype(str).str[:10].astype(str)"
      ],
      "metadata": {
        "id": "JMsC6kWYjDW_"
      },
      "execution_count": null,
      "outputs": []
    },
    {
      "cell_type": "code",
      "source": [
        "big_frame['hora'] = big_frame.FECHA.astype(str).str[11:].astype(str)"
      ],
      "metadata": {
        "id": "j8UI4tUeq0j-"
      },
      "execution_count": null,
      "outputs": []
    },
    {
      "cell_type": "code",
      "source": [
        "big_frame['aux']=big_frame.FECHA.astype(str).str[19:].astype(str) "
      ],
      "metadata": {
        "id": "JPiLfu_Zq0q5"
      },
      "execution_count": null,
      "outputs": []
    },
    {
      "cell_type": "code",
      "source": [
        "big_frame['aux2']=big_frame.hora.astype(str).str[:2].astype(str) "
      ],
      "metadata": {
        "id": "AJVFY49Jq0wq"
      },
      "execution_count": null,
      "outputs": []
    },
    {
      "cell_type": "code",
      "source": [
        "big_frame['hh']=big_frame.aux2 + big_frame.aux"
      ],
      "metadata": {
        "id": "623NlKjBq019"
      },
      "execution_count": null,
      "outputs": []
    },
    {
      "cell_type": "code",
      "source": [
        "big_frame.sort_values(by=['hh'], inplace=True)"
      ],
      "metadata": {
        "id": "NOp5mCmSq07Y"
      },
      "execution_count": null,
      "outputs": []
    },
    {
      "cell_type": "code",
      "source": [
        "big_frame.m.value_counts()"
      ],
      "metadata": {
        "id": "cof_jDWDjDZ8"
      },
      "execution_count": null,
      "outputs": []
    },
    {
      "cell_type": "code",
      "source": [
        "big_frame['dia'] = pd.to_datetime(big_frame['m'])\n",
        "big_frame['dia'] = big_frame['dia'].dt.strftime('%d.%m.%Y')"
      ],
      "metadata": {
        "id": "E7kFDPKOjDe8"
      },
      "execution_count": null,
      "outputs": []
    },
    {
      "cell_type": "code",
      "source": [
        "big_frame.info()"
      ],
      "metadata": {
        "id": "bIizwJxPGKkd"
      },
      "execution_count": null,
      "outputs": []
    },
    {
      "cell_type": "code",
      "source": [
        "big_frame.dia.value_counts()"
      ],
      "metadata": {
        "id": "nfq11TGJjDid"
      },
      "execution_count": null,
      "outputs": []
    },
    {
      "cell_type": "code",
      "source": [
        "big_frame['dia2'] = pd.to_datetime(big_frame['dia'])"
      ],
      "metadata": {
        "id": "8R0NFfmMjDke"
      },
      "execution_count": null,
      "outputs": []
    },
    {
      "cell_type": "code",
      "source": [
        "### EJERCICIO 1: INTERACTUAR CON BASES, CONVERTIR FORMATOS FECHAS, GENERAR VARIABLES NUEVAS (MES DIA )###\n",
        "big_frame['day_of_week'] = big_frame['dia2'].dt.day_name()\n",
        "big_frame['MES']= big_frame['dia2'].dt.to_period('M')"
      ],
      "metadata": {
        "id": "3ie_gIeRjDnE"
      },
      "execution_count": null,
      "outputs": []
    },
    {
      "cell_type": "code",
      "source": [
        "big_frame.shape"
      ],
      "metadata": {
        "id": "qjd49F9OjDtD"
      },
      "execution_count": null,
      "outputs": []
    },
    {
      "cell_type": "code",
      "source": [
        "###EJERCICIO 2: \n",
        "##APLICAR ESTADÍSTICOS DESCRIPTIVOS SOBRE CORTES DE BOLETOS: \n",
        "##1) TARJETAS: CANTIDAD DE USOS POR MES (TAB), CANTIDAD DIAS AL MES USADAS, IDENTIFICAR OUTLIERS\n",
        "big_frame['AUX']=1\n",
        "big_frame['VIAJES_POR_TARJETA_DIA']=big_frame.groupby(['TARJETA', 'dia2'])['AUX'].transform('sum')\n",
        "big_frame['VIAJES_POR_TARJETA_MES']=big_frame.groupby(['TARJETA', 'MES'])['AUX'].transform('sum')\n",
        "\n",
        "\n",
        "big_frame= big_frame.drop_duplicates(['dia2', 'MES', 'TARJETA'])\n",
        "big_frame.head()\n",
        "big_frame=big_frame.loc[:,['dia2', 'VIAJES_POR_TARJETA_DIA','VIAJES_POR_TARJETA_MES', 'MES', 'TARJETA' ]]\n",
        "#df1.to_csv(\"df1.csv\", index=None)\n",
        "#from google.colab import files\n",
        "#files.download('df1.csv') "
      ],
      "metadata": {
        "id": "lZn12R8ejDwd"
      },
      "execution_count": null,
      "outputs": []
    },
    {
      "cell_type": "code",
      "source": [
        "big_frame.shape"
      ],
      "metadata": {
        "id": "X9ThES-6jDzM"
      },
      "execution_count": null,
      "outputs": []
    },
    {
      "cell_type": "code",
      "source": [
        "sum(big_frame.VIAJES_POR_TARJETA_DIA)"
      ],
      "metadata": {
        "colab": {
          "base_uri": "https://localhost:8080/"
        },
        "id": "m3pE_DLa4RLT",
        "outputId": "b3001616-beda-4147-f8af-fe6c86f9918c"
      },
      "execution_count": null,
      "outputs": [
        {
          "output_type": "execute_result",
          "data": {
            "text/plain": [
              "11194642"
            ]
          },
          "metadata": {},
          "execution_count": 13
        }
      ]
    },
    {
      "cell_type": "code",
      "source": [
        "viajes_4t19= big_frame\n",
        "viajes_4t19.to_csv(\"viajes_tarjeta_4t19.csv\", index=None)\n",
        "from google.colab import files\n",
        "files.download('viajes_tarjeta_4t19.csv') "
      ],
      "metadata": {
        "id": "3RxMpceHjD70",
        "colab": {
          "base_uri": "https://localhost:8080/",
          "height": 17
        },
        "outputId": "9522135b-0fa3-46fe-e6e9-92e98ea65701"
      },
      "execution_count": null,
      "outputs": [
        {
          "output_type": "display_data",
          "data": {
            "text/plain": [
              "<IPython.core.display.Javascript object>"
            ],
            "application/javascript": [
              "\n",
              "    async function download(id, filename, size) {\n",
              "      if (!google.colab.kernel.accessAllowed) {\n",
              "        return;\n",
              "      }\n",
              "      const div = document.createElement('div');\n",
              "      const label = document.createElement('label');\n",
              "      label.textContent = `Downloading \"${filename}\": `;\n",
              "      div.appendChild(label);\n",
              "      const progress = document.createElement('progress');\n",
              "      progress.max = size;\n",
              "      div.appendChild(progress);\n",
              "      document.body.appendChild(div);\n",
              "\n",
              "      const buffers = [];\n",
              "      let downloaded = 0;\n",
              "\n",
              "      const channel = await google.colab.kernel.comms.open(id);\n",
              "      // Send a message to notify the kernel that we're ready.\n",
              "      channel.send({})\n",
              "\n",
              "      for await (const message of channel.messages) {\n",
              "        // Send a message to notify the kernel that we're ready.\n",
              "        channel.send({})\n",
              "        if (message.buffers) {\n",
              "          for (const buffer of message.buffers) {\n",
              "            buffers.push(buffer);\n",
              "            downloaded += buffer.byteLength;\n",
              "            progress.value = downloaded;\n",
              "          }\n",
              "        }\n",
              "      }\n",
              "      const blob = new Blob(buffers, {type: 'application/binary'});\n",
              "      const a = document.createElement('a');\n",
              "      a.href = window.URL.createObjectURL(blob);\n",
              "      a.download = filename;\n",
              "      div.appendChild(a);\n",
              "      a.click();\n",
              "      div.remove();\n",
              "    }\n",
              "  "
            ]
          },
          "metadata": {}
        },
        {
          "output_type": "display_data",
          "data": {
            "text/plain": [
              "<IPython.core.display.Javascript object>"
            ],
            "application/javascript": [
              "download(\"download_5183f5b5-b3fd-456b-b628-7060ce20e0e7\", \"viajes_hora_4t19.csv\", 154554450)"
            ]
          },
          "metadata": {}
        }
      ]
    },
    {
      "cell_type": "code",
      "source": [
        ""
      ],
      "metadata": {
        "id": "hjubTBqejECi"
      },
      "execution_count": null,
      "outputs": []
    },
    {
      "cell_type": "code",
      "source": [
        ""
      ],
      "metadata": {
        "id": "iNexbG7HjEFt"
      },
      "execution_count": null,
      "outputs": []
    },
    {
      "cell_type": "code",
      "source": [
        ""
      ],
      "metadata": {
        "id": "tMh7fl-CjSaW"
      },
      "execution_count": null,
      "outputs": []
    },
    {
      "cell_type": "code",
      "source": [
        ""
      ],
      "metadata": {
        "id": "daHZxTg7jSiG"
      },
      "execution_count": null,
      "outputs": []
    },
    {
      "cell_type": "code",
      "source": [
        ""
      ],
      "metadata": {
        "id": "dVJAElfkjSov"
      },
      "execution_count": null,
      "outputs": []
    },
    {
      "cell_type": "code",
      "source": [
        ""
      ],
      "metadata": {
        "id": "4Qr-Ze2yjSwE"
      },
      "execution_count": null,
      "outputs": []
    },
    {
      "cell_type": "code",
      "source": [
        ""
      ],
      "metadata": {
        "id": "gaO_OdIdjS3g"
      },
      "execution_count": null,
      "outputs": []
    },
    {
      "cell_type": "code",
      "source": [
        ""
      ],
      "metadata": {
        "id": "Lx15rYdujS-t"
      },
      "execution_count": null,
      "outputs": []
    }
  ]
}