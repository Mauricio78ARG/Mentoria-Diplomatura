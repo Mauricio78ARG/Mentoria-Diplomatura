{
  "cells": [
    {
      "cell_type": "markdown",
      "id": "432a36bf-e353-4671-8fcd-4ed1aa043455",
      "metadata": {
        "id": "432a36bf-e353-4671-8fcd-4ed1aa043455"
      },
      "source": [
        "# Análisis y limpieza de boletos con tarjetas compartidas"
      ]
    },
    {
      "cell_type": "code",
      "execution_count": 18,
      "id": "c2ba421e-da9b-4572-a6f0-82926d557f54",
      "metadata": {
        "id": "c2ba421e-da9b-4572-a6f0-82926d557f54"
      },
      "outputs": [],
      "source": [
        "import pandas as pd\n",
        "import datetime"
      ]
    },
    {
      "cell_type": "code",
      "source": [
        "# Primera prueba con solo los dias del tercer trimestre#\n",
        "from google.colab import drive\n",
        "drive.mount('/content/drive/', force_remount=True )\n",
        "import pandas as pd\n",
        "#%cd /content/drive/My Drive/bases_mentoria/\n",
        "#path= '/content/drive/My Drive/bases_mentoria/primer trimestre 2019'\n",
        "path= '/content/drive/My Drive/Mentoria/tercer trimestre 2019'\n",
        "import glob\n",
        "filenames = glob.glob(path + \"/*.csv\")\n",
        "\n",
        "dfs = []\n",
        "for filename in filenames:\n",
        "    dfs.append(pd.read_csv(filename, encoding='latin-1', sep=\";\"))\n",
        "\n",
        "# Concatenate all data into one DataFrame\n",
        "big_frame = pd.concat(dfs, ignore_index=True)\n",
        "\n",
        "big_frame.head()"
      ],
      "metadata": {
        "colab": {
          "base_uri": "https://localhost:8080/",
          "height": 224
        },
        "id": "ZEizOJEH_IAA",
        "outputId": "57d0e121-0f83-449f-977a-396d206c133b"
      },
      "id": "ZEizOJEH_IAA",
      "execution_count": 19,
      "outputs": [
        {
          "output_type": "stream",
          "name": "stdout",
          "text": [
            "Mounted at /content/drive/\n"
          ]
        },
        {
          "output_type": "execute_result",
          "data": {
            "text/plain": [
              "                    FECHA           FECHAAPERTURA  TARJETA        CORREDOR  \\\n",
              "0  06/07/2019 12:00:07 AM  05/07/2019 11:28:07 PM  5099043   Cor 1 Naranja   \n",
              "1  06/07/2019 12:00:29 AM  05/07/2019 11:32:24 PM  5515754   Cor 6 Naranja   \n",
              "2  06/07/2019 12:00:29 AM  05/07/2019 11:05:36 PM  4971142  Cor 5 Amarillo   \n",
              "3  06/07/2019 12:00:30 AM  05/07/2019 11:05:36 PM  4971142  Cor 5 Amarillo   \n",
              "4  06/07/2019 12:00:33 AM  05/07/2019 11:05:36 PM  4971142  Cor 5 Amarillo   \n",
              "\n",
              "  LINEA SENTIDO  \n",
              "0   L12     Ida  \n",
              "1   L67     Ida  \n",
              "2   L50  Vuelta  \n",
              "3   L50  Vuelta  \n",
              "4   L50  Vuelta  "
            ],
            "text/html": [
              "\n",
              "  <div id=\"df-87d8b424-78ca-4fc9-bccf-2be502727c33\">\n",
              "    <div class=\"colab-df-container\">\n",
              "      <div>\n",
              "<style scoped>\n",
              "    .dataframe tbody tr th:only-of-type {\n",
              "        vertical-align: middle;\n",
              "    }\n",
              "\n",
              "    .dataframe tbody tr th {\n",
              "        vertical-align: top;\n",
              "    }\n",
              "\n",
              "    .dataframe thead th {\n",
              "        text-align: right;\n",
              "    }\n",
              "</style>\n",
              "<table border=\"1\" class=\"dataframe\">\n",
              "  <thead>\n",
              "    <tr style=\"text-align: right;\">\n",
              "      <th></th>\n",
              "      <th>FECHA</th>\n",
              "      <th>FECHAAPERTURA</th>\n",
              "      <th>TARJETA</th>\n",
              "      <th>CORREDOR</th>\n",
              "      <th>LINEA</th>\n",
              "      <th>SENTIDO</th>\n",
              "    </tr>\n",
              "  </thead>\n",
              "  <tbody>\n",
              "    <tr>\n",
              "      <th>0</th>\n",
              "      <td>06/07/2019 12:00:07 AM</td>\n",
              "      <td>05/07/2019 11:28:07 PM</td>\n",
              "      <td>5099043</td>\n",
              "      <td>Cor 1 Naranja</td>\n",
              "      <td>L12</td>\n",
              "      <td>Ida</td>\n",
              "    </tr>\n",
              "    <tr>\n",
              "      <th>1</th>\n",
              "      <td>06/07/2019 12:00:29 AM</td>\n",
              "      <td>05/07/2019 11:32:24 PM</td>\n",
              "      <td>5515754</td>\n",
              "      <td>Cor 6 Naranja</td>\n",
              "      <td>L67</td>\n",
              "      <td>Ida</td>\n",
              "    </tr>\n",
              "    <tr>\n",
              "      <th>2</th>\n",
              "      <td>06/07/2019 12:00:29 AM</td>\n",
              "      <td>05/07/2019 11:05:36 PM</td>\n",
              "      <td>4971142</td>\n",
              "      <td>Cor 5 Amarillo</td>\n",
              "      <td>L50</td>\n",
              "      <td>Vuelta</td>\n",
              "    </tr>\n",
              "    <tr>\n",
              "      <th>3</th>\n",
              "      <td>06/07/2019 12:00:30 AM</td>\n",
              "      <td>05/07/2019 11:05:36 PM</td>\n",
              "      <td>4971142</td>\n",
              "      <td>Cor 5 Amarillo</td>\n",
              "      <td>L50</td>\n",
              "      <td>Vuelta</td>\n",
              "    </tr>\n",
              "    <tr>\n",
              "      <th>4</th>\n",
              "      <td>06/07/2019 12:00:33 AM</td>\n",
              "      <td>05/07/2019 11:05:36 PM</td>\n",
              "      <td>4971142</td>\n",
              "      <td>Cor 5 Amarillo</td>\n",
              "      <td>L50</td>\n",
              "      <td>Vuelta</td>\n",
              "    </tr>\n",
              "  </tbody>\n",
              "</table>\n",
              "</div>\n",
              "      <button class=\"colab-df-convert\" onclick=\"convertToInteractive('df-87d8b424-78ca-4fc9-bccf-2be502727c33')\"\n",
              "              title=\"Convert this dataframe to an interactive table.\"\n",
              "              style=\"display:none;\">\n",
              "        \n",
              "  <svg xmlns=\"http://www.w3.org/2000/svg\" height=\"24px\"viewBox=\"0 0 24 24\"\n",
              "       width=\"24px\">\n",
              "    <path d=\"M0 0h24v24H0V0z\" fill=\"none\"/>\n",
              "    <path d=\"M18.56 5.44l.94 2.06.94-2.06 2.06-.94-2.06-.94-.94-2.06-.94 2.06-2.06.94zm-11 1L8.5 8.5l.94-2.06 2.06-.94-2.06-.94L8.5 2.5l-.94 2.06-2.06.94zm10 10l.94 2.06.94-2.06 2.06-.94-2.06-.94-.94-2.06-.94 2.06-2.06.94z\"/><path d=\"M17.41 7.96l-1.37-1.37c-.4-.4-.92-.59-1.43-.59-.52 0-1.04.2-1.43.59L10.3 9.45l-7.72 7.72c-.78.78-.78 2.05 0 2.83L4 21.41c.39.39.9.59 1.41.59.51 0 1.02-.2 1.41-.59l7.78-7.78 2.81-2.81c.8-.78.8-2.07 0-2.86zM5.41 20L4 18.59l7.72-7.72 1.47 1.35L5.41 20z\"/>\n",
              "  </svg>\n",
              "      </button>\n",
              "      \n",
              "  <style>\n",
              "    .colab-df-container {\n",
              "      display:flex;\n",
              "      flex-wrap:wrap;\n",
              "      gap: 12px;\n",
              "    }\n",
              "\n",
              "    .colab-df-convert {\n",
              "      background-color: #E8F0FE;\n",
              "      border: none;\n",
              "      border-radius: 50%;\n",
              "      cursor: pointer;\n",
              "      display: none;\n",
              "      fill: #1967D2;\n",
              "      height: 32px;\n",
              "      padding: 0 0 0 0;\n",
              "      width: 32px;\n",
              "    }\n",
              "\n",
              "    .colab-df-convert:hover {\n",
              "      background-color: #E2EBFA;\n",
              "      box-shadow: 0px 1px 2px rgba(60, 64, 67, 0.3), 0px 1px 3px 1px rgba(60, 64, 67, 0.15);\n",
              "      fill: #174EA6;\n",
              "    }\n",
              "\n",
              "    [theme=dark] .colab-df-convert {\n",
              "      background-color: #3B4455;\n",
              "      fill: #D2E3FC;\n",
              "    }\n",
              "\n",
              "    [theme=dark] .colab-df-convert:hover {\n",
              "      background-color: #434B5C;\n",
              "      box-shadow: 0px 1px 3px 1px rgba(0, 0, 0, 0.15);\n",
              "      filter: drop-shadow(0px 1px 2px rgba(0, 0, 0, 0.3));\n",
              "      fill: #FFFFFF;\n",
              "    }\n",
              "  </style>\n",
              "\n",
              "      <script>\n",
              "        const buttonEl =\n",
              "          document.querySelector('#df-87d8b424-78ca-4fc9-bccf-2be502727c33 button.colab-df-convert');\n",
              "        buttonEl.style.display =\n",
              "          google.colab.kernel.accessAllowed ? 'block' : 'none';\n",
              "\n",
              "        async function convertToInteractive(key) {\n",
              "          const element = document.querySelector('#df-87d8b424-78ca-4fc9-bccf-2be502727c33');\n",
              "          const dataTable =\n",
              "            await google.colab.kernel.invokeFunction('convertToInteractive',\n",
              "                                                     [key], {});\n",
              "          if (!dataTable) return;\n",
              "\n",
              "          const docLinkHtml = 'Like what you see? Visit the ' +\n",
              "            '<a target=\"_blank\" href=https://colab.research.google.com/notebooks/data_table.ipynb>data table notebook</a>'\n",
              "            + ' to learn more about interactive tables.';\n",
              "          element.innerHTML = '';\n",
              "          dataTable['output_type'] = 'display_data';\n",
              "          await google.colab.output.renderOutput(dataTable, element);\n",
              "          const docLink = document.createElement('div');\n",
              "          docLink.innerHTML = docLinkHtml;\n",
              "          element.appendChild(docLink);\n",
              "        }\n",
              "      </script>\n",
              "    </div>\n",
              "  </div>\n",
              "  "
            ]
          },
          "metadata": {},
          "execution_count": 19
        }
      ]
    },
    {
      "cell_type": "code",
      "source": [
        "big_frame.shape"
      ],
      "metadata": {
        "colab": {
          "base_uri": "https://localhost:8080/"
        },
        "id": "Qixt2LiUwF6t",
        "outputId": "b7cbd97a-beeb-475d-f5e5-85076124e395"
      },
      "id": "Qixt2LiUwF6t",
      "execution_count": 20,
      "outputs": [
        {
          "output_type": "execute_result",
          "data": {
            "text/plain": [
              "(12718216, 6)"
            ]
          },
          "metadata": {},
          "execution_count": 20
        }
      ]
    },
    {
      "cell_type": "markdown",
      "id": "9834b00b-79a3-44fa-9bc2-1c8cd4197886",
      "metadata": {
        "id": "9834b00b-79a3-44fa-9bc2-1c8cd4197886"
      },
      "source": [
        "# Problema 1\n",
        "Si la base está en un solo archivo (al menos para la misma línea y sentido) no surge el problema que se trata a continuación.\n",
        "\n",
        "Si los datos están en archivos diarios hay que tener en cuenta que un servicio que arrancó cerca de la media noche puede tener boletos en dos días. A continuación se muestra cómo agrupar a los boletos según fecha de apertura (en vez de fecha del boleto). \n",
        "\n",
        "Esto es necesario para contar 1 sola vez a cada servicio y para considerar correctamente si hay tarjetas compartidas.\n"
      ]
    },
    {
      "cell_type": "code",
      "source": [
        "big_frame['fecha_apertura2'] = pd.to_datetime(big_frame['FECHAAPERTURA'], format='%d/%m/%Y %I:%M:%S %p')"
      ],
      "metadata": {
        "id": "vt0reuVdA_J1"
      },
      "id": "vt0reuVdA_J1",
      "execution_count": 21,
      "outputs": []
    },
    {
      "cell_type": "code",
      "source": [
        "big_frame.fecha_apertura2.value_counts()"
      ],
      "metadata": {
        "colab": {
          "base_uri": "https://localhost:8080/"
        },
        "id": "gZzLtci209Yd",
        "outputId": "03d8bd99-7887-42d6-d5f3-2c82d95efbad"
      },
      "id": "gZzLtci209Yd",
      "execution_count": 22,
      "outputs": [
        {
          "output_type": "execute_result",
          "data": {
            "text/plain": [
              "2019-08-06 07:23:12    309\n",
              "2019-07-08 16:51:02    236\n",
              "2019-08-07 06:42:04    223\n",
              "2019-07-26 16:35:22    212\n",
              "2019-09-06 17:04:15    207\n",
              "                      ... \n",
              "2019-08-30 14:06:34      1\n",
              "2019-08-30 14:50:40      1\n",
              "2019-08-30 14:23:05      1\n",
              "2019-07-19 09:58:03      1\n",
              "2019-09-26 23:55:31      1\n",
              "Name: fecha_apertura2, Length: 350611, dtype: int64"
            ]
          },
          "metadata": {},
          "execution_count": 22
        }
      ]
    },
    {
      "cell_type": "markdown",
      "id": "27d61212-fa86-4071-93ea-ef83d424cbfe",
      "metadata": {
        "id": "27d61212-fa86-4071-93ea-ef83d424cbfe"
      },
      "source": [
        "# Problema 2\n",
        "\n",
        "El objetivo es analizar qué % boletos son compartidos. \n",
        "\n",
        "Para un posterior análisis se mantendrá en la base solo el primer uso de la tarjeta en cada viaje."
      ]
    },
    {
      "cell_type": "code",
      "execution_count": 23,
      "id": "3bd5b33a-b01c-4e7f-b6c9-7391fe236ebc",
      "metadata": {
        "id": "3bd5b33a-b01c-4e7f-b6c9-7391fe236ebc"
      },
      "outputs": [],
      "source": [
        "# 1. Se depura la base, nos quedamos solo con el primer uso de la tarjeta en ese mismo viaje.\n",
        "df1 = big_frame.groupby(['TARJETA','LINEA','SENTIDO','fecha_apertura2']).first().reset_index()"
      ]
    },
    {
      "cell_type": "code",
      "source": [
        "df1.head()"
      ],
      "metadata": {
        "id": "-N21RXPxfOat",
        "outputId": "2afa12e4-3c31-432e-a079-87b60985fdf0",
        "colab": {
          "base_uri": "https://localhost:8080/",
          "height": 206
        }
      },
      "id": "-N21RXPxfOat",
      "execution_count": 24,
      "outputs": [
        {
          "output_type": "execute_result",
          "data": {
            "text/plain": [
              "   TARJETA LINEA SENTIDO     fecha_apertura2                   FECHA  \\\n",
              "0  2016806     A  Vuelta 2019-07-15 09:22:06  15/07/2019 10:07:20 AM   \n",
              "1  2016806   L11     Ida 2019-08-05 13:43:09  05/08/2019 02:41:03 PM   \n",
              "2  2016806   L11     Ida 2019-09-16 13:44:10  16/09/2019 02:41:45 PM   \n",
              "3  2016806   L30     Ida 2019-08-30 06:44:45  30/08/2019 07:18:02 AM   \n",
              "4  2016806   L30     Ida 2019-09-04 06:45:03  04/09/2019 07:17:22 AM   \n",
              "\n",
              "            FECHAAPERTURA       CORREDOR  \n",
              "0  15/07/2019 09:22:06 AM          TROLE  \n",
              "1  05/08/2019 01:43:09 PM  Cor 1 Naranja  \n",
              "2  16/09/2019 01:44:10 PM  Cor 1 Naranja  \n",
              "3  30/08/2019 06:44:45 AM     Cor 3 Rojo  \n",
              "4  04/09/2019 06:45:03 AM     Cor 3 Rojo  "
            ],
            "text/html": [
              "\n",
              "  <div id=\"df-3c8dadcf-0ad9-46ef-8fea-4f2f5a33c9d6\">\n",
              "    <div class=\"colab-df-container\">\n",
              "      <div>\n",
              "<style scoped>\n",
              "    .dataframe tbody tr th:only-of-type {\n",
              "        vertical-align: middle;\n",
              "    }\n",
              "\n",
              "    .dataframe tbody tr th {\n",
              "        vertical-align: top;\n",
              "    }\n",
              "\n",
              "    .dataframe thead th {\n",
              "        text-align: right;\n",
              "    }\n",
              "</style>\n",
              "<table border=\"1\" class=\"dataframe\">\n",
              "  <thead>\n",
              "    <tr style=\"text-align: right;\">\n",
              "      <th></th>\n",
              "      <th>TARJETA</th>\n",
              "      <th>LINEA</th>\n",
              "      <th>SENTIDO</th>\n",
              "      <th>fecha_apertura2</th>\n",
              "      <th>FECHA</th>\n",
              "      <th>FECHAAPERTURA</th>\n",
              "      <th>CORREDOR</th>\n",
              "    </tr>\n",
              "  </thead>\n",
              "  <tbody>\n",
              "    <tr>\n",
              "      <th>0</th>\n",
              "      <td>2016806</td>\n",
              "      <td>A</td>\n",
              "      <td>Vuelta</td>\n",
              "      <td>2019-07-15 09:22:06</td>\n",
              "      <td>15/07/2019 10:07:20 AM</td>\n",
              "      <td>15/07/2019 09:22:06 AM</td>\n",
              "      <td>TROLE</td>\n",
              "    </tr>\n",
              "    <tr>\n",
              "      <th>1</th>\n",
              "      <td>2016806</td>\n",
              "      <td>L11</td>\n",
              "      <td>Ida</td>\n",
              "      <td>2019-08-05 13:43:09</td>\n",
              "      <td>05/08/2019 02:41:03 PM</td>\n",
              "      <td>05/08/2019 01:43:09 PM</td>\n",
              "      <td>Cor 1 Naranja</td>\n",
              "    </tr>\n",
              "    <tr>\n",
              "      <th>2</th>\n",
              "      <td>2016806</td>\n",
              "      <td>L11</td>\n",
              "      <td>Ida</td>\n",
              "      <td>2019-09-16 13:44:10</td>\n",
              "      <td>16/09/2019 02:41:45 PM</td>\n",
              "      <td>16/09/2019 01:44:10 PM</td>\n",
              "      <td>Cor 1 Naranja</td>\n",
              "    </tr>\n",
              "    <tr>\n",
              "      <th>3</th>\n",
              "      <td>2016806</td>\n",
              "      <td>L30</td>\n",
              "      <td>Ida</td>\n",
              "      <td>2019-08-30 06:44:45</td>\n",
              "      <td>30/08/2019 07:18:02 AM</td>\n",
              "      <td>30/08/2019 06:44:45 AM</td>\n",
              "      <td>Cor 3 Rojo</td>\n",
              "    </tr>\n",
              "    <tr>\n",
              "      <th>4</th>\n",
              "      <td>2016806</td>\n",
              "      <td>L30</td>\n",
              "      <td>Ida</td>\n",
              "      <td>2019-09-04 06:45:03</td>\n",
              "      <td>04/09/2019 07:17:22 AM</td>\n",
              "      <td>04/09/2019 06:45:03 AM</td>\n",
              "      <td>Cor 3 Rojo</td>\n",
              "    </tr>\n",
              "  </tbody>\n",
              "</table>\n",
              "</div>\n",
              "      <button class=\"colab-df-convert\" onclick=\"convertToInteractive('df-3c8dadcf-0ad9-46ef-8fea-4f2f5a33c9d6')\"\n",
              "              title=\"Convert this dataframe to an interactive table.\"\n",
              "              style=\"display:none;\">\n",
              "        \n",
              "  <svg xmlns=\"http://www.w3.org/2000/svg\" height=\"24px\"viewBox=\"0 0 24 24\"\n",
              "       width=\"24px\">\n",
              "    <path d=\"M0 0h24v24H0V0z\" fill=\"none\"/>\n",
              "    <path d=\"M18.56 5.44l.94 2.06.94-2.06 2.06-.94-2.06-.94-.94-2.06-.94 2.06-2.06.94zm-11 1L8.5 8.5l.94-2.06 2.06-.94-2.06-.94L8.5 2.5l-.94 2.06-2.06.94zm10 10l.94 2.06.94-2.06 2.06-.94-2.06-.94-.94-2.06-.94 2.06-2.06.94z\"/><path d=\"M17.41 7.96l-1.37-1.37c-.4-.4-.92-.59-1.43-.59-.52 0-1.04.2-1.43.59L10.3 9.45l-7.72 7.72c-.78.78-.78 2.05 0 2.83L4 21.41c.39.39.9.59 1.41.59.51 0 1.02-.2 1.41-.59l7.78-7.78 2.81-2.81c.8-.78.8-2.07 0-2.86zM5.41 20L4 18.59l7.72-7.72 1.47 1.35L5.41 20z\"/>\n",
              "  </svg>\n",
              "      </button>\n",
              "      \n",
              "  <style>\n",
              "    .colab-df-container {\n",
              "      display:flex;\n",
              "      flex-wrap:wrap;\n",
              "      gap: 12px;\n",
              "    }\n",
              "\n",
              "    .colab-df-convert {\n",
              "      background-color: #E8F0FE;\n",
              "      border: none;\n",
              "      border-radius: 50%;\n",
              "      cursor: pointer;\n",
              "      display: none;\n",
              "      fill: #1967D2;\n",
              "      height: 32px;\n",
              "      padding: 0 0 0 0;\n",
              "      width: 32px;\n",
              "    }\n",
              "\n",
              "    .colab-df-convert:hover {\n",
              "      background-color: #E2EBFA;\n",
              "      box-shadow: 0px 1px 2px rgba(60, 64, 67, 0.3), 0px 1px 3px 1px rgba(60, 64, 67, 0.15);\n",
              "      fill: #174EA6;\n",
              "    }\n",
              "\n",
              "    [theme=dark] .colab-df-convert {\n",
              "      background-color: #3B4455;\n",
              "      fill: #D2E3FC;\n",
              "    }\n",
              "\n",
              "    [theme=dark] .colab-df-convert:hover {\n",
              "      background-color: #434B5C;\n",
              "      box-shadow: 0px 1px 3px 1px rgba(0, 0, 0, 0.15);\n",
              "      filter: drop-shadow(0px 1px 2px rgba(0, 0, 0, 0.3));\n",
              "      fill: #FFFFFF;\n",
              "    }\n",
              "  </style>\n",
              "\n",
              "      <script>\n",
              "        const buttonEl =\n",
              "          document.querySelector('#df-3c8dadcf-0ad9-46ef-8fea-4f2f5a33c9d6 button.colab-df-convert');\n",
              "        buttonEl.style.display =\n",
              "          google.colab.kernel.accessAllowed ? 'block' : 'none';\n",
              "\n",
              "        async function convertToInteractive(key) {\n",
              "          const element = document.querySelector('#df-3c8dadcf-0ad9-46ef-8fea-4f2f5a33c9d6');\n",
              "          const dataTable =\n",
              "            await google.colab.kernel.invokeFunction('convertToInteractive',\n",
              "                                                     [key], {});\n",
              "          if (!dataTable) return;\n",
              "\n",
              "          const docLinkHtml = 'Like what you see? Visit the ' +\n",
              "            '<a target=\"_blank\" href=https://colab.research.google.com/notebooks/data_table.ipynb>data table notebook</a>'\n",
              "            + ' to learn more about interactive tables.';\n",
              "          element.innerHTML = '';\n",
              "          dataTable['output_type'] = 'display_data';\n",
              "          await google.colab.output.renderOutput(dataTable, element);\n",
              "          const docLink = document.createElement('div');\n",
              "          docLink.innerHTML = docLinkHtml;\n",
              "          element.appendChild(docLink);\n",
              "        }\n",
              "      </script>\n",
              "    </div>\n",
              "  </div>\n",
              "  "
            ]
          },
          "metadata": {},
          "execution_count": 24
        }
      ]
    },
    {
      "cell_type": "code",
      "execution_count": 25,
      "id": "c9ba284f-8443-4e71-b424-c0d6cc89a7b1",
      "metadata": {
        "id": "c9ba284f-8443-4e71-b424-c0d6cc89a7b1",
        "outputId": "501617cc-aac6-41ac-bf94-63a15a05e35c",
        "colab": {
          "base_uri": "https://localhost:8080/"
        }
      },
      "outputs": [
        {
          "output_type": "execute_result",
          "data": {
            "text/plain": [
              "(12718216, 11859700, 93.24971363908271)"
            ]
          },
          "metadata": {},
          "execution_count": 25
        }
      ],
      "source": [
        "n1 = big_frame.shape[0]\n",
        "n2 = df1.shape[0]\n",
        "\n",
        "n1,n2, 100*n2/n1 \n",
        "## Se observa que 8% de los boletos se comparten**"
      ]
    },
    {
      "cell_type": "code",
      "execution_count": 26,
      "id": "bfac60e4-7f4e-42b7-b9ef-57bd698982f3",
      "metadata": {
        "id": "bfac60e4-7f4e-42b7-b9ef-57bd698982f3"
      },
      "outputs": [],
      "source": [
        "# Tarea 1: Analizar si la proporción de boletos compartidos es diferente por linea y por hora.\n",
        "## 1.1 boletos compartidos por línea##\n",
        "## recordar que estamos viendo solo primer trimestre 2019\n",
        "big_frame['CANT_VIAJES_TOT']=1\n",
        "df_total_viajes = big_frame.groupby('LINEA')['CANT_VIAJES_TOT'].sum()\n",
        "df_total_viajes= df_total_viajes.sort_values(ascending=False)"
      ]
    },
    {
      "cell_type": "code",
      "source": [
        "df_total_viajes.head(15)"
      ],
      "metadata": {
        "colab": {
          "base_uri": "https://localhost:8080/"
        },
        "id": "Kfp96P645dr1",
        "outputId": "35695da3-8e0a-4d13-bb09-bff87a40e125"
      },
      "id": "Kfp96P645dr1",
      "execution_count": 27,
      "outputs": [
        {
          "output_type": "execute_result",
          "data": {
            "text/plain": [
              "LINEA\n",
              "L60    468168\n",
              "L70    439132\n",
              "L10    365762\n",
              "L12    358342\n",
              "L50    349440\n",
              "L40    335823\n",
              "L14    332035\n",
              "L32    328846\n",
              "L30    326531\n",
              "L11    321516\n",
              "L62    315893\n",
              "L65    306513\n",
              "B      276628\n",
              "L36    273584\n",
              "L82    272056\n",
              "Name: CANT_VIAJES_TOT, dtype: int64"
            ]
          },
          "metadata": {},
          "execution_count": 27
        }
      ]
    },
    {
      "cell_type": "code",
      "source": [
        "## LO MISMO PERO DESCONTADOS LOS BOLETOS PRESTADOS##\n",
        "df1['CANT_VIAJES_S_DUPL']=1\n",
        "df_total_viajes_2 = df1.groupby('LINEA')['CANT_VIAJES_S_DUPL'].sum()\n",
        "df_total_viajes_2= df_total_viajes_2.sort_values(ascending=False)\n",
        "\n",
        "\n"
      ],
      "metadata": {
        "id": "kXUGEA0F6fH3"
      },
      "id": "kXUGEA0F6fH3",
      "execution_count": 28,
      "outputs": []
    },
    {
      "cell_type": "code",
      "source": [
        "df_total_viajes_2.head(15)"
      ],
      "metadata": {
        "colab": {
          "base_uri": "https://localhost:8080/"
        },
        "id": "A0POHuGi5dyg",
        "outputId": "f7f7e485-4246-4979-91f7-985b12428a0c"
      },
      "id": "A0POHuGi5dyg",
      "execution_count": 29,
      "outputs": [
        {
          "output_type": "execute_result",
          "data": {
            "text/plain": [
              "LINEA\n",
              "L60    437060\n",
              "L70    413510\n",
              "L10    339185\n",
              "L12    332847\n",
              "L50    323145\n",
              "L40    313603\n",
              "L32    307721\n",
              "L30    306850\n",
              "L14    303874\n",
              "L11    298229\n",
              "L62    293468\n",
              "L65    285477\n",
              "B      260128\n",
              "L82    254912\n",
              "L36    254401\n",
              "Name: CANT_VIAJES_S_DUPL, dtype: int64"
            ]
          },
          "metadata": {},
          "execution_count": 29
        }
      ]
    },
    {
      "cell_type": "code",
      "source": [
        "df_unido= pd.merge(df_total_viajes_2, df_total_viajes, on=\"LINEA\")"
      ],
      "metadata": {
        "id": "RAmRo0OR7TKL"
      },
      "id": "RAmRo0OR7TKL",
      "execution_count": 30,
      "outputs": []
    },
    {
      "cell_type": "code",
      "source": [
        "df_unido.head(15)"
      ],
      "metadata": {
        "colab": {
          "base_uri": "https://localhost:8080/",
          "height": 551
        },
        "id": "3bC9bJyR7dtb",
        "outputId": "c62f1e8c-915f-4c6a-f4cb-2f18d02e55a5"
      },
      "id": "3bC9bJyR7dtb",
      "execution_count": 31,
      "outputs": [
        {
          "output_type": "execute_result",
          "data": {
            "text/plain": [
              "       CANT_VIAJES_S_DUPL  CANT_VIAJES_TOT\n",
              "LINEA                                     \n",
              "L60                437060           468168\n",
              "L70                413510           439132\n",
              "L10                339185           365762\n",
              "L12                332847           358342\n",
              "L50                323145           349440\n",
              "L40                313603           335823\n",
              "L32                307721           328846\n",
              "L30                306850           326531\n",
              "L14                303874           332035\n",
              "L11                298229           321516\n",
              "L62                293468           315893\n",
              "L65                285477           306513\n",
              "B                  260128           276628\n",
              "L82                254912           272056\n",
              "L36                254401           273584"
            ],
            "text/html": [
              "\n",
              "  <div id=\"df-da6407da-bee0-4f3c-a192-12d4365f5581\">\n",
              "    <div class=\"colab-df-container\">\n",
              "      <div>\n",
              "<style scoped>\n",
              "    .dataframe tbody tr th:only-of-type {\n",
              "        vertical-align: middle;\n",
              "    }\n",
              "\n",
              "    .dataframe tbody tr th {\n",
              "        vertical-align: top;\n",
              "    }\n",
              "\n",
              "    .dataframe thead th {\n",
              "        text-align: right;\n",
              "    }\n",
              "</style>\n",
              "<table border=\"1\" class=\"dataframe\">\n",
              "  <thead>\n",
              "    <tr style=\"text-align: right;\">\n",
              "      <th></th>\n",
              "      <th>CANT_VIAJES_S_DUPL</th>\n",
              "      <th>CANT_VIAJES_TOT</th>\n",
              "    </tr>\n",
              "    <tr>\n",
              "      <th>LINEA</th>\n",
              "      <th></th>\n",
              "      <th></th>\n",
              "    </tr>\n",
              "  </thead>\n",
              "  <tbody>\n",
              "    <tr>\n",
              "      <th>L60</th>\n",
              "      <td>437060</td>\n",
              "      <td>468168</td>\n",
              "    </tr>\n",
              "    <tr>\n",
              "      <th>L70</th>\n",
              "      <td>413510</td>\n",
              "      <td>439132</td>\n",
              "    </tr>\n",
              "    <tr>\n",
              "      <th>L10</th>\n",
              "      <td>339185</td>\n",
              "      <td>365762</td>\n",
              "    </tr>\n",
              "    <tr>\n",
              "      <th>L12</th>\n",
              "      <td>332847</td>\n",
              "      <td>358342</td>\n",
              "    </tr>\n",
              "    <tr>\n",
              "      <th>L50</th>\n",
              "      <td>323145</td>\n",
              "      <td>349440</td>\n",
              "    </tr>\n",
              "    <tr>\n",
              "      <th>L40</th>\n",
              "      <td>313603</td>\n",
              "      <td>335823</td>\n",
              "    </tr>\n",
              "    <tr>\n",
              "      <th>L32</th>\n",
              "      <td>307721</td>\n",
              "      <td>328846</td>\n",
              "    </tr>\n",
              "    <tr>\n",
              "      <th>L30</th>\n",
              "      <td>306850</td>\n",
              "      <td>326531</td>\n",
              "    </tr>\n",
              "    <tr>\n",
              "      <th>L14</th>\n",
              "      <td>303874</td>\n",
              "      <td>332035</td>\n",
              "    </tr>\n",
              "    <tr>\n",
              "      <th>L11</th>\n",
              "      <td>298229</td>\n",
              "      <td>321516</td>\n",
              "    </tr>\n",
              "    <tr>\n",
              "      <th>L62</th>\n",
              "      <td>293468</td>\n",
              "      <td>315893</td>\n",
              "    </tr>\n",
              "    <tr>\n",
              "      <th>L65</th>\n",
              "      <td>285477</td>\n",
              "      <td>306513</td>\n",
              "    </tr>\n",
              "    <tr>\n",
              "      <th>B</th>\n",
              "      <td>260128</td>\n",
              "      <td>276628</td>\n",
              "    </tr>\n",
              "    <tr>\n",
              "      <th>L82</th>\n",
              "      <td>254912</td>\n",
              "      <td>272056</td>\n",
              "    </tr>\n",
              "    <tr>\n",
              "      <th>L36</th>\n",
              "      <td>254401</td>\n",
              "      <td>273584</td>\n",
              "    </tr>\n",
              "  </tbody>\n",
              "</table>\n",
              "</div>\n",
              "      <button class=\"colab-df-convert\" onclick=\"convertToInteractive('df-da6407da-bee0-4f3c-a192-12d4365f5581')\"\n",
              "              title=\"Convert this dataframe to an interactive table.\"\n",
              "              style=\"display:none;\">\n",
              "        \n",
              "  <svg xmlns=\"http://www.w3.org/2000/svg\" height=\"24px\"viewBox=\"0 0 24 24\"\n",
              "       width=\"24px\">\n",
              "    <path d=\"M0 0h24v24H0V0z\" fill=\"none\"/>\n",
              "    <path d=\"M18.56 5.44l.94 2.06.94-2.06 2.06-.94-2.06-.94-.94-2.06-.94 2.06-2.06.94zm-11 1L8.5 8.5l.94-2.06 2.06-.94-2.06-.94L8.5 2.5l-.94 2.06-2.06.94zm10 10l.94 2.06.94-2.06 2.06-.94-2.06-.94-.94-2.06-.94 2.06-2.06.94z\"/><path d=\"M17.41 7.96l-1.37-1.37c-.4-.4-.92-.59-1.43-.59-.52 0-1.04.2-1.43.59L10.3 9.45l-7.72 7.72c-.78.78-.78 2.05 0 2.83L4 21.41c.39.39.9.59 1.41.59.51 0 1.02-.2 1.41-.59l7.78-7.78 2.81-2.81c.8-.78.8-2.07 0-2.86zM5.41 20L4 18.59l7.72-7.72 1.47 1.35L5.41 20z\"/>\n",
              "  </svg>\n",
              "      </button>\n",
              "      \n",
              "  <style>\n",
              "    .colab-df-container {\n",
              "      display:flex;\n",
              "      flex-wrap:wrap;\n",
              "      gap: 12px;\n",
              "    }\n",
              "\n",
              "    .colab-df-convert {\n",
              "      background-color: #E8F0FE;\n",
              "      border: none;\n",
              "      border-radius: 50%;\n",
              "      cursor: pointer;\n",
              "      display: none;\n",
              "      fill: #1967D2;\n",
              "      height: 32px;\n",
              "      padding: 0 0 0 0;\n",
              "      width: 32px;\n",
              "    }\n",
              "\n",
              "    .colab-df-convert:hover {\n",
              "      background-color: #E2EBFA;\n",
              "      box-shadow: 0px 1px 2px rgba(60, 64, 67, 0.3), 0px 1px 3px 1px rgba(60, 64, 67, 0.15);\n",
              "      fill: #174EA6;\n",
              "    }\n",
              "\n",
              "    [theme=dark] .colab-df-convert {\n",
              "      background-color: #3B4455;\n",
              "      fill: #D2E3FC;\n",
              "    }\n",
              "\n",
              "    [theme=dark] .colab-df-convert:hover {\n",
              "      background-color: #434B5C;\n",
              "      box-shadow: 0px 1px 3px 1px rgba(0, 0, 0, 0.15);\n",
              "      filter: drop-shadow(0px 1px 2px rgba(0, 0, 0, 0.3));\n",
              "      fill: #FFFFFF;\n",
              "    }\n",
              "  </style>\n",
              "\n",
              "      <script>\n",
              "        const buttonEl =\n",
              "          document.querySelector('#df-da6407da-bee0-4f3c-a192-12d4365f5581 button.colab-df-convert');\n",
              "        buttonEl.style.display =\n",
              "          google.colab.kernel.accessAllowed ? 'block' : 'none';\n",
              "\n",
              "        async function convertToInteractive(key) {\n",
              "          const element = document.querySelector('#df-da6407da-bee0-4f3c-a192-12d4365f5581');\n",
              "          const dataTable =\n",
              "            await google.colab.kernel.invokeFunction('convertToInteractive',\n",
              "                                                     [key], {});\n",
              "          if (!dataTable) return;\n",
              "\n",
              "          const docLinkHtml = 'Like what you see? Visit the ' +\n",
              "            '<a target=\"_blank\" href=https://colab.research.google.com/notebooks/data_table.ipynb>data table notebook</a>'\n",
              "            + ' to learn more about interactive tables.';\n",
              "          element.innerHTML = '';\n",
              "          dataTable['output_type'] = 'display_data';\n",
              "          await google.colab.output.renderOutput(dataTable, element);\n",
              "          const docLink = document.createElement('div');\n",
              "          docLink.innerHTML = docLinkHtml;\n",
              "          element.appendChild(docLink);\n",
              "        }\n",
              "      </script>\n",
              "    </div>\n",
              "  </div>\n",
              "  "
            ]
          },
          "metadata": {},
          "execution_count": 31
        }
      ]
    },
    {
      "cell_type": "code",
      "source": [
        "\n",
        "df_unido['Porc_tarj_prestadas']= 1 -(df_unido.CANT_VIAJES_S_DUPL/df_unido.CANT_VIAJES_TOT)\n"
      ],
      "metadata": {
        "id": "Ch8rz_U0-brN"
      },
      "id": "Ch8rz_U0-brN",
      "execution_count": 32,
      "outputs": []
    },
    {
      "cell_type": "code",
      "source": [
        "\n",
        "df_unido.head(15)"
      ],
      "metadata": {
        "colab": {
          "base_uri": "https://localhost:8080/",
          "height": 551
        },
        "id": "jNEU7CaGAPYx",
        "outputId": "d649930f-783f-475a-a58d-9af5ee83acb4"
      },
      "id": "jNEU7CaGAPYx",
      "execution_count": 33,
      "outputs": [
        {
          "output_type": "execute_result",
          "data": {
            "text/plain": [
              "       CANT_VIAJES_S_DUPL  CANT_VIAJES_TOT  Porc_tarj_prestadas\n",
              "LINEA                                                          \n",
              "L60                437060           468168             0.066446\n",
              "L70                413510           439132             0.058347\n",
              "L10                339185           365762             0.072662\n",
              "L12                332847           358342             0.071147\n",
              "L50                323145           349440             0.075249\n",
              "L40                313603           335823             0.066166\n",
              "L32                307721           328846             0.064240\n",
              "L30                306850           326531             0.060273\n",
              "L14                303874           332035             0.084813\n",
              "L11                298229           321516             0.072429\n",
              "L62                293468           315893             0.070989\n",
              "L65                285477           306513             0.068630\n",
              "B                  260128           276628             0.059647\n",
              "L82                254912           272056             0.063016\n",
              "L36                254401           273584             0.070117"
            ],
            "text/html": [
              "\n",
              "  <div id=\"df-79f55ccf-8054-495f-a92b-61e6fc448835\">\n",
              "    <div class=\"colab-df-container\">\n",
              "      <div>\n",
              "<style scoped>\n",
              "    .dataframe tbody tr th:only-of-type {\n",
              "        vertical-align: middle;\n",
              "    }\n",
              "\n",
              "    .dataframe tbody tr th {\n",
              "        vertical-align: top;\n",
              "    }\n",
              "\n",
              "    .dataframe thead th {\n",
              "        text-align: right;\n",
              "    }\n",
              "</style>\n",
              "<table border=\"1\" class=\"dataframe\">\n",
              "  <thead>\n",
              "    <tr style=\"text-align: right;\">\n",
              "      <th></th>\n",
              "      <th>CANT_VIAJES_S_DUPL</th>\n",
              "      <th>CANT_VIAJES_TOT</th>\n",
              "      <th>Porc_tarj_prestadas</th>\n",
              "    </tr>\n",
              "    <tr>\n",
              "      <th>LINEA</th>\n",
              "      <th></th>\n",
              "      <th></th>\n",
              "      <th></th>\n",
              "    </tr>\n",
              "  </thead>\n",
              "  <tbody>\n",
              "    <tr>\n",
              "      <th>L60</th>\n",
              "      <td>437060</td>\n",
              "      <td>468168</td>\n",
              "      <td>0.066446</td>\n",
              "    </tr>\n",
              "    <tr>\n",
              "      <th>L70</th>\n",
              "      <td>413510</td>\n",
              "      <td>439132</td>\n",
              "      <td>0.058347</td>\n",
              "    </tr>\n",
              "    <tr>\n",
              "      <th>L10</th>\n",
              "      <td>339185</td>\n",
              "      <td>365762</td>\n",
              "      <td>0.072662</td>\n",
              "    </tr>\n",
              "    <tr>\n",
              "      <th>L12</th>\n",
              "      <td>332847</td>\n",
              "      <td>358342</td>\n",
              "      <td>0.071147</td>\n",
              "    </tr>\n",
              "    <tr>\n",
              "      <th>L50</th>\n",
              "      <td>323145</td>\n",
              "      <td>349440</td>\n",
              "      <td>0.075249</td>\n",
              "    </tr>\n",
              "    <tr>\n",
              "      <th>L40</th>\n",
              "      <td>313603</td>\n",
              "      <td>335823</td>\n",
              "      <td>0.066166</td>\n",
              "    </tr>\n",
              "    <tr>\n",
              "      <th>L32</th>\n",
              "      <td>307721</td>\n",
              "      <td>328846</td>\n",
              "      <td>0.064240</td>\n",
              "    </tr>\n",
              "    <tr>\n",
              "      <th>L30</th>\n",
              "      <td>306850</td>\n",
              "      <td>326531</td>\n",
              "      <td>0.060273</td>\n",
              "    </tr>\n",
              "    <tr>\n",
              "      <th>L14</th>\n",
              "      <td>303874</td>\n",
              "      <td>332035</td>\n",
              "      <td>0.084813</td>\n",
              "    </tr>\n",
              "    <tr>\n",
              "      <th>L11</th>\n",
              "      <td>298229</td>\n",
              "      <td>321516</td>\n",
              "      <td>0.072429</td>\n",
              "    </tr>\n",
              "    <tr>\n",
              "      <th>L62</th>\n",
              "      <td>293468</td>\n",
              "      <td>315893</td>\n",
              "      <td>0.070989</td>\n",
              "    </tr>\n",
              "    <tr>\n",
              "      <th>L65</th>\n",
              "      <td>285477</td>\n",
              "      <td>306513</td>\n",
              "      <td>0.068630</td>\n",
              "    </tr>\n",
              "    <tr>\n",
              "      <th>B</th>\n",
              "      <td>260128</td>\n",
              "      <td>276628</td>\n",
              "      <td>0.059647</td>\n",
              "    </tr>\n",
              "    <tr>\n",
              "      <th>L82</th>\n",
              "      <td>254912</td>\n",
              "      <td>272056</td>\n",
              "      <td>0.063016</td>\n",
              "    </tr>\n",
              "    <tr>\n",
              "      <th>L36</th>\n",
              "      <td>254401</td>\n",
              "      <td>273584</td>\n",
              "      <td>0.070117</td>\n",
              "    </tr>\n",
              "  </tbody>\n",
              "</table>\n",
              "</div>\n",
              "      <button class=\"colab-df-convert\" onclick=\"convertToInteractive('df-79f55ccf-8054-495f-a92b-61e6fc448835')\"\n",
              "              title=\"Convert this dataframe to an interactive table.\"\n",
              "              style=\"display:none;\">\n",
              "        \n",
              "  <svg xmlns=\"http://www.w3.org/2000/svg\" height=\"24px\"viewBox=\"0 0 24 24\"\n",
              "       width=\"24px\">\n",
              "    <path d=\"M0 0h24v24H0V0z\" fill=\"none\"/>\n",
              "    <path d=\"M18.56 5.44l.94 2.06.94-2.06 2.06-.94-2.06-.94-.94-2.06-.94 2.06-2.06.94zm-11 1L8.5 8.5l.94-2.06 2.06-.94-2.06-.94L8.5 2.5l-.94 2.06-2.06.94zm10 10l.94 2.06.94-2.06 2.06-.94-2.06-.94-.94-2.06-.94 2.06-2.06.94z\"/><path d=\"M17.41 7.96l-1.37-1.37c-.4-.4-.92-.59-1.43-.59-.52 0-1.04.2-1.43.59L10.3 9.45l-7.72 7.72c-.78.78-.78 2.05 0 2.83L4 21.41c.39.39.9.59 1.41.59.51 0 1.02-.2 1.41-.59l7.78-7.78 2.81-2.81c.8-.78.8-2.07 0-2.86zM5.41 20L4 18.59l7.72-7.72 1.47 1.35L5.41 20z\"/>\n",
              "  </svg>\n",
              "      </button>\n",
              "      \n",
              "  <style>\n",
              "    .colab-df-container {\n",
              "      display:flex;\n",
              "      flex-wrap:wrap;\n",
              "      gap: 12px;\n",
              "    }\n",
              "\n",
              "    .colab-df-convert {\n",
              "      background-color: #E8F0FE;\n",
              "      border: none;\n",
              "      border-radius: 50%;\n",
              "      cursor: pointer;\n",
              "      display: none;\n",
              "      fill: #1967D2;\n",
              "      height: 32px;\n",
              "      padding: 0 0 0 0;\n",
              "      width: 32px;\n",
              "    }\n",
              "\n",
              "    .colab-df-convert:hover {\n",
              "      background-color: #E2EBFA;\n",
              "      box-shadow: 0px 1px 2px rgba(60, 64, 67, 0.3), 0px 1px 3px 1px rgba(60, 64, 67, 0.15);\n",
              "      fill: #174EA6;\n",
              "    }\n",
              "\n",
              "    [theme=dark] .colab-df-convert {\n",
              "      background-color: #3B4455;\n",
              "      fill: #D2E3FC;\n",
              "    }\n",
              "\n",
              "    [theme=dark] .colab-df-convert:hover {\n",
              "      background-color: #434B5C;\n",
              "      box-shadow: 0px 1px 3px 1px rgba(0, 0, 0, 0.15);\n",
              "      filter: drop-shadow(0px 1px 2px rgba(0, 0, 0, 0.3));\n",
              "      fill: #FFFFFF;\n",
              "    }\n",
              "  </style>\n",
              "\n",
              "      <script>\n",
              "        const buttonEl =\n",
              "          document.querySelector('#df-79f55ccf-8054-495f-a92b-61e6fc448835 button.colab-df-convert');\n",
              "        buttonEl.style.display =\n",
              "          google.colab.kernel.accessAllowed ? 'block' : 'none';\n",
              "\n",
              "        async function convertToInteractive(key) {\n",
              "          const element = document.querySelector('#df-79f55ccf-8054-495f-a92b-61e6fc448835');\n",
              "          const dataTable =\n",
              "            await google.colab.kernel.invokeFunction('convertToInteractive',\n",
              "                                                     [key], {});\n",
              "          if (!dataTable) return;\n",
              "\n",
              "          const docLinkHtml = 'Like what you see? Visit the ' +\n",
              "            '<a target=\"_blank\" href=https://colab.research.google.com/notebooks/data_table.ipynb>data table notebook</a>'\n",
              "            + ' to learn more about interactive tables.';\n",
              "          element.innerHTML = '';\n",
              "          dataTable['output_type'] = 'display_data';\n",
              "          await google.colab.output.renderOutput(dataTable, element);\n",
              "          const docLink = document.createElement('div');\n",
              "          docLink.innerHTML = docLinkHtml;\n",
              "          element.appendChild(docLink);\n",
              "        }\n",
              "      </script>\n",
              "    </div>\n",
              "  </div>\n",
              "  "
            ]
          },
          "metadata": {},
          "execution_count": 33
        }
      ]
    },
    {
      "cell_type": "code",
      "source": [
        "#exportamos de a un trimestre las bases colapsadas, en este caso a nivel linea de los boletos totales y los boletos sin contar los prestados3\n",
        "df_unido= df_unido.sort_values(by=['Porc_tarj_prestadas'],ascending=False)\n",
        "df_unido.head(10)\n",
        "viajes_prestados_3t19= df_unido\n",
        "viajes_prestados_3t19['LINEA']=viajes_prestados_3t19.index\n",
        "viajes_prestados_3t19.to_csv(\"viajes_prestados_3t19.csv\", index=None)\n",
        "from google.colab import files\n",
        "files.download('viajes_prestados_3t19.csv')\n",
        "\n"
      ],
      "metadata": {
        "colab": {
          "base_uri": "https://localhost:8080/",
          "height": 17
        },
        "id": "cXSOr5HpBGeM",
        "outputId": "5fb96832-2c9b-4a71-a41a-c9e6e598e0fe"
      },
      "id": "cXSOr5HpBGeM",
      "execution_count": 34,
      "outputs": [
        {
          "output_type": "display_data",
          "data": {
            "text/plain": [
              "<IPython.core.display.Javascript object>"
            ],
            "application/javascript": [
              "\n",
              "    async function download(id, filename, size) {\n",
              "      if (!google.colab.kernel.accessAllowed) {\n",
              "        return;\n",
              "      }\n",
              "      const div = document.createElement('div');\n",
              "      const label = document.createElement('label');\n",
              "      label.textContent = `Downloading \"${filename}\": `;\n",
              "      div.appendChild(label);\n",
              "      const progress = document.createElement('progress');\n",
              "      progress.max = size;\n",
              "      div.appendChild(progress);\n",
              "      document.body.appendChild(div);\n",
              "\n",
              "      const buffers = [];\n",
              "      let downloaded = 0;\n",
              "\n",
              "      const channel = await google.colab.kernel.comms.open(id);\n",
              "      // Send a message to notify the kernel that we're ready.\n",
              "      channel.send({})\n",
              "\n",
              "      for await (const message of channel.messages) {\n",
              "        // Send a message to notify the kernel that we're ready.\n",
              "        channel.send({})\n",
              "        if (message.buffers) {\n",
              "          for (const buffer of message.buffers) {\n",
              "            buffers.push(buffer);\n",
              "            downloaded += buffer.byteLength;\n",
              "            progress.value = downloaded;\n",
              "          }\n",
              "        }\n",
              "      }\n",
              "      const blob = new Blob(buffers, {type: 'application/binary'});\n",
              "      const a = document.createElement('a');\n",
              "      a.href = window.URL.createObjectURL(blob);\n",
              "      a.download = filename;\n",
              "      div.appendChild(a);\n",
              "      a.click();\n",
              "      div.remove();\n",
              "    }\n",
              "  "
            ]
          },
          "metadata": {}
        },
        {
          "output_type": "display_data",
          "data": {
            "text/plain": [
              "<IPython.core.display.Javascript object>"
            ],
            "application/javascript": [
              "download(\"download_6d6767bd-bed7-406a-8eef-c5fa6d33a2a8\", \"viajes_prestados_3t19.csv\", 2808)"
            ]
          },
          "metadata": {}
        }
      ]
    },
    {
      "cell_type": "code",
      "source": [
        ""
      ],
      "metadata": {
        "id": "C8jEmGSFBGln"
      },
      "id": "C8jEmGSFBGln",
      "execution_count": 110,
      "outputs": []
    },
    {
      "cell_type": "code",
      "source": [
        ""
      ],
      "metadata": {
        "id": "KcFJY-MUDKBV"
      },
      "id": "KcFJY-MUDKBV",
      "execution_count": 34,
      "outputs": []
    },
    {
      "cell_type": "code",
      "execution_count": null,
      "id": "5d1c931f-b8a7-4ea9-a8a1-3c067d875fff",
      "metadata": {
        "id": "5d1c931f-b8a7-4ea9-a8a1-3c067d875fff"
      },
      "outputs": [],
      "source": [
        ""
      ]
    },
    {
      "cell_type": "code",
      "source": [
        "\n"
      ],
      "metadata": {
        "id": "JrK0VsmU-aFn"
      },
      "id": "JrK0VsmU-aFn",
      "execution_count": null,
      "outputs": []
    },
    {
      "cell_type": "code",
      "execution_count": 34,
      "id": "f4d2d345-fb0e-40c0-b4de-7d6322171edf",
      "metadata": {
        "id": "f4d2d345-fb0e-40c0-b4de-7d6322171edf"
      },
      "outputs": [],
      "source": [
        ""
      ]
    },
    {
      "cell_type": "code",
      "execution_count": null,
      "id": "6e9e37fb-cc79-4d37-89c1-46b406627b8d",
      "metadata": {
        "id": "6e9e37fb-cc79-4d37-89c1-46b406627b8d"
      },
      "outputs": [],
      "source": [
        ""
      ]
    }
  ],
  "metadata": {
    "kernelspec": {
      "display_name": "Python 3 (ipykernel)",
      "language": "python",
      "name": "python3"
    },
    "language_info": {
      "codemirror_mode": {
        "name": "ipython",
        "version": 3
      },
      "file_extension": ".py",
      "mimetype": "text/x-python",
      "name": "python",
      "nbconvert_exporter": "python",
      "pygments_lexer": "ipython3",
      "version": "3.9.7"
    },
    "colab": {
      "name": "Trabajo Práctico 2_Mentoria.ipynb",
      "provenance": []
    }
  },
  "nbformat": 4,
  "nbformat_minor": 5
}